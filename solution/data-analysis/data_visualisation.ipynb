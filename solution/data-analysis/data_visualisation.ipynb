{
 "cells": [
  {
   "cell_type": "markdown",
   "id": "3b59960931092253",
   "metadata": {},
   "source": [
    "# Data Visualization\n",
    "# 1. Introduction\n",
    "## Dataset Description\n",
    "This Jupyter Notebook explores a dataset centered around movies, organized into three main components:\n",
    "1. **The Movie Dataset**: This dataset provides detailed information about individual films. It is fragmented into multiple dataframes that are linked through a unique movie identifier key.\n",
    "2. **The Oscar Awards Datasets**: This dataset contains comprehensive records of every nomination and winner since the first ceremony of the Oscars.\n",
    "3. **The Rotten Tomatoes Review Dataset**: This dataset focuses on the reception of movies by critics, with data sourced from the review aggregator Rotten Tomatoes.\n",
    "\n",
    "The Movie, the Oscar and Review datasets are not interconnected because they lack a shared unique identifier for movies. This happens because these datasets originate from entirely separate sources.<br>\n",
    "Consequently, analyzing and visualizing the data presents additional challenges, as there is limited information available to effectively correlate a movie's performance and success.\n",
    "\n",
    "## Methodology\n",
    "The analysis follows a structured methodology which includes the following steps\n",
    "1. **Introduction**: A brief introduction to the objective of the analysis.\n",
    "2. **Prediction**: For the *In-Depth Visualization* the analysts will develop hypothesis and prediction to encourage critical thinking and expose common misconceptions.\n",
    "3. **Analysis and Visualization**: Conducting *Simple* and *In-Depth* exploration of the datasets to identify patterns, trends, and relationships. Creating meaningful and creative visual representations of the data to enhance understanding and interpretation.\n",
    "4. **Conclusion**: Summarizing findings and deriving insights from the analysis and visualizations and comparing them with the previous hypothesis.\n",
    "\n",
    "## Visualization Technologies\n",
    "A variety of Python libraries are employed to create both static, dynamic, interactive and geographic visualizations. The following libraries are used:\n",
    "- **Plotly**: For creating interactive and dynamic plots.\n",
    "- **Geopandas**: For handling and visualizing geographic data.\n",
    "- **Seaborn**: For generating aesthetically pleasing statistical graphics.\n",
    "- **Matplotlib**: For static visualizations.\n",
    "- **Folium**: For creating interactive maps and geographic visualizations.\n",
    "\n",
    "These tools enable a diverse range of visualization techniques, enhancing the ability to explore and interpret the data effectively."
   ]
  },
  {
   "cell_type": "code",
   "id": "6f0633cd345f0e20",
   "metadata": {},
   "source": [
    "import pandas as pd\n",
    "import numpy as np\n",
    "import matplotlib.pyplot as plt\n",
    "import seaborn as sns\n",
    "import geopandas as gpd\n",
    "import folium as fm\n",
    "import plotly.express as px\n",
    "import plotly.graph_objects as go\n",
    "\n",
    "# to evaluate the use\n",
    "from wordcloud import WordCloud"
   ],
   "outputs": [],
   "execution_count": null
  },
  {
   "cell_type": "markdown",
   "id": "506753f24915e449",
   "metadata": {},
   "source": [
    "# 2. Exploratory Data Analysis (EDA)"
   ]
  },
  {
   "cell_type": "markdown",
   "id": "123ca701b4bf28de",
   "metadata": {},
   "source": [
    "### Geographic and Temporal distribution of Movie Production\n",
    "\n",
    "Geographical and temporal distribution refers to the analysis of how data is spread across different locations (geographical) and over time (temporal). In this case, it shows how movie productions vary by country and year.\n",
    "Understanding these patterns can helps identify trends, highlight regional differences, and provide information about the evolution of the global film industry over the years."
   ]
  },
  {
   "cell_type": "code",
   "id": "2e2b96f907eeec9b",
   "metadata": {},
   "source": [
    "# Load the datasets\n",
    "movies_df = pd.read_csv('clean_datasets/movies.csv')\n",
    "countries_df = pd.read_csv('clean_datasets/countries.csv')\n",
    "\n",
    "# Merge datasets\n",
    "df = pd.merge(movies_df, countries_df, left_on='id', right_on='movie_id')\n",
    "\n",
    "# Clean the merged dataset\n",
    "df = df.dropna(subset=[\"release_year\"])\n",
    "df = df.drop(columns=\"movie_id\")\n",
    "df = df.set_index(\"id\")\n",
    "df = df[df['release_year'] <= 2023]\n",
    "\n",
    "# Group by release year and country, and count the number of movies\n",
    "movie_counts = df.groupby(['release_year', 'country']).size().reset_index(name='movie_count')"
   ],
   "outputs": [],
   "execution_count": null
  },
  {
   "cell_type": "markdown",
   "id": "c7458ad383310320",
   "metadata": {},
   "source": [
    "After merging the datasets on *id* (from **movies_df**) and *movie_id* (from **countries_df**), the merged dataset is cleaned by removing rows with missing release years and unnecessary columns. <br>\n",
    "The release_year filter ensures only movies released up to 2023 are included, as the dataset is not updated beyond that year. <br>\n",
    "Finally, the data is grouped by release_year and country to count the number of movies produced each year in each country."
   ]
  },
  {
   "cell_type": "code",
   "id": "649905865590a8dd",
   "metadata": {},
   "source": [
    "fig = (px.choropleth(movie_counts,\n",
    "                     locations='country',  # Country names in the 'country' column\n",
    "                     color='movie_count',  # Number of movies per country\n",
    "                     hover_name='country',\n",
    "                     color_continuous_scale=\"Viridis\",\n",
    "                     title=\"Number of Movies Produced by Country Over Time\",\n",
    "                     labels={'movie_count': 'Number of Movies'},\n",
    "                     locationmode=\"country names\",  # Ensure matching by country names\n",
    "                     animation_frame=\"release_year\",  # Animate by release year\n",
    "                     animation_group=\"country\",  # Group by country during animation\n",
    "                     template=\"plotly_dark\")\n",
    "       .update_layout(\n",
    "           width=1000,\n",
    "           height=600,\n",
    "           title={'x': 0.5, 'xanchor': 'center', 'y': 0.95}\n",
    "       )\n",
    "       .show())"
   ],
   "outputs": [],
   "execution_count": null
  },
  {
   "cell_type": "markdown",
   "id": "ccb4d46aa9cd930c",
   "metadata": {},
   "source": [
    "### Studio Influence on Genre\n",
    "\n",
    "This plot is useful for understanding the dominance of specific studios within each genre. By visualizing the top 10 studios that produce the most movies in each genre, we can identify trends in studio specialization. <br>\n",
    "This type of analysis helps to understand how studios influence the landscape of different film genres, offering information about industry trends and competition"
   ]
  },
  {
   "cell_type": "code",
   "id": "8f0053bc937b8110",
   "metadata": {},
   "source": [
    "# Load the datasets\n",
    "studios_df = pd.read_csv('clean_datasets/studios.csv')\n",
    "genres_df = pd.read_csv('clean_datasets/genres.csv')\n",
    "\n",
    "# Merge the dataset\n",
    "df = pd.merge(studios_df, genres_df, left_on='movie_id', right_on='movie_id')\n",
    "\n",
    "# Get all the genres for each studio\n",
    "studio_genre_counts = df.groupby(['studio', 'genre']).size().reset_index(name='movie_count')\n",
    "\n",
    "# Get the top 10 studios for each genre\n",
    "top_studios_per_genre = (\n",
    "    studio_genre_counts\n",
    "    .sort_values(\n",
    "        by=['genre', 'movie_count'],\n",
    "        ascending=[True, False])\n",
    "    .groupby('genre')\n",
    "    .head(10)\n",
    ")\n",
    "\n",
    "# Add rank based on movie_count within each genre\n",
    "top_studios_per_genre['rank'] = top_studios_per_genre.groupby('genre')['movie_count'].rank(method='first', ascending=False)"
   ],
   "outputs": [],
   "execution_count": null
  },
  {
   "cell_type": "markdown",
   "id": "611a09f9bea77516",
   "metadata": {},
   "source": [
    "The dominant studio for each genre is identified by selecting the studio with the highest movie count within each genre."
   ]
  },
  {
   "cell_type": "code",
   "id": "3788b03e5e962d3a",
   "metadata": {},
   "source": [
    "# Treemap\n",
    "fig = px.treemap(\n",
    "    top_studios_per_genre,\n",
    "    path=['genre', 'studio'],\n",
    "    values='movie_count',\n",
    "    color='movie_count',\n",
    "    color_continuous_scale='Viridis',\n",
    "    title='Top 10 Dominant Studio for Each Genre'\n",
    ")\n",
    "fig.update_traces(textinfo='label+value', marker=dict(cornerradius=3))\n",
    "fig.update_layout(\n",
    "    coloraxis_colorbar=dict(title=\"Number of Movies\"),\n",
    "    height=600,\n",
    "    title={'x': 0.5, 'xanchor': 'center', 'y': 0.95})\n",
    "fig.show()"
   ],
   "outputs": [],
   "execution_count": null
  },
  {
   "cell_type": "markdown",
   "id": "360afa34dd48730f",
   "metadata": {},
   "source": [
    "### Most Frequent Genres\n",
    "\n",
    "Knowing the most frequent genres in a movie database offers valuable insights into audience preferences and trends, helping studios, distributors, and streaming platforms better understand what types of films are currently in demand."
   ]
  },
  {
   "cell_type": "code",
   "id": "ee912f3b88084310",
   "metadata": {},
   "source": [
    "# Load dataset\n",
    "genres_df = pd.read_csv('clean_datasets/genres.csv')\n",
    "\n",
    "# Count occurrences of each genre\n",
    "genre_movies = genres_df['genre'].value_counts().reset_index(name='movie_count')"
   ],
   "outputs": [],
   "execution_count": null
  },
  {
   "cell_type": "code",
   "id": "e952169d2505e444",
   "metadata": {},
   "source": [
    "# Convert the DataFrame to a dictionary\n",
    "genre_dict = genre_movies.set_index('genre')['movie_count'].to_dict()\n",
    "\n",
    "# Generate the word cloud using the frequencies from the dictionary\n",
    "wordcloud = WordCloud(width=800, height=400, background_color='white').generate_from_frequencies(genre_dict)\n",
    "\n",
    "# Plot the word cloud\n",
    "plt.figure(figsize=(10, 6))\n",
    "plt.imshow(wordcloud, interpolation='kaiser')\n",
    "plt.axis('off')\n",
    "plt.title('Word Cloud of Genres')\n",
    "plt.show()"
   ],
   "outputs": [],
   "execution_count": null
  },
  {
   "cell_type": "markdown",
   "id": "7ee6d2facd4601de",
   "metadata": {},
   "source": [
    "### Most Popular Release Type per Country\n",
    "\n",
    "Understanding the most popular release types in different countries provides important insights into how films are distributed and consumed globally. This data visualization can help studios optimize release formats and maximize audience engagement by country."
   ]
  },
  {
   "cell_type": "code",
   "id": "5ebfa62230cf23b6",
   "metadata": {},
   "source": [
    "# Load the dataset\n",
    "release_df = pd.read_csv('clean_datasets/releases.csv')\n",
    "# Group the data by country and distribution format\n",
    "country_release_counts = release_df.groupby(['country', 'distribution_format']).size().reset_index(name='movies')\n",
    "\n",
    "# Create the dropdown menu\n",
    "countries = country_release_counts['country'].unique()"
   ],
   "outputs": [],
   "execution_count": null
  },
  {
   "metadata": {},
   "cell_type": "code",
   "source": [
    "# Create the plot\n",
    "fig = go.Figure()\n",
    "# Add a trace for each country\n",
    "for country in countries:\n",
    "    country_data = country_release_counts[country_release_counts['country'] == country]\n",
    "    fig.add_trace(go.Bar(\n",
    "        x=country_data['distribution_format'],\n",
    "        y=country_data['movies'],\n",
    "        name=country,\n",
    "        visible=False\n",
    "    ))\n",
    "\n",
    "fig.data[0].visible = True\n",
    "\n",
    "fig.update_layout(\n",
    "    title=\"Movie Distribution by Format per Country\",\n",
    "    xaxis_title=\"Distribution Format\",\n",
    "    yaxis_title=\"Number of Movies\",\n",
    "    updatemenus=[{\n",
    "        'buttons': [\n",
    "            {'label': country,\n",
    "             'method': 'update',\n",
    "             'args': [{'visible': [i == j for i in range(len(countries))]},\n",
    "                      {'title': f\"Movie Distribution by Format in {country}\"}]}\n",
    "            for j, country in enumerate(countries)\n",
    "        ],\n",
    "        'direction': 'down',\n",
    "        'showactive': True,\n",
    "        'active': list(countries).index('Italy'),\n",
    "        'x': 1,\n",
    "        'xanchor': 'right',\n",
    "        'y': 1.1,\n",
    "        'yanchor': 'bottom',\n",
    "        'font': {\n",
    "            'size': 14\n",
    "        }\n",
    "    }]\n",
    ")\n",
    "\n",
    "fig.show()"
   ],
   "id": "cf4398c49eb9f1db",
   "outputs": [],
   "execution_count": null
  },
  {
   "metadata": {},
   "cell_type": "markdown",
   "source": [
    "### Most Popular Release Season per Country\n",
    "\n",
    "Representing the release window using the seasons provides valuable insights into global release patterns and helps identify the most favorable times for movie launches in different regions."
   ],
   "id": "be0bf0433ede297c"
  },
  {
   "metadata": {},
   "cell_type": "code",
   "source": "from utils.utils import get_specific_season, season_colors",
   "id": "dd16ecf2969303f6",
   "outputs": [],
   "execution_count": null
  },
  {
   "metadata": {},
   "cell_type": "code",
   "source": [
    "import pandas as pd\n",
    "import matplotlib.pyplot as plt\n",
    "import seaborn as sns\n",
    "\n",
    "# Load the dataset\n",
    "release_df = pd.read_csv('clean_datasets/releases.csv')\n",
    "\n",
    "# Preparing the data\n",
    "release_df['date'] = pd.to_datetime(release_df['date'])\n",
    "release_df = release_df[release_df['date'] >= '1970-01-01']\n",
    "release_df['season'] = release_df['date'].apply(get_specific_season)\n",
    "\n",
    "# Group by 'country' and 'season', and count the number of movies in each group\n",
    "grouped = release_df.groupby(['country', 'season']).size().reset_index(name='movie_count')\n",
    "# Best release season for each country\n",
    "best_season = grouped.loc[grouped.groupby('country')['movie_count'].idxmax()]\n",
    "\n",
    "# Map the best release season to colors\n",
    "best_season['color'] = best_season['season'].map(season_colors)\n",
    "\n",
    "# TODO: more than 200 countries I do not know how to do a readable plot"
   ],
   "id": "c11f73a594915e7f",
   "outputs": [],
   "execution_count": null
  },
  {
   "cell_type": "markdown",
   "id": "bbf07891bac232a8",
   "metadata": {},
   "source": [
    "### Distribution of Countries by Release Format\n",
    "\n",
    "Understanding the distribution of release formats by country helps identify global trends in movie distribution, highlighting which formats are most commonly adopted"
   ]
  },
  {
   "cell_type": "code",
   "id": "24decf1cb6f81fa5",
   "metadata": {},
   "source": [
    "countries_per_format = release_df.groupby('distribution_format')['country'].nunique().reset_index(name='country counts')\n",
    "\n",
    "plt.figure(figsize=(8, 8))\n",
    "plt.pie(countries_per_format['country counts'],\n",
    "        labels=countries_per_format['distribution_format'],\n",
    "        autopct='%1.1f%%', startangle=90,\n",
    "        colors=plt.cm.Paired.colors)\n",
    "plt.title('Proportion of Countries for Each Distribution Format')\n",
    "plt.axis('equal')\n",
    "plt.show()"
   ],
   "outputs": [],
   "execution_count": null
  },
  {
   "cell_type": "markdown",
   "id": "e8f21c5873fa2ff9",
   "metadata": {},
   "source": [
    "### *Lights, Clusters, Action*: Network Graph of Actors Cultural Spheres"
   ]
  },
  {
   "cell_type": "markdown",
   "id": "9587f8ddc3c12aa6",
   "metadata": {},
   "source": [
    "***Who are the most interconnected actors?***\n",
    "<br> Some actors have forged extensive networks by working alongside a variety of co-stars in multiple projects.\n",
    "<br> In this analysis, we will explore the relationships between actors by constructing a network graph that reveals their connections through shared films. In the graph each node will represent an actor and a shared film will form the connection between them.\n",
    "<br> The network will help us identify the most central figures in the film industry, based on how many collaborations they've had, and discover clusters of actors who frequently collaborate."
   ]
  },
  {
   "cell_type": "markdown",
   "id": "60edff75d5d59e54",
   "metadata": {},
   "source": [
    "***What do we expect from this analysis?***\n",
    "- *Stefano*: The dataset spans far back in time, making it challenging to predict which actor or group of actors will be the most represented. However, it is likely that Hollywood stars will form one of the dominant clusters, representing a significant portion of the dataset, as observed in previous analyses.\n",
    "- *Samuele*: The dataset is vast and includes not only movies but also numerous documentaries, which causes many historical figures featured in them to appear as actors. I expect clustering based on the nationality of movies and actors, with the largest cluster likely being dominated by Hollywood."
   ]
  },
  {
   "cell_type": "markdown",
   "id": "8fc4b2536374686",
   "metadata": {},
   "source": [
    "#### Analysis and Visualization"
   ]
  },
  {
   "cell_type": "code",
   "id": "5c89825a1456d499",
   "metadata": {},
   "source": [
    "# Import utils\n",
    "from utils.actor_graph_network_utils import network_graph"
   ],
   "outputs": [],
   "execution_count": null
  },
  {
   "cell_type": "code",
   "id": "5b11b705dc012241",
   "metadata": {},
   "source": [
    "# Loading the datasets\n",
    "movies_df = pd.read_csv(\"clean_datasets/movies.csv\")\n",
    "actors_df = pd.read_csv(\"clean_datasets/actors.csv\")"
   ],
   "outputs": [],
   "execution_count": null
  },
  {
   "cell_type": "code",
   "id": "f3f8153be68091c",
   "metadata": {},
   "source": [
    "# Define the function that will draw the graph\n",
    "def draw_network_graph(graph):\n",
    "    # Centrality for a node quantifies how many connection to other node within the network (percentage).\n",
    "    centrality = graph.get('centrality')\n",
    "\n",
    "    # Draw the edge Scatter\n",
    "    edge_x = graph.get('edges')[0]\n",
    "    edge_y = graph.get('edges')[1]\n",
    "    edge_trace = go.Scatter(\n",
    "        x=edge_x, y=edge_y,\n",
    "        line=dict(width=0.5, color='#888'),\n",
    "        hoverinfo='none',\n",
    "        mode='lines'\n",
    "    )\n",
    "\n",
    "    # Draw the node scatter\n",
    "    node_x = graph.get('nodes')[0]\n",
    "    node_y = graph.get('nodes')[1]\n",
    "    node_sizes = graph.get('nodes')[2]\n",
    "    node_text = graph.get('nodes')[3]\n",
    "    node_trace = go.Scatter(\n",
    "        x=node_x, y=node_y,\n",
    "        mode='markers',\n",
    "        marker=dict(\n",
    "            size=node_sizes,\n",
    "            color=list(centrality.values()),\n",
    "            colorscale='YlGnBu',\n",
    "            colorbar=dict(\n",
    "                title=\"Node Connections\"\n",
    "            ),\n",
    "            line=dict(width=1, color='#333')\n",
    "        ),\n",
    "        text=node_text,\n",
    "        hoverinfo='text'\n",
    "    )\n",
    "\n",
    "    # Merge the node and edge scatter into a single plot\n",
    "    fig = go.Figure(\n",
    "        data=[edge_trace, node_trace],\n",
    "        layout=go.Layout(\n",
    "            title=dict(\n",
    "                text=\"<br>Network graph of top 1000 actors by connections\",\n",
    "                font=dict(size=16)\n",
    "            ),\n",
    "            showlegend=False,\n",
    "            hovermode='closest',\n",
    "            margin=dict(b=20, l=5, r=5, t=40),\n",
    "            xaxis=dict(showgrid=False, zeroline=False, showticklabels=False),\n",
    "            yaxis=dict(showgrid=False, zeroline=False, showticklabels=False))\n",
    "    )\n",
    "    fig.show()"
   ],
   "outputs": [],
   "execution_count": null
  },
  {
   "cell_type": "code",
   "id": "d025d4bbdf440c81",
   "metadata": {},
   "source": [
    "# Preparing the data\n",
    "## Removing unneeded columns\n",
    "actors = actors_df.drop(columns=['role'])\n",
    "## Taking the first 1000 most common actors to have a lighter analysis\n",
    "actors = actors[actors['name'].isin(actors.value_counts(subset='name').head(1000).index)]"
   ],
   "outputs": [],
   "execution_count": null
  },
  {
   "cell_type": "code",
   "id": "cdd5819c36bbb17c",
   "metadata": {},
   "source": [
    "# Build all graph info\n",
    "graph = network_graph(actors)"
   ],
   "outputs": [],
   "execution_count": null
  },
  {
   "cell_type": "code",
   "id": "1f2e9e037b48125",
   "metadata": {},
   "source": [
    "draw_network_graph(graph)"
   ],
   "outputs": [],
   "execution_count": null
  },
  {
   "cell_type": "markdown",
   "id": "bbf8009ccb42256f",
   "metadata": {},
   "source": [
    "The first version of the graph shows a some clustering effect, but the separation between clusters is not very distinct.\n",
    "<br> A dominant cluster contains nodes with the highest centrality, representing actors who collaborated extensively. These actors belong to an era ranging from the late 1800s to the 1970s. This could be due to a bias in the dataset, where older films and actors are more represented, maybe because of their historical significance.\n",
    "<br><br>\n",
    "However, the lack of clarity in the graph highlights the need for refinement. To address this, we will filter the data to include only actors from movies released after 1990. This adjustment will allow us to focus on actors more recognizable to modern audiences and provide a clearer, more relevant representation of the network."
   ]
  },
  {
   "cell_type": "code",
   "id": "1fb2f302a0015d5e",
   "metadata": {},
   "source": [
    "# Preparing the data\n",
    "## Removing unneeded columns\n",
    "actors = actors_df.drop(columns=['role'])\n",
    "## Filtering actors from movies released after 1990\n",
    "movies = movies_df[movies_df['release_year'] >= 1990]\n",
    "actors = actors[actors['movie_id'].isin(movies['id'])]\n",
    "## Taking the first 1000 most common actors to have a lighter analysis\n",
    "actors = actors[actors['name'].isin(actors.value_counts(subset='name').head(1000).index)]"
   ],
   "outputs": [],
   "execution_count": null
  },
  {
   "cell_type": "code",
   "id": "38ad7b03066fcd70",
   "metadata": {},
   "source": [
    "# Build all graph info\n",
    "graph = network_graph(actors)"
   ],
   "outputs": [],
   "execution_count": null
  },
  {
   "cell_type": "code",
   "id": "940d67d1bf23a967",
   "metadata": {},
   "source": [
    "draw_network_graph(graph)"
   ],
   "outputs": [],
   "execution_count": null
  },
  {
   "cell_type": "markdown",
   "id": "59211278a0dcfb2c",
   "metadata": {},
   "source": [
    "In this updated graph, the clustering effect is significantly more pronounced, and we can clearly distinguish several distinct spheres:\n",
    "- **Indian Sphere**: A cluster likely representing Bollywood actors and their connections.\n",
    "- **Japanese Sphere**: A smaller but noticeable group representing actors predominantly from Japanese cinema.\n",
    "- **Occidental Sphere**: The largest and most dominant cluster, centered around Hollywood stars and their collaborations.\n",
    "- **Minor Spheres**: Other regional groups, such as Korean, German, and French cinema, forming smaller, less connected clusters.\n",
    "<br><br>\n",
    "This graph marks a substantial improvement from the previous version. The separation between the clusters is much clearer, and the identification of key groups is more intuitive. Additionally, the inclusion of actors from recent movies makes it easier to recognize names and associate them with modern cinema trends."
   ]
  },
  {
   "cell_type": "code",
   "id": "3017a38e5c9360c5",
   "metadata": {},
   "source": [
    "# A peek of the most interconnect actors of the modern era.\n",
    "centrality = graph.get('centrality')\n",
    "centrality = pd.DataFrame({'key': list(centrality.keys()), 'value': list(centrality.values())})\n",
    "centrality[['key', 'value']].sort_values(by='value', ascending=False).head(15)"
   ],
   "outputs": [],
   "execution_count": null
  },
  {
   "cell_type": "markdown",
   "id": "b672544a73495122",
   "metadata": {},
   "source": [
    "#### Conclusions"
   ]
  },
  {
   "cell_type": "markdown",
   "id": "8d3382769b334624",
   "metadata": {},
   "source": [
    "The analysis confirmed that the network graph forms distinct clusters primarily based on geographic and cultural spheres.\n",
    "<br>As predicted, the Hollywood sphere dominates, reflecting the global influence of American cinema. Other significant clusters include the Indian sphere (Bollywood) and the Japanese sphere, both of which are more noticeable due to their unique cultural identities and relative isolation from globalization in the movie industry.\n",
    "<br>By narrowing the dataset to focus on more recent movies (from the 1990s onward), the clustering effect became more pronounced, and recognizable modern actors appeared, aligning with our expectations.\n",
    "<br>Older actors were initially overrepresented due to dataset bias, but filtering improved interpretability."
   ]
  },
  {
   "cell_type": "markdown",
   "id": "b6133211ffb59922",
   "metadata": {},
   "source": "### *Lights and Shadows*: Poster Color Brightness Across Genres\n"
  },
  {
   "cell_type": "markdown",
   "id": "b2ca458d7ba9ad14",
   "metadata": {},
   "source": [
    "\n",
    "***Does the brightness of movie posters reveal something about their genres?***\n",
    "<br> Movie posters play a crucial role in setting the tone and attracting audiences, often using colors to evoke emotions that resonate with a film’s themes.\n",
    "<br> In this analysis, we will examine the relationship between the brightness of movie posters and their associated genres by analyzing the average color compositions of posters. Each genre will be represented by its average Red, Green, and Blue (RGB) values, and eventually brightness will be calculated.\n",
    "<br> The analysis will help us highlight how brightness and color composition might represent the different genres. A 3D scatterplot will provide an interactive visualization of these relationships.\n",
    "<br><br>\n",
    "***What do we expect from this analysis?***\n",
    "- *Stefano & Samuele*: We expect genres like horror and thriller to exhibit darker tones, reflecting their tense and dark themes, while comedy and family movies will likely feature brighter cheerful colors. Other genres should fall somewhere in between, forming a gradient of brightness that aligns with their emotional and thematic characteristics."
   ]
  },
  {
   "cell_type": "markdown",
   "id": "f41e6b6e82d29988",
   "metadata": {},
   "source": [
    "#### Analysis and Visualization"
   ]
  },
  {
   "metadata": {},
   "cell_type": "markdown",
   "source": "**NOTE**: The posters_colors.csv dataset has been generated by the script poster_average_color.py, which processes all available posters in the dataset. The total size of the images is approximately 23 GB, making the execution of the script quite time-consuming. The file contains a commented section to perform benchmarks on portions of the dataset, and at the end of file, the timing results from a relatively fast computer are provided. It is recommended not to run the script on the entire dataset but instead to download the final result directly from the link provided in the README.",
   "id": "775027d759c93003"
  },
  {
   "cell_type": "code",
   "id": "929f12d3427781bd",
   "metadata": {},
   "source": [
    "# Loading the datasets\n",
    "genres = pd.read_csv('clean_datasets/genres.csv')\n",
    "posters_colors = pd.read_csv('clean_datasets/posters_colors.csv')"
   ],
   "outputs": [],
   "execution_count": null
  },
  {
   "cell_type": "code",
   "id": "1b677a962db22b6a",
   "metadata": {},
   "source": [
    "# Preparing the data\n",
    "## Merge the two datasets\n",
    "colors_genres = genres.merge(posters_colors, left_on='movie_id', right_on='id', how=\"inner\")\n",
    "## Removing unneeded columns\n",
    "colors_genres = colors_genres.drop(columns=['movie_id', 'poster_path', 'poster_link'])\n",
    "## Drop the null values\n",
    "colors_genres = colors_genres.dropna(subset=[\"average_color\"])\n",
    "## Split the RGB values for easier handling\n",
    "colors_genres[['r', 'g', 'b']] = colors_genres['average_color'].str.split(',', expand=True).astype(int)\n",
    "## Calculate brightness with relative luminance formula (source: Wikipedia)\n",
    "colors_genres['brightness'] = (\n",
    "        0.2126 * colors_genres['r'] +\n",
    "        0.7152 * colors_genres['g'] +\n",
    "        0.0722 * colors_genres['b']\n",
    ").astype(int)\n",
    "## Group by genre to see average brightness\n",
    "colors_genres = colors_genres.groupby('genre')[['r', 'g', 'b', 'brightness']].mean().reset_index()"
   ],
   "outputs": [],
   "execution_count": null
  },
  {
   "cell_type": "code",
   "id": "8526b3c640caac29",
   "metadata": {},
   "source": [
    "# Create 3D scatterplot\n",
    "fig = px.scatter_3d(\n",
    "    colors_genres,\n",
    "    x='r', y='g', z='b',\n",
    "    color='brightness',  # Use brightness as the color scale\n",
    "    text='genre',\n",
    "    title='Genres Based on Average Brightness',\n",
    "    color_continuous_scale='Greys_r'  # Use a grayscale color map\n",
    ")\n",
    "fig.update_layout(\n",
    "    scene=dict(\n",
    "        xaxis_title='Red (R)',\n",
    "        yaxis_title='Green (G)',\n",
    "        zaxis_title='Blue (B)',\n",
    "        camera=dict(\n",
    "            up=dict(x=0, y=0, z=2),\n",
    "            center=dict(x=0, y=0, z=0),\n",
    "            eye=dict(x=2, y=-1.5, z=0.5)\n",
    "        )\n",
    "    ),\n",
    "    width=1200,\n",
    "    height=600,\n",
    "    title={'x': 0.5, 'xanchor': 'center', 'y': 0.95})\n",
    "fig.show()"
   ],
   "outputs": [],
   "execution_count": null
  },
  {
   "metadata": {},
   "cell_type": "markdown",
   "source": "#### Conclusions",
   "id": "6d55db477599da4e"
  },
  {
   "metadata": {},
   "cell_type": "markdown",
   "source": [
    "The analysis confirmed that the relationship between movie poster brightness and genres aligns with expected trends, forming clear distinctions in color usage based on thematic tones.\n",
    "<br>\n",
    "As predicted, darker genres like Horror, Thriller, and Mystery tend to have lower brightness levels, reflecting their association with suspense and fear. In contrast, lighter genres like Comedy, Family, and Animation exhibit higher brightness values, conveying a more cheerful and playful mood.\n",
    "Interestingly, genres such as Drama and Science Fiction occupy intermediate positions, showcasing a mix of brightness levels that likely represent their diverse thematic elements.\n",
    "<br>\n",
    "This trend underscores the role of color psychology in shaping audience perceptions and highlights how genre conventions are reflected even in visual materials like movie posters."
   ],
   "id": "2bb6117c4d9fd5ae"
  },
  {
   "metadata": {},
   "cell_type": "markdown",
   "source": "### Correlation between movie genre and theme (TODO)",
   "id": "9fce923cc735a7d"
  },
  {
   "metadata": {},
   "cell_type": "code",
   "source": [
    "movie_df = pd.read_csv('clean_datasets/movies.csv')\n",
    "genre_df = pd.read_csv('clean_datasets/genres.csv')\n",
    "theme_df = pd.read_csv('clean_datasets/themes.csv')"
   ],
   "id": "87a2fdacc7730f0d",
   "outputs": [],
   "execution_count": null
  },
  {
   "metadata": {},
   "cell_type": "code",
   "source": "theme_df.value_counts(subset='theme')",
   "id": "8cd997958f6b1ee8",
   "outputs": [],
   "execution_count": null
  },
  {
   "metadata": {},
   "cell_type": "code",
   "source": [
    "genre_theme_df = pd.merge(genre_df[['movie_id', 'genre']], theme_df[['movie_id', 'theme']], on='movie_id')\n",
    "top_combinations = genre_theme_df.groupby(['genre', 'theme']).size().reset_index(name='count')\n",
    "\n",
    "# Create an interactive bubble plot using Plotly\n",
    "fig = px.scatter(top_combinations,\n",
    "                 x='genre',\n",
    "                 y='theme',\n",
    "                 size='count',\n",
    "                 color='count',\n",
    "                 hover_name='theme',\n",
    "                 hover_data={'genre': True, 'count': True},\n",
    "#                 color_continuous_scale='',\n",
    "                 title='Bubble Plot of Genre-Theme Combinations with Hovering')\n",
    "\n",
    "# Adjust layout for better readability\n",
    "fig.update_layout(\n",
    "    height=1200,  # Ensure enough height for themes\n",
    "    xaxis_title=\"Genre\",\n",
    "    yaxis_title=\"Theme\",\n",
    "    xaxis_tickangle=45,\n",
    "    yaxis_tickangle=0,\n",
    ")\n",
    "\n",
    "# Show the plot\n",
    "fig.show()"
   ],
   "id": "2bc3a35e008df7c5",
   "outputs": [],
   "execution_count": null
  },
  {
   "metadata": {},
   "cell_type": "markdown",
   "source": "### Distribution types barchart (TODO)",
   "id": "eacbfa6b6097ec06"
  },
  {
   "metadata": {
    "ExecuteTime": {
     "end_time": "2025-01-08T21:24:25.735504Z",
     "start_time": "2025-01-08T21:24:17.578187Z"
    }
   },
   "cell_type": "code",
   "source": [
    "# Load the dataset\n",
    "releases_df = pd.read_csv('clean_datasets/releases.csv')\n",
    "movies_df = pd.read_csv('clean_datasets/movies.csv')"
   ],
   "id": "404d1ba9590a3c58",
   "outputs": [],
   "execution_count": 33
  },
  {
   "metadata": {
    "ExecuteTime": {
     "end_time": "2025-01-08T21:26:12.359159Z",
     "start_time": "2025-01-08T21:26:10.831717Z"
    }
   },
   "cell_type": "code",
   "source": [
    "# Merge the two datasets on the movie_id (releases) and id (movies)\n",
    "merged_df = pd.merge(releases_df, movies_df, left_on='movie_id', right_on='id')\n",
    "\n",
    "# Create a new column to categorize movies as before or after 2000\n",
    "merged_df['release_period'] = merged_df['release_year'].apply(lambda x: 'Before 2000' if x < 2000 else 'After 2000')\n",
    "\n",
    "# Count the occurrences of each distribution format, split by release period\n",
    "distribution_counts = merged_df.groupby(['distribution_format', 'release_period']).size().reset_index(name='Count')\n",
    "\n",
    "# Set the size of the plot\n",
    "plt.figure(figsize=(12, 7))\n",
    "\n",
    "# Create the bar plot using Seaborn\n",
    "sns.barplot(x='Count', y='distribution_format', hue='release_period', data=distribution_counts, palette='viridis')\n",
    "\n",
    "# Set labels and title\n",
    "plt.xlabel('Number of Releases')\n",
    "plt.ylabel('Distribution Format')\n",
    "plt.title('Number of Releases by Distribution Format (Before and After 2000)')\n",
    "\n",
    "# Display the plot\n",
    "plt.show()"
   ],
   "id": "d6763d2deec74188",
   "outputs": [
    {
     "data": {
      "text/plain": [
       "<Figure size 1200x700 with 1 Axes>"
      ],
      "image/png": "[encoded data removed]"
     },
     "metadata": {},
     "output_type": "display_data"
    }
   ],
   "execution_count": 38
  },
  {
   "metadata": {},
   "cell_type": "markdown",
   "source": "### (TODO)",
   "id": "94a9a8e099987365"
  }
 ],
 "metadata": {
  "kernelspec": {
   "display_name": "Python 3 (ipykernel)",
   "language": "python",
   "name": "python3"
  },
  "language_info": {
   "codemirror_mode": {
    "name": "ipython",
    "version": 3
   },
   "file_extension": ".py",
   "mimetype": "text/x-python",
   "name": "python",
   "nbconvert_exporter": "python",
   "pygments_lexer": "ipython3",
   "version": "3.13.1"
  }
 },
 "nbformat": 4,
 "nbformat_minor": 5
}
