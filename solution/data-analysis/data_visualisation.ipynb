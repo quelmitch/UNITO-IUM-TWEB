{
 "cells": [
  {
   "cell_type": "markdown",
   "id": "3b59960931092253",
   "metadata": {},
   "source": [
    "# Data Visualization\n",
    "# 1. Introduction\n",
    "## Dataset Description\n",
    "This Jupyter Notebook explores a dataset centered around movies, organized into three main components:\n",
    "1. **The Movie Dataset**: This dataset provides detailed information about individual films. It is fragmented into multiple dataframes that are linked through a unique movie identifier key.\n",
    "2. **The Oscar Awards Datasets**: This dataset contains comprehensive records of every nomination and winner since the first ceremony of the Oscars.\n",
    "3. **The Rotten Tomatoes Review Dataset**: This dataset focuses on the reception of movies by critics, with data sourced from the review aggregator Rotten Tomatoes.\n",
    "\n",
    "The Movie, the Oscar and Review datasets are not interconnected because they lack a shared unique identifier for movies. This happens because these datasets originate from entirely separate sources.<br>\n",
    "Consequently, analyzing and visualizing the data presents additional challenges, as there is limited information available to effectively correlate a movie's performance and success.\n",
    "\n",
    "## Methodology\n",
    "The analysis follows a structured methodology which includes the following steps\n",
    "1. **Prediction**: For the *In-Depth Visualization* the analysts will develop hypothesis and prediction to encourage critical thinking and expose common misconceptions.\n",
    "2. **Analysis**: Conducting *Simple* and *In-Depth* exploration of the datasets to identify patterns, trends, and relationships.\n",
    "3. **Visualization**: Creating meaningful and creative visual representations of the data to enhance understanding and interpretation.\n",
    "4. **Conclusion**: Summarizing findings and deriving insights from the analysis and visualizations and comparing them with the previous hypothesis.\n",
    "\n",
    "## Visualization Technologies\n",
    "A variety of Python libraries are employed to create both static, dynamic, interactive and geographic visualizations. The following libraries are used:\n",
    "- **Plotly**: For creating interactive and dynamic plots.\n",
    "- **Geopandas**: For handling and visualizing geographic data.\n",
    "- **Seaborn**: For generating aesthetically pleasing statistical graphics.\n",
    "- **Matplotlib**: For static visualizations.\n",
    "- **Folium**: For creating interactive maps and geographic visualizations.\n",
    "\n",
    "These tools enable a diverse range of visualization techniques, enhancing the ability to explore and interpret the data effectively."
   ]
  },
  {
   "cell_type": "code",
   "id": "6f0633cd345f0e20",
   "metadata": {},
   "source": [
    "import pandas as pd\n",
    "import numpy as np\n",
    "import matplotlib.pyplot as plt\n",
    "import seaborn as sns\n",
    "import geopandas as gpd\n",
    "import folium as fm\n",
    "import plotly.express as px\n",
    "\n",
    "# to evaluate the use\n",
    "from wordcloud import WordCloud"
   ],
   "outputs": [],
   "execution_count": null
  },
  {
   "metadata": {},
   "cell_type": "markdown",
   "source": "# 2. Exploratory Data Analysis (EDA)",
   "id": "506753f24915e449"
  },
  {
   "metadata": {},
   "cell_type": "markdown",
   "source": "## Simple Visualizations",
   "id": "8929bca135abc64d"
  },
  {
   "metadata": {},
   "cell_type": "markdown",
   "source": "### Correlation between runtime and rating",
   "id": "39d4ef64504adb3b"
  },
  {
   "metadata": {},
   "cell_type": "code",
   "source": [
    "# Create a scatter plot with a regression line\n",
    "movies_df = pd.read_csv('clean_datasets/movies.csv')\n",
    "movies_df"
   ],
   "id": "a7aa3dc51f9ff9d2",
   "outputs": [],
   "execution_count": null
  },
  {
   "metadata": {},
   "cell_type": "code",
   "source": [
    "# Visualize potential outliers using a boxplot for both variables\n",
    "fig, axes = plt.subplots(1, 2, figsize=(14, 6))\n",
    "\n",
    "sns.boxplot(y=\"runtime_in_minutes\", data=movies_df, ax=axes[0])\n",
    "axes[0].set_title(\"Boxplot of Movie Duration\", fontsize=14)\n",
    "axes[0].set_ylabel(\"Duration (minutes)\")\n",
    "\n",
    "sns.boxplot(y=\"rating\", data=movies_df, ax=axes[1])\n",
    "axes[1].set_title(\"Boxplot of Average Rating\", fontsize=14)\n",
    "axes[1].set_ylabel(\"Average Rating\")\n",
    "\n",
    "plt.tight_layout()\n",
    "plt.show()"
   ],
   "id": "863d9f9130bfc2ff",
   "outputs": [],
   "execution_count": null
  },
  {
   "metadata": {},
   "cell_type": "code",
   "source": [
    "# Exclude outliers and tv series\n",
    "filtered_df = movies_df[\n",
    "    (movies_df[\"runtime_in_minutes\"] > 0) &\n",
    "    (movies_df[\"runtime_in_minutes\"] <= 200)\n",
    "    ]\n",
    "\n",
    "plt.figure(figsize=(10, 6))\n",
    "sns.regplot(x=\"runtime_in_minutes\", y=\"rating\", data=filtered_df, scatter_kws={\"s\": 50, \"alpha\": 0.7},\n",
    "            line_kws={\"color\": \"red\"})\n",
    "plt.title(\"Correlation Between Movie Duration and Average Rating\", fontsize=16)\n",
    "plt.xlabel(\"Duration (minutes)\", fontsize=12)\n",
    "plt.ylabel(\"Average Rating\", fontsize=12)\n",
    "plt.grid(True, linestyle='--', alpha=0.5)\n",
    "plt.show()"
   ],
   "id": "8eca20e27c2c07fb",
   "outputs": [],
   "execution_count": null
  },
  {
   "metadata": {},
   "cell_type": "markdown",
   "source": [
    "### Geographic and Temporal distribution of Movie Production\n",
    "\n",
    "Geographical and temporal distribution refers to the analysis of how data is spread across different locations (geographical) and over time (temporal). In this case, it shows how movie productions vary by country and year.\n",
    "Understanding these patterns can helps identify trends, highlight regional differences, and provide information about the evolution of the global film industry over the years."
   ],
   "id": "123ca701b4bf28de"
  },
  {
   "metadata": {},
   "cell_type": "code",
   "source": [
    "# Load the datasets\n",
    "movies_df = pd.read_csv('clean_datasets/movies.csv')\n",
    "countries_df = pd.read_csv('clean_datasets/countries.csv')\n",
    "\n",
    "# Merge datasets\n",
    "df = pd.merge(movies_df, countries_df, left_on='id', right_on='movie_id')\n",
    "\n",
    "# Clean the merged dataset\n",
    "df = df.dropna(subset=[\"release_year\"])\n",
    "df = df.drop(columns=[\"movie_id\", \"Unnamed: 0\"])\n",
    "df = df.set_index(\"id\")\n",
    "df = df[df['release_year'] <= 2023]\n",
    "\n",
    "# Group by release year and country, and count the number of movies\n",
    "movie_counts = df.groupby(['release_year', 'country']).size().reset_index(name='movie_count')"
   ],
   "id": "2e2b96f907eeec9b",
   "outputs": [],
   "execution_count": null
  },
  {
   "metadata": {},
   "cell_type": "markdown",
   "source": [
    "After merging the datasets on *id* (from **movies_df**) and *movie_id* (from **countries_df**), the merged dataset is cleaned by removing rows with missing release years and unnecessary columns. <br>\n",
    "The release_year filter ensures only movies released up to 2023 are included, as the dataset is not updated beyond that year. <br>\n",
    "Finally, the data is grouped by release_year and country to count the number of movies produced each year in each country."
   ],
   "id": "c7458ad383310320"
  },
  {
   "metadata": {},
   "cell_type": "code",
   "source": [
    "fig = (px.choropleth(movie_counts,\n",
    "                     locations='country',  # Country names in the 'country' column\n",
    "                     color='movie_count',  # Number of movies per country\n",
    "                     hover_name='country',\n",
    "                     color_continuous_scale=\"Viridis\",\n",
    "                     title=\"Number of Movies Released by Country Over Time\",\n",
    "                     labels={'movie_count': 'Number of Movies'},\n",
    "                     locationmode=\"country names\",  # Ensure matching by country names\n",
    "                     animation_frame=\"release_year\",  # Animate by release year\n",
    "                     animation_group=\"country\",  # Group by country during animation\n",
    "                     template=\"plotly_dark\")\n",
    "       .show())"
   ],
   "id": "649905865590a8dd",
   "outputs": [],
   "execution_count": null
  },
  {
   "metadata": {},
   "cell_type": "markdown",
   "source": [
    "### Studio Influence on Genre\n",
    "\n",
    "This plot is useful for understanding the dominance of specific studios within each genre. By visualizing which studio produces the most movies in each genre, you can identify trends in studio specialization. <br>\n",
    "This type of analysis helps to understand how studios influence the landscape of different film genres, offering information about industry trends and competition."
   ],
   "id": "ccb4d46aa9cd930c"
  },
  {
   "metadata": {},
   "cell_type": "code",
   "source": [
    "# Load the datasets\n",
    "studios_df = pd.read_csv('clean_datasets/studios.csv')\n",
    "genres_df = pd.read_csv('clean_datasets/genres.csv')\n",
    "\n",
    "# Merge the dataset\n",
    "df = pd.merge(studios_df, genres_df, left_on='movie_id', right_on='movie_id')\n",
    "\n",
    "# Clean the merged dataset\n",
    "df = df.drop(columns=[\"Unnamed: 0_x\", \"Unnamed: 0_y\"])\n",
    "\n",
    "# Get all the genres for each studio\n",
    "studio_genre_counts = df.groupby(['studio', 'genre']).size().reset_index(name='movie_count')\n",
    "\n",
    "dominant_studios = studio_genre_counts.loc[studio_genre_counts.groupby('genre')['movie_count'].idxmax()]"
   ],
   "id": "8f0053bc937b8110",
   "outputs": [],
   "execution_count": null
  },
  {
   "metadata": {},
   "cell_type": "markdown",
   "source": "The dominant studio for each genre is identified by selecting the studio with the highest movie count within each genre.",
   "id": "611a09f9bea77516"
  },
  {
   "metadata": {},
   "cell_type": "code",
   "source": [
    "# Treemap\n",
    "fig = (px.treemap(dominant_studios,\n",
    "                  path=['genre', 'studio'],\n",
    "                  values='movie_count',\n",
    "                  color='movie_count',\n",
    "                  color_continuous_scale='Viridis',\n",
    "                  title='Dominant Studio for Each Genre')\n",
    "       .show())"
   ],
   "id": "3788b03e5e962d3a",
   "outputs": [],
   "execution_count": null
  },
  {
   "metadata": {},
   "cell_type": "markdown",
   "source": [
    "### Top 5 Studios for each Genre\n",
    "\n",
    "This data visualization helps identify which studios dominate specific genres, providing insights into the distribution of movie production across genres."
   ],
   "id": "3e1efe4471003c40"
  },
  {
   "metadata": {},
   "cell_type": "code",
   "source": "# TODO: try to make the plot more complete adding others studios movie count",
   "id": "82dc53fc6d9d8614",
   "outputs": [],
   "execution_count": null
  },
  {
   "metadata": {},
   "cell_type": "code",
   "source": [
    "# Get the top 5 studios for each genre\n",
    "top_studios_per_genre = (\n",
    "    studio_genre_counts\n",
    "    .sort_values(\n",
    "        by=['genre', 'movie_count'],\n",
    "        ascending=[True, False]\n",
    "    )\n",
    "    .groupby('genre')\n",
    "    .head(5)\n",
    ")"
   ],
   "id": "9e35474148e33171",
   "outputs": [],
   "execution_count": null
  },
  {
   "metadata": {},
   "cell_type": "code",
   "source": [
    "# Bar Plot\n",
    "fig = px.bar(\n",
    "    top_studios_per_genre,\n",
    "    x='studio',\n",
    "    y='movie_count',\n",
    "    color='genre',\n",
    "    title=\"Top 5 Studios per Genre\",\n",
    "    labels={\n",
    "        \"studio\": \"Studio\",\n",
    "        \"movie_count\": \"Number of Movies\",\n",
    "        \"genre\": \"Genre\"\n",
    "    },\n",
    "    category_orders={\n",
    "        \"genre\": top_studios_per_genre['genre'].unique()\n",
    "    },\n",
    "    color_discrete_sequence=px.colors.qualitative.Set1,\n",
    ")\n",
    "\n",
    "fig.update_layout(\n",
    "    xaxis_title=\"Studio\",\n",
    "    yaxis_title=\"Number of Movies\",\n",
    "    xaxis_tickangle=-45,\n",
    "    barmode='stack',\n",
    "    height=600,\n",
    ")\n",
    "\n",
    "fig.show()"
   ],
   "id": "1287b0d76cba5e5e",
   "outputs": [],
   "execution_count": null
  },
  {
   "metadata": {},
   "cell_type": "markdown",
   "source": [
    "### Most Frequent Genres\n",
    "\n",
    "Knowing the most frequent genres in a movie database offers valuable insights into audience preferences and trends, helping studios, distributors, and streaming platforms better understand what types of films are currently in demand."
   ],
   "id": "360afa34dd48730f"
  },
  {
   "metadata": {},
   "cell_type": "code",
   "source": [
    "# Load dataset\n",
    "genres_df = pd.read_csv('clean_datasets/genres.csv')\n",
    "\n",
    "# Count occurrences of each genre\n",
    "genre_movies = genres_df['genre'].value_counts().reset_index(name='movie_count')"
   ],
   "id": "ee912f3b88084310",
   "outputs": [],
   "execution_count": null
  },
  {
   "metadata": {},
   "cell_type": "code",
   "source": [
    "# Convert the DataFrame to a dictionary\n",
    "genre_dict = genre_movies.set_index('genre')['movie_count'].to_dict()\n",
    "\n",
    "# Generate the word cloud using the frequencies from the dictionary\n",
    "wordcloud = WordCloud(width=800, height=400, background_color='white').generate_from_frequencies(genre_dict)\n",
    "\n",
    "# Plot the word cloud\n",
    "plt.figure(figsize=(10, 6))\n",
    "plt.imshow(wordcloud, interpolation='kaiser')\n",
    "plt.axis('off')\n",
    "plt.title('Word Cloud of Genres')\n",
    "plt.show()"
   ],
   "id": "e952169d2505e444",
   "outputs": [],
   "execution_count": null
  },
  {
   "metadata": {},
   "cell_type": "markdown",
   "source": "### Most Popular Release Type per Country (To be completed)",
   "id": "7ee6d2facd4601de"
  },
  {
   "metadata": {},
   "cell_type": "code",
   "source": [
    "# Load dataset\n",
    "release_df = pd.read_csv('clean_datasets/releases.csv')\n",
    "\n",
    "country_release_counts = release_df.groupby(['country', 'distribution_format']).size().reset_index(name='movies')\n",
    "most_popular_release = country_release_counts.loc[country_release_counts.groupby('country')['movies'].idxmax()]\n",
    "\n",
    "# TODO: Too many rows to get a readable plot"
   ],
   "id": "5ebfa62230cf23b6",
   "outputs": [],
   "execution_count": null
  },
  {
   "metadata": {},
   "cell_type": "markdown",
   "source": [
    "### Distribution of Countries by Release Format\n",
    "\n",
    "Understanding the distribution of release formats by country helps identify global trends in movie distribution, highlighting which formats are most commonly adopted"
   ],
   "id": "bbf07891bac232a8"
  },
  {
   "metadata": {},
   "cell_type": "code",
   "source": [
    "countries_per_format = release_df.groupby('distribution_format')['country'].nunique().reset_index(name='country counts')\n",
    "\n",
    "plt.figure(figsize=(8, 8))\n",
    "plt.pie(countries_per_format['country counts'],\n",
    "        labels=countries_per_format['distribution_format'],\n",
    "        autopct='%1.1f%%', startangle=90,\n",
    "        colors=plt.cm.Paired.colors)\n",
    "plt.title('Proportion of Countries for Each Distribution Format')\n",
    "plt.axis('equal')\n",
    "plt.show()"
   ],
   "id": "24decf1cb6f81fa5",
   "outputs": [],
   "execution_count": null
  }
 ],
 "metadata": {
  "kernelspec": {
   "display_name": "Python 3 (ipykernel)",
   "language": "python",
   "name": "python3"
  },
  "language_info": {
   "codemirror_mode": {
    "name": "ipython",
    "version": 3
   },
   "file_extension": ".py",
   "mimetype": "text/x-python",
   "name": "python",
   "nbconvert_exporter": "python",
   "pygments_lexer": "ipython3",
   "version": "3.13.1"
  }
 },
 "nbformat": 4,
 "nbformat_minor": 5
}
