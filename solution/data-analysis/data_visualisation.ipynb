{
 "cells": [
  {
   "cell_type": "markdown",
   "id": "3b59960931092253",
   "metadata": {},
   "source": [
    "# Data Visualization\n",
    "# 1. Introduction\n",
    "## Dataset Description\n",
    "This Jupyter Notebook explores a dataset centered around movies, organized into three main components:\n",
    "1. **The Movie Dataset**: This dataset provides detailed information about individual films. It is fragmented into multiple dataframes that are linked through a unique movie identifier key.\n",
    "2. **The Oscar Awards Datasets**: This dataset contains comprehensive records of every nomination and winner since the first ceremony of the Oscars.\n",
    "3. **The Rotten Tomatoes Review Dataset**: This dataset focuses on the reception of movies by critics, with data sourced from the review aggregator Rotten Tomatoes.\n",
    "\n",
    "The Movie, the Oscar and Review datasets are not interconnected because they lack a shared unique identifier for movies. This happens because these datasets originate from entirely separate sources.<br>\n",
    "Consequently, analyzing and visualizing the data presents additional challenges, as there is limited information available to effectively correlate a movie's performance and success.\n",
    "\n",
    "## Methodology\n",
    "The analysis follows a structured methodology which includes the following steps\n",
    "1. **Prediction**: For the *In-Depth Visualization* the analysts will develop hypothesis and prediction to encourage critical thinking and expose common misconceptions.\n",
    "2. **Analysis**: Conducting *Simple* and *In-Depth* exploration of the datasets to identify patterns, trends, and relationships.\n",
    "3. **Visualization**: Creating meaningful and creative visual representations of the data to enhance understanding and interpretation.\n",
    "4. **Conclusion**: Summarizing findings and deriving insights from the analysis and visualizations and comparing them with the previous hypothesis.\n",
    "\n",
    "## Visualization Technologies\n",
    "A variety of Python libraries are employed to create both static, dynamic, interactive and geographic visualizations. The following libraries are used:\n",
    "- **Plotly**: For creating interactive and dynamic plots.\n",
    "- **Geopandas**: For handling and visualizing geographic data.\n",
    "- **Seaborn**: For generating aesthetically pleasing statistical graphics.\n",
    "- **Matplotlib**: For static visualizations.\n",
    "- **Folium**: For creating interactive maps and geographic visualizations.\n",
    "\n",
    "These tools enable a diverse range of visualization techniques, enhancing the ability to explore and interpret the data effectively."
   ]
  },
  {
   "cell_type": "code",
   "id": "6f0633cd345f0e20",
   "metadata": {},
   "source": [
    "import pandas as pd\n",
    "import numpy as np\n",
    "import matplotlib.pyplot as plt\n",
    "import seaborn as sns\n",
    "import geopandas as gpd\n",
    "import folium as fm\n",
    "import plotly.express as px"
   ],
   "outputs": [],
   "execution_count": null
  },
  {
   "metadata": {},
   "cell_type": "markdown",
   "source": [
    "# 2. Exploratory Data Analysis (EDA)\n",
    "## Simple Visualizations\n",
    "### Correlation between runtime and rating"
   ],
   "id": "506753f24915e449"
  },
  {
   "metadata": {},
   "cell_type": "code",
   "source": [
    "# Create a scatter plot with a regression line\n",
    "movies_df = pd.read_csv('clean_datasets/movies.csv')\n",
    "movies_df"
   ],
   "id": "a7aa3dc51f9ff9d2",
   "outputs": [],
   "execution_count": null
  },
  {
   "metadata": {},
   "cell_type": "code",
   "source": [
    "# Visualize potential outliers using a boxplot for both variables\n",
    "fig, axes = plt.subplots(1, 2, figsize=(14, 6))\n",
    "\n",
    "sns.boxplot(y=\"runtime_in_minutes\", data=movies_df, ax=axes[0])\n",
    "axes[0].set_title(\"Boxplot of Movie Duration\", fontsize=14)\n",
    "axes[0].set_ylabel(\"Duration (minutes)\")\n",
    "\n",
    "sns.boxplot(y=\"rating\", data=movies_df, ax=axes[1])\n",
    "axes[1].set_title(\"Boxplot of Average Rating\", fontsize=14)\n",
    "axes[1].set_ylabel(\"Average Rating\")\n",
    "\n",
    "plt.tight_layout()\n",
    "plt.show()"
   ],
   "id": "863d9f9130bfc2ff",
   "outputs": [],
   "execution_count": null
  },
  {
   "metadata": {},
   "cell_type": "code",
   "source": [
    "# Exclude outliers and tv series\n",
    "filtered_df = movies_df[\n",
    "    (movies_df[\"runtime_in_minutes\"] > 0) &\n",
    "    (movies_df[\"runtime_in_minutes\"] <= 200)\n",
    "]\n",
    "\n",
    "plt.figure(figsize=(10, 6))\n",
    "sns.regplot(x=\"runtime_in_minutes\", y=\"rating\", data=filtered_df, scatter_kws={\"s\": 50, \"alpha\": 0.7}, line_kws={\"color\": \"red\"})\n",
    "plt.title(\"Correlation Between Movie Duration and Average Rating\", fontsize=16)\n",
    "plt.xlabel(\"Duration (minutes)\", fontsize=12)\n",
    "plt.ylabel(\"Average Rating\", fontsize=12)\n",
    "plt.grid(True, linestyle='--', alpha=0.5)\n",
    "plt.show()"
   ],
   "id": "8eca20e27c2c07fb",
   "outputs": [],
   "execution_count": null
  }
 ],
 "metadata": {
  "kernelspec": {
   "display_name": "Python 3 (ipykernel)",
   "language": "python",
   "name": "python3"
  },
  "language_info": {
   "codemirror_mode": {
    "name": "ipython",
    "version": 3
   },
   "file_extension": ".py",
   "mimetype": "text/x-python",
   "name": "python",
   "nbconvert_exporter": "python",
   "pygments_lexer": "ipython3",
   "version": "3.13.1"
  }
 },
 "nbformat": 4,
 "nbformat_minor": 5
}
