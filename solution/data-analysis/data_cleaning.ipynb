{
 "cells": [
  {
   "cell_type": "markdown",
   "id": "1ada8e0800af80f",
   "metadata": {},
   "source": [
    "# Data Cleaning\n",
    "Made a section for each dataset (csv file).\n",
    "Every section has a:\n",
    "1. **Data Understanding**: first look into the dataset.\n",
    "2. **Data Cleaning**: NaN and duplicates handling, setting types and renaming columns <br>\n",
    "   (Optional) **Deep Clean**: custom cleaning made for specific dataset if needed.\n",
    "3. **Final Result**: shows final result and saves clean dataset into new .csv file\n",
    "\n",
    "First of all, libraries imports and options:"
   ]
  },
  {
   "cell_type": "code",
   "id": "initial_id",
   "metadata": {},
   "source": [
    "import pandas as pd\n",
    "import numpy as np\n",
    "\n",
    "from utils.utils import find_matching\n",
    "\n",
    "# Set to True to print cleaned data into new csv\n",
    "PRINT_CSV = False"
   ],
   "outputs": [],
   "execution_count": null
  },
  {
   "cell_type": "markdown",
   "id": "3535d2e877d218a5",
   "metadata": {},
   "source": [
    "## Movies"
   ]
  },
  {
   "cell_type": "code",
   "id": "bfa523a3d71aa334",
   "metadata": {},
   "source": [
    "# Import 'movies.csv' dataset\n",
    "movies_df = pd.read_csv('datasets/movies.csv')"
   ],
   "outputs": [],
   "execution_count": null
  },
  {
   "cell_type": "markdown",
   "id": "91a7f5cc08f506b1",
   "metadata": {},
   "source": [
    "### 1. Data Understanding"
   ]
  },
  {
   "cell_type": "code",
   "id": "3fdf6136a09202bf",
   "metadata": {},
   "source": [
    "movies_df.head()"
   ],
   "outputs": [],
   "execution_count": null
  },
  {
   "cell_type": "code",
   "id": "f25edf3b61586308",
   "metadata": {},
   "source": [
    "movies_df.shape"
   ],
   "outputs": [],
   "execution_count": null
  },
  {
   "cell_type": "code",
   "id": "66353feb2d15e0c1",
   "metadata": {},
   "source": [
    "movies_df.dtypes"
   ],
   "outputs": [],
   "execution_count": null
  },
  {
   "cell_type": "markdown",
   "id": "24564dc69f48117c",
   "metadata": {},
   "source": [
    "### 2. Data Cleaning"
   ]
  },
  {
   "cell_type": "code",
   "id": "92ec1ff74b506e2f",
   "metadata": {},
   "source": [
    "# Rename columns\n",
    "movies_df = movies_df.rename(columns={'name': 'title', 'minute': 'duration_in_minutes', 'date': 'release_year'})\n",
    "movies_df.columns"
   ],
   "outputs": [],
   "execution_count": null
  },
  {
   "cell_type": "code",
   "id": "943d34788f840a4c",
   "metadata": {},
   "source": [
    "# Check for null values\n",
    "movies_df.isna().sum()"
   ],
   "outputs": [],
   "execution_count": null
  },
  {
   "cell_type": "markdown",
   "id": "5d60bd3bbbcdf43",
   "metadata": {},
   "source": [
    "There are null values in most of the columns.\n",
    "The fields '**release_year**', '**tagline**', '**description**', '**duration_in_minutes**' and '**rating**' don't cause any problems so we'll keep them, but the few movies that are without a title can't be used and will be removed."
   ]
  },
  {
   "cell_type": "code",
   "id": "e64b09d17cd6ac6f",
   "metadata": {},
   "source": [
    "# Removing rows with null title\n",
    "no_title = movies_df[movies_df['title'].isna()]\n",
    "movies_df = movies_df.dropna(subset=['title'])\n",
    "no_title"
   ],
   "outputs": [],
   "execution_count": null
  },
  {
   "cell_type": "code",
   "id": "709a95587abbdd3e",
   "metadata": {},
   "source": [
    "# Check for duplicate rows\n",
    "movies_df.duplicated().sum()"
   ],
   "outputs": [],
   "execution_count": null
  },
  {
   "cell_type": "code",
   "id": "903dbbf0e5d08f7c",
   "metadata": {},
   "source": [
    "# If 'id' column has unique values can be an index\n",
    "duplicates_id = movies_df[movies_df['id'].duplicated()].shape[0]\n",
    "movies_df.set_index(\"id\", inplace=True)\n",
    "print(\"'id' duplicates:\", duplicates_id)"
   ],
   "outputs": [],
   "execution_count": null
  },
  {
   "cell_type": "code",
   "id": "b859e3726529609e",
   "metadata": {},
   "source": [
    "# Setting the correct type for columns\n",
    "movies_df['release_year'] = movies_df['release_year'].astype('Int64')\n",
    "movies_df['duration_in_minutes'] = movies_df['duration_in_minutes'].astype('Int64')\n",
    "movies_df[['release_year', 'duration_in_minutes']].dtypes"
   ],
   "outputs": [],
   "execution_count": null
  },
  {
   "cell_type": "markdown",
   "id": "4de852ea61ae6f48",
   "metadata": {},
   "source": [
    "#### Deep Clean\n",
    "Let's look inside some columns to see most frequent values"
   ]
  },
  {
   "cell_type": "code",
   "id": "207fa8d6b074b053",
   "metadata": {},
   "source": [
    "movies_df['description'].value_counts().head(10)"
   ],
   "outputs": [],
   "execution_count": null
  },
  {
   "cell_type": "markdown",
   "id": "a74a60d521aeb637",
   "metadata": {},
   "source": [
    "Many descriptions seem to have a description like \"Plot Unavailable\" or similar instead of a null value. The other fields seem fine.<br>\n",
    "Let's try to fix as many as possible (fixing only the most frequent variation, not 100% accurate)."
   ]
  },
  {
   "cell_type": "code",
   "id": "29ea2050d5268983",
   "metadata": {},
   "source": [
    "from utils.utils import null_movie_description_keywords\n",
    "\n",
    "# Find null description variation\n",
    "result = find_matching(movies_df, 'description', null_movie_description_keywords, max_length=30)\n",
    "matches = result.copy()\n",
    "\n",
    "# Fill with NaN values the result obtained\n",
    "result['description'] = np.nan\n",
    "\n",
    "# Manual check to be sure to not overwrite real descriptions\n",
    "matches['description'].value_counts()"
   ],
   "outputs": [],
   "execution_count": null
  },
  {
   "cell_type": "markdown",
   "id": "a9a20b8e75e66e6b",
   "metadata": {},
   "source": [
    "### 3. Final Result"
   ]
  },
  {
   "cell_type": "markdown",
   "id": "4987e93bbd8ca035",
   "metadata": {},
   "source": [
    "All datasets reference the **movies** dataset. A movie is uniquely identified by his **id** and a movie id has multiple occurrences in other datasets."
   ]
  },
  {
   "cell_type": "code",
   "id": "35481461787f2554",
   "metadata": {},
   "source": [
    "movies_df.head()"
   ],
   "outputs": [],
   "execution_count": null
  },
  {
   "cell_type": "code",
   "id": "f54fa1742a832d2d",
   "metadata": {},
   "source": [
    "movies_df.shape"
   ],
   "outputs": [],
   "execution_count": null
  },
  {
   "cell_type": "code",
   "id": "cd473f210afa47b3",
   "metadata": {},
   "source": [
    "# Print clean dataset to new csv file\n",
    "if PRINT_CSV:\n",
    "    movies_df.to_csv('clean_datasets/movies.csv')\n",
    "\n",
    "# Free memory\n",
    "movies_df = None"
   ],
   "outputs": [],
   "execution_count": null
  },
  {
   "cell_type": "markdown",
   "id": "8f0b9a430d101b37",
   "metadata": {},
   "source": [
    "## Languages"
   ]
  },
  {
   "cell_type": "code",
   "id": "ece358f79ead413e",
   "metadata": {},
   "source": [
    "# Import 'languages.csv' dataset\n",
    "lang_df = pd.read_csv('datasets/languages.csv')"
   ],
   "outputs": [],
   "execution_count": null
  },
  {
   "cell_type": "markdown",
   "id": "fc0e51ab4b81515f",
   "metadata": {},
   "source": [
    "### 1. Data Understanding"
   ]
  },
  {
   "cell_type": "code",
   "id": "fd8e821868e23834",
   "metadata": {},
   "source": [
    "lang_df.head()"
   ],
   "outputs": [],
   "execution_count": null
  },
  {
   "cell_type": "code",
   "id": "4523d755552d193",
   "metadata": {},
   "source": [
    "lang_df.shape"
   ],
   "outputs": [],
   "execution_count": null
  },
  {
   "cell_type": "code",
   "id": "a75cc482a4a9e58f",
   "metadata": {},
   "source": [
    "lang_df.dtypes"
   ],
   "outputs": [],
   "execution_count": null
  },
  {
   "cell_type": "markdown",
   "id": "df4400a39ba89b3d",
   "metadata": {},
   "source": [
    "### 2. Data Cleaning"
   ]
  },
  {
   "cell_type": "code",
   "id": "567cb4904bd42350",
   "metadata": {},
   "source": [
    "# Rename columns\n",
    "lang_df = lang_df.rename(columns={'id': 'movie_id'})"
   ],
   "outputs": [],
   "execution_count": null
  },
  {
   "cell_type": "code",
   "id": "e9beb77f2bec1fd8",
   "metadata": {},
   "source": [
    "# Check for null values\n",
    "lang_df.isna().sum()"
   ],
   "outputs": [],
   "execution_count": null
  },
  {
   "cell_type": "code",
   "id": "df1df599b18fb36d",
   "metadata": {},
   "source": [
    "# check for duplicate row\n",
    "lang_df.duplicated().sum()"
   ],
   "outputs": [],
   "execution_count": null
  },
  {
   "cell_type": "code",
   "id": "9f395fe64e995870",
   "metadata": {},
   "source": [
    "# Setting the category data type for column 'type'\n",
    "lang_types = lang_df['type'].unique()\n",
    "lang_df['type'] = lang_df['type'].astype('category')\n",
    "lang_types"
   ],
   "outputs": [],
   "execution_count": null
  },
  {
   "cell_type": "markdown",
   "id": "ca1422c0332601d4",
   "metadata": {},
   "source": [
    "### 3. Final Result\n",
    "The languages dataset is directly connected to the movies dataset with the movie_id column. There are more languages rows than movies rows, because a movie can have multiple languages connected. Also, not all movie must have a language defined."
   ]
  },
  {
   "cell_type": "code",
   "id": "2d753d7a649a7bf0",
   "metadata": {},
   "source": "lang_df.head()",
   "outputs": [],
   "execution_count": null
  },
  {
   "cell_type": "code",
   "id": "6d7a9b93f2a82197",
   "metadata": {},
   "source": [
    "lang_df.shape"
   ],
   "outputs": [],
   "execution_count": null
  },
  {
   "cell_type": "code",
   "id": "7f08b875426ec5df",
   "metadata": {},
   "source": [
    "# Print clean dataset to new csv file\n",
    "if PRINT_CSV:\n",
    "    lang_df.to_csv('clean_datasets/languages.csv')\n",
    "\n",
    "# Free memory\n",
    "lang_df = None"
   ],
   "outputs": [],
   "execution_count": null
  },
  {
   "cell_type": "markdown",
   "id": "f9ebbf4c27dcb25e",
   "metadata": {},
   "source": [
    "## Actors"
   ]
  },
  {
   "cell_type": "code",
   "id": "29b93334077ab162",
   "metadata": {},
   "source": [
    "actors_df = pd.read_csv('datasets/actors.csv')"
   ],
   "outputs": [],
   "execution_count": null
  },
  {
   "cell_type": "markdown",
   "id": "714394fe6ec3d82d",
   "metadata": {},
   "source": [
    "### 1. Data Understanding"
   ]
  },
  {
   "cell_type": "code",
   "id": "1db6e7dafedf88df",
   "metadata": {},
   "source": [
    "actors_df.head()"
   ],
   "outputs": [],
   "execution_count": null
  },
  {
   "cell_type": "code",
   "id": "a999b36a00c4f0c7",
   "metadata": {},
   "source": [
    "actors_df.shape"
   ],
   "outputs": [],
   "execution_count": null
  },
  {
   "cell_type": "code",
   "id": "e61ee0ab68247d2a",
   "metadata": {},
   "source": [
    "actors_df.dtypes"
   ],
   "outputs": [],
   "execution_count": null
  },
  {
   "cell_type": "markdown",
   "id": "6b5b29d74651b585",
   "metadata": {},
   "source": [
    "### 2. Data Cleaning"
   ]
  },
  {
   "cell_type": "code",
   "id": "9187debc4d1ad51e",
   "metadata": {},
   "source": [
    "# Rename columns\n",
    "actors_df = actors_df.rename(columns={'id': 'movie_id'})"
   ],
   "outputs": [],
   "execution_count": null
  },
  {
   "cell_type": "code",
   "id": "3833716afd294027",
   "metadata": {},
   "source": [
    "# check NaN values\n",
    "actors_df.isna().sum()"
   ],
   "outputs": [],
   "execution_count": null
  },
  {
   "cell_type": "markdown",
   "id": "ff01c08822556d24",
   "metadata": {},
   "source": [
    "There are a lot of missing roles, but there is nothing to do about it."
   ]
  },
  {
   "cell_type": "code",
   "id": "deb18315a671c8ca",
   "metadata": {},
   "source": [
    "# Few actors are without a name and can't be used. Remove them\n",
    "no_name = actors_df[actors_df['name'].isna()]\n",
    "actors_df = actors_df.dropna(subset=['name'])\n",
    "no_name"
   ],
   "outputs": [],
   "execution_count": null
  },
  {
   "cell_type": "code",
   "id": "db26c76a56188205",
   "metadata": {},
   "source": [
    "# Check for duplicate rows\n",
    "print('Duplicated rows:', actors_df.duplicated().sum())\n",
    "actors_duplicates = actors_df[actors_df.duplicated(keep=False)].head(6)\n",
    "\n",
    "# Dropping the duplicates\n",
    "actors_df = actors_df.drop_duplicates()\n",
    "\n",
    "actors_duplicates"
   ],
   "outputs": [],
   "execution_count": null
  },
  {
   "cell_type": "markdown",
   "id": "c0dee24f2dee8446",
   "metadata": {},
   "source": [
    "#### Deep Clean"
   ]
  },
  {
   "cell_type": "code",
   "id": "b2d31c861ac4f2ae",
   "metadata": {},
   "source": [
    "actors_df['role'].value_counts().head(10)"
   ],
   "outputs": [],
   "execution_count": null
  },
  {
   "cell_type": "markdown",
   "id": "dbf5aa0e068e26ad",
   "metadata": {},
   "source": [
    "The role column has many \"Self\" role variations let's look more deeply."
   ]
  },
  {
   "cell_type": "code",
   "id": "f8e7a43e7d9b25ad",
   "metadata": {},
   "source": [
    "from utils.utils import self_actor_role_keywords\n",
    "\n",
    "# Find self variation\n",
    "result = find_matching(actors_df, 'role', self_actor_role_keywords)\n",
    "print('Values matching:', result['role'].shape[0])\n",
    "result['role'].value_counts().head(10)"
   ],
   "outputs": [],
   "execution_count": null
  },
  {
   "cell_type": "markdown",
   "id": "f3df05cb9547cf92",
   "metadata": {},
   "source": [
    "There are over 300.000 values that are similar to \"Self\", but many of them contains also other information as \"Self - Presenter\" or \"Self - Guest\". Overwriting all those values could result in a loss of information, so they won't be overwritten in the cleaned dataset, but they might be when visualizing the data for statistical purposes."
   ]
  },
  {
   "metadata": {},
   "cell_type": "code",
   "source": [
    "# Reset indexing after removing rows\n",
    "actors_df = actors_df.reset_index(drop=True)"
   ],
   "id": "292ee6e521843ffb",
   "outputs": [],
   "execution_count": null
  },
  {
   "cell_type": "markdown",
   "id": "15ad2e8fae1555b6",
   "metadata": {},
   "source": [
    "### 3. Final Result\n",
    "The actors dataset is directly connected to the movies dataset and has almost six times the number of rows as the movies dataset. Also, a movie can have no actors connected"
   ]
  },
  {
   "cell_type": "code",
   "id": "8b17166d2b8653e0",
   "metadata": {},
   "source": [
    "actors_df.head()"
   ],
   "outputs": [],
   "execution_count": null
  },
  {
   "cell_type": "code",
   "id": "4b2ff7785bdee833",
   "metadata": {},
   "source": [
    "actors_df.shape"
   ],
   "outputs": [],
   "execution_count": null
  },
  {
   "cell_type": "code",
   "id": "c0bf6df41d084329",
   "metadata": {},
   "source": [
    "# Print clean dataset to new csv file\n",
    "if PRINT_CSV:\n",
    "    actors_df.to_csv('clean_datasets/actors.csv')\n",
    "\n",
    "# Free memory\n",
    "actors_df = None"
   ],
   "outputs": [],
   "execution_count": null
  },
  {
   "cell_type": "markdown",
   "id": "ed6a3442ff25eae8",
   "metadata": {},
   "source": [
    "## Countries"
   ]
  },
  {
   "metadata": {},
   "cell_type": "code",
   "source": [
    "# Import 'countries.csv' dataset\n",
    "countries_df = pd.read_csv('datasets/countries.csv')"
   ],
   "id": "661073e9d310aa6b",
   "outputs": [],
   "execution_count": null
  },
  {
   "metadata": {},
   "cell_type": "markdown",
   "source": "### 1. Data Understanding",
   "id": "a2a635ce280ab289"
  },
  {
   "metadata": {},
   "cell_type": "code",
   "source": "countries_df.head()",
   "id": "c10d0df0feda424d",
   "outputs": [],
   "execution_count": null
  },
  {
   "metadata": {},
   "cell_type": "code",
   "source": "countries_df.shape",
   "id": "68a498aed1f33a22",
   "outputs": [],
   "execution_count": null
  },
  {
   "cell_type": "code",
   "id": "37bc9dec1507718e",
   "metadata": {},
   "source": [
    "countries_df.dtypes"
   ],
   "outputs": [],
   "execution_count": null
  },
  {
   "metadata": {},
   "cell_type": "markdown",
   "source": "### 2. Data Cleaning",
   "id": "3cb5e504f80fe702"
  },
  {
   "metadata": {},
   "cell_type": "code",
   "source": [
    "# Rename columns\n",
    "countries_df = countries_df.rename(columns={'id': 'movie_id'})"
   ],
   "id": "55f18d2a971d436a",
   "outputs": [],
   "execution_count": null
  },
  {
   "metadata": {},
   "cell_type": "code",
   "source": [
    "# Check for null values\n",
    "countries_df.isna().sum()"
   ],
   "id": "c65f479cfb939c5a",
   "outputs": [],
   "execution_count": null
  },
  {
   "metadata": {},
   "cell_type": "code",
   "source": [
    "# check for duplicate row\n",
    "countries_df.duplicated().sum()"
   ],
   "id": "7ca88973a3f02bf6",
   "outputs": [],
   "execution_count": null
  },
  {
   "metadata": {},
   "cell_type": "markdown",
   "source": "### 3. Final Results",
   "id": "22a09f7b2b168370"
  },
  {
   "metadata": {},
   "cell_type": "markdown",
   "source": "The **countries** dataset is directly connected to the movies dataset with the movie_id column as a foreign key. This dataset contains all the countries where the movies were released.",
   "id": "a4fe2162e0cb59eb"
  },
  {
   "metadata": {},
   "cell_type": "code",
   "source": "countries_df.head()",
   "id": "fe6488ea4524f638",
   "outputs": [],
   "execution_count": null
  },
  {
   "metadata": {},
   "cell_type": "code",
   "source": "countries_df.shape",
   "id": "5f2c59a6098fbecc",
   "outputs": [],
   "execution_count": null
  },
  {
   "metadata": {},
   "cell_type": "code",
   "source": [
    "# Print clean dataset to new csv file\n",
    "if PRINT_CSV:\n",
    "    countries_df.to_csv('clean_datasets/countries.csv')\n",
    "\n",
    "# Free memory\n",
    "countries_df = None"
   ],
   "id": "459279d5eedfca5e",
   "outputs": [],
   "execution_count": null
  },
  {
   "cell_type": "markdown",
   "id": "24edc4892a749039",
   "metadata": {},
   "source": [
    "## Crew"
   ]
  },
  {
   "cell_type": "code",
   "id": "a88c911e6dbb612d",
   "metadata": {},
   "source": [
    "# Import 'crew.csv' dataset\n",
    "crew_df = pd.read_csv('datasets/crew.csv')"
   ],
   "outputs": [],
   "execution_count": null
  },
  {
   "metadata": {},
   "cell_type": "markdown",
   "source": "### 1. Data Understanding",
   "id": "4623e280b0d3983d"
  },
  {
   "metadata": {},
   "cell_type": "code",
   "source": "crew_df.head()",
   "id": "85e516c20b098c22",
   "outputs": [],
   "execution_count": null
  },
  {
   "metadata": {},
   "cell_type": "code",
   "source": "crew_df.shape",
   "id": "6e9579fa3486f88e",
   "outputs": [],
   "execution_count": null
  },
  {
   "cell_type": "code",
   "id": "f59cb0428c025849",
   "metadata": {},
   "source": [
    "crew_df.dtypes"
   ],
   "outputs": [],
   "execution_count": null
  },
  {
   "metadata": {},
   "cell_type": "markdown",
   "source": "### 2. Data Cleaning",
   "id": "8e5989eb178d962c"
  },
  {
   "metadata": {},
   "cell_type": "code",
   "source": [
    "# Rename columns\n",
    "crew_df = crew_df.rename(columns={'id': 'movie_id', 'name': 'crew_member_name'})"
   ],
   "id": "56a653c79e4f9730",
   "outputs": [],
   "execution_count": null
  },
  {
   "metadata": {},
   "cell_type": "code",
   "source": [
    "# Check for null values\n",
    "crew_df.isna().sum()"
   ],
   "id": "2fa859770e654939",
   "outputs": [],
   "execution_count": null
  },
  {
   "metadata": {},
   "cell_type": "code",
   "source": [
    "# check for duplicate row\n",
    "print('Duplicated rows:', crew_df.duplicated().sum())\n",
    "crew_duplicates = crew_df[crew_df.duplicated(keep=False)].head()\n",
    "\n",
    "# Dropping the duplicates\n",
    "crew_df = crew_df.drop_duplicates()\n",
    "\n",
    "crew_duplicates"
   ],
   "id": "7fbf186aaf3597a9",
   "outputs": [],
   "execution_count": null
  },
  {
   "metadata": {},
   "cell_type": "markdown",
   "source": "### 3. Final Results",
   "id": "dffa0c440859da90"
  },
  {
   "metadata": {},
   "cell_type": "markdown",
   "source": "The **crew** dataset is connected to the movies dataset through the 'movie_id' foreign key. It includes the names of all crew members along with their roles. A crew member can have multiple roles, but cannot perform the same role in the same movie.",
   "id": "e0e9b73afc7520da"
  },
  {
   "metadata": {},
   "cell_type": "code",
   "source": "crew_df.head()",
   "id": "704a35689acd277a",
   "outputs": [],
   "execution_count": null
  },
  {
   "metadata": {},
   "cell_type": "code",
   "source": "crew_df.shape",
   "id": "1cbe63d876bd8671",
   "outputs": [],
   "execution_count": null
  },
  {
   "metadata": {},
   "cell_type": "code",
   "source": [
    "# Print clean dataset to new csv file\n",
    "if PRINT_CSV:\n",
    "    crew_df.to_csv('clean_datasets/crew.csv')\n",
    "\n",
    "# Free memory\n",
    "crew_df = None"
   ],
   "id": "f62d7e46f503aa0e",
   "outputs": [],
   "execution_count": null
  },
  {
   "cell_type": "markdown",
   "id": "b55a82b3deb73d9e",
   "metadata": {},
   "source": [
    "## Genres"
   ]
  },
  {
   "cell_type": "code",
   "id": "43a3ee2662d4a7ac",
   "metadata": {},
   "source": [
    "genres_df = pd.read_csv('datasets/genres.csv')\n",
    "genres_df"
   ],
   "outputs": [],
   "execution_count": null
  },
  {
   "cell_type": "code",
   "id": "8f16e8215d40053b",
   "metadata": {},
   "source": [
    "genres_df.dtypes"
   ],
   "outputs": [],
   "execution_count": null
  },
  {
   "cell_type": "code",
   "id": "3646eb6aa8a294c3",
   "metadata": {},
   "source": [
    "# check for NaN values\n",
    "genres_df.isna().sum()"
   ],
   "outputs": [],
   "execution_count": null
  },
  {
   "cell_type": "code",
   "id": "f4ab9550c0d65192",
   "metadata": {},
   "source": [
    "# check for duplicated values\n",
    "genres_df.duplicated().sum()"
   ],
   "outputs": [],
   "execution_count": null
  },
  {
   "cell_type": "markdown",
   "id": "86c4322ed5fd0623",
   "metadata": {},
   "source": [
    "## Posters"
   ]
  },
  {
   "cell_type": "code",
   "id": "2a6907762e34e2f5",
   "metadata": {},
   "source": [
    "poster_df = pd.read_csv('datasets/posters.csv')\n",
    "poster_df"
   ],
   "outputs": [],
   "execution_count": null
  },
  {
   "cell_type": "code",
   "id": "301f6ed84cc0bc75",
   "metadata": {},
   "source": [
    "poster_df.dtypes"
   ],
   "outputs": [],
   "execution_count": null
  },
  {
   "cell_type": "code",
   "id": "63dcee20ac047ce7",
   "metadata": {},
   "source": [
    "# check for NaN values\n",
    "poster_df.isna().sum()\n",
    "poster_df[poster_df['link'].isna()]\n",
    "\n",
    "poster_df = poster_df.dropna()"
   ],
   "outputs": [],
   "execution_count": null
  },
  {
   "cell_type": "code",
   "id": "47c6dd59eb2d0166",
   "metadata": {},
   "source": [
    "# check for duplicated values\n",
    "poster_df.duplicated().sum()"
   ],
   "outputs": [],
   "execution_count": null
  },
  {
   "cell_type": "code",
   "id": "718d2d43e040f28d",
   "metadata": {},
   "source": [
    "poster_df['link'].str.len().max()"
   ],
   "outputs": [],
   "execution_count": null
  },
  {
   "cell_type": "markdown",
   "id": "4196a42a33f7c016",
   "metadata": {},
   "source": [
    "## Releases"
   ]
  },
  {
   "cell_type": "code",
   "id": "58d81bbee758a926",
   "metadata": {},
   "source": [
    "releases_df = pd.read_csv('datasets/releases.csv')\n",
    "releases_df"
   ],
   "outputs": [],
   "execution_count": null
  },
  {
   "cell_type": "code",
   "id": "532d17f380f9d16d",
   "metadata": {},
   "source": [
    "releases_df.dtypes"
   ],
   "outputs": [],
   "execution_count": null
  },
  {
   "cell_type": "code",
   "id": "415d88b436269e09",
   "metadata": {},
   "source": [
    "# typing columns\n",
    "releases_df['date'] = pd.to_datetime(releases_df['date'], format='%Y-%m-%d')\n",
    "\n",
    "releases_df['type'].unique()\n",
    "releases_df['type'] = releases_df['type'].astype('category')"
   ],
   "outputs": [],
   "execution_count": null
  },
  {
   "cell_type": "code",
   "id": "1520521767a42027",
   "metadata": {},
   "source": [
    "# check for NaN values\n",
    "releases_df.isna().sum()\n",
    "# releases_df[releases_df['date'].str.len() != 10]"
   ],
   "outputs": [],
   "execution_count": null
  },
  {
   "cell_type": "code",
   "id": "9bd49ddafbd907a9",
   "metadata": {},
   "source": [
    "# check for duplicates values\n",
    "releases_df.duplicated().sum()"
   ],
   "outputs": [],
   "execution_count": null
  },
  {
   "cell_type": "markdown",
   "id": "da81d3e12dc36ea5",
   "metadata": {},
   "source": [
    "## Studios"
   ]
  },
  {
   "cell_type": "code",
   "id": "84396a257c71794f",
   "metadata": {},
   "source": [
    "studios_df = pd.read_csv('datasets/studios.csv')\n",
    "studios_df"
   ],
   "outputs": [],
   "execution_count": null
  },
  {
   "cell_type": "code",
   "id": "17766a803adc482f",
   "metadata": {},
   "source": [
    "studios_df.dtypes"
   ],
   "outputs": [],
   "execution_count": null
  },
  {
   "cell_type": "code",
   "id": "fbb896ee1231f17",
   "metadata": {},
   "source": [
    "# check for NaN values\n",
    "studios_df.isna().sum()\n",
    "studios_df[studios_df['studio'].isna()]\n",
    "\n",
    "studios_df = studios_df.dropna()"
   ],
   "outputs": [],
   "execution_count": null
  },
  {
   "cell_type": "code",
   "id": "adab9f0cfe764439",
   "metadata": {},
   "source": [
    "# check for duplicated values\n",
    "studios_df.duplicated().sum()\n",
    "studios_df[studios_df.duplicated(keep=False)]\n",
    "\n",
    "studios_df = studios_df.drop_duplicates()"
   ],
   "outputs": [],
   "execution_count": null
  },
  {
   "cell_type": "markdown",
   "id": "9a6b57c450f01c0f",
   "metadata": {},
   "source": [
    "## Themes"
   ]
  },
  {
   "cell_type": "code",
   "id": "fbe022bdfd8b0a04",
   "metadata": {},
   "source": [
    "themes_df = pd.read_csv('datasets/themes.csv')\n",
    "themes_df"
   ],
   "outputs": [],
   "execution_count": null
  },
  {
   "cell_type": "code",
   "id": "f936ffb1de2fe4bd",
   "metadata": {},
   "source": [
    "themes_df.dtypes"
   ],
   "outputs": [],
   "execution_count": null
  },
  {
   "cell_type": "code",
   "id": "13ad053293c1ffd2",
   "metadata": {},
   "source": [
    "len(themes_df['theme'].unique())\n",
    "\n",
    "themes_df['theme'].unique()"
   ],
   "outputs": [],
   "execution_count": null
  },
  {
   "cell_type": "code",
   "id": "2084d91873e547a3",
   "metadata": {},
   "source": [
    "# check for NaN values\n",
    "themes_df.isna().sum()"
   ],
   "outputs": [],
   "execution_count": null
  },
  {
   "cell_type": "code",
   "id": "ab2b77ce8ed56bcd",
   "metadata": {},
   "source": [
    "# check for duplicated values\n",
    "themes_df.duplicated().sum()"
   ],
   "outputs": [],
   "execution_count": null
  },
  {
   "cell_type": "markdown",
   "id": "8239b51a28a377ba",
   "metadata": {},
   "source": [
    "## The Oscar Awards"
   ]
  },
  {
   "cell_type": "code",
   "id": "90562049b2b05eb1",
   "metadata": {},
   "source": [
    "oscars_df = pd.read_csv('datasets/the_oscar_awards.csv')\n",
    "oscars_df"
   ],
   "outputs": [],
   "execution_count": null
  },
  {
   "cell_type": "code",
   "id": "36ae83bf8011e711",
   "metadata": {},
   "source": [
    "oscars_df.dtypes"
   ],
   "outputs": [],
   "execution_count": null
  },
  {
   "cell_type": "code",
   "id": "bd61632afb506e99",
   "metadata": {},
   "source": [
    "# typing columns\n",
    "oscars_df['ceremony'].unique()\n",
    "\n",
    "# year_film always <= year_ceremony\n",
    "# oscars_df[oscars_df['year_film'] > oscars_df['year_ceremony']]\n",
    "\n",
    "oscars_df['category'] = oscars_df['category'].astype('category')"
   ],
   "outputs": [],
   "execution_count": null
  },
  {
   "cell_type": "code",
   "id": "307b81116fc86d32",
   "metadata": {},
   "source": [
    "# check for NaN values\n",
    "oscars_df.isna().sum()\n",
    "\n",
    "oscars_df[oscars_df['category'] == \"JEAN HERSHOLT HUMANITARIAN AWARD\"]"
   ],
   "outputs": [],
   "execution_count": null
  },
  {
   "cell_type": "code",
   "id": "17006996a9aa1b24",
   "metadata": {},
   "source": [
    "# check for duplicated values\n",
    "oscars_df.duplicated().sum()\n",
    "\n",
    "oscars_df[oscars_df.duplicated(keep=False)]"
   ],
   "outputs": [],
   "execution_count": null
  },
  {
   "cell_type": "markdown",
   "id": "9987f1ea66215e6e",
   "metadata": {},
   "source": [
    "## Rotten Tomatoes Reviews"
   ]
  },
  {
   "cell_type": "code",
   "id": "a034e62862b0698",
   "metadata": {},
   "source": [
    "reviews_df = pd.read_csv('datasets/rotten_tomatoes_reviews.csv')"
   ],
   "outputs": [],
   "execution_count": null
  },
  {
   "cell_type": "markdown",
   "id": "235db8f4bf98f800",
   "metadata": {},
   "source": [
    "### 1. Data Understanding"
   ]
  },
  {
   "cell_type": "code",
   "id": "e959042f66953cdb",
   "metadata": {},
   "source": [
    "reviews_df.head()"
   ],
   "outputs": [],
   "execution_count": null
  },
  {
   "cell_type": "code",
   "id": "f729775e5075501",
   "metadata": {},
   "source": [
    "reviews_df.shape"
   ],
   "outputs": [],
   "execution_count": null
  },
  {
   "cell_type": "code",
   "id": "40ad7ccbbcf0d1ba",
   "metadata": {},
   "source": [
    "reviews_df.dtypes"
   ],
   "outputs": [],
   "execution_count": null
  },
  {
   "cell_type": "markdown",
   "id": "a74ea906fcf8b827",
   "metadata": {},
   "source": [
    "### 2. Data Cleaning"
   ]
  },
  {
   "cell_type": "code",
   "id": "f35d276353417a37",
   "metadata": {},
   "source": [
    "# Rename columns\n",
    "reviews_df = reviews_df.rename(columns={'review_type': 'type', 'review_score': 'score', 'review_date': 'date', 'review_content': 'content', 'top_critic': 'is_top_critic'})"
   ],
   "outputs": [],
   "execution_count": null
  },
  {
   "cell_type": "code",
   "id": "507ec35f28e248b9",
   "metadata": {},
   "source": [
    "# Check for null values\n",
    "reviews_df.isna().sum()"
   ],
   "outputs": [],
   "execution_count": null
  },
  {
   "cell_type": "markdown",
   "id": "43d8e22000f6a9b5",
   "metadata": {},
   "source": [
    "Checking on Rotten Tomatoes website is fine having the publisher and critic name and content as null values."
   ]
  },
  {
   "cell_type": "code",
   "id": "957a4ddfb06f5615",
   "metadata": {},
   "source": [
    "# Check for duplicate rows\n",
    "filtered_df = reviews_df[reviews_df['critic_name'].notna()]\n",
    "filtered_df = filtered_df[filtered_df.duplicated(keep=False)]\n",
    "\n",
    "reviews_df = reviews_df.drop(reviews_df[reviews_df['critic_name'].isna()].index)\n",
    "\n",
    "filtered_df"
   ],
   "outputs": [],
   "execution_count": null
  },
  {
   "cell_type": "markdown",
   "id": "cb9315e8f8138eeb",
   "metadata": {},
   "source": [
    "There are many duplicate reviews in the datasets. Looking closely is actually possible to have more reviews for the same movie that have the same publisher and with the author not specified. Those rows will be excluded from the total count of duplicate rows and will not be removed. All other duplicate rows will be removed."
   ]
  },
  {
   "cell_type": "code",
   "id": "2291b484257ea9d3",
   "metadata": {},
   "source": [
    "# Setting the correct type for columns\n",
    "reviews_df['type'] = reviews_df['type'].astype('category')\n",
    "reviews_df['date'] = pd.to_datetime(reviews_df['date'], format='%Y-%m-%d')"
   ],
   "outputs": [],
   "execution_count": null
  },
  {
   "cell_type": "markdown",
   "id": "7ab64ae4b73713b4",
   "metadata": {},
   "source": [
    "### 3. Final Result"
   ]
  },
  {
   "cell_type": "code",
   "id": "2ccca9ccb161d93",
   "metadata": {},
   "source": [
    "reviews_df.head()"
   ],
   "outputs": [],
   "execution_count": null
  },
  {
   "cell_type": "code",
   "id": "86d8854260261307",
   "metadata": {},
   "source": [
    "reviews_df.shape"
   ],
   "outputs": [],
   "execution_count": null
  },
  {
   "cell_type": "code",
   "id": "a1f0ab1613f14adf",
   "metadata": {},
   "source": [
    "# Print clean dataset to new csv file\n",
    "if PRINT_CSV:\n",
    "    reviews_df.to_csv('clean_datasets/reviews.csv')\n",
    "\n",
    "# Free memory\n",
    "reviews_df = None"
   ],
   "outputs": [],
   "execution_count": null
  }
 ],
 "metadata": {
  "kernelspec": {
   "display_name": "Python 3 (ipykernel)",
   "language": "python",
   "name": "python3"
  },
  "language_info": {
   "codemirror_mode": {
    "name": "ipython",
    "version": 3
   },
   "file_extension": ".py",
   "mimetype": "text/x-python",
   "name": "python",
   "nbconvert_exporter": "python",
   "pygments_lexer": "ipython3",
   "version": "3.13.1"
  }
 },
 "nbformat": 4,
 "nbformat_minor": 5
}
