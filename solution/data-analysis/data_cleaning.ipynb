{
 "cells": [
  {
   "cell_type": "markdown",
   "id": "1ada8e0800af80f",
   "metadata": {},
   "source": [
    "# Data Cleaning\n",
    "The cleaning process is organized into sections, each corresponding to a different dataset (`.csv` file). Each section includes the following steps:\n",
    "\n",
    "1. **Data Understanding**: Initial exploration of the dataset.\n",
    "2. **Data Cleaning**: Handling of missing values (NaN), removal of duplicates, setting correct data types, and renaming columns. <br>\n",
    "   *(Optional)* **Deep Clean**: Custom cleaning steps applied to a specific dataset, if necessary.\n",
    "3. **Final Result**: Displays the cleaned dataset and saves it to a new `.csv` file.\n",
    "\n",
    "First, import the necessary libraries and set up any required options."
   ]
  },
  {
   "cell_type": "code",
   "id": "initial_id",
   "metadata": {},
   "source": [
    "import pandas as pd\n",
    "import numpy as np\n",
    "\n",
    "from utils.utils import find_matching\n",
    "\n",
    "# Set to True to print cleaned data into new csv\n",
    "PRINT_CSV = False"
   ],
   "outputs": [],
   "execution_count": null
  },
  {
   "cell_type": "markdown",
   "id": "3535d2e877d218a5",
   "metadata": {},
   "source": [
    "## Movies"
   ]
  },
  {
   "cell_type": "code",
   "id": "bfa523a3d71aa334",
   "metadata": {},
   "source": [
    "# Import 'movies.csv' dataset\n",
    "movies_df = pd.read_csv('datasets/movies.csv')"
   ],
   "outputs": [],
   "execution_count": null
  },
  {
   "cell_type": "markdown",
   "id": "91a7f5cc08f506b1",
   "metadata": {},
   "source": [
    "### 1. Data Understanding"
   ]
  },
  {
   "cell_type": "code",
   "id": "3fdf6136a09202bf",
   "metadata": {},
   "source": [
    "movies_df.head()"
   ],
   "outputs": [],
   "execution_count": null
  },
  {
   "cell_type": "code",
   "id": "f25edf3b61586308",
   "metadata": {},
   "source": [
    "movies_df.shape"
   ],
   "outputs": [],
   "execution_count": null
  },
  {
   "cell_type": "code",
   "id": "66353feb2d15e0c1",
   "metadata": {},
   "source": [
    "movies_df.dtypes"
   ],
   "outputs": [],
   "execution_count": null
  },
  {
   "cell_type": "markdown",
   "id": "24564dc69f48117c",
   "metadata": {},
   "source": [
    "### 2. Data Cleaning"
   ]
  },
  {
   "cell_type": "code",
   "id": "92ec1ff74b506e2f",
   "metadata": {},
   "source": [
    "# Rename columns\n",
    "movies_df = movies_df.rename(columns={'name': 'title', 'minute': 'duration_in_minutes', 'date': 'release_year'})\n",
    "print(f\"Movies dataset columns: {', '.join(movies_df.columns)}\")"
   ],
   "outputs": [],
   "execution_count": null
  },
  {
   "cell_type": "code",
   "id": "943d34788f840a4c",
   "metadata": {},
   "source": [
    "# Check for null values\n",
    "movies_df.isna().sum()"
   ],
   "outputs": [],
   "execution_count": null
  },
  {
   "cell_type": "markdown",
   "id": "5d60bd3bbbcdf43",
   "metadata": {},
   "source": [
    "There are null values in most of the columns.\n",
    "The fields '**release_year**', '**tagline**', '**description**', '**duration_in_minutes**' and '**rating**' don't cause any problems so we'll keep them, but the few movies that are without a title can't be used and will be removed."
   ]
  },
  {
   "cell_type": "code",
   "id": "e64b09d17cd6ac6f",
   "metadata": {},
   "source": [
    "# Removing rows with null title\n",
    "no_title = movies_df[movies_df['title'].isna()]\n",
    "movies_df = movies_df.dropna(subset=['title'])\n",
    "\n",
    "print(\"Movies dataset without title:\")\n",
    "no_title.head()"
   ],
   "outputs": [],
   "execution_count": null
  },
  {
   "cell_type": "code",
   "id": "709a95587abbdd3e",
   "metadata": {},
   "source": [
    "# Check for duplicate rows\n",
    "print(f\"There are {movies_df.duplicated().sum()} duplicated rows\")"
   ],
   "outputs": [],
   "execution_count": null
  },
  {
   "cell_type": "code",
   "id": "b859e3726529609e",
   "metadata": {},
   "source": [
    "# Setting the correct type for columns\n",
    "movies_df['release_year'] = movies_df['release_year'].astype('Int64')\n",
    "movies_df['duration_in_minutes'] = movies_df['duration_in_minutes'].astype('Int64')\n",
    "movies_df[['release_year', 'duration_in_minutes']].dtypes"
   ],
   "outputs": [],
   "execution_count": null
  },
  {
   "cell_type": "code",
   "id": "903dbbf0e5d08f7c",
   "metadata": {},
   "source": [
    "# Check if 'id' column has unique values\n",
    "duplicates_id = movies_df[movies_df['id'].duplicated()].shape[0]\n",
    "movies_df = movies_df.set_index(\"id\")\n",
    "print(f\"'id' duplicates: {duplicates_id}\")"
   ],
   "outputs": [],
   "execution_count": null
  },
  {
   "cell_type": "markdown",
   "id": "12ecbd6bd4da8000",
   "metadata": {},
   "source": [
    "The '**id**' field is the dataset's Primary Key, so we'll set it as the index."
   ]
  },
  {
   "cell_type": "markdown",
   "id": "4de852ea61ae6f48",
   "metadata": {},
   "source": [
    "#### Deep Clean\n",
    "Let's look inside some columns to see most frequent values"
   ]
  },
  {
   "cell_type": "code",
   "id": "207fa8d6b074b053",
   "metadata": {},
   "source": [
    "movies_df['description'].value_counts().head(10)"
   ],
   "outputs": [],
   "execution_count": null
  },
  {
   "cell_type": "markdown",
   "id": "a74a60d521aeb637",
   "metadata": {},
   "source": [
    "Many descriptions seem to have a description like \"Plot Unavailable\" or similar instead of a null value. The other fields seem fine.<br>\n",
    "Let's try to fix as many as possible (fixing only the most frequent variation, not 100% accurate)."
   ]
  },
  {
   "cell_type": "code",
   "id": "29ea2050d5268983",
   "metadata": {},
   "source": [
    "from utils.utils import null_movie_description_keywords\n",
    "\n",
    "# Find null description variation\n",
    "result = find_matching(movies_df, 'description', null_movie_description_keywords, max_length=30)\n",
    "matches = result.copy()\n",
    "\n",
    "# Fill with NaN values the result obtained\n",
    "result['description'] = np.nan\n",
    "\n",
    "# Manual check to be sure to not overwrite real descriptions\n",
    "matches['description'].value_counts()"
   ],
   "outputs": [],
   "execution_count": null
  },
  {
   "cell_type": "markdown",
   "id": "a9a20b8e75e66e6b",
   "metadata": {},
   "source": [
    "### 3. Final Result\n",
    "All datasets reference the **movies** dataset. A movie is uniquely identified by his **id** and a movie id has multiple occurrences in other datasets."
   ]
  },
  {
   "cell_type": "code",
   "id": "35481461787f2554",
   "metadata": {},
   "source": [
    "movies_df.head()"
   ],
   "outputs": [],
   "execution_count": null
  },
  {
   "cell_type": "code",
   "id": "f54fa1742a832d2d",
   "metadata": {},
   "source": [
    "movies_df.shape"
   ],
   "outputs": [],
   "execution_count": null
  },
  {
   "cell_type": "code",
   "id": "cd473f210afa47b3",
   "metadata": {},
   "source": [
    "# Print clean dataset to new csv file\n",
    "if PRINT_CSV:\n",
    "    movies_df.to_csv('clean_datasets/movies.csv')\n",
    "\n",
    "movies_df = None"
   ],
   "outputs": [],
   "execution_count": null
  },
  {
   "cell_type": "markdown",
   "id": "8f0b9a430d101b37",
   "metadata": {},
   "source": [
    "## Languages"
   ]
  },
  {
   "cell_type": "code",
   "id": "ece358f79ead413e",
   "metadata": {},
   "source": [
    "# Import 'languages.csv' dataset\n",
    "lang_df = pd.read_csv('datasets/languages.csv')"
   ],
   "outputs": [],
   "execution_count": null
  },
  {
   "cell_type": "markdown",
   "id": "fc0e51ab4b81515f",
   "metadata": {},
   "source": [
    "### 1. Data Understanding"
   ]
  },
  {
   "cell_type": "code",
   "id": "fd8e821868e23834",
   "metadata": {},
   "source": [
    "lang_df.head()"
   ],
   "outputs": [],
   "execution_count": null
  },
  {
   "cell_type": "code",
   "id": "4523d755552d193",
   "metadata": {},
   "source": [
    "lang_df.shape"
   ],
   "outputs": [],
   "execution_count": null
  },
  {
   "cell_type": "code",
   "id": "a75cc482a4a9e58f",
   "metadata": {},
   "source": [
    "lang_df.dtypes"
   ],
   "outputs": [],
   "execution_count": null
  },
  {
   "cell_type": "markdown",
   "id": "df4400a39ba89b3d",
   "metadata": {},
   "source": [
    "### 2. Data Cleaning"
   ]
  },
  {
   "cell_type": "code",
   "id": "567cb4904bd42350",
   "metadata": {},
   "source": [
    "# Rename columns\n",
    "lang_df = lang_df.rename(columns={'id': 'movie_id'})\n",
    "print(f\"Languages dataset columns: {', '.join(lang_df.columns)}\")"
   ],
   "outputs": [],
   "execution_count": null
  },
  {
   "cell_type": "code",
   "id": "e9beb77f2bec1fd8",
   "metadata": {},
   "source": [
    "# Check for null values\n",
    "lang_df.isna().sum()"
   ],
   "outputs": [],
   "execution_count": null
  },
  {
   "cell_type": "code",
   "id": "df1df599b18fb36d",
   "metadata": {},
   "source": [
    "# Check for duplicate rows\n",
    "print(f\"There are {lang_df.duplicated().sum()} duplicated rows\")"
   ],
   "outputs": [],
   "execution_count": null
  },
  {
   "cell_type": "code",
   "id": "9f395fe64e995870",
   "metadata": {},
   "source": [
    "# Setting the category data type for column 'type'\n",
    "lang_types = lang_df['type'].unique()\n",
    "lang_df['type'] = lang_df['type'].astype('category')\n",
    "print(f\"types: {', '.join(lang_types)}\")"
   ],
   "outputs": [],
   "execution_count": null
  },
  {
   "cell_type": "markdown",
   "id": "4a98b5d55e778524",
   "metadata": {},
   "source": [
    "The '**type**' field has only 3 possible values, so we can set it as a categorical type"
   ]
  },
  {
   "cell_type": "markdown",
   "id": "ca1422c0332601d4",
   "metadata": {},
   "source": [
    "### 3. Final Result\n",
    "The languages dataset is directly connected to the movies dataset with the 'movie_id' column. There are more languages rows than movies rows, because a movie can have multiple languages connected. Also, not all movie must have a language defined."
   ]
  },
  {
   "cell_type": "code",
   "id": "2d753d7a649a7bf0",
   "metadata": {},
   "source": [
    "lang_df.head()"
   ],
   "outputs": [],
   "execution_count": null
  },
  {
   "cell_type": "code",
   "id": "6d7a9b93f2a82197",
   "metadata": {},
   "source": [
    "lang_df.shape"
   ],
   "outputs": [],
   "execution_count": null
  },
  {
   "cell_type": "code",
   "id": "7f08b875426ec5df",
   "metadata": {},
   "source": [
    "# Print clean dataset to new csv file\n",
    "if PRINT_CSV:\n",
    "    lang_df.to_csv('clean_datasets/languages.csv')\n",
    "\n",
    "lang_df = None"
   ],
   "outputs": [],
   "execution_count": null
  },
  {
   "cell_type": "markdown",
   "id": "f9ebbf4c27dcb25e",
   "metadata": {},
   "source": [
    "## Actors"
   ]
  },
  {
   "cell_type": "code",
   "id": "29b93334077ab162",
   "metadata": {},
   "source": [
    "# Import 'actors.csv' dataset\n",
    "actors_df = pd.read_csv('datasets/actors.csv')"
   ],
   "outputs": [],
   "execution_count": null
  },
  {
   "cell_type": "markdown",
   "id": "714394fe6ec3d82d",
   "metadata": {},
   "source": [
    "### 1. Data Understanding"
   ]
  },
  {
   "cell_type": "code",
   "id": "1db6e7dafedf88df",
   "metadata": {},
   "source": [
    "actors_df.head()"
   ],
   "outputs": [],
   "execution_count": null
  },
  {
   "cell_type": "code",
   "id": "a999b36a00c4f0c7",
   "metadata": {},
   "source": [
    "actors_df.shape"
   ],
   "outputs": [],
   "execution_count": null
  },
  {
   "cell_type": "code",
   "id": "e61ee0ab68247d2a",
   "metadata": {},
   "source": [
    "actors_df.dtypes"
   ],
   "outputs": [],
   "execution_count": null
  },
  {
   "cell_type": "markdown",
   "id": "6b5b29d74651b585",
   "metadata": {},
   "source": [
    "### 2. Data Cleaning"
   ]
  },
  {
   "cell_type": "code",
   "id": "9187debc4d1ad51e",
   "metadata": {},
   "source": [
    "# Rename columns\n",
    "actors_df = actors_df.rename(columns={'id': 'movie_id'})\n",
    "print(f\"Actors dataset columns: {', '.join(actors_df.columns)}\")"
   ],
   "outputs": [],
   "execution_count": null
  },
  {
   "cell_type": "code",
   "id": "3833716afd294027",
   "metadata": {},
   "source": [
    "# Check for null values\n",
    "actors_df.isna().sum()"
   ],
   "outputs": [],
   "execution_count": null
  },
  {
   "cell_type": "markdown",
   "id": "ff01c08822556d24",
   "metadata": {},
   "source": [
    "There are a lot of missing roles, but there is nothing to do about it."
   ]
  },
  {
   "cell_type": "code",
   "id": "deb18315a671c8ca",
   "metadata": {},
   "source": [
    "# Removing actors without name\n",
    "no_name = actors_df[actors_df['name'].isna()]\n",
    "actors_df = actors_df.dropna(subset=['name'])\n",
    "no_name"
   ],
   "outputs": [],
   "execution_count": null
  },
  {
   "cell_type": "code",
   "id": "db26c76a56188205",
   "metadata": {},
   "source": [
    "# Check for duplicate rows\n",
    "print(f\"There are {actors_df.duplicated().sum()} duplicated rows\")\n",
    "actors_duplicates = actors_df[actors_df.duplicated(keep=False)].head(6)\n",
    "\n",
    "# Dropping the duplicates\n",
    "actors_df = actors_df.drop_duplicates()\n",
    "\n",
    "actors_duplicates"
   ],
   "outputs": [],
   "execution_count": null
  },
  {
   "cell_type": "markdown",
   "id": "c0dee24f2dee8446",
   "metadata": {},
   "source": [
    "#### Deep Clean"
   ]
  },
  {
   "cell_type": "code",
   "id": "b2d31c861ac4f2ae",
   "metadata": {},
   "source": [
    "actors_df['role'].value_counts().head(10)"
   ],
   "outputs": [],
   "execution_count": null
  },
  {
   "cell_type": "markdown",
   "id": "dbf5aa0e068e26ad",
   "metadata": {},
   "source": [
    "The role column has many \"Self\" role variations let's look more deeply."
   ]
  },
  {
   "cell_type": "code",
   "id": "f8e7a43e7d9b25ad",
   "metadata": {},
   "source": [
    "from utils.utils import self_actor_role_keywords\n",
    "\n",
    "# Find self variation\n",
    "result = find_matching(actors_df, 'role', self_actor_role_keywords)\n",
    "print(f\"Rows contains 'self' variations: {result['role'].shape[0]}\")\n",
    "result['role'].value_counts().head()"
   ],
   "outputs": [],
   "execution_count": null
  },
  {
   "cell_type": "markdown",
   "id": "f3df05cb9547cf92",
   "metadata": {},
   "source": [
    "There are over 300.000 values that are similar to \"Self\", but many of them contains also other information as \"Self - Presenter\" or \"Self - Guest\". Overwriting all those values could result in a loss of information, so they won't be overwritten in the cleaned dataset, but they might be when visualizing the data for statistical purposes."
   ]
  },
  {
   "cell_type": "code",
   "id": "292ee6e521843ffb",
   "metadata": {},
   "source": [
    "# Reset indexing after removing rows\n",
    "actors_df = actors_df.reset_index(drop=True)"
   ],
   "outputs": [],
   "execution_count": null
  },
  {
   "cell_type": "markdown",
   "id": "15ad2e8fae1555b6",
   "metadata": {},
   "source": [
    "### 3. Final Result\n",
    "The actors dataset is directly connected to the movies dataset and has almost six times the number of rows as the movies dataset. Also, a movie can have no actors connected"
   ]
  },
  {
   "cell_type": "code",
   "id": "8b17166d2b8653e0",
   "metadata": {},
   "source": [
    "actors_df.head()"
   ],
   "outputs": [],
   "execution_count": null
  },
  {
   "cell_type": "code",
   "id": "4b2ff7785bdee833",
   "metadata": {},
   "source": [
    "actors_df.shape"
   ],
   "outputs": [],
   "execution_count": null
  },
  {
   "cell_type": "code",
   "id": "c0bf6df41d084329",
   "metadata": {},
   "source": [
    "# Print clean dataset to new csv file\n",
    "if PRINT_CSV:\n",
    "    actors_df.to_csv('clean_datasets/actors.csv')\n",
    "\n",
    "actors_df = None"
   ],
   "outputs": [],
   "execution_count": null
  },
  {
   "cell_type": "markdown",
   "id": "ed6a3442ff25eae8",
   "metadata": {},
   "source": [
    "## Countries"
   ]
  },
  {
   "cell_type": "code",
   "id": "661073e9d310aa6b",
   "metadata": {},
   "source": [
    "# Import 'countries.csv' dataset\n",
    "countries_df = pd.read_csv('datasets/countries.csv')"
   ],
   "outputs": [],
   "execution_count": null
  },
  {
   "cell_type": "markdown",
   "id": "a2a635ce280ab289",
   "metadata": {},
   "source": [
    "### 1. Data Understanding"
   ]
  },
  {
   "cell_type": "code",
   "id": "c10d0df0feda424d",
   "metadata": {},
   "source": [
    "countries_df.head()"
   ],
   "outputs": [],
   "execution_count": null
  },
  {
   "cell_type": "code",
   "id": "68a498aed1f33a22",
   "metadata": {},
   "source": [
    "countries_df.shape"
   ],
   "outputs": [],
   "execution_count": null
  },
  {
   "cell_type": "code",
   "id": "37bc9dec1507718e",
   "metadata": {},
   "source": [
    "countries_df.dtypes"
   ],
   "outputs": [],
   "execution_count": null
  },
  {
   "cell_type": "markdown",
   "id": "3cb5e504f80fe702",
   "metadata": {},
   "source": [
    "### 2. Data Cleaning"
   ]
  },
  {
   "cell_type": "code",
   "id": "55f18d2a971d436a",
   "metadata": {},
   "source": [
    "# Rename columns\n",
    "countries_df = countries_df.rename(columns={'id': 'movie_id'})\n",
    "print(f\"Countries dataset columns: {', '.join(countries_df.columns)}\")"
   ],
   "outputs": [],
   "execution_count": null
  },
  {
   "cell_type": "code",
   "id": "c65f479cfb939c5a",
   "metadata": {},
   "source": [
    "# Check for null values\n",
    "countries_df.isna().sum()"
   ],
   "outputs": [],
   "execution_count": null
  },
  {
   "cell_type": "code",
   "id": "7ca88973a3f02bf6",
   "metadata": {},
   "source": [
    "# Check for duplicate rows\n",
    "print(f\"There are {countries_df.duplicated().sum()} duplicated rows\")"
   ],
   "outputs": [],
   "execution_count": null
  },
  {
   "cell_type": "markdown",
   "id": "22a09f7b2b168370",
   "metadata": {},
   "source": [
    "### 3. Final Results\n",
    "The **countries** dataset is directly connected to the movies dataset with the 'movie_id' column. This dataset contains all the countries where the movies were produced.\n"
   ]
  },
  {
   "cell_type": "code",
   "id": "fe6488ea4524f638",
   "metadata": {},
   "source": [
    "countries_df.head()"
   ],
   "outputs": [],
   "execution_count": null
  },
  {
   "cell_type": "code",
   "id": "5f2c59a6098fbecc",
   "metadata": {},
   "source": [
    "countries_df.shape"
   ],
   "outputs": [],
   "execution_count": null
  },
  {
   "cell_type": "code",
   "id": "459279d5eedfca5e",
   "metadata": {},
   "source": [
    "# Print clean dataset to new csv file\n",
    "if PRINT_CSV:\n",
    "    countries_df.to_csv('clean_datasets/countries.csv')\n",
    "\n",
    "countries_df = None"
   ],
   "outputs": [],
   "execution_count": null
  },
  {
   "cell_type": "markdown",
   "id": "24edc4892a749039",
   "metadata": {},
   "source": [
    "## Crew"
   ]
  },
  {
   "cell_type": "code",
   "id": "a88c911e6dbb612d",
   "metadata": {},
   "source": [
    "# Import 'crew.csv' dataset\n",
    "crew_df = pd.read_csv('datasets/crew.csv')"
   ],
   "outputs": [],
   "execution_count": null
  },
  {
   "cell_type": "markdown",
   "id": "4623e280b0d3983d",
   "metadata": {},
   "source": [
    "### 1. Data Understanding"
   ]
  },
  {
   "cell_type": "code",
   "id": "85e516c20b098c22",
   "metadata": {},
   "source": [
    "crew_df.head()"
   ],
   "outputs": [],
   "execution_count": null
  },
  {
   "cell_type": "code",
   "id": "6e9579fa3486f88e",
   "metadata": {},
   "source": [
    "crew_df.shape"
   ],
   "outputs": [],
   "execution_count": null
  },
  {
   "cell_type": "code",
   "id": "f59cb0428c025849",
   "metadata": {},
   "source": [
    "crew_df.dtypes"
   ],
   "outputs": [],
   "execution_count": null
  },
  {
   "cell_type": "markdown",
   "id": "8e5989eb178d962c",
   "metadata": {},
   "source": [
    "### 2. Data Cleaning"
   ]
  },
  {
   "cell_type": "code",
   "id": "56a653c79e4f9730",
   "metadata": {},
   "source": [
    "# Rename columns\n",
    "crew_df = crew_df.rename(columns={'id': 'movie_id', 'name': 'crew_member_name'})\n",
    "print(f\"Crew dataset columns: {', '.join(crew_df.columns)}\")"
   ],
   "outputs": [],
   "execution_count": null
  },
  {
   "cell_type": "code",
   "id": "2fa859770e654939",
   "metadata": {},
   "source": [
    "# Check for null values\n",
    "crew_df.isna().sum()"
   ],
   "outputs": [],
   "execution_count": null
  },
  {
   "cell_type": "markdown",
   "id": "ab29772f52de7260",
   "metadata": {},
   "source": [
    "The existing `NaN` value was not removed because it is minimal compared to the overall size of the dataset, and removing it would not significantly impact the analysis. Similarly, values such as *Unknown* or *Anonymous* were kept because they account for less than 1% of the data and do not affect the overall results."
   ]
  },
  {
   "cell_type": "code",
   "id": "7fbf186aaf3597a9",
   "metadata": {},
   "source": [
    "# Check for duplicate rows\n",
    "print('Duplicated rows:', crew_df.duplicated().sum())\n",
    "crew_duplicates = crew_df[crew_df.duplicated(keep=False)].head()\n",
    "\n",
    "# Dropping the duplicates\n",
    "crew_df = crew_df.drop_duplicates()\n",
    "\n",
    "crew_duplicates"
   ],
   "outputs": [],
   "execution_count": null
  },
  {
   "cell_type": "markdown",
   "id": "138220d7eb0dfb09",
   "metadata": {},
   "source": [
    "#### Deep Clean"
   ]
  },
  {
   "cell_type": "code",
   "id": "af7aeb781dcb9cc6",
   "metadata": {},
   "source": "# TODO: deep clean to remove escape from name column",
   "outputs": [],
   "execution_count": null
  },
  {
   "cell_type": "markdown",
   "id": "dffa0c440859da90",
   "metadata": {},
   "source": [
    "### 3. Final Results\n",
    "The **crew** dataset is connected to the movies dataset through the 'movie_id' column. It includes the names of all crew members along with their roles. A crew member can have multiple roles, but cannot perform the same role in the same movie more than once."
   ]
  },
  {
   "cell_type": "code",
   "id": "704a35689acd277a",
   "metadata": {},
   "source": [
    "crew_df.head()"
   ],
   "outputs": [],
   "execution_count": null
  },
  {
   "cell_type": "code",
   "id": "1cbe63d876bd8671",
   "metadata": {},
   "source": [
    "crew_df.shape"
   ],
   "outputs": [],
   "execution_count": null
  },
  {
   "cell_type": "code",
   "id": "f62d7e46f503aa0e",
   "metadata": {},
   "source": [
    "# Print clean dataset to new csv file\n",
    "if PRINT_CSV:\n",
    "    crew_df.to_csv('clean_datasets/crew.csv')\n",
    "\n",
    "crew_df = None"
   ],
   "outputs": [],
   "execution_count": null
  },
  {
   "cell_type": "markdown",
   "id": "b55a82b3deb73d9e",
   "metadata": {},
   "source": [
    "## Genres"
   ]
  },
  {
   "cell_type": "code",
   "id": "43a3ee2662d4a7ac",
   "metadata": {},
   "source": [
    "# Import 'genres.csv' dataset\n",
    "genres_df = pd.read_csv('datasets/genres.csv')"
   ],
   "outputs": [],
   "execution_count": null
  },
  {
   "cell_type": "markdown",
   "id": "f90938c522de76e4",
   "metadata": {},
   "source": [
    "### 1. Data Understanding"
   ]
  },
  {
   "cell_type": "code",
   "id": "d81b082bc37242f6",
   "metadata": {},
   "source": [
    "genres_df.head()"
   ],
   "outputs": [],
   "execution_count": null
  },
  {
   "cell_type": "code",
   "id": "143ecf4fe158fba2",
   "metadata": {},
   "source": [
    "genres_df.shape"
   ],
   "outputs": [],
   "execution_count": null
  },
  {
   "cell_type": "code",
   "id": "8f16e8215d40053b",
   "metadata": {},
   "source": [
    "genres_df.dtypes"
   ],
   "outputs": [],
   "execution_count": null
  },
  {
   "cell_type": "markdown",
   "id": "f33c5e865b634c2a",
   "metadata": {},
   "source": [
    "### 2. Data Cleaning"
   ]
  },
  {
   "cell_type": "code",
   "id": "e8e51ba8b0004763",
   "metadata": {},
   "source": [
    "# Rename columns\n",
    "genres_df = genres_df.rename(columns={'id': 'movie_id'})\n",
    "print(f\"Genres dataset columns: {', '.join(genres_df.columns)}\")"
   ],
   "outputs": [],
   "execution_count": null
  },
  {
   "cell_type": "code",
   "id": "3646eb6aa8a294c3",
   "metadata": {},
   "source": [
    "# Check for null values\n",
    "genres_df.isna().sum()"
   ],
   "outputs": [],
   "execution_count": null
  },
  {
   "cell_type": "code",
   "id": "f4ab9550c0d65192",
   "metadata": {},
   "source": [
    "# Check for duplicate rows\n",
    "print(f\"There are {genres_df.duplicated().sum()} duplicated rows\")"
   ],
   "outputs": [],
   "execution_count": null
  },
  {
   "cell_type": "code",
   "id": "89707d9e7fe2fde3",
   "metadata": {},
   "source": [
    "# Setting the correct type for columns\n",
    "genres_list = list(genres_df[\"genre\"].unique())\n",
    "print(f'There are {len(genres_list)} genres in the dataset: {\", \".join(genres_list)}')\n",
    "\n",
    "genres_df['genre'] = genres_df['genre'].astype('category')"
   ],
   "outputs": [],
   "execution_count": null
  },
  {
   "cell_type": "markdown",
   "id": "cdcf6350cb2c8dff",
   "metadata": {},
   "source": [
    "### 3. Final Results\n",
    "The **genres** dataset is connected to the movies dataset through the 'movie_id' column. A movie can have multiple genres.\n"
   ]
  },
  {
   "cell_type": "code",
   "id": "bab939cf7be6dcaa",
   "metadata": {},
   "source": [
    "genres_df.head()"
   ],
   "outputs": [],
   "execution_count": null
  },
  {
   "cell_type": "code",
   "id": "ed9881e2ff2d6321",
   "metadata": {},
   "source": [
    "genres_df.shape"
   ],
   "outputs": [],
   "execution_count": null
  },
  {
   "cell_type": "code",
   "id": "ad190e9b305ad9e4",
   "metadata": {},
   "source": [
    "# Print clean dataset to new csv file\n",
    "if PRINT_CSV:\n",
    "    genres_df.to_csv('clean_datasets/genres.csv')\n",
    "\n",
    "genres_df = None"
   ],
   "outputs": [],
   "execution_count": null
  },
  {
   "cell_type": "markdown",
   "id": "86c4322ed5fd0623",
   "metadata": {},
   "source": [
    "## Posters"
   ]
  },
  {
   "cell_type": "code",
   "id": "2a6907762e34e2f5",
   "metadata": {},
   "source": [
    "# Import 'posters.csv' dataset\n",
    "posters_df = pd.read_csv('datasets/posters.csv')"
   ],
   "outputs": [],
   "execution_count": null
  },
  {
   "cell_type": "markdown",
   "id": "136e2c17b3bcff2e",
   "metadata": {},
   "source": [
    "### 1. Data Understanding"
   ]
  },
  {
   "cell_type": "code",
   "id": "7e493780822572d4",
   "metadata": {},
   "source": [
    "posters_df.head()"
   ],
   "outputs": [],
   "execution_count": null
  },
  {
   "cell_type": "code",
   "id": "8606883b437702d9",
   "metadata": {},
   "source": [
    "posters_df.shape"
   ],
   "outputs": [],
   "execution_count": null
  },
  {
   "cell_type": "code",
   "id": "301f6ed84cc0bc75",
   "metadata": {},
   "source": [
    "posters_df.dtypes"
   ],
   "outputs": [],
   "execution_count": null
  },
  {
   "cell_type": "markdown",
   "id": "59806c9ab7e7af87",
   "metadata": {},
   "source": [
    "### 2. Data Cleaning"
   ]
  },
  {
   "cell_type": "code",
   "id": "ee99715a7770203d",
   "metadata": {},
   "source": [
    "# Rename columns\n",
    "posters_df = posters_df.rename(columns={'id': 'movie_id', 'link': 'poster_link'})\n",
    "print(f\"Posters dataset columns: {', '.join(posters_df.columns)}\")"
   ],
   "outputs": [],
   "execution_count": null
  },
  {
   "cell_type": "code",
   "id": "63dcee20ac047ce7",
   "metadata": {},
   "source": [
    "# Check for null values\n",
    "posters_df.isna().sum()"
   ],
   "outputs": [],
   "execution_count": null
  },
  {
   "cell_type": "code",
   "id": "fb53bd70089be031",
   "metadata": {},
   "source": [
    "# Removing null rows\n",
    "posters_df = posters_df.dropna()"
   ],
   "outputs": [],
   "execution_count": null
  },
  {
   "cell_type": "markdown",
   "id": "aae6d57b1f646f5e",
   "metadata": {},
   "source": [
    "It was decided to remove the `NaN` values as they do not contribute meaningful information to the dataset and could hinder data consistency and analysis."
   ]
  },
  {
   "cell_type": "code",
   "id": "47c6dd59eb2d0166",
   "metadata": {},
   "source": [
    "# Check for duplicate rows\n",
    "print(f\"There are {posters_df.duplicated().sum()} duplicated rows\")"
   ],
   "outputs": [],
   "execution_count": null
  },
  {
   "cell_type": "code",
   "id": "4abef74122f2f58e",
   "metadata": {},
   "source": [
    "# Check if a movie can have more than 1 poster\n",
    "id_duplicates = posters_df['movie_id'].duplicated().any()\n",
    "\n",
    "if id_duplicates:\n",
    "    print(\"There are duplicates in the 'movie_id' column.\")\n",
    "else:\n",
    "    print(\"There are no duplicates in the 'movie_id' column.\")"
   ],
   "outputs": [],
   "execution_count": null
  },
  {
   "cell_type": "markdown",
   "id": "b8bee96efbde6641",
   "metadata": {},
   "source": [
    "The relationship between the **posters** dataset and the **movies** dataset must be One-to-One, allowing us to consider merging the two datasets."
   ]
  },
  {
   "cell_type": "code",
   "id": "9e306182884d85c4",
   "metadata": {},
   "source": [
    "# Check for invalid links\n",
    "link_regex = r'\\bhttps?:\\/\\/(?:www\\.)?[a-zA-Z0-9-]+\\.[a-zA-Z]{2,}(?:\\/[^\\s]*)?'\n",
    "\n",
    "all_valid = posters_df['poster_link'].str.contains(link_regex, na=False).all()\n",
    "\n",
    "if all_valid:\n",
    "    print(\"All links are valid.\")\n",
    "else:\n",
    "    print(\"Some rows contains invalid links\")"
   ],
   "outputs": [],
   "execution_count": null
  },
  {
   "cell_type": "markdown",
   "id": "9a313ba5a96d4fb8",
   "metadata": {},
   "source": [
    "### 3. Final Results"
   ]
  },
  {
   "cell_type": "code",
   "id": "2bbcf090c4f37230",
   "metadata": {},
   "source": [
    "posters_df.head()"
   ],
   "outputs": [],
   "execution_count": null
  },
  {
   "cell_type": "code",
   "id": "2a5625b2b9b37a59",
   "metadata": {},
   "source": [
    "posters_df.shape"
   ],
   "outputs": [],
   "execution_count": null
  },
  {
   "cell_type": "code",
   "id": "b00a8511b531e0cb",
   "metadata": {},
   "source": [
    "# TODO: Merging the datasets on 'id' from 'movies' and 'movie_id' from 'posters'\n",
    "# merged_df = pd.merge(movies_df, posters_df, left_on='id', right_on='movie_id', how='left')"
   ],
   "outputs": [],
   "execution_count": null
  },
  {
   "cell_type": "code",
   "id": "b57721ebd15cb419",
   "metadata": {},
   "source": [
    "if PRINT_CSV:\n",
    "    posters_df.to_csv('clean_datasets/posters.csv')\n",
    "\n",
    "posters_df = None"
   ],
   "outputs": [],
   "execution_count": null
  },
  {
   "cell_type": "markdown",
   "id": "4196a42a33f7c016",
   "metadata": {},
   "source": [
    "## Releases"
   ]
  },
  {
   "cell_type": "code",
   "id": "58d81bbee758a926",
   "metadata": {
    "ExecuteTime": {
     "end_time": "2024-12-21T00:32:15.750616Z",
     "start_time": "2024-12-21T00:32:15.175896Z"
    }
   },
   "source": [
    "# Import 'release.csv' dataset\n",
    "releases_df = pd.read_csv('datasets/releases.csv')"
   ],
   "outputs": [],
   "execution_count": 150
  },
  {
   "cell_type": "markdown",
   "id": "6f20992376e2f86c",
   "metadata": {},
   "source": [
    "### 1. Data Understanding"
   ]
  },
  {
   "cell_type": "code",
   "id": "d4229fdeb2ec0df4",
   "metadata": {},
   "source": [
    "releases_df.head()"
   ],
   "outputs": [],
   "execution_count": null
  },
  {
   "cell_type": "code",
   "id": "3c3f65a9f26b8107",
   "metadata": {},
   "source": [
    "releases_df.shape"
   ],
   "outputs": [],
   "execution_count": null
  },
  {
   "cell_type": "code",
   "id": "532d17f380f9d16d",
   "metadata": {},
   "source": [
    "releases_df.dtypes"
   ],
   "outputs": [],
   "execution_count": null
  },
  {
   "cell_type": "markdown",
   "id": "43ace379e3f928d1",
   "metadata": {},
   "source": [
    "### 2. Data Cleaning"
   ]
  },
  {
   "cell_type": "code",
   "id": "4f968df32d23f212",
   "metadata": {
    "ExecuteTime": {
     "end_time": "2024-12-21T00:32:17.126655Z",
     "start_time": "2024-12-21T00:32:17.086018Z"
    }
   },
   "source": [
    "# Rename columns\n",
    "releases_df = releases_df.rename(columns={'id': 'movie_id', 'type': 'distribution_format'})\n",
    "print(f\"Release dataset columns: {', '.join(releases_df.columns)}\")"
   ],
   "outputs": [
    {
     "name": "stdout",
     "output_type": "stream",
     "text": [
      "Release dataset columns: movie_id, country, date, distribution_format, rating\n"
     ]
    }
   ],
   "execution_count": 151
  },
  {
   "cell_type": "code",
   "id": "1520521767a42027",
   "metadata": {
    "ExecuteTime": {
     "end_time": "2024-12-21T00:32:18.668277Z",
     "start_time": "2024-12-21T00:32:18.528981Z"
    }
   },
   "source": [
    "# Check for null values\n",
    "releases_df.isna().sum()"
   ],
   "outputs": [
    {
     "data": {
      "text/plain": [
       "movie_id                    0\n",
       "country                     0\n",
       "date                        0\n",
       "distribution_format         0\n",
       "rating                 998802\n",
       "dtype: int64"
      ]
     },
     "execution_count": 152,
     "metadata": {},
     "output_type": "execute_result"
    }
   ],
   "execution_count": 152
  },
  {
   "metadata": {},
   "cell_type": "markdown",
   "source": "It's fine for the dataset to have null values only in the 'rating' field, we can keep the data without that information as the absence of ratings doesn't affect the overall analysis or integrity of the other data columns.",
   "id": "bf85d25ba85eec72"
  },
  {
   "cell_type": "code",
   "id": "9bd49ddafbd907a9",
   "metadata": {
    "ExecuteTime": {
     "end_time": "2024-12-21T00:34:32.667101Z",
     "start_time": "2024-12-21T00:34:32.299572Z"
    }
   },
   "source": [
    "# Check for duplicate rows\n",
    "print(f\"There are {releases_df.duplicated().sum()} duplicated rows\")"
   ],
   "outputs": [
    {
     "name": "stdout",
     "output_type": "stream",
     "text": [
      "There are 0 duplicated rows\n"
     ]
    }
   ],
   "execution_count": 153
  },
  {
   "cell_type": "code",
   "id": "6f84be4fef8f9c77",
   "metadata": {},
   "source": [
    "# Check for alternative null values in the dataset\n",
    "releases_df[(releases_df['rating'] == \"0\") & (~releases_df['country'].isin([\"Germany\", \"Austria\", \"Switzerland\"]))].head()"
   ],
   "outputs": [],
   "execution_count": null
  },
  {
   "cell_type": "markdown",
   "id": "335338050e2448fa",
   "metadata": {},
   "source": [
    "We initially checked the value `0` in the dataset, assuming it might represent a null or missing value. However, we discovered that in Germany, Austria, and Switzerland, the `0` rating has a meaningful interpretation, indicating that the film is suitable for all audiences, including children. For the remaining countries, it is possible that the `0` rating is an error, but since it appears only 70 times in a dataset of 1,332,782 rows, we deemed it unnecessary to remove or correct these entries."
   ]
  },
  {
   "cell_type": "code",
   "id": "cd6d215126e6873f",
   "metadata": {},
   "source": [
    "# Setting the correct type for the columns\n",
    "releases_df['date'] = pd.to_datetime(releases_df['date'], format='%Y-%m-%d')\n",
    "releases_df['distribution_format'] = releases_df['distribution_format'].astype('category')"
   ],
   "outputs": [],
   "execution_count": null
  },
  {
   "cell_type": "markdown",
   "id": "6370db33e1d66708",
   "metadata": {},
   "source": [
    "### 3. Final Results\n",
    "The **release** dataset is linked to the movies dataset via the 'movie_id' column. It contains details about the movies' releases around the world."
   ]
  },
  {
   "cell_type": "code",
   "id": "e6bf754e207c33c8",
   "metadata": {},
   "source": [
    "releases_df.head()"
   ],
   "outputs": [],
   "execution_count": null
  },
  {
   "cell_type": "code",
   "id": "f0ca164238628799",
   "metadata": {},
   "source": [
    "releases_df.shape"
   ],
   "outputs": [],
   "execution_count": null
  },
  {
   "cell_type": "code",
   "id": "9218c0140c7245a5",
   "metadata": {},
   "source": [
    "if PRINT_CSV:\n",
    "    releases_df.to_csv('clean_datasets/releases.csv')\n",
    "\n",
    "releases_df = None"
   ],
   "outputs": [],
   "execution_count": null
  },
  {
   "cell_type": "markdown",
   "id": "da81d3e12dc36ea5",
   "metadata": {},
   "source": [
    "## Studios"
   ]
  },
  {
   "cell_type": "code",
   "id": "84396a257c71794f",
   "metadata": {},
   "source": [
    "# Import 'studios.csv' dataset\n",
    "studios_df = pd.read_csv('datasets/studios.csv')"
   ],
   "outputs": [],
   "execution_count": null
  },
  {
   "cell_type": "markdown",
   "id": "e076ed4a5564bec3",
   "metadata": {},
   "source": [
    "### 1. Data Understanding"
   ]
  },
  {
   "cell_type": "code",
   "id": "a88021e9ebb0065c",
   "metadata": {},
   "source": [
    "studios_df.head()"
   ],
   "outputs": [],
   "execution_count": null
  },
  {
   "cell_type": "code",
   "id": "bbf42bcb0f1fb08",
   "metadata": {},
   "source": [
    "studios_df.shape"
   ],
   "outputs": [],
   "execution_count": null
  },
  {
   "cell_type": "code",
   "id": "17766a803adc482f",
   "metadata": {},
   "source": [
    "studios_df.dtypes"
   ],
   "outputs": [],
   "execution_count": null
  },
  {
   "cell_type": "markdown",
   "id": "b91cf90d9d4b5ab7",
   "metadata": {},
   "source": [
    "### 2. Data Cleaning"
   ]
  },
  {
   "cell_type": "code",
   "id": "be17f510fb844ba0",
   "metadata": {},
   "source": [
    "# Rename columns\n",
    "studios_df = studios_df.rename(columns={'id': 'movie_id'})\n",
    "print(f\"Studios dataset columns: {', '.join(studios_df.columns)}\")"
   ],
   "outputs": [],
   "execution_count": null
  },
  {
   "cell_type": "code",
   "id": "8595684e442f49a9",
   "metadata": {},
   "source": [
    "# Check for null values\n",
    "studios_df.isna().sum()"
   ],
   "outputs": [],
   "execution_count": null
  },
  {
   "cell_type": "code",
   "id": "b42b2747620c49e5",
   "metadata": {},
   "source": [
    "# Check for duplicate rows\n",
    "print(f\"There are {studios_df.duplicated().sum()} duplicated rows\")\n",
    "studios_df[studios_df.duplicated(keep=False)].head(6)"
   ],
   "outputs": [],
   "execution_count": null
  },
  {
   "cell_type": "code",
   "id": "adab9f0cfe764439",
   "metadata": {},
   "source": [
    "studios_df = studios_df.dropna()\n",
    "studios_df = studios_df.drop_duplicates()"
   ],
   "outputs": [],
   "execution_count": null
  },
  {
   "metadata": {},
   "cell_type": "markdown",
   "source": "We can safely remove the null and the duplicates values from the dataset, as they were not meaningful and irrelevant",
   "id": "9fd5d15b2326c93d"
  },
  {
   "cell_type": "markdown",
   "id": "c213f2e412124103",
   "metadata": {},
   "source": [
    "### 3. Final Results\n",
    "The **studios** dataset is connected to the movies dataset through the 'movie_id' column. It lists all the studios involved in each movie, allowing a movie to be associated with multiple studios and a studio to collaborate on multiple movies."
   ]
  },
  {
   "cell_type": "code",
   "id": "6bbbdea78e8941f9",
   "metadata": {},
   "source": [
    "studios_df.head()"
   ],
   "outputs": [],
   "execution_count": null
  },
  {
   "cell_type": "code",
   "id": "4a6bfeaf84401a35",
   "metadata": {},
   "source": [
    "studios_df.shape"
   ],
   "outputs": [],
   "execution_count": null
  },
  {
   "cell_type": "code",
   "id": "9b98ee93498c1674",
   "metadata": {},
   "source": [
    "if PRINT_CSV:\n",
    "    studios_df.to_csv('clean_datasets/studios.csv')\n",
    "\n",
    "studios_df = None"
   ],
   "outputs": [],
   "execution_count": null
  },
  {
   "cell_type": "markdown",
   "id": "9a6b57c450f01c0f",
   "metadata": {},
   "source": [
    "## Themes"
   ]
  },
  {
   "cell_type": "code",
   "id": "fbe022bdfd8b0a04",
   "metadata": {},
   "source": [
    "# Import 'themes.csv' dataset\n",
    "themes_df = pd.read_csv('datasets/themes.csv')"
   ],
   "outputs": [],
   "execution_count": null
  },
  {
   "cell_type": "markdown",
   "id": "46de0138c423204b",
   "metadata": {},
   "source": [
    "### 1. Data Understanding"
   ]
  },
  {
   "cell_type": "code",
   "id": "69df8bf8d4af08b6",
   "metadata": {},
   "source": [
    "themes_df.head()"
   ],
   "outputs": [],
   "execution_count": null
  },
  {
   "cell_type": "code",
   "id": "ae680921860473c0",
   "metadata": {},
   "source": [
    "themes_df.shape"
   ],
   "outputs": [],
   "execution_count": null
  },
  {
   "cell_type": "code",
   "id": "f936ffb1de2fe4bd",
   "metadata": {},
   "source": [
    "themes_df.dtypes"
   ],
   "outputs": [],
   "execution_count": null
  },
  {
   "cell_type": "markdown",
   "id": "711bfc246d672b30",
   "metadata": {},
   "source": [
    "### 2. Data Cleaning"
   ]
  },
  {
   "cell_type": "code",
   "id": "2d304eca9061e808",
   "metadata": {},
   "source": [
    "# Rename columns\n",
    "themes_df = themes_df.rename(columns={'id': 'movie_id'})\n",
    "print(f\"Themes dataset columns: {', '.join(themes_df.columns)}\")"
   ],
   "outputs": [],
   "execution_count": null
  },
  {
   "cell_type": "code",
   "id": "2084d91873e547a3",
   "metadata": {},
   "source": [
    "# Check for null values\n",
    "themes_df.isna().sum()"
   ],
   "outputs": [],
   "execution_count": null
  },
  {
   "cell_type": "code",
   "id": "ab2b77ce8ed56bcd",
   "metadata": {},
   "source": [
    "# Check for duplicate rows\n",
    "print(f\"There are {themes_df.duplicated().sum()} duplicated rows\")"
   ],
   "outputs": [],
   "execution_count": null
  },
  {
   "cell_type": "code",
   "id": "6fa16b169f6fb01d",
   "metadata": {},
   "source": [
    "# Check for invalid themes\n",
    "themes_df['theme'].value_counts().head(10)"
   ],
   "outputs": [],
   "execution_count": null
  },
  {
   "cell_type": "markdown",
   "id": "453e5db4ff2c89dc",
   "metadata": {},
   "source": [
    "### 3. Final Results\n",
    "The **themes** dataset is linked to the movies dataset via the 'movie_id' column. It describes a movie with few, standard phrases."
   ]
  },
  {
   "cell_type": "code",
   "id": "3acdf4455cdc7109",
   "metadata": {},
   "source": [
    "themes_df.head()"
   ],
   "outputs": [],
   "execution_count": null
  },
  {
   "cell_type": "code",
   "id": "53b93e65c67cf8a2",
   "metadata": {},
   "source": [
    "themes_df.shape"
   ],
   "outputs": [],
   "execution_count": null
  },
  {
   "metadata": {},
   "cell_type": "code",
   "source": [
    "if PRINT_CSV:\n",
    "    themes_df.to_csv('clean_datasets/themes.csv')\n",
    "    \n",
    "themes_df = None"
   ],
   "id": "e78a6c711c1fac7b",
   "outputs": [],
   "execution_count": null
  },
  {
   "cell_type": "markdown",
   "id": "8239b51a28a377ba",
   "metadata": {},
   "source": [
    "## The Oscar Awards"
   ]
  },
  {
   "cell_type": "code",
   "id": "90562049b2b05eb1",
   "metadata": {},
   "source": [
    "# Import 'the_oscar_awards.csv' dataset\n",
    "oscars_df = pd.read_csv('datasets/the_oscar_awards.csv')"
   ],
   "outputs": [],
   "execution_count": null
  },
  {
   "cell_type": "markdown",
   "id": "18f64da01e11d138",
   "metadata": {},
   "source": [
    "### 1. Data Understanding"
   ]
  },
  {
   "cell_type": "code",
   "id": "29e89700e94bb439",
   "metadata": {},
   "source": [
    "oscars_df.head()"
   ],
   "outputs": [],
   "execution_count": null
  },
  {
   "cell_type": "code",
   "id": "efceb3c1ee68ef58",
   "metadata": {},
   "source": [
    "oscars_df.shape"
   ],
   "outputs": [],
   "execution_count": null
  },
  {
   "cell_type": "code",
   "id": "36ae83bf8011e711",
   "metadata": {},
   "source": [
    "oscars_df.dtypes"
   ],
   "outputs": [],
   "execution_count": null
  },
  {
   "cell_type": "markdown",
   "id": "8716fff4dd5ada25",
   "metadata": {},
   "source": [
    "### 2. Data Cleaning"
   ]
  },
  {
   "cell_type": "code",
   "id": "d93f7491d1b2ef61",
   "metadata": {},
   "source": [
    "# Rename columns\n",
    "oscars_df = oscars_df.rename(columns={'name': 'nominee_name', 'film': 'nominated_film', 'winner': 'is_winner'})\n",
    "print(f\"Oscar dataset columns: {', '.join(oscars_df.columns)}\")"
   ],
   "outputs": [],
   "execution_count": null
  },
  {
   "cell_type": "code",
   "id": "307b81116fc86d32",
   "metadata": {},
   "source": [
    "# Check for null values\n",
    "oscars_df.isna().sum()"
   ],
   "outputs": [],
   "execution_count": null
  },
  {
   "cell_type": "code",
   "id": "17006996a9aa1b24",
   "metadata": {},
   "source": [
    "# Check for duplicate rows\n",
    "print(f\"There are {oscars_df.duplicated().sum()} duplicated rows\")\n",
    "oscars_df[oscars_df.duplicated(keep=False)].head(6)"
   ],
   "outputs": [],
   "execution_count": null
  },
  {
   "cell_type": "markdown",
   "id": "2ca1f9a0799048b9",
   "metadata": {},
   "source": [
    "Duplicates are retained because, in music categories, the same artists can receive identical nominations for different songs, with the song titles not specified in the dataset"
   ]
  },
  {
   "metadata": {},
   "cell_type": "code",
   "source": [
    "# Check the consistency between year_film and year_ceremony\n",
    "inconsistent_years_df = oscars_df[oscars_df['year_film'] > oscars_df['year_ceremony']]\n",
    "\n",
    "if inconsistent_years_df.empty:\n",
    "    print(\"The years fields are always consistent (ceremony year always greater than year film)\")\n",
    "else:\n",
    "    inconsistent_years_df.head()"
   ],
   "id": "5d29d2335bbf5f57",
   "outputs": [],
   "execution_count": null
  },
  {
   "metadata": {},
   "cell_type": "code",
   "source": [
    "# Check for multiple winner possibilities\n",
    "from utils.utils import special_oscar_awards\n",
    "\n",
    "# Exclude rows where the 'category' is in the special_oscar_awards list\n",
    "filtered_oscars = oscars_df[~oscars_df['category'].isin(special_oscar_awards)]\n",
    "\n",
    "# Find groups with more than one winner\n",
    "multiple_winners = filtered_oscars.groupby(['year_ceremony', 'category']).filter(\n",
    "    lambda x: x['is_winner'].sum() > 1\n",
    ")\n",
    "\n",
    "# Keep only the rows where 'is_winner' is True\n",
    "multiple_winners = multiple_winners[multiple_winners['is_winner'] == True]\n",
    "multiple_winners.head()"
   ],
   "id": "741287fc5092aa70",
   "outputs": [],
   "execution_count": null
  },
  {
   "metadata": {},
   "cell_type": "markdown",
   "source": [
    "Displaying multiple winners (including draws), as we want to keep all winners in case of a draw in the same category (1969 Best Actress, or 1932 Best Actor). <br>\n",
    "We decided to exclude some special awards, like the Jean Hersholt Humanitarian Award, because they are often less relevant to films and typically have multiple recipients. These awards are not traditional competitive awards but rather honorary recognitions."
   ],
   "id": "57ee0c65ca97bccc"
  },
  {
   "cell_type": "code",
   "id": "846347b46852640",
   "metadata": {},
   "source": [
    "# Setting the correct type for columns\n",
    "oscars_df['category'] = oscars_df['category'].astype('category')"
   ],
   "outputs": [],
   "execution_count": null
  },
  {
   "cell_type": "markdown",
   "id": "3e16e3bd7b373322",
   "metadata": {},
   "source": [
    "### 3. Final Results"
   ]
  },
  {
   "cell_type": "code",
   "id": "ac992bfef9078cde",
   "metadata": {},
   "source": [
    "oscars_df.head()"
   ],
   "outputs": [],
   "execution_count": null
  },
  {
   "cell_type": "code",
   "id": "70d9b4555f7f7027",
   "metadata": {},
   "source": [
    "oscars_df.shape"
   ],
   "outputs": [],
   "execution_count": null
  },
  {
   "cell_type": "code",
   "id": "87705a0681addee4",
   "metadata": {},
   "source": [
    "if PRINT_CSV:\n",
    "    oscars_df.to_csv('clean_datasets/the_oscar_awards.csv')\n",
    "\n",
    "oscars_df = None"
   ],
   "outputs": [],
   "execution_count": null
  },
  {
   "cell_type": "markdown",
   "id": "9987f1ea66215e6e",
   "metadata": {},
   "source": [
    "## Rotten Tomatoes Reviews"
   ]
  },
  {
   "cell_type": "code",
   "id": "a034e62862b0698",
   "metadata": {},
   "source": [
    "# Import 'rotten_tomatoes_reviews' dataset\n",
    "reviews_df = pd.read_csv('datasets/rotten_tomatoes_reviews.csv')"
   ],
   "outputs": [],
   "execution_count": null
  },
  {
   "cell_type": "markdown",
   "id": "235db8f4bf98f800",
   "metadata": {},
   "source": [
    "### 1. Data Understanding"
   ]
  },
  {
   "cell_type": "code",
   "id": "e959042f66953cdb",
   "metadata": {},
   "source": [
    "reviews_df.head()"
   ],
   "outputs": [],
   "execution_count": null
  },
  {
   "cell_type": "code",
   "id": "f729775e5075501",
   "metadata": {},
   "source": [
    "reviews_df.shape"
   ],
   "outputs": [],
   "execution_count": null
  },
  {
   "cell_type": "code",
   "id": "40ad7ccbbcf0d1ba",
   "metadata": {},
   "source": [
    "reviews_df.dtypes"
   ],
   "outputs": [],
   "execution_count": null
  },
  {
   "cell_type": "markdown",
   "id": "a74ea906fcf8b827",
   "metadata": {},
   "source": [
    "### 2. Data Cleaning"
   ]
  },
  {
   "cell_type": "code",
   "id": "f35d276353417a37",
   "metadata": {},
   "source": [
    "# Rename columns\n",
    "reviews_df = reviews_df.rename(columns={'review_type': 'type', 'review_score': 'score', 'review_date': 'date', 'review_content': 'content', 'top_critic': 'is_top_critic'})\n",
    "print(f\"Rotten Tomatoes Reviews dataset columns: {', '.join(reviews_df.columns)}\")"
   ],
   "outputs": [],
   "execution_count": null
  },
  {
   "cell_type": "code",
   "id": "507ec35f28e248b9",
   "metadata": {},
   "source": [
    "# Check for null values\n",
    "reviews_df.isna().sum()"
   ],
   "outputs": [],
   "execution_count": null
  },
  {
   "cell_type": "markdown",
   "id": "43d8e22000f6a9b5",
   "metadata": {},
   "source": [
    "Checking on Rotten Tomatoes website is fine having the publisher and critic name and content as null values."
   ]
  },
  {
   "cell_type": "code",
   "id": "957a4ddfb06f5615",
   "metadata": {},
   "source": [
    "# Check for duplicate rows\n",
    "filtered_df = reviews_df[reviews_df['critic_name'].notna()]\n",
    "filtered_df = filtered_df[filtered_df.duplicated(keep=False)]\n",
    "\n",
    "reviews_df = reviews_df.drop(reviews_df[reviews_df['critic_name'].isna()].index)\n",
    "\n",
    "filtered_df"
   ],
   "outputs": [],
   "execution_count": null
  },
  {
   "cell_type": "markdown",
   "id": "cb9315e8f8138eeb",
   "metadata": {},
   "source": [
    "There are many duplicate reviews in the datasets. Looking closely is actually possible to have more reviews for the same movie that have the same publisher and with the author not specified. Those rows will be excluded from the total count of duplicate rows and will not be removed. All other duplicate rows will be removed."
   ]
  },
  {
   "cell_type": "code",
   "id": "2291b484257ea9d3",
   "metadata": {},
   "source": [
    "# Setting the correct type for columns\n",
    "reviews_df['type'] = reviews_df['type'].astype('category')\n",
    "reviews_df['date'] = pd.to_datetime(reviews_df['date'], format='%Y-%m-%d')"
   ],
   "outputs": [],
   "execution_count": null
  },
  {
   "cell_type": "markdown",
   "id": "7ab64ae4b73713b4",
   "metadata": {},
   "source": [
    "### 3. Final Result"
   ]
  },
  {
   "cell_type": "code",
   "id": "2ccca9ccb161d93",
   "metadata": {},
   "source": [
    "reviews_df.head()"
   ],
   "outputs": [],
   "execution_count": null
  },
  {
   "cell_type": "code",
   "id": "86d8854260261307",
   "metadata": {},
   "source": [
    "reviews_df.shape"
   ],
   "outputs": [],
   "execution_count": null
  },
  {
   "cell_type": "code",
   "id": "a1f0ab1613f14adf",
   "metadata": {},
   "source": [
    "# Print clean dataset to new csv file\n",
    "if PRINT_CSV:\n",
    "    reviews_df.to_csv('clean_datasets/reviews.csv')\n",
    "\n",
    "reviews_df = None"
   ],
   "outputs": [],
   "execution_count": null
  }
 ],
 "metadata": {
  "kernelspec": {
   "display_name": "Python 3 (ipykernel)",
   "language": "python",
   "name": "python3"
  },
  "language_info": {
   "codemirror_mode": {
    "name": "ipython",
    "version": 3
   },
   "file_extension": ".py",
   "mimetype": "text/x-python",
   "name": "python",
   "nbconvert_exporter": "python",
   "pygments_lexer": "ipython3",
   "version": "3.13.1"
  }
 },
 "nbformat": 4,
 "nbformat_minor": 5
}
