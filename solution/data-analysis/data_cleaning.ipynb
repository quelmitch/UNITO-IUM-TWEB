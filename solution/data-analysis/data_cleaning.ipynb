{
 "cells": [
  {
   "cell_type": "markdown",
   "id": "1ada8e0800af80f",
   "metadata": {},
   "source": [
    "# Data Cleaning\n",
    "The cleaning process is organized into sections, each corresponding to a different dataset (`.csv` file). Each section includes the following steps:\n",
    "\n",
    "1. **Data Understanding**: Initial exploration of the dataset.\n",
    "2. **Data Cleaning**: Handling of missing values (NaN), removal of duplicates, validating foreign keys to identify and manage invalid references, setting correct data types, and renaming columns. <br>\n",
    "   *(Optional)* **Deep Clean**: Custom cleaning steps applied to a specific dataset, if necessary.\n",
    "3. **Final Result**: Displays the cleaned dataset and saves it to a new `.csv` file.\n",
    "\n",
    "All the datasets combined have a total size of ~1Gb and can be all uploaded in memory at the same time on almost every PC.\n",
    "\n",
    "First, import the necessary libraries and set up any required options."
   ]
  },
  {
   "metadata": {},
   "cell_type": "code",
   "source": [
    "import pandas as pd\n",
    "import numpy as np\n",
    "\n",
    "from utils.utils import find_matching, summarize_nulls\n",
    "\n",
    "# Set to True to print cleaned data into new csv\n",
    "PRINT_CSV = False"
   ],
   "id": "23a951721fbfd29f",
   "outputs": [],
   "execution_count": null
  },
  {
   "cell_type": "markdown",
   "id": "3535d2e877d218a5",
   "metadata": {},
   "source": [
    "## Movies"
   ]
  },
  {
   "cell_type": "code",
   "id": "bfa523a3d71aa334",
   "metadata": {},
   "source": [
    "# Import 'movies.csv' dataset\n",
    "movies_df = pd.read_csv('datasets/movies.csv')"
   ],
   "outputs": [],
   "execution_count": null
  },
  {
   "cell_type": "markdown",
   "id": "91a7f5cc08f506b1",
   "metadata": {},
   "source": [
    "### 1. Data Understanding"
   ]
  },
  {
   "cell_type": "code",
   "id": "3fdf6136a09202bf",
   "metadata": {},
   "source": [
    "movies_df.head()"
   ],
   "outputs": [],
   "execution_count": null
  },
  {
   "cell_type": "code",
   "id": "f25edf3b61586308",
   "metadata": {},
   "source": [
    "movies_df.shape"
   ],
   "outputs": [],
   "execution_count": null
  },
  {
   "cell_type": "code",
   "id": "66353feb2d15e0c1",
   "metadata": {},
   "source": [
    "movies_df.dtypes"
   ],
   "outputs": [],
   "execution_count": null
  },
  {
   "cell_type": "markdown",
   "id": "24564dc69f48117c",
   "metadata": {},
   "source": [
    "### 2. Data Cleaning"
   ]
  },
  {
   "cell_type": "code",
   "id": "92ec1ff74b506e2f",
   "metadata": {},
   "source": [
    "# Rename columns\n",
    "movies_df = movies_df.rename(columns={'name': 'title', 'minute': 'runtime', 'date': 'release_year'})\n",
    "print(f\"Movies dataset columns: {', '.join(movies_df.columns)}\")"
   ],
   "outputs": [],
   "execution_count": null
  },
  {
   "metadata": {},
   "cell_type": "code",
   "source": [
    "# Check for null values\n",
    "summarize_nulls(movies_df)"
   ],
   "id": "dfa40b5f005ecd3e",
   "outputs": [],
   "execution_count": null
  },
  {
   "cell_type": "markdown",
   "id": "5d60bd3bbbcdf43",
   "metadata": {},
   "source": [
    "There are null values in most of the columns.\n",
    "The fields '**release_year**', '**tagline**', '**description**', '**runtime**' and '**rating**' don't cause any problems so we'll keep them, but the few movies that are without a title can't be used and will be removed."
   ]
  },
  {
   "cell_type": "code",
   "id": "e64b09d17cd6ac6f",
   "metadata": {},
   "source": [
    "# Removing rows with null title\n",
    "no_title = movies_df[movies_df['title'].isna()]\n",
    "movies_df = movies_df.dropna(subset=['title'])\n",
    "\n",
    "print(\"Movies dataset without title:\")\n",
    "no_title.head()"
   ],
   "outputs": [],
   "execution_count": null
  },
  {
   "cell_type": "code",
   "id": "709a95587abbdd3e",
   "metadata": {},
   "source": [
    "# Check for duplicate rows\n",
    "print(f\"There are {movies_df.duplicated().sum()} duplicated rows\")"
   ],
   "outputs": [],
   "execution_count": null
  },
  {
   "cell_type": "code",
   "id": "b859e3726529609e",
   "metadata": {},
   "source": [
    "# Setting the correct type for columns\n",
    "movies_df['release_year'] = movies_df['release_year'].astype('Int64')\n",
    "movies_df['runtime'] = movies_df['runtime'].astype('Int64')"
   ],
   "outputs": [],
   "execution_count": null
  },
  {
   "cell_type": "code",
   "id": "903dbbf0e5d08f7c",
   "metadata": {},
   "source": [
    "# Check if 'id' column has unique values\n",
    "print(f\"'id' duplicates: {movies_df[movies_df['id'].duplicated()].shape[0]}\")\n",
    "movies_df = movies_df.set_index(\"id\")"
   ],
   "outputs": [],
   "execution_count": null
  },
  {
   "cell_type": "markdown",
   "id": "12ecbd6bd4da8000",
   "metadata": {},
   "source": [
    "The '**id**' field is the unique identifier of a movie, so it's been set as the index."
   ]
  },
  {
   "cell_type": "markdown",
   "id": "4de852ea61ae6f48",
   "metadata": {},
   "source": [
    "#### Deep Clean\n",
    "Let's look inside some columns to see most frequent values:"
   ]
  },
  {
   "cell_type": "code",
   "id": "207fa8d6b074b053",
   "metadata": {},
   "source": [
    "movies_df['description'].value_counts().head(10)"
   ],
   "outputs": [],
   "execution_count": null
  },
  {
   "cell_type": "markdown",
   "id": "a74a60d521aeb637",
   "metadata": {},
   "source": [
    "Many descriptions seem to have a description like \"Plot Unavailable\" or similar instead of a null value. The other fields seem fine.<br>\n",
    "Let's try to fix as many as possible (fixing only the most frequent variation, not 100% accurate)."
   ]
  },
  {
   "cell_type": "code",
   "id": "29ea2050d5268983",
   "metadata": {},
   "source": [
    "from utils.utils import null_movie_description_keywords\n",
    "\n",
    "# Find null description variation\n",
    "matches = find_matching(movies_df, 'description', null_movie_description_keywords, max_length=30)\n",
    "\n",
    "# Fill with NaN values the result obtained\n",
    "movies_df.loc[matches.index, ['description']] = np.nan\n",
    "\n",
    "# Manual check to be sure to not overwrite real descriptions\n",
    "matches['description'].value_counts().head(15)"
   ],
   "outputs": [],
   "execution_count": null
  },
  {
   "cell_type": "markdown",
   "id": "a9a20b8e75e66e6b",
   "metadata": {},
   "source": [
    "### 3. Final Result\n",
    "All datasets reference the **movies** dataset. A movie is uniquely identified by his **id** and a movie id has multiple occurrences in other datasets. A movie has a title, a tagline, a description, the release year, the duration and a rating. Only the title is mandatory and all the other attributes could be missing."
   ]
  },
  {
   "cell_type": "code",
   "id": "35481461787f2554",
   "metadata": {},
   "source": [
    "movies_df.head()"
   ],
   "outputs": [],
   "execution_count": null
  },
  {
   "cell_type": "code",
   "id": "f54fa1742a832d2d",
   "metadata": {},
   "source": [
    "movies_df.shape"
   ],
   "outputs": [],
   "execution_count": null
  },
  {
   "cell_type": "markdown",
   "id": "8f0b9a430d101b37",
   "metadata": {},
   "source": [
    "## Languages"
   ]
  },
  {
   "cell_type": "code",
   "id": "ece358f79ead413e",
   "metadata": {},
   "source": [
    "# Import 'languages.csv' dataset\n",
    "lang_df = pd.read_csv('datasets/languages.csv')"
   ],
   "outputs": [],
   "execution_count": null
  },
  {
   "cell_type": "markdown",
   "id": "fc0e51ab4b81515f",
   "metadata": {},
   "source": [
    "### 1. Data Understanding"
   ]
  },
  {
   "cell_type": "code",
   "id": "fd8e821868e23834",
   "metadata": {},
   "source": [
    "lang_df.head()"
   ],
   "outputs": [],
   "execution_count": null
  },
  {
   "cell_type": "code",
   "id": "4523d755552d193",
   "metadata": {},
   "source": [
    "lang_df.shape"
   ],
   "outputs": [],
   "execution_count": null
  },
  {
   "cell_type": "code",
   "id": "a75cc482a4a9e58f",
   "metadata": {},
   "source": [
    "lang_df.dtypes"
   ],
   "outputs": [],
   "execution_count": null
  },
  {
   "cell_type": "markdown",
   "id": "df4400a39ba89b3d",
   "metadata": {},
   "source": [
    "### 2. Data Cleaning"
   ]
  },
  {
   "cell_type": "code",
   "id": "567cb4904bd42350",
   "metadata": {},
   "source": [
    "# Rename columns\n",
    "lang_df = lang_df.rename(columns={'id': 'movie_id'})\n",
    "print(f\"Languages dataset columns: {', '.join(lang_df.columns)}\")"
   ],
   "outputs": [],
   "execution_count": null
  },
  {
   "cell_type": "code",
   "id": "e9beb77f2bec1fd8",
   "metadata": {},
   "source": [
    "# Check for null values\n",
    "summarize_nulls(lang_df)"
   ],
   "outputs": [],
   "execution_count": null
  },
  {
   "cell_type": "code",
   "id": "df1df599b18fb36d",
   "metadata": {},
   "source": [
    "# Check for duplicate rows\n",
    "print(f\"There are {lang_df.duplicated().sum()} duplicated rows\")"
   ],
   "outputs": [],
   "execution_count": null
  },
  {
   "metadata": {},
   "cell_type": "code",
   "source": [
    "# Identifying invalid foreign keys\n",
    "invalid_values = lang_df[~lang_df['movie_id'].isin(movies_df.index)]\n",
    "\n",
    "print(f\"There were {len(invalid_values)} rows with invalid foreign keys\")\n",
    "\n",
    "# Removing invalid values\n",
    "lang_df = lang_df.drop(invalid_values.index)\n",
    "\n",
    "invalid_values.head()"
   ],
   "id": "9651d9590e5479db",
   "outputs": [],
   "execution_count": null
  },
  {
   "cell_type": "code",
   "id": "9f395fe64e995870",
   "metadata": {},
   "source": [
    "# Setting the category data type for column 'type'\n",
    "print(f\"types: {', '.join(lang_df['type'].unique())}\")\n",
    "lang_df['type'] = lang_df['type'].astype('category')"
   ],
   "outputs": [],
   "execution_count": null
  },
  {
   "cell_type": "markdown",
   "id": "4a98b5d55e778524",
   "metadata": {},
   "source": "The `type` field has only 3 possible values, so we can set it as a categorical type."
  },
  {
   "cell_type": "markdown",
   "id": "ca1422c0332601d4",
   "metadata": {},
   "source": [
    "### 3. Final Result\n",
    "The languages dataset is directly linked to the movies dataset through the `movie_id` column. There are more rows in the languages dataset than in the movies dataset because a movie can be associated with multiple languages. Additionally, not all movies have a language defined. <br>\n",
    "A language associated with a movie can fall into one or more of the following categories:\n",
    "- *Language*: Refers to a generic language associated with the movie, typically used when there is a single dominant language.\n",
    "- *Primary Language*: The main or original language of the movie.\n",
    "- *Spoken Language*: All the languages actually used in the movie's dialogues."
   ]
  },
  {
   "cell_type": "code",
   "id": "2d753d7a649a7bf0",
   "metadata": {},
   "source": [
    "lang_df.head()"
   ],
   "outputs": [],
   "execution_count": null
  },
  {
   "cell_type": "code",
   "id": "6d7a9b93f2a82197",
   "metadata": {},
   "source": [
    "lang_df.shape"
   ],
   "outputs": [],
   "execution_count": null
  },
  {
   "metadata": {},
   "cell_type": "markdown",
   "source": "## Actors",
   "id": "9bf3064bc8623942"
  },
  {
   "metadata": {},
   "cell_type": "code",
   "source": [
    "# Import 'actors.csv' dataset\n",
    "actors_df = pd.read_csv('datasets/actors.csv')"
   ],
   "id": "6a0354ba1a003892",
   "outputs": [],
   "execution_count": null
  },
  {
   "metadata": {},
   "cell_type": "markdown",
   "source": "### 1. Data Understanding",
   "id": "2ee737e86929a833"
  },
  {
   "metadata": {},
   "cell_type": "code",
   "source": "actors_df.head()",
   "id": "9a9128792094f433",
   "outputs": [],
   "execution_count": null
  },
  {
   "cell_type": "code",
   "id": "1db6e7dafedf88df",
   "metadata": {},
   "source": "actors_df.shape",
   "outputs": [],
   "execution_count": null
  },
  {
   "cell_type": "code",
   "id": "a999b36a00c4f0c7",
   "metadata": {},
   "source": "actors_df.dtypes",
   "outputs": [],
   "execution_count": null
  },
  {
   "metadata": {},
   "cell_type": "markdown",
   "source": "### 2. Data Cleaning",
   "id": "4f0f50dc944f6fc8"
  },
  {
   "metadata": {},
   "cell_type": "code",
   "source": [
    "# Rename columns\n",
    "actors_df = actors_df.rename(columns={'id': 'movie_id'})\n",
    "print(f\"Actors dataset columns: {', '.join(actors_df.columns)}\")"
   ],
   "id": "6430f51f6a75f330",
   "outputs": [],
   "execution_count": null
  },
  {
   "cell_type": "code",
   "id": "9187debc4d1ad51e",
   "metadata": {},
   "source": [
    "# Check for null values\n",
    "summarize_nulls(actors_df)"
   ],
   "outputs": [],
   "execution_count": null
  },
  {
   "metadata": {},
   "cell_type": "markdown",
   "source": "Despite the high number of null values in the `role` field, the rows will be maintained because they still contain information about the actor's `name`. However, an actor without a name is unusable, so the corresponding rows will be removed.",
   "id": "6c07dfb872bec68b"
  },
  {
   "metadata": {},
   "cell_type": "code",
   "source": [
    "# Removing actors without name\n",
    "no_name = actors_df[actors_df['name'].isna()]\n",
    "actors_df = actors_df.dropna(subset=['name'])\n",
    "no_name"
   ],
   "id": "6c5335a514fd12ac",
   "outputs": [],
   "execution_count": null
  },
  {
   "cell_type": "code",
   "id": "deb18315a671c8ca",
   "metadata": {},
   "source": [
    "# Check for duplicate rows\n",
    "print(f\"There are {actors_df.duplicated().sum()} duplicated rows\")\n",
    "actors_duplicates = actors_df[actors_df.duplicated(keep=False)].head(6)\n",
    "\n",
    "# Dropping the duplicates\n",
    "actors_df = actors_df.drop_duplicates()\n",
    "\n",
    "actors_duplicates"
   ],
   "outputs": [],
   "execution_count": null
  },
  {
   "metadata": {},
   "cell_type": "markdown",
   "source": "Completely duplicated rows are clearly errors and can be removed.",
   "id": "c5e1e46b310a3bde"
  },
  {
   "metadata": {},
   "cell_type": "code",
   "source": [
    "# Identifying invalid foreign keys\n",
    "invalid_values = actors_df[~actors_df['movie_id'].isin(movies_df.index)]\n",
    "\n",
    "print(f\"There were {len(invalid_values)} rows with invalid foreign keys\")\n",
    "\n",
    "# Removing invalid values\n",
    "actors_df = actors_df.drop(invalid_values.index)\n",
    "\n",
    "invalid_values.head()"
   ],
   "id": "768a71788af70797",
   "outputs": [],
   "execution_count": null
  },
  {
   "metadata": {},
   "cell_type": "markdown",
   "source": "#### Deep Clean",
   "id": "3d6b9eb749421fa3"
  },
  {
   "metadata": {},
   "cell_type": "code",
   "source": "actors_df['role'].value_counts().head(10)",
   "id": "94c807071b2a6ba7",
   "outputs": [],
   "execution_count": null
  },
  {
   "metadata": {},
   "cell_type": "markdown",
   "source": "The role column contains many variations of the 'Self' role. Let's examine this more closely.",
   "id": "c283a206af28fe01"
  },
  {
   "metadata": {},
   "cell_type": "code",
   "source": [
    "from utils.utils import self_actor_role_keywords\n",
    "\n",
    "# Find self variation\n",
    "matches = find_matching(actors_df, 'role', self_actor_role_keywords)\n",
    "print(f\"Rows contains 'self' variations: {matches['role'].shape[0]}\")\n",
    "matches['role'].value_counts().head()"
   ],
   "id": "a79fddf5cb027c68",
   "outputs": [],
   "execution_count": null
  },
  {
   "metadata": {},
   "cell_type": "markdown",
   "source": "There are over 300,000 values similar to 'Self', but many of them also contain additional information, such as 'Self - Presenter' or 'Self - Guest'. Overwriting all these values could lead to a loss of information, so they won't be overwritten in the cleaned dataset. However, they may be modified when visualizing the data for statistical purposes.",
   "id": "4a03dfa2819305ab"
  },
  {
   "metadata": {},
   "cell_type": "code",
   "source": [
    "# Reset indexing after removing rows\n",
    "actors_df = actors_df.reset_index(drop=True)"
   ],
   "id": "e4282914c42bb2a",
   "outputs": [],
   "execution_count": null
  },
  {
   "metadata": {},
   "cell_type": "markdown",
   "source": [
    "### 3. Final Result\n",
    "The actors dataset is directly linked to the movies dataset through the `movie_id` column and contains nearly six times the number of rows as the movies dataset. Additionally, a movie may have no actors associated with it. <br>\n",
    "The same actor can appear multiple times in the dataset if they feature in more than one movie. <br>\n",
    "An actor is identified solely by their full name, stored in a single field.\n"
   ],
   "id": "563dedd21501ece"
  },
  {
   "metadata": {},
   "cell_type": "code",
   "source": "actors_df.head()",
   "id": "4a2d9fb39fd684d",
   "outputs": [],
   "execution_count": null
  },
  {
   "cell_type": "code",
   "id": "8b17166d2b8653e0",
   "metadata": {},
   "source": "actors_df.shape",
   "outputs": [],
   "execution_count": null
  },
  {
   "metadata": {},
   "cell_type": "markdown",
   "source": "## Countries",
   "id": "f1d9363444a67cae"
  },
  {
   "metadata": {},
   "cell_type": "code",
   "source": [
    "# Import 'countries.csv' dataset\n",
    "countries_df = pd.read_csv('datasets/countries.csv')"
   ],
   "id": "5e192245cdc9b500",
   "outputs": [],
   "execution_count": null
  },
  {
   "metadata": {},
   "cell_type": "markdown",
   "source": "### 1. Data Understanding",
   "id": "e2969b68d9823aab"
  },
  {
   "metadata": {},
   "cell_type": "code",
   "source": "countries_df.head()",
   "id": "7815e5b02dc6baef",
   "outputs": [],
   "execution_count": null
  },
  {
   "cell_type": "code",
   "id": "c10d0df0feda424d",
   "metadata": {},
   "source": "countries_df.shape",
   "outputs": [],
   "execution_count": null
  },
  {
   "cell_type": "code",
   "id": "68a498aed1f33a22",
   "metadata": {},
   "source": "countries_df.dtypes",
   "outputs": [],
   "execution_count": null
  },
  {
   "metadata": {},
   "cell_type": "markdown",
   "source": "### 2. Data Cleaning",
   "id": "5036eeb19736e889"
  },
  {
   "metadata": {},
   "cell_type": "code",
   "source": [
    "# Rename columns\n",
    "countries_df = countries_df.rename(columns={'id': 'movie_id'})\n",
    "print(f\"Countries dataset columns: {', '.join(countries_df.columns)}\")"
   ],
   "id": "5fac7f129517a8a8",
   "outputs": [],
   "execution_count": null
  },
  {
   "cell_type": "code",
   "id": "55f18d2a971d436a",
   "metadata": {},
   "source": [
    "# Check for null values\n",
    "summarize_nulls(countries_df)"
   ],
   "outputs": [],
   "execution_count": null
  },
  {
   "metadata": {},
   "cell_type": "code",
   "source": [
    "# Identifying invalid foreign keys\n",
    "invalid_values = countries_df[~countries_df['movie_id'].isin(movies_df.index)]\n",
    "\n",
    "print(f\"There were {len(invalid_values)} rows with invalid foreign keys\")\n",
    "\n",
    "# Removing invalid values\n",
    "countries_df = countries_df.drop(invalid_values.index)\n",
    "\n",
    "invalid_values.head()"
   ],
   "id": "6ae1f9b89daa2e50",
   "outputs": [],
   "execution_count": null
  },
  {
   "metadata": {},
   "cell_type": "code",
   "source": [
    "# Check for duplicate rows\n",
    "print(f\"There are {countries_df.duplicated().sum()} duplicated rows\")"
   ],
   "id": "3908eb1065f2dd91",
   "outputs": [],
   "execution_count": null
  },
  {
   "metadata": {},
   "cell_type": "markdown",
   "source": [
    "### 3. Final Results\n",
    "The **countries** dataset is directly connected to the movies dataset through the 'movie_id' column. This dataset contains all the countries where the movies were produced.\n"
   ],
   "id": "8fc0403ab681ebc4"
  },
  {
   "metadata": {},
   "cell_type": "code",
   "source": "countries_df.head()",
   "id": "aaf9ca571009ee3c",
   "outputs": [],
   "execution_count": null
  },
  {
   "cell_type": "code",
   "id": "fe6488ea4524f638",
   "metadata": {},
   "source": "countries_df.shape",
   "outputs": [],
   "execution_count": null
  },
  {
   "metadata": {},
   "cell_type": "markdown",
   "source": "## Crew",
   "id": "1122f4499c98b73b"
  },
  {
   "metadata": {},
   "cell_type": "code",
   "source": [
    "# Import 'crew.csv' dataset\n",
    "crew_df = pd.read_csv('datasets/crew.csv')"
   ],
   "id": "e1d3a171d015fcb9",
   "outputs": [],
   "execution_count": null
  },
  {
   "metadata": {},
   "cell_type": "markdown",
   "source": "### 1. Data Understanding",
   "id": "80892b45436e51e2"
  },
  {
   "metadata": {},
   "cell_type": "code",
   "source": "crew_df.head()",
   "id": "b488341ae318b3d5",
   "outputs": [],
   "execution_count": null
  },
  {
   "cell_type": "code",
   "id": "85e516c20b098c22",
   "metadata": {},
   "source": "crew_df.shape",
   "outputs": [],
   "execution_count": null
  },
  {
   "cell_type": "code",
   "id": "6e9579fa3486f88e",
   "metadata": {},
   "source": "crew_df.dtypes",
   "outputs": [],
   "execution_count": null
  },
  {
   "metadata": {},
   "cell_type": "markdown",
   "source": "### 2. Data Cleaning",
   "id": "ad8721f119cf94d0"
  },
  {
   "metadata": {},
   "cell_type": "code",
   "source": [
    "# Rename columns\n",
    "crew_df = crew_df.rename(columns={'id': 'movie_id'})\n",
    "print(f\"Crew dataset columns: {', '.join(crew_df.columns)}\")"
   ],
   "id": "268ff79057a21edb",
   "outputs": [],
   "execution_count": null
  },
  {
   "cell_type": "code",
   "id": "56a653c79e4f9730",
   "metadata": {},
   "source": [
    "# Check for null values\n",
    "summarize_nulls(crew_df)"
   ],
   "outputs": [],
   "execution_count": null
  },
  {
   "metadata": {},
   "cell_type": "code",
   "source": "find_matching(crew_df, 'name', [\"anonymous\", \"unknown\"]).head()",
   "id": "ad3c1bfc285a6ae4",
   "outputs": [],
   "execution_count": null
  },
  {
   "metadata": {},
   "cell_type": "markdown",
   "source": "The existing `NaN` value was not removed because it is minimal compared to the overall size of the dataset, and removing it would not significantly impact the analysis. Similarly, values such as *Unknown* or *Anonymous* were kept because they account for less than 0.001% of the data and do not affect the overall results.",
   "id": "653c8210e6e4480b"
  },
  {
   "metadata": {},
   "cell_type": "code",
   "source": [
    "# Check for duplicate rows\n",
    "print('Duplicated rows:', crew_df.duplicated().sum())\n",
    "crew_duplicates = crew_df[crew_df.duplicated(keep=False)].head()\n",
    "\n",
    "# Dropping the duplicates\n",
    "crew_df = crew_df.drop_duplicates()\n",
    "\n",
    "crew_duplicates"
   ],
   "id": "7f6075c4451752e3",
   "outputs": [],
   "execution_count": null
  },
  {
   "metadata": {},
   "cell_type": "markdown",
   "source": "Completely duplicated rows are clearly an error and can be safely removed.",
   "id": "6b9bba4bf607c54f"
  },
  {
   "metadata": {},
   "cell_type": "code",
   "source": [
    "# Identifying invalid foreign keys\n",
    "invalid_values = crew_df[~crew_df['movie_id'].isin(movies_df.index)]\n",
    "\n",
    "print(f\"There were {len(invalid_values)} rows with invalid foreign keys\")\n",
    "\n",
    "# Removing invalid values\n",
    "crew_df = crew_df.drop(invalid_values.index)\n",
    "\n",
    "invalid_values.head()"
   ],
   "id": "5f76ba638432cf34",
   "outputs": [],
   "execution_count": null
  },
  {
   "metadata": {},
   "cell_type": "code",
   "source": [
    "# Reset indexing after removing rows\n",
    "crew_df = crew_df.reset_index(drop=True)"
   ],
   "id": "8f3cd5fe16853ccf",
   "outputs": [],
   "execution_count": null
  },
  {
   "metadata": {},
   "cell_type": "markdown",
   "source": [
    "### 3. Final Results\n",
    "The **crew** dataset is connected to the movies dataset through the `movie_id` column. It includes the names of all crew members along with their roles. <br>\n",
    "A crew member can have different roles in the same movies and can appear in more than one movie. <br>\n",
    "A crew member is solely identified by his full name."
   ],
   "id": "2649f725e4082c0b"
  },
  {
   "metadata": {},
   "cell_type": "code",
   "source": "crew_df.head()",
   "id": "e39e3a8cefbde1e0",
   "outputs": [],
   "execution_count": null
  },
  {
   "cell_type": "code",
   "id": "704a35689acd277a",
   "metadata": {},
   "source": "crew_df.shape",
   "outputs": [],
   "execution_count": null
  },
  {
   "metadata": {},
   "cell_type": "markdown",
   "source": "## Genres",
   "id": "e85d09f6e1a04068"
  },
  {
   "metadata": {},
   "cell_type": "code",
   "source": [
    "# Import 'genres.csv' dataset\n",
    "genres_df = pd.read_csv('datasets/genres.csv')"
   ],
   "id": "860a0ee5a5f558d7",
   "outputs": [],
   "execution_count": null
  },
  {
   "metadata": {},
   "cell_type": "markdown",
   "source": "### 1. Data Understanding",
   "id": "17adafa70ee07907"
  },
  {
   "metadata": {},
   "cell_type": "code",
   "source": "genres_df.head()",
   "id": "355d3e1444e6a9c7",
   "outputs": [],
   "execution_count": null
  },
  {
   "cell_type": "code",
   "id": "d81b082bc37242f6",
   "metadata": {},
   "source": "genres_df.shape",
   "outputs": [],
   "execution_count": null
  },
  {
   "cell_type": "code",
   "id": "143ecf4fe158fba2",
   "metadata": {},
   "source": "genres_df.dtypes",
   "outputs": [],
   "execution_count": null
  },
  {
   "metadata": {},
   "cell_type": "markdown",
   "source": "### 2. Data Cleaning",
   "id": "1aff4674837a5d81"
  },
  {
   "metadata": {},
   "cell_type": "code",
   "source": [
    "# Rename columns\n",
    "genres_df = genres_df.rename(columns={'id': 'movie_id'})\n",
    "print(f\"Genres dataset columns: {', '.join(genres_df.columns)}\")"
   ],
   "id": "fdcab4c2d97ac491",
   "outputs": [],
   "execution_count": null
  },
  {
   "cell_type": "code",
   "id": "e8e51ba8b0004763",
   "metadata": {},
   "source": [
    "# Check for null values\n",
    "summarize_nulls(genres_df)"
   ],
   "outputs": [],
   "execution_count": null
  },
  {
   "cell_type": "code",
   "id": "3646eb6aa8a294c3",
   "metadata": {},
   "source": [
    "# Check for duplicate rows\n",
    "print(f\"There are {genres_df.duplicated().sum()} duplicated rows\")"
   ],
   "outputs": [],
   "execution_count": null
  },
  {
   "metadata": {},
   "cell_type": "code",
   "source": [
    "# Identifying invalid foreign keys\n",
    "invalid_values = genres_df[~genres_df['movie_id'].isin(movies_df.index)]\n",
    "\n",
    "print(f\"There were {len(invalid_values)} rows with invalid foreign keys\")\n",
    "\n",
    "# Removing invalid values\n",
    "genres_df = genres_df.drop(invalid_values.index)\n",
    "\n",
    "invalid_values.head()"
   ],
   "id": "7dc5d6cfd7f681c6",
   "outputs": [],
   "execution_count": null
  },
  {
   "cell_type": "code",
   "id": "f4ab9550c0d65192",
   "metadata": {},
   "source": [
    "# Setting the correct type for columns\n",
    "genres_list = list(genres_df[\"genre\"].unique())\n",
    "print(f'There are {len(genres_list)} genres in the dataset: {\", \".join(genres_list)}')\n",
    "\n",
    "genres_df['genre'] = genres_df['genre'].astype('category')"
   ],
   "outputs": [],
   "execution_count": null
  },
  {
   "metadata": {},
   "cell_type": "markdown",
   "source": "Given the limited number of genres in the dataset, the field can be optimized setting it to category type.",
   "id": "d6424026a2a71677"
  },
  {
   "metadata": {},
   "cell_type": "markdown",
   "source": [
    "### 3. Final Results\n",
    "The **genres** dataset is connected to the movies dataset through the `movie_id` column. A movie can have multiple genres.\n"
   ],
   "id": "c7e984ddf81ccb1a"
  },
  {
   "metadata": {},
   "cell_type": "code",
   "source": "genres_df.head()",
   "id": "e8212362a24e246c",
   "outputs": [],
   "execution_count": null
  },
  {
   "cell_type": "code",
   "id": "bab939cf7be6dcaa",
   "metadata": {},
   "source": "genres_df.shape",
   "outputs": [],
   "execution_count": null
  },
  {
   "metadata": {},
   "cell_type": "markdown",
   "source": "## Posters",
   "id": "eb596a96e8ea190b"
  },
  {
   "metadata": {},
   "cell_type": "code",
   "source": [
    "# Import 'posters.csv' dataset\n",
    "posters_df = pd.read_csv('datasets/posters.csv')"
   ],
   "id": "403fd2064babd235",
   "outputs": [],
   "execution_count": null
  },
  {
   "metadata": {},
   "cell_type": "markdown",
   "source": "### 1. Data Understanding",
   "id": "e4940c54fc49f25c"
  },
  {
   "metadata": {},
   "cell_type": "code",
   "source": "posters_df.head()",
   "id": "9871771eeedfc55c",
   "outputs": [],
   "execution_count": null
  },
  {
   "cell_type": "code",
   "id": "7e493780822572d4",
   "metadata": {},
   "source": "posters_df.shape",
   "outputs": [],
   "execution_count": null
  },
  {
   "cell_type": "code",
   "id": "8606883b437702d9",
   "metadata": {},
   "source": "posters_df.dtypes",
   "outputs": [],
   "execution_count": null
  },
  {
   "metadata": {},
   "cell_type": "markdown",
   "source": "### 2. Data Cleaning",
   "id": "dd9d2bacbaee4b45"
  },
  {
   "metadata": {},
   "cell_type": "code",
   "source": [
    "# Rename columns\n",
    "posters_df = posters_df.rename(columns={'id': 'movie_id', 'link': 'poster_link'})\n",
    "print(f\"Posters dataset columns: {', '.join(posters_df.columns)}\")"
   ],
   "id": "2182ed33df60f466",
   "outputs": [],
   "execution_count": null
  },
  {
   "cell_type": "code",
   "id": "ee99715a7770203d",
   "metadata": {},
   "source": [
    "# Check for null values\n",
    "summarize_nulls(posters_df)"
   ],
   "outputs": [],
   "execution_count": null
  },
  {
   "cell_type": "code",
   "id": "63dcee20ac047ce7",
   "metadata": {},
   "source": [
    "# Removing null rows\n",
    "posters_df = posters_df.dropna()"
   ],
   "outputs": [],
   "execution_count": null
  },
  {
   "metadata": {},
   "cell_type": "markdown",
   "source": [
    "Removing the `NaN` values as they do not contribute meaningful information to the dataset and could hinder data consistency and analysis. <br>\n",
    "We also need to check the validity of the link:"
   ],
   "id": "dd86974f8f3c15a"
  },
  {
   "metadata": {},
   "cell_type": "code",
   "source": [
    "# Check for invalid links\n",
    "link_regex = r'\\bhttps?:\\/\\/(?:www\\.)?[a-zA-Z0-9-]+\\.[a-zA-Z]{2,}(?:\\/[^\\s]*)?'\n",
    "print(f\"There are {(~posters_df['poster_link'].str.contains(link_regex, na=False)).sum()} invalid links.\")"
   ],
   "id": "59102f00154663d2",
   "outputs": [],
   "execution_count": null
  },
  {
   "metadata": {},
   "cell_type": "code",
   "source": [
    "# Check for duplicate rows\n",
    "print(f\"There are {posters_df.duplicated().sum()} duplicated rows\")"
   ],
   "id": "a4ba1493c388ea5c",
   "outputs": [],
   "execution_count": null
  },
  {
   "metadata": {},
   "cell_type": "code",
   "source": [
    "# Check if a movie can have more than 1 poster\n",
    "print(f\"There are {posters_df['movie_id'].duplicated().sum()} duplicates in the 'movie_id' column.\")"
   ],
   "id": "47c6dd59eb2d0166",
   "outputs": [],
   "execution_count": null
  },
  {
   "metadata": {},
   "cell_type": "markdown",
   "source": "A movie can have at most only one poster. The relationship between the **posters** dataset and the **movies** dataset is One-to-One, allowing us to merge the two datasets.",
   "id": "571ae0ea4591d425"
  },
  {
   "metadata": {},
   "cell_type": "code",
   "source": [
    "# Identifying invalid foreign keys\n",
    "invalid_values = posters_df[~posters_df['movie_id'].isin(movies_df.index)]\n",
    "\n",
    "print(f\"There are {len(invalid_values)} with invalid foreign keys\")\n",
    "\n",
    "invalid_values.head()"
   ],
   "id": "3dade37e8ebd9561",
   "outputs": [],
   "execution_count": null
  },
  {
   "metadata": {},
   "cell_type": "markdown",
   "source": "There is no need to remove rows that have an invalid foreign key in this dataset, since the **merge** operation with the movies dataset can naturally differentiate between matching and unmatched records",
   "id": "e021cd13fdf260ac"
  },
  {
   "metadata": {},
   "cell_type": "code",
   "source": [
    "# Merging the datasets on 'id' from 'movies' and 'movie_id' from 'posters'\n",
    "movies_df = pd.merge(movies_df, posters_df, left_index=True, right_on='movie_id', how='left')\n",
    "\n",
    "# Re-set the id as index\n",
    "movies_df = movies_df.rename(columns={'movie_id': 'id'})\n",
    "movies_df = movies_df.set_index('id')"
   ],
   "id": "2a5625b2b9b37a59",
   "outputs": [],
   "execution_count": null
  },
  {
   "metadata": {},
   "cell_type": "markdown",
   "source": [
    "### 3. Final Results\n",
    "The posters dataset has now been merged into the movies dataset under the `poster_link` column. To ensure the merge was successful, the dataset should have the same number of rows as before (previously 941,587) and one additional column (previously 6)."
   ],
   "id": "f0b7bd4f467b7d57"
  },
  {
   "metadata": {},
   "cell_type": "code",
   "source": "movies_df.head()",
   "id": "4f205e31002afb7e",
   "outputs": [],
   "execution_count": null
  },
  {
   "metadata": {},
   "cell_type": "code",
   "source": "movies_df.shape",
   "id": "2bbcf090c4f37230",
   "outputs": [],
   "execution_count": null
  },
  {
   "metadata": {},
   "cell_type": "markdown",
   "source": "## Releases",
   "id": "e5c776fed4df7b46"
  },
  {
   "metadata": {},
   "cell_type": "code",
   "source": [
    "# Import 'release.csv' dataset\n",
    "releases_df = pd.read_csv('datasets/releases.csv')"
   ],
   "id": "452f3fa61572b07",
   "outputs": [],
   "execution_count": null
  },
  {
   "metadata": {},
   "cell_type": "markdown",
   "source": "### 1. Data Understanding",
   "id": "46ae974f7d414208"
  },
  {
   "metadata": {},
   "cell_type": "code",
   "source": "releases_df.head()",
   "id": "29d4f97bf53cf2e2",
   "outputs": [],
   "execution_count": null
  },
  {
   "cell_type": "code",
   "id": "d4229fdeb2ec0df4",
   "metadata": {},
   "source": "releases_df.shape",
   "outputs": [],
   "execution_count": null
  },
  {
   "cell_type": "code",
   "id": "3c3f65a9f26b8107",
   "metadata": {},
   "source": "releases_df.dtypes",
   "outputs": [],
   "execution_count": null
  },
  {
   "metadata": {},
   "cell_type": "markdown",
   "source": "### 2. Data Cleaning",
   "id": "571f2114cfb9ed7d"
  },
  {
   "metadata": {},
   "cell_type": "code",
   "source": [
    "# Rename columns\n",
    "releases_df = releases_df.rename(columns={'id': 'movie_id', 'type': 'distribution_format'})\n",
    "print(f\"Release dataset columns: {', '.join(releases_df.columns)}\")"
   ],
   "id": "fffde7a39f606830",
   "outputs": [],
   "execution_count": null
  },
  {
   "cell_type": "code",
   "id": "4f968df32d23f212",
   "metadata": {},
   "source": [
    "# Check for null values\n",
    "summarize_nulls(releases_df)"
   ],
   "outputs": [],
   "execution_count": null
  },
  {
   "metadata": {},
   "cell_type": "markdown",
   "source": [
    "It's fine for the dataset to have null values  in the `rating` column. <br>\n",
    "The absence of a rating could also be due to some countries not having an official rating system. If that is the case, we don't have enough information to determine whether it's a missing value or a country without a rating system. To make the data more meaningful, we should identify the countries without an official rating system and differentiate them from with a specific value. However, for our purposes, we don't need to clean the data to that extent."
   ],
   "id": "663da19b56ef9c19"
  },
  {
   "cell_type": "code",
   "id": "9bd49ddafbd907a9",
   "metadata": {},
   "source": [
    "# Check for alternative null values in the dataset\n",
    "releases_df[(releases_df['rating'] == \"0\") & (~releases_df['country'].isin([\"Germany\", \"Austria\", \"Switzerland\"]))].head()"
   ],
   "outputs": [],
   "execution_count": null
  },
  {
   "metadata": {},
   "cell_type": "markdown",
   "source": "We initially checked the rating value 0 in the dataset, assuming it might represent a null or missing value. However, we discovered that in some countries (e.g., Germany), a rating of 0 has a meaningful interpretation, indicating that the film is suitable for all audiences, including children. While in some cases the 0 rating might still be an error, it appears only 70 times in a dataset of over one million rows. Given that we don't have a reference dataset with the rating system for every country, we can ignore these values.",
   "id": "2f00d4768c79e451"
  },
  {
   "metadata": {},
   "cell_type": "code",
   "source": [
    "# Check for duplicate rows\n",
    "print(f\"There are {releases_df.duplicated().sum()} duplicated rows\")"
   ],
   "id": "c6d04c3f8349ce7b",
   "outputs": [],
   "execution_count": null
  },
  {
   "metadata": {},
   "cell_type": "code",
   "source": [
    "# Identifying invalid foreign keys\n",
    "invalid_values = releases_df[~releases_df['movie_id'].isin(movies_df.index)]\n",
    "\n",
    "print(f\"There were {len(invalid_values)} rows with invalid foreign keys\")\n",
    "\n",
    "# Removing invalid values\n",
    "releases_df = releases_df.drop(invalid_values.index)\n",
    "\n",
    "invalid_values.head()"
   ],
   "id": "e51e643168c8d46c",
   "outputs": [],
   "execution_count": null
  },
  {
   "metadata": {},
   "cell_type": "code",
   "source": [
    "# Setting the correct type for the columns\n",
    "releases_df['date'] = pd.to_datetime(releases_df['date'], format='%Y-%m-%d')\n",
    "releases_df['distribution_format'] = releases_df['distribution_format'].astype('category')\n",
    "\n",
    "distribution_formats = list(releases_df['distribution_format'].unique())\n",
    "print(f'There are {len(distribution_formats)} distribution formats in the dataset: {\", \".join(distribution_formats)}')"
   ],
   "id": "2321d27b8ed7276d",
   "outputs": [],
   "execution_count": null
  },
  {
   "metadata": {},
   "cell_type": "markdown",
   "source": "Given the limited number of distribution formats in the dataset, the field can be optimized setting it to category type.",
   "id": "73c71516f93258fc"
  },
  {
   "metadata": {},
   "cell_type": "markdown",
   "source": [
    "### 3. Final Results\n",
    "The **release** dataset is linked to the movies dataset through the 'movie_id' column. It contains details about the movie releases worldwide, including the release date, distribution format, and rating."
   ],
   "id": "1ea61bee9191c465"
  },
  {
   "metadata": {},
   "cell_type": "code",
   "source": "releases_df.head()",
   "id": "e0be4cba5f2b3859",
   "outputs": [],
   "execution_count": null
  },
  {
   "cell_type": "code",
   "id": "e6bf754e207c33c8",
   "metadata": {},
   "source": "releases_df.shape",
   "outputs": [],
   "execution_count": null
  },
  {
   "metadata": {},
   "cell_type": "markdown",
   "source": "## Studios",
   "id": "9737e986e51d2cfe"
  },
  {
   "metadata": {},
   "cell_type": "code",
   "source": [
    "# Import 'studios.csv' dataset\n",
    "studios_df = pd.read_csv('datasets/studios.csv')"
   ],
   "id": "3d2689ce87ad8b1e",
   "outputs": [],
   "execution_count": null
  },
  {
   "metadata": {},
   "cell_type": "markdown",
   "source": "### 1. Data Understanding",
   "id": "28637961eba451d1"
  },
  {
   "metadata": {},
   "cell_type": "code",
   "source": "studios_df.head()",
   "id": "4fee13f9ba916f6c",
   "outputs": [],
   "execution_count": null
  },
  {
   "cell_type": "code",
   "id": "a88021e9ebb0065c",
   "metadata": {},
   "source": "studios_df.shape",
   "outputs": [],
   "execution_count": null
  },
  {
   "cell_type": "code",
   "id": "bbf42bcb0f1fb08",
   "metadata": {},
   "source": "studios_df.dtypes",
   "outputs": [],
   "execution_count": null
  },
  {
   "metadata": {},
   "cell_type": "markdown",
   "source": "### 2. Data Cleaning",
   "id": "74f2241fe9949baf"
  },
  {
   "metadata": {},
   "cell_type": "code",
   "source": [
    "# Rename columns\n",
    "studios_df = studios_df.rename(columns={'id': 'movie_id'})\n",
    "print(f\"Studios dataset columns: {', '.join(studios_df.columns)}\")"
   ],
   "id": "ef2ca86c4030239",
   "outputs": [],
   "execution_count": null
  },
  {
   "cell_type": "code",
   "id": "be17f510fb844ba0",
   "metadata": {},
   "source": [
    "# Check for null values\n",
    "summarize_nulls(studios_df)"
   ],
   "outputs": [],
   "execution_count": null
  },
  {
   "metadata": {},
   "cell_type": "markdown",
   "source": "Unnamed studios are not usable and can be safely removed.",
   "id": "7bd0906984fdee8f"
  },
  {
   "metadata": {},
   "cell_type": "code",
   "source": [
    "# Removing rows with null studio name\n",
    "no_name_studios = studios_df[studios_df['studio'].isna()]\n",
    "studios_df = studios_df.dropna(subset=['studio'])\n",
    "\n",
    "print(\"Studios without name:\")\n",
    "no_name_studios.head()"
   ],
   "id": "fd632b025371337c",
   "outputs": [],
   "execution_count": null
  },
  {
   "cell_type": "code",
   "id": "8595684e442f49a9",
   "metadata": {},
   "source": [
    "# Check for duplicate rows\n",
    "print(f\"There are {studios_df.duplicated().sum()} duplicated rows\")\n",
    "studios_duplicates = studios_df[studios_df.duplicated(keep=False)].head(6)\n",
    "\n",
    "# Drop duplicates\n",
    "studios_df = studios_df.drop_duplicates()\n",
    "\n",
    "studios_duplicates"
   ],
   "outputs": [],
   "execution_count": null
  },
  {
   "metadata": {},
   "cell_type": "markdown",
   "source": "Completely duplicated rows are clearly an error and can be safely removed.",
   "id": "b47d4f5c80c11489"
  },
  {
   "metadata": {},
   "cell_type": "code",
   "source": [
    "# Identifying invalid foreign keys\n",
    "invalid_values = studios_df[~studios_df['movie_id'].isin(movies_df.index)]\n",
    "\n",
    "print(f\"No rows with an invalid foreign key\")\n",
    "\n",
    "invalid_values.head()"
   ],
   "id": "b039cde8f14b7889",
   "outputs": [],
   "execution_count": null
  },
  {
   "metadata": {},
   "cell_type": "code",
   "source": [
    "# Reset indexing after removing rows\n",
    "studios_df = studios_df.reset_index(drop=True)"
   ],
   "id": "393a06758ac45898",
   "outputs": [],
   "execution_count": null
  },
  {
   "cell_type": "markdown",
   "id": "9fd5d15b2326c93d",
   "metadata": {},
   "source": [
    "### 3. Final Results\n",
    "The **studios** dataset is linked to the movies dataset through the `movie_id` column. It lists all the studios involved in each movie, allowing a movie to be associated with multiple studios and a studio to collaborate on multiple movies."
   ]
  },
  {
   "metadata": {},
   "cell_type": "code",
   "source": "studios_df.head()",
   "id": "8f103f1b74015b1f",
   "outputs": [],
   "execution_count": null
  },
  {
   "cell_type": "code",
   "id": "6bbbdea78e8941f9",
   "metadata": {},
   "source": "studios_df.shape",
   "outputs": [],
   "execution_count": null
  },
  {
   "metadata": {},
   "cell_type": "markdown",
   "source": "## Themes",
   "id": "e8ad60965cb8f312"
  },
  {
   "metadata": {},
   "cell_type": "code",
   "source": [
    "# Import 'themes.csv' dataset\n",
    "themes_df = pd.read_csv('datasets/themes.csv')"
   ],
   "id": "467abef3146c2450",
   "outputs": [],
   "execution_count": null
  },
  {
   "metadata": {},
   "cell_type": "markdown",
   "source": "### 1. Data Understanding",
   "id": "d9ba7956130c0647"
  },
  {
   "metadata": {},
   "cell_type": "code",
   "source": "themes_df.head()",
   "id": "36cfa6d2ecba36c",
   "outputs": [],
   "execution_count": null
  },
  {
   "cell_type": "code",
   "id": "69df8bf8d4af08b6",
   "metadata": {},
   "source": "themes_df.shape",
   "outputs": [],
   "execution_count": null
  },
  {
   "cell_type": "code",
   "id": "ae680921860473c0",
   "metadata": {},
   "source": "themes_df.dtypes",
   "outputs": [],
   "execution_count": null
  },
  {
   "metadata": {},
   "cell_type": "markdown",
   "source": "### 2. Data Cleaning",
   "id": "ef8edd02f93d29df"
  },
  {
   "metadata": {},
   "cell_type": "code",
   "source": [
    "# Rename columns\n",
    "themes_df = themes_df.rename(columns={'id': 'movie_id'})\n",
    "print(f\"Themes dataset columns: {', '.join(themes_df.columns)}\")"
   ],
   "id": "ed07fc6b8bf6673e",
   "outputs": [],
   "execution_count": null
  },
  {
   "cell_type": "code",
   "id": "2d304eca9061e808",
   "metadata": {},
   "source": [
    "# Check for null values\n",
    "summarize_nulls(themes_df)"
   ],
   "outputs": [],
   "execution_count": null
  },
  {
   "cell_type": "code",
   "id": "2084d91873e547a3",
   "metadata": {},
   "source": [
    "# Check for duplicate rows\n",
    "print(f\"There are {themes_df.duplicated().sum()} duplicated rows\")"
   ],
   "outputs": [],
   "execution_count": null
  },
  {
   "metadata": {},
   "cell_type": "code",
   "source": [
    "# Identifying invalid foreign keys\n",
    "invalid_values = themes_df[~themes_df['movie_id'].isin(movies_df.index)]\n",
    "\n",
    "print(f\"No rows with an invalid foreign key\")\n",
    "\n",
    "invalid_values.head()"
   ],
   "id": "d62e4b8641679093",
   "outputs": [],
   "execution_count": null
  },
  {
   "metadata": {},
   "cell_type": "code",
   "source": [
    "# Check for unique values\n",
    "print(f\"There are {len(themes_df['theme'].unique())} unique themes\")\n",
    "\n",
    "# Setting the correct type for columns\n",
    "themes_df['theme'] = themes_df['theme'].astype('category')"
   ],
   "id": "ab2b77ce8ed56bcd",
   "outputs": [],
   "execution_count": null
  },
  {
   "metadata": {},
   "cell_type": "markdown",
   "source": "There are a limited number of values for the theme, which means the column can be set as a categorical variable to optimize the analysis.",
   "id": "de7b1a10ec1f6db1"
  },
  {
   "metadata": {},
   "cell_type": "markdown",
   "source": [
    "### 3. Final Results\n",
    "The **themes** dataset is linked to the movies dataset through the `movie_id` column. It contains 125,000 rows, with multiple occurrences referring to the same movie, suggesting that themes are not frequently assigned to movies. Each theme describes a movie using few standard phrases."
   ],
   "id": "3fec6a74b9d74921"
  },
  {
   "metadata": {},
   "cell_type": "code",
   "source": "themes_df.head()",
   "id": "d52e79450b746a17",
   "outputs": [],
   "execution_count": null
  },
  {
   "cell_type": "code",
   "id": "3acdf4455cdc7109",
   "metadata": {},
   "source": "themes_df.shape",
   "outputs": [],
   "execution_count": null
  },
  {
   "metadata": {},
   "cell_type": "markdown",
   "source": "## The Oscar Awards",
   "id": "c14a45c6bd1d9f23"
  },
  {
   "metadata": {},
   "cell_type": "code",
   "source": [
    "# Import 'the_oscar_awards.csv' dataset\n",
    "oscars_df = pd.read_csv('datasets/the_oscar_awards.csv')"
   ],
   "id": "f26b0b3d14b0f52e",
   "outputs": [],
   "execution_count": null
  },
  {
   "metadata": {},
   "cell_type": "markdown",
   "source": "### 1. Data Understanding",
   "id": "d03f7cfdd91ab9e4"
  },
  {
   "metadata": {},
   "cell_type": "code",
   "source": "oscars_df.head()",
   "id": "fccabeaf5be196d",
   "outputs": [],
   "execution_count": null
  },
  {
   "cell_type": "code",
   "id": "29e89700e94bb439",
   "metadata": {},
   "source": "oscars_df.shape",
   "outputs": [],
   "execution_count": null
  },
  {
   "cell_type": "code",
   "id": "efceb3c1ee68ef58",
   "metadata": {},
   "source": "oscars_df.dtypes",
   "outputs": [],
   "execution_count": null
  },
  {
   "metadata": {},
   "cell_type": "markdown",
   "source": "### 2. Data Cleaning",
   "id": "741dd394f5e0af2a"
  },
  {
   "metadata": {},
   "cell_type": "code",
   "source": [
    "# Rename columns\n",
    "oscars_df = oscars_df.rename(columns={'ceremony': 'number_ceremony', 'year_film': 'year_movie', 'name': 'nominee_name', 'film': 'nominee_movie', 'winner': 'is_winner'})\n",
    "print(f\"Oscar dataset columns: {', '.join(oscars_df.columns)}\")"
   ],
   "id": "7b604a36fcf4142e",
   "outputs": [],
   "execution_count": null
  },
  {
   "cell_type": "code",
   "id": "d93f7491d1b2ef61",
   "metadata": {},
   "source": [
    "# Check for null values\n",
    "summarize_nulls(oscars_df)"
   ],
   "outputs": [],
   "execution_count": null
  },
  {
   "cell_type": "code",
   "id": "307b81116fc86d32",
   "metadata": {},
   "source": [
    "# Check for duplicate rows\n",
    "print(f\"There are {oscars_df.duplicated().sum()} duplicated rows\")\n",
    "oscars_df[oscars_df.duplicated(keep=False)].head(6)"
   ],
   "outputs": [],
   "execution_count": null
  },
  {
   "metadata": {},
   "cell_type": "markdown",
   "source": "Duplicates are retained because, in music categories, the same artists can receive identical nominations for different songs, with the song titles not specified in the dataset.",
   "id": "751e26f4f6f5f6f0"
  },
  {
   "metadata": {},
   "cell_type": "code",
   "source": [
    "# Check the consistency between year_film and year_ceremony\n",
    "print(f\"There are {oscars_df[oscars_df['year_movie'] > oscars_df['year_ceremony']].shape[0]} rows where the movie has been released after ceremony\")"
   ],
   "id": "cc4bc676259f0b43",
   "outputs": [],
   "execution_count": null
  },
  {
   "cell_type": "code",
   "id": "5d29d2335bbf5f57",
   "metadata": {},
   "source": [
    "# Check for multiple winner possibilities\n",
    "from utils.utils import special_oscar_awards\n",
    "\n",
    "# Filtering rows where the 'category' is in the special_oscar_awards list\n",
    "filtered_oscars = find_matching(oscars_df, 'category', special_oscar_awards)\n",
    "\n",
    "# Find groups with more than one winner\n",
    "multiple_winners = filtered_oscars.groupby(['year_ceremony', 'category']).filter(\n",
    "    lambda x: x['is_winner'].sum() > 1\n",
    ")\n",
    "\n",
    "# Keep only the rows where 'is_winner' is True\n",
    "multiple_winners = multiple_winners[multiple_winners['is_winner'] == True]\n",
    "multiple_winners.head(6)"
   ],
   "outputs": [],
   "execution_count": null
  },
  {
   "metadata": {},
   "cell_type": "markdown",
   "source": [
    "There can be multiple winners for the same Oscar category (e.g., 1932 Best Actor). <br>\n",
    "In the count, we excluded special awards, such as the Jean Hersholt Humanitarian Award, because they are given without nominations and have an undefined number of winners each year. These awards are not part of traditional competitive categories but rather honorary recognitions."
   ],
   "id": "c24d5696c99a5999"
  },
  {
   "metadata": {},
   "cell_type": "code",
   "source": [
    "# Check for unique values\n",
    "print(f\"There are {len(oscars_df['category'].unique())} unique categories\")\n",
    "\n",
    "# Setting the correct type for columns\n",
    "oscars_df['category'] = oscars_df['category'].astype('category')"
   ],
   "id": "568c18ca79e97a9b",
   "outputs": [],
   "execution_count": null
  },
  {
   "metadata": {},
   "cell_type": "markdown",
   "source": "There are a limited number of values for the `category` field, which means the column can be set as a categorical variable to optimize the analysis.",
   "id": "6fa04ef722ade090"
  },
  {
   "metadata": {},
   "cell_type": "markdown",
   "source": [
    "### 3. Final Results\n",
    "The Oscar dataset is not linked to the movies dataset in any way, and it cannot be automatically connected due to the absence of a unique identifier for the movies. <br>\n",
    "This dataset includes all nominations and winners of the Oscars, both ordinary and special, starting from the first ceremony."
   ],
   "id": "71c3be3ed819e979"
  },
  {
   "metadata": {},
   "cell_type": "code",
   "source": "oscars_df.head()",
   "id": "a38f7f0f12f92b9e",
   "outputs": [],
   "execution_count": null
  },
  {
   "cell_type": "code",
   "id": "ac992bfef9078cde",
   "metadata": {},
   "source": "oscars_df.shape",
   "outputs": [],
   "execution_count": null
  },
  {
   "metadata": {},
   "cell_type": "markdown",
   "source": "## Rotten Tomatoes Reviews",
   "id": "a670a475ea20ed78"
  },
  {
   "metadata": {},
   "cell_type": "code",
   "source": [
    "# Import 'rotten_tomatoes_reviews' dataset\n",
    "reviews_df = pd.read_csv('datasets/rotten_tomatoes_reviews.csv')"
   ],
   "id": "b3d0f18e491ab115",
   "outputs": [],
   "execution_count": null
  },
  {
   "metadata": {},
   "cell_type": "markdown",
   "source": "### 1. Data Understanding",
   "id": "a790ee8417635725"
  },
  {
   "metadata": {},
   "cell_type": "code",
   "source": "reviews_df.head()",
   "id": "ca8a2a77b4bf060c",
   "outputs": [],
   "execution_count": null
  },
  {
   "cell_type": "code",
   "id": "e959042f66953cdb",
   "metadata": {},
   "source": "reviews_df.shape",
   "outputs": [],
   "execution_count": null
  },
  {
   "cell_type": "code",
   "id": "f729775e5075501",
   "metadata": {},
   "source": "reviews_df.dtypes",
   "outputs": [],
   "execution_count": null
  },
  {
   "metadata": {},
   "cell_type": "markdown",
   "source": "### 2. Data Cleaning",
   "id": "48154fd38808d4d0"
  },
  {
   "metadata": {},
   "cell_type": "code",
   "source": [
    "# Rename columns\n",
    "reviews_df = reviews_df.rename(columns={'review_type': 'type', 'review_score': 'score', 'review_content': 'content', 'top_critic': 'is_top_critic'})\n",
    "print(f\"Rotten Tomatoes Reviews dataset columns: {', '.join(reviews_df.columns)}\")"
   ],
   "id": "434b3feddc2528b1",
   "outputs": [],
   "execution_count": null
  },
  {
   "cell_type": "code",
   "id": "f35d276353417a37",
   "metadata": {},
   "source": [
    "# Check for null values\n",
    "summarize_nulls(reviews_df)"
   ],
   "outputs": [],
   "execution_count": null
  },
  {
   "metadata": {},
   "cell_type": "markdown",
   "source": "After checking the Rotten Tomatoes website, it's fine to have the publisher name, critic name, and content as null values.",
   "id": "ce5b9a2709c7ee6f"
  },
  {
   "metadata": {},
   "cell_type": "code",
   "source": [
    "# Check for duplicate rows\n",
    "print(f\"There are {reviews_df.duplicated().sum()} duplicated rows\")\n",
    "\n",
    "filtered_df = reviews_df[reviews_df['critic_name'].notna()]\n",
    "filtered_df = filtered_df[filtered_df.duplicated(keep=False)]\n",
    "\n",
    "reviews_df = reviews_df.drop(reviews_df[reviews_df['critic_name'].isna()].index)\n",
    "\n",
    "filtered_df.head()"
   ],
   "id": "576cd57651f54647",
   "outputs": [],
   "execution_count": null
  },
  {
   "metadata": {},
   "cell_type": "markdown",
   "source": "There are many duplicate reviews in the datasets. After checking the official website, it is possible to have multiple reviews for the same movie from the same publisher and with an unspecified critic. These rows will be excluded from the total count of duplicates and will not be removed. All other duplicate rows are being removed.",
   "id": "be65c7711e299c87"
  },
  {
   "metadata": {},
   "cell_type": "code",
   "source": [
    "# Check for unique values\n",
    "print(f\"There are {len(reviews_df['type'].unique())} review types\")\n",
    "\n",
    "# Setting the correct type for columns\n",
    "reviews_df['type'] = reviews_df['type'].astype('category')\n",
    "reviews_df['review_date'] = pd.to_datetime(reviews_df['review_date'], format='%Y-%m-%d')"
   ],
   "id": "d6b383e9c3e0f4d",
   "outputs": [],
   "execution_count": null
  },
  {
   "metadata": {},
   "cell_type": "markdown",
   "source": "A review can be either Fresh or Rotten, so the `type` column is set as a categorical variable.",
   "id": "12d0cd2d4c7201ad"
  },
  {
   "metadata": {},
   "cell_type": "markdown",
   "source": "The `rotten_tomatoes_link` column is not useful for visualization or statistical purposes, so it can be deleted.",
   "id": "b163a9f42a98b260"
  },
  {
   "metadata": {},
   "cell_type": "code",
   "source": [
    "# Reset indexing after removing rows\n",
    "reviews_df = reviews_df.reset_index(drop=True)"
   ],
   "id": "153f2221336c711c",
   "outputs": [],
   "execution_count": null
  },
  {
   "metadata": {},
   "cell_type": "markdown",
   "source": [
    "### 3. Final Result\n",
    "The review dataset is not linked to the movies dataset in any way, and it cannot be automatically connected due to the absence of a unique identifier for the movies. <br>\n",
    "This dataset contains reviews collected from the Rotten Tomatoes review aggregator website, featuring reviews from various publishers and critics. Each review is categorized as either \"Fresh\" or \"Rotten,\" which are equivalent to \"Positive\" and \"Negative,\" respectively.\n"
   ],
   "id": "dd1f25f9e8d15aea"
  },
  {
   "metadata": {},
   "cell_type": "code",
   "source": "reviews_df.head()",
   "id": "3dc1b542d28cde61",
   "outputs": [],
   "execution_count": null
  },
  {
   "cell_type": "code",
   "id": "2ccca9ccb161d93",
   "metadata": {},
   "source": "reviews_df.shape",
   "outputs": [],
   "execution_count": null
  },
  {
   "metadata": {},
   "cell_type": "markdown",
   "source": [
    "---\n",
    "## Save the clean datasets to new `.csv` files"
   ],
   "id": "2abfaa9286ea0587"
  },
  {
   "metadata": {},
   "cell_type": "code",
   "source": [
    "# Print the clean datasets to new csv files\n",
    "if PRINT_CSV:\n",
    "    movies_df.to_csv('clean_datasets/movies.csv')\n",
    "    lang_df.to_csv('clean_datasets/languages.csv', index=False)\n",
    "    actors_df.to_csv('clean_datasets/actors.csv', index=False)\n",
    "    countries_df.to_csv('clean_datasets/countries.csv', index=False)\n",
    "    crew_df.to_csv('clean_datasets/crew.csv', index=False)\n",
    "    genres_df.to_csv('clean_datasets/genres.csv', index=False)\n",
    "    releases_df.to_csv('clean_datasets/releases.csv', index=False)\n",
    "    studios_df.to_csv('clean_datasets/studios.csv', index=False)\n",
    "    themes_df.to_csv('clean_datasets/themes.csv', index=False)\n",
    "    oscars_df.to_csv('clean_datasets/oscars.csv', index=False)\n",
    "    reviews_df.to_csv('clean_datasets/reviews.csv', index=False)"
   ],
   "id": "d4464b09d031d772",
   "outputs": [],
   "execution_count": null
  }
 ],
 "metadata": {
  "kernelspec": {
   "display_name": "Python 3 (ipykernel)",
   "language": "python",
   "name": "python3"
  },
  "language_info": {
   "codemirror_mode": {
    "name": "ipython",
    "version": 3
   },
   "file_extension": ".py",
   "mimetype": "text/x-python",
   "name": "python",
   "nbconvert_exporter": "python",
   "pygments_lexer": "ipython3",
   "version": "3.13.1"
  }
 },
 "nbformat": 4,
 "nbformat_minor": 5
}
