{
 "cells": [
  {
   "metadata": {},
   "cell_type": "markdown",
   "source": "# Data Cleaning",
   "id": "1ada8e0800af80f"
  },
  {
   "cell_type": "code",
   "id": "initial_id",
   "metadata": {
    "collapsed": true,
    "ExecuteTime": {
     "end_time": "2024-12-06T15:46:35.309680Z",
     "start_time": "2024-12-06T15:46:34.118848Z"
    }
   },
   "source": [
    "import pandas as pd\n",
    "import numpy as np\n",
    "\n",
    "pd.options.mode.chained_assignment = None"
   ],
   "outputs": [],
   "execution_count": 1
  },
  {
   "metadata": {},
   "cell_type": "markdown",
   "source": "## Movies",
   "id": "3535d2e877d218a5"
  },
  {
   "metadata": {},
   "cell_type": "code",
   "source": [
    "movies_df = pd.read_csv('datasets/movies.csv')\n",
    "movies_df"
   ],
   "id": "bfa523a3d71aa334",
   "outputs": [],
   "execution_count": null
  },
  {
   "metadata": {},
   "cell_type": "code",
   "source": "movies_df.dtypes",
   "id": "f25edf3b61586308",
   "outputs": [],
   "execution_count": null
  },
  {
   "metadata": {},
   "cell_type": "code",
   "source": "movies_df.shape",
   "id": "66353feb2d15e0c1",
   "outputs": [],
   "execution_count": null
  },
  {
   "metadata": {},
   "cell_type": "code",
   "source": "movies_df[movies_df.isna().any(axis=1)]",
   "id": "92ec1ff74b506e2f",
   "outputs": [],
   "execution_count": null
  },
  {
   "metadata": {},
   "cell_type": "code",
   "source": "movies_df.isna().sum()",
   "id": "943d34788f840a4c",
   "outputs": [],
   "execution_count": null
  },
  {
   "metadata": {},
   "cell_type": "code",
   "source": [
    "# removing NaN 'name' records\n",
    "movies_df = movies_df[movies_df['name'].notna()]"
   ],
   "id": "e64b09d17cd6ac6f",
   "outputs": [],
   "execution_count": null
  },
  {
   "metadata": {},
   "cell_type": "code",
   "source": [
    "# check if 'id' column have duplicate values\n",
    "movies_df[movies_df[\"id\"].duplicated()].shape[0]"
   ],
   "id": "903dbbf0e5d08f7c",
   "outputs": [],
   "execution_count": null
  },
  {
   "metadata": {},
   "cell_type": "code",
   "source": [
    "# then set index as id\n",
    "movies_df.set_index(\"id\", inplace=True)"
   ],
   "id": "e490e8be2bcd79b6",
   "outputs": [],
   "execution_count": null
  },
  {
   "metadata": {},
   "cell_type": "code",
   "source": [
    "# typing columns\n",
    "\n",
    "# check if necessary\n",
    "# movies_df['name'] = movies_df['name'].astype('string')\n",
    "# movies_df['tagline'] = movies_df['tagline'].astype('string')\n",
    "# movies_df['description'] = movies_df['description'].astype('string')\n",
    "\n",
    "movies_df['date'] = movies_df['date'].astype('Int64')\n",
    "\n",
    "movies_df['minute'] = movies_df['minute'].astype('Int64')"
   ],
   "id": "b859e3726529609e",
   "outputs": [],
   "execution_count": null
  },
  {
   "metadata": {},
   "cell_type": "code",
   "source": [
    "# rename columns\n",
    "movies_df.rename(columns={'minute': 'duration_in_minutes', 'date': 'release_year'}, inplace=True)"
   ],
   "id": "d65bc3bdb87e53fe",
   "outputs": [],
   "execution_count": null
  },
  {
   "metadata": {},
   "cell_type": "markdown",
   "source": "## Languages",
   "id": "8f0b9a430d101b37"
  },
  {
   "metadata": {
    "ExecuteTime": {
     "end_time": "2024-12-06T16:20:41.164241Z",
     "start_time": "2024-12-06T16:20:40.129179Z"
    }
   },
   "cell_type": "code",
   "source": [
    "lang_df = pd.read_csv('datasets/languages.csv')\n",
    "lang_df"
   ],
   "id": "fd8e821868e23834",
   "outputs": [
    {
     "data": {
      "text/plain": [
       "              id              type  language\n",
       "0        1000001          Language   English\n",
       "1        1000002  Primary language    Korean\n",
       "2        1000002   Spoken language   English\n",
       "3        1000002   Spoken language    German\n",
       "4        1000002   Spoken language    Korean\n",
       "...          ...               ...       ...\n",
       "1038757  1941593          Language   Chinese\n",
       "1038758  1941594          Language   English\n",
       "1038759  1941595          Language   English\n",
       "1038760  1941596          Language   Chinese\n",
       "1038761  1941597          Language  Japanese\n",
       "\n",
       "[1038762 rows x 3 columns]"
      ],
      "text/html": [
       "<div>\n",
       "<style scoped>\n",
       "    .dataframe tbody tr th:only-of-type {\n",
       "        vertical-align: middle;\n",
       "    }\n",
       "\n",
       "    .dataframe tbody tr th {\n",
       "        vertical-align: top;\n",
       "    }\n",
       "\n",
       "    .dataframe thead th {\n",
       "        text-align: right;\n",
       "    }\n",
       "</style>\n",
       "<table border=\"1\" class=\"dataframe\">\n",
       "  <thead>\n",
       "    <tr style=\"text-align: right;\">\n",
       "      <th></th>\n",
       "      <th>id</th>\n",
       "      <th>type</th>\n",
       "      <th>language</th>\n",
       "    </tr>\n",
       "  </thead>\n",
       "  <tbody>\n",
       "    <tr>\n",
       "      <th>0</th>\n",
       "      <td>1000001</td>\n",
       "      <td>Language</td>\n",
       "      <td>English</td>\n",
       "    </tr>\n",
       "    <tr>\n",
       "      <th>1</th>\n",
       "      <td>1000002</td>\n",
       "      <td>Primary language</td>\n",
       "      <td>Korean</td>\n",
       "    </tr>\n",
       "    <tr>\n",
       "      <th>2</th>\n",
       "      <td>1000002</td>\n",
       "      <td>Spoken language</td>\n",
       "      <td>English</td>\n",
       "    </tr>\n",
       "    <tr>\n",
       "      <th>3</th>\n",
       "      <td>1000002</td>\n",
       "      <td>Spoken language</td>\n",
       "      <td>German</td>\n",
       "    </tr>\n",
       "    <tr>\n",
       "      <th>4</th>\n",
       "      <td>1000002</td>\n",
       "      <td>Spoken language</td>\n",
       "      <td>Korean</td>\n",
       "    </tr>\n",
       "    <tr>\n",
       "      <th>...</th>\n",
       "      <td>...</td>\n",
       "      <td>...</td>\n",
       "      <td>...</td>\n",
       "    </tr>\n",
       "    <tr>\n",
       "      <th>1038757</th>\n",
       "      <td>1941593</td>\n",
       "      <td>Language</td>\n",
       "      <td>Chinese</td>\n",
       "    </tr>\n",
       "    <tr>\n",
       "      <th>1038758</th>\n",
       "      <td>1941594</td>\n",
       "      <td>Language</td>\n",
       "      <td>English</td>\n",
       "    </tr>\n",
       "    <tr>\n",
       "      <th>1038759</th>\n",
       "      <td>1941595</td>\n",
       "      <td>Language</td>\n",
       "      <td>English</td>\n",
       "    </tr>\n",
       "    <tr>\n",
       "      <th>1038760</th>\n",
       "      <td>1941596</td>\n",
       "      <td>Language</td>\n",
       "      <td>Chinese</td>\n",
       "    </tr>\n",
       "    <tr>\n",
       "      <th>1038761</th>\n",
       "      <td>1941597</td>\n",
       "      <td>Language</td>\n",
       "      <td>Japanese</td>\n",
       "    </tr>\n",
       "  </tbody>\n",
       "</table>\n",
       "<p>1038762 rows × 3 columns</p>\n",
       "</div>"
      ]
     },
     "execution_count": 78,
     "metadata": {},
     "output_type": "execute_result"
    }
   ],
   "execution_count": 78
  },
  {
   "metadata": {},
   "cell_type": "code",
   "source": "lang_df.dtypes",
   "id": "a75cc482a4a9e58f",
   "outputs": [],
   "execution_count": null
  },
  {
   "metadata": {},
   "cell_type": "code",
   "source": [
    "# check NaN values\n",
    "lang_df.isna().sum()"
   ],
   "id": "e9beb77f2bec1fd8",
   "outputs": [],
   "execution_count": null
  },
  {
   "metadata": {
    "ExecuteTime": {
     "end_time": "2024-12-06T16:21:35.845654Z",
     "start_time": "2024-12-06T16:21:35.705751Z"
    }
   },
   "cell_type": "code",
   "source": [
    "# typing columns\n",
    "lang_df['type'] = lang_df['type'].astype('category')\n",
    "lang_df['type'].unique()"
   ],
   "id": "9f395fe64e995870",
   "outputs": [
    {
     "data": {
      "text/plain": [
       "192"
      ]
     },
     "execution_count": 80,
     "metadata": {},
     "output_type": "execute_result"
    }
   ],
   "execution_count": 80
  },
  {
   "metadata": {},
   "cell_type": "code",
   "source": [
    "# check for duplicate values\n",
    "lang_df.duplicated().sum()"
   ],
   "id": "df1df599b18fb36d",
   "outputs": [],
   "execution_count": null
  },
  {
   "metadata": {},
   "cell_type": "markdown",
   "source": "## Actors",
   "id": "f9ebbf4c27dcb25e"
  },
  {
   "metadata": {},
   "cell_type": "code",
   "source": [
    "actors_df = pd.read_csv('datasets/actors.csv')\n",
    "actors_df"
   ],
   "id": "29b93334077ab162",
   "outputs": [],
   "execution_count": null
  },
  {
   "metadata": {},
   "cell_type": "code",
   "source": "actors_df.dtypes",
   "id": "e61ee0ab68247d2a",
   "outputs": [],
   "execution_count": null
  },
  {
   "metadata": {},
   "cell_type": "code",
   "source": [
    "# check NaN values\n",
    "actors_df.isna().sum()"
   ],
   "id": "3833716afd294027",
   "outputs": [],
   "execution_count": null
  },
  {
   "metadata": {},
   "cell_type": "code",
   "source": [
    "# check duplicated values\n",
    "\n",
    "actors_df.duplicated().sum()\n",
    "actors_df = actors_df.drop_duplicates()\n",
    "\n",
    "actors_df[actors_df['role'].isna()].duplicated(subset=['id', 'name']).sum()"
   ],
   "id": "db26c76a56188205",
   "outputs": [],
   "execution_count": null
  },
  {
   "metadata": {},
   "cell_type": "code",
   "source": [
    "# removing name NaN\n",
    "actors_df = actors_df.dropna(subset=['name'])"
   ],
   "id": "8f7041e7edd93125",
   "outputs": [],
   "execution_count": null
  },
  {
   "metadata": {},
   "cell_type": "markdown",
   "source": "## Countries",
   "id": "ed6a3442ff25eae8"
  },
  {
   "metadata": {},
   "cell_type": "code",
   "source": [
    "countries_df = pd.read_csv('datasets/countries.csv')\n",
    "countries_df"
   ],
   "id": "ce80a2476a4576c1",
   "outputs": [],
   "execution_count": null
  },
  {
   "metadata": {},
   "cell_type": "code",
   "source": "countries_df.dtypes",
   "id": "37bc9dec1507718e",
   "outputs": [],
   "execution_count": null
  },
  {
   "metadata": {},
   "cell_type": "code",
   "source": [
    "# check for NaN values\n",
    "countries_df.isna().sum()"
   ],
   "id": "c8556e6536adcf83",
   "outputs": [],
   "execution_count": null
  },
  {
   "metadata": {},
   "cell_type": "code",
   "source": [
    "# check for duplicated values\n",
    "countries_df.duplicated().sum()"
   ],
   "id": "38e659593638018d",
   "outputs": [],
   "execution_count": null
  },
  {
   "metadata": {},
   "cell_type": "markdown",
   "source": "## Crew",
   "id": "24edc4892a749039"
  },
  {
   "metadata": {
    "ExecuteTime": {
     "end_time": "2024-12-06T15:31:32.102459Z",
     "start_time": "2024-12-06T15:31:25.253750Z"
    }
   },
   "cell_type": "code",
   "source": [
    "crew_df = pd.read_csv('datasets/crew.csv')\n",
    "crew_df"
   ],
   "id": "a88c911e6dbb612d",
   "outputs": [
    {
     "data": {
      "text/plain": [
       "              id            role                  name\n",
       "0        1000001        Director          Greta Gerwig\n",
       "1        1000001        Producer          Tom Ackerley\n",
       "2        1000001        Producer         Margot Robbie\n",
       "3        1000001        Producer        Robbie Brenner\n",
       "4        1000001        Producer          David Heyman\n",
       "...          ...             ...                   ...\n",
       "4720178  1941596         Casting                   线雨轩\n",
       "4720179  1941596          Editor  Eric Kwong Chi-Leung\n",
       "4720180  1941596  Cinematography             Kenny Tse\n",
       "4720181  1941596        Composer                   胡小欧\n",
       "4720182  1941596  Costume design           Kenneth Yee\n",
       "\n",
       "[4720183 rows x 3 columns]"
      ],
      "text/html": [
       "<div>\n",
       "<style scoped>\n",
       "    .dataframe tbody tr th:only-of-type {\n",
       "        vertical-align: middle;\n",
       "    }\n",
       "\n",
       "    .dataframe tbody tr th {\n",
       "        vertical-align: top;\n",
       "    }\n",
       "\n",
       "    .dataframe thead th {\n",
       "        text-align: right;\n",
       "    }\n",
       "</style>\n",
       "<table border=\"1\" class=\"dataframe\">\n",
       "  <thead>\n",
       "    <tr style=\"text-align: right;\">\n",
       "      <th></th>\n",
       "      <th>id</th>\n",
       "      <th>role</th>\n",
       "      <th>name</th>\n",
       "    </tr>\n",
       "  </thead>\n",
       "  <tbody>\n",
       "    <tr>\n",
       "      <th>0</th>\n",
       "      <td>1000001</td>\n",
       "      <td>Director</td>\n",
       "      <td>Greta Gerwig</td>\n",
       "    </tr>\n",
       "    <tr>\n",
       "      <th>1</th>\n",
       "      <td>1000001</td>\n",
       "      <td>Producer</td>\n",
       "      <td>Tom Ackerley</td>\n",
       "    </tr>\n",
       "    <tr>\n",
       "      <th>2</th>\n",
       "      <td>1000001</td>\n",
       "      <td>Producer</td>\n",
       "      <td>Margot Robbie</td>\n",
       "    </tr>\n",
       "    <tr>\n",
       "      <th>3</th>\n",
       "      <td>1000001</td>\n",
       "      <td>Producer</td>\n",
       "      <td>Robbie Brenner</td>\n",
       "    </tr>\n",
       "    <tr>\n",
       "      <th>4</th>\n",
       "      <td>1000001</td>\n",
       "      <td>Producer</td>\n",
       "      <td>David Heyman</td>\n",
       "    </tr>\n",
       "    <tr>\n",
       "      <th>...</th>\n",
       "      <td>...</td>\n",
       "      <td>...</td>\n",
       "      <td>...</td>\n",
       "    </tr>\n",
       "    <tr>\n",
       "      <th>4720178</th>\n",
       "      <td>1941596</td>\n",
       "      <td>Casting</td>\n",
       "      <td>线雨轩</td>\n",
       "    </tr>\n",
       "    <tr>\n",
       "      <th>4720179</th>\n",
       "      <td>1941596</td>\n",
       "      <td>Editor</td>\n",
       "      <td>Eric Kwong Chi-Leung</td>\n",
       "    </tr>\n",
       "    <tr>\n",
       "      <th>4720180</th>\n",
       "      <td>1941596</td>\n",
       "      <td>Cinematography</td>\n",
       "      <td>Kenny Tse</td>\n",
       "    </tr>\n",
       "    <tr>\n",
       "      <th>4720181</th>\n",
       "      <td>1941596</td>\n",
       "      <td>Composer</td>\n",
       "      <td>胡小欧</td>\n",
       "    </tr>\n",
       "    <tr>\n",
       "      <th>4720182</th>\n",
       "      <td>1941596</td>\n",
       "      <td>Costume design</td>\n",
       "      <td>Kenneth Yee</td>\n",
       "    </tr>\n",
       "  </tbody>\n",
       "</table>\n",
       "<p>4720183 rows × 3 columns</p>\n",
       "</div>"
      ]
     },
     "execution_count": 54,
     "metadata": {},
     "output_type": "execute_result"
    }
   ],
   "execution_count": 54
  },
  {
   "metadata": {
    "ExecuteTime": {
     "end_time": "2024-12-06T15:34:53.270382Z",
     "start_time": "2024-12-06T15:34:53.257081Z"
    }
   },
   "cell_type": "code",
   "source": "crew_df.dtypes",
   "id": "f59cb0428c025849",
   "outputs": [
    {
     "data": {
      "text/plain": [
       "id         int64\n",
       "role    category\n",
       "name      object\n",
       "dtype: object"
      ]
     },
     "execution_count": 68,
     "metadata": {},
     "output_type": "execute_result"
    }
   ],
   "execution_count": 68
  },
  {
   "metadata": {
    "ExecuteTime": {
     "end_time": "2024-12-06T15:34:50.968091Z",
     "start_time": "2024-12-06T15:34:50.323561Z"
    }
   },
   "cell_type": "code",
   "source": [
    "# typing columns\n",
    "# crew_df['role'].unique()\n",
    "\n",
    "crew_df['role'] = crew_df['role'].astype('category')"
   ],
   "id": "1591bfef0adaa431",
   "outputs": [],
   "execution_count": 67
  },
  {
   "metadata": {},
   "cell_type": "code",
   "source": [
    "# check for NaN values\n",
    "crew_df.isna().sum()\n",
    "crew_df['name'] = crew_df['name'].replace('Unknown', np.nan)"
   ],
   "id": "1dfd8b66e81487c4",
   "outputs": [],
   "execution_count": null
  },
  {
   "metadata": {
    "ExecuteTime": {
     "end_time": "2024-12-06T15:39:52.645556Z",
     "start_time": "2024-12-06T15:39:41.051361Z"
    }
   },
   "cell_type": "code",
   "source": [
    "# check for duplicated values\n",
    "crew_df.duplicated().sum()\n",
    "crew_df[crew_df.duplicated(keep=False)]\n",
    "\n",
    "crew_df = crew_df.drop_duplicates()"
   ],
   "id": "7231e99e1db245a8",
   "outputs": [],
   "execution_count": 74
  },
  {
   "metadata": {},
   "cell_type": "markdown",
   "source": "## Genres",
   "id": "b55a82b3deb73d9e"
  },
  {
   "metadata": {
    "ExecuteTime": {
     "end_time": "2024-12-06T15:27:14.497228Z",
     "start_time": "2024-12-06T15:27:13.854263Z"
    }
   },
   "cell_type": "code",
   "source": [
    "genres_df = pd.read_csv('datasets/genres.csv')\n",
    "genres_df"
   ],
   "id": "43a3ee2662d4a7ac",
   "outputs": [
    {
     "data": {
      "text/plain": [
       "              id      genre\n",
       "0        1000001     Comedy\n",
       "1        1000001  Adventure\n",
       "2        1000002     Comedy\n",
       "3        1000002   Thriller\n",
       "4        1000002      Drama\n",
       "...          ...        ...\n",
       "1046844  1941563      Drama\n",
       "1046845  1941566      Crime\n",
       "1046846  1941569      Crime\n",
       "1046847  1941596     Action\n",
       "1046848  1941596      Crime\n",
       "\n",
       "[1046849 rows x 2 columns]"
      ],
      "text/html": [
       "<div>\n",
       "<style scoped>\n",
       "    .dataframe tbody tr th:only-of-type {\n",
       "        vertical-align: middle;\n",
       "    }\n",
       "\n",
       "    .dataframe tbody tr th {\n",
       "        vertical-align: top;\n",
       "    }\n",
       "\n",
       "    .dataframe thead th {\n",
       "        text-align: right;\n",
       "    }\n",
       "</style>\n",
       "<table border=\"1\" class=\"dataframe\">\n",
       "  <thead>\n",
       "    <tr style=\"text-align: right;\">\n",
       "      <th></th>\n",
       "      <th>id</th>\n",
       "      <th>genre</th>\n",
       "    </tr>\n",
       "  </thead>\n",
       "  <tbody>\n",
       "    <tr>\n",
       "      <th>0</th>\n",
       "      <td>1000001</td>\n",
       "      <td>Comedy</td>\n",
       "    </tr>\n",
       "    <tr>\n",
       "      <th>1</th>\n",
       "      <td>1000001</td>\n",
       "      <td>Adventure</td>\n",
       "    </tr>\n",
       "    <tr>\n",
       "      <th>2</th>\n",
       "      <td>1000002</td>\n",
       "      <td>Comedy</td>\n",
       "    </tr>\n",
       "    <tr>\n",
       "      <th>3</th>\n",
       "      <td>1000002</td>\n",
       "      <td>Thriller</td>\n",
       "    </tr>\n",
       "    <tr>\n",
       "      <th>4</th>\n",
       "      <td>1000002</td>\n",
       "      <td>Drama</td>\n",
       "    </tr>\n",
       "    <tr>\n",
       "      <th>...</th>\n",
       "      <td>...</td>\n",
       "      <td>...</td>\n",
       "    </tr>\n",
       "    <tr>\n",
       "      <th>1046844</th>\n",
       "      <td>1941563</td>\n",
       "      <td>Drama</td>\n",
       "    </tr>\n",
       "    <tr>\n",
       "      <th>1046845</th>\n",
       "      <td>1941566</td>\n",
       "      <td>Crime</td>\n",
       "    </tr>\n",
       "    <tr>\n",
       "      <th>1046846</th>\n",
       "      <td>1941569</td>\n",
       "      <td>Crime</td>\n",
       "    </tr>\n",
       "    <tr>\n",
       "      <th>1046847</th>\n",
       "      <td>1941596</td>\n",
       "      <td>Action</td>\n",
       "    </tr>\n",
       "    <tr>\n",
       "      <th>1046848</th>\n",
       "      <td>1941596</td>\n",
       "      <td>Crime</td>\n",
       "    </tr>\n",
       "  </tbody>\n",
       "</table>\n",
       "<p>1046849 rows × 2 columns</p>\n",
       "</div>"
      ]
     },
     "execution_count": 40,
     "metadata": {},
     "output_type": "execute_result"
    }
   ],
   "execution_count": 40
  },
  {
   "metadata": {
    "ExecuteTime": {
     "end_time": "2024-12-06T15:28:31.688170Z",
     "start_time": "2024-12-06T15:28:31.674088Z"
    }
   },
   "cell_type": "code",
   "source": "genres_df.dtypes",
   "id": "8f16e8215d40053b",
   "outputs": [
    {
     "data": {
      "text/plain": [
       "id        int64\n",
       "genre    object\n",
       "dtype: object"
      ]
     },
     "execution_count": 43,
     "metadata": {},
     "output_type": "execute_result"
    }
   ],
   "execution_count": 43
  },
  {
   "metadata": {
    "ExecuteTime": {
     "end_time": "2024-12-06T15:28:43.801437Z",
     "start_time": "2024-12-06T15:28:43.667908Z"
    }
   },
   "cell_type": "code",
   "source": [
    "# check for NaN values\n",
    "genres_df.isna().sum()"
   ],
   "id": "3646eb6aa8a294c3",
   "outputs": [
    {
     "data": {
      "text/plain": [
       "id       0\n",
       "genre    0\n",
       "dtype: int64"
      ]
     },
     "execution_count": 45,
     "metadata": {},
     "output_type": "execute_result"
    }
   ],
   "execution_count": 45
  },
  {
   "metadata": {
    "ExecuteTime": {
     "end_time": "2024-12-06T15:29:47.671037Z",
     "start_time": "2024-12-06T15:29:46.950978Z"
    }
   },
   "cell_type": "code",
   "source": [
    "# check for duplicated values\n",
    "genres_df.duplicated().sum()"
   ],
   "id": "f4ab9550c0d65192",
   "outputs": [
    {
     "data": {
      "text/plain": [
       "np.int64(0)"
      ]
     },
     "execution_count": 47,
     "metadata": {},
     "output_type": "execute_result"
    }
   ],
   "execution_count": 47
  },
  {
   "metadata": {},
   "cell_type": "markdown",
   "source": "## Posters",
   "id": "86c4322ed5fd0623"
  },
  {
   "metadata": {
    "ExecuteTime": {
     "end_time": "2024-12-06T15:46:43.446223Z",
     "start_time": "2024-12-06T15:46:40.155852Z"
    }
   },
   "cell_type": "code",
   "source": [
    "poster_df = pd.read_csv('datasets/posters.csv')\n",
    "poster_df"
   ],
   "id": "2a6907762e34e2f5",
   "outputs": [
    {
     "data": {
      "text/plain": [
       "             id                                               link\n",
       "0       1000001  https://a.ltrbxd.com/resized/film-poster/2/7/7...\n",
       "1       1000002  https://a.ltrbxd.com/resized/film-poster/4/2/6...\n",
       "2       1000003  https://a.ltrbxd.com/resized/film-poster/4/7/4...\n",
       "3       1000004  https://a.ltrbxd.com/resized/film-poster/5/1/5...\n",
       "4       1000005  https://a.ltrbxd.com/resized/film-poster/2/4/0...\n",
       "...         ...                                                ...\n",
       "941592  1941593                                                NaN\n",
       "941593  1941594                                                NaN\n",
       "941594  1941595  https://a.ltrbxd.com/resized/film-poster/1/1/8...\n",
       "941595  1941596  https://a.ltrbxd.com/resized/film-poster/1/1/8...\n",
       "941596  1941597                                                NaN\n",
       "\n",
       "[941597 rows x 2 columns]"
      ],
      "text/html": [
       "<div>\n",
       "<style scoped>\n",
       "    .dataframe tbody tr th:only-of-type {\n",
       "        vertical-align: middle;\n",
       "    }\n",
       "\n",
       "    .dataframe tbody tr th {\n",
       "        vertical-align: top;\n",
       "    }\n",
       "\n",
       "    .dataframe thead th {\n",
       "        text-align: right;\n",
       "    }\n",
       "</style>\n",
       "<table border=\"1\" class=\"dataframe\">\n",
       "  <thead>\n",
       "    <tr style=\"text-align: right;\">\n",
       "      <th></th>\n",
       "      <th>id</th>\n",
       "      <th>link</th>\n",
       "    </tr>\n",
       "  </thead>\n",
       "  <tbody>\n",
       "    <tr>\n",
       "      <th>0</th>\n",
       "      <td>1000001</td>\n",
       "      <td>https://a.ltrbxd.com/resized/film-poster/2/7/7...</td>\n",
       "    </tr>\n",
       "    <tr>\n",
       "      <th>1</th>\n",
       "      <td>1000002</td>\n",
       "      <td>https://a.ltrbxd.com/resized/film-poster/4/2/6...</td>\n",
       "    </tr>\n",
       "    <tr>\n",
       "      <th>2</th>\n",
       "      <td>1000003</td>\n",
       "      <td>https://a.ltrbxd.com/resized/film-poster/4/7/4...</td>\n",
       "    </tr>\n",
       "    <tr>\n",
       "      <th>3</th>\n",
       "      <td>1000004</td>\n",
       "      <td>https://a.ltrbxd.com/resized/film-poster/5/1/5...</td>\n",
       "    </tr>\n",
       "    <tr>\n",
       "      <th>4</th>\n",
       "      <td>1000005</td>\n",
       "      <td>https://a.ltrbxd.com/resized/film-poster/2/4/0...</td>\n",
       "    </tr>\n",
       "    <tr>\n",
       "      <th>...</th>\n",
       "      <td>...</td>\n",
       "      <td>...</td>\n",
       "    </tr>\n",
       "    <tr>\n",
       "      <th>941592</th>\n",
       "      <td>1941593</td>\n",
       "      <td>NaN</td>\n",
       "    </tr>\n",
       "    <tr>\n",
       "      <th>941593</th>\n",
       "      <td>1941594</td>\n",
       "      <td>NaN</td>\n",
       "    </tr>\n",
       "    <tr>\n",
       "      <th>941594</th>\n",
       "      <td>1941595</td>\n",
       "      <td>https://a.ltrbxd.com/resized/film-poster/1/1/8...</td>\n",
       "    </tr>\n",
       "    <tr>\n",
       "      <th>941595</th>\n",
       "      <td>1941596</td>\n",
       "      <td>https://a.ltrbxd.com/resized/film-poster/1/1/8...</td>\n",
       "    </tr>\n",
       "    <tr>\n",
       "      <th>941596</th>\n",
       "      <td>1941597</td>\n",
       "      <td>NaN</td>\n",
       "    </tr>\n",
       "  </tbody>\n",
       "</table>\n",
       "<p>941597 rows × 2 columns</p>\n",
       "</div>"
      ]
     },
     "execution_count": 2,
     "metadata": {},
     "output_type": "execute_result"
    }
   ],
   "execution_count": 2
  },
  {
   "metadata": {
    "ExecuteTime": {
     "end_time": "2024-12-06T15:46:57.641653Z",
     "start_time": "2024-12-06T15:46:57.624615Z"
    }
   },
   "cell_type": "code",
   "source": "poster_df.dtypes",
   "id": "301f6ed84cc0bc75",
   "outputs": [
    {
     "data": {
      "text/plain": [
       "id       int64\n",
       "link    object\n",
       "dtype: object"
      ]
     },
     "execution_count": 5,
     "metadata": {},
     "output_type": "execute_result"
    }
   ],
   "execution_count": 5
  },
  {
   "metadata": {
    "ExecuteTime": {
     "end_time": "2024-12-06T15:49:58.872664Z",
     "start_time": "2024-12-06T15:49:58.512227Z"
    }
   },
   "cell_type": "code",
   "source": [
    "# check for NaN values\n",
    "poster_df.isna().sum()\n",
    "poster_df[poster_df['link'].isna()]\n",
    "\n",
    "poster_df = poster_df.dropna()"
   ],
   "id": "63dcee20ac047ce7",
   "outputs": [],
   "execution_count": 12
  },
  {
   "metadata": {
    "ExecuteTime": {
     "end_time": "2024-12-06T15:50:15.337956Z",
     "start_time": "2024-12-06T15:50:13.278639Z"
    }
   },
   "cell_type": "code",
   "source": [
    "# check for duplicated values\n",
    "poster_df.duplicated().sum()"
   ],
   "id": "47c6dd59eb2d0166",
   "outputs": [
    {
     "data": {
      "text/plain": [
       "np.int64(0)"
      ]
     },
     "execution_count": 13,
     "metadata": {},
     "output_type": "execute_result"
    }
   ],
   "execution_count": 13
  },
  {
   "metadata": {},
   "cell_type": "markdown",
   "source": "## Releases",
   "id": "4196a42a33f7c016"
  },
  {
   "metadata": {
    "ExecuteTime": {
     "end_time": "2024-12-06T15:58:20.399448Z",
     "start_time": "2024-12-06T15:58:18.559523Z"
    }
   },
   "cell_type": "code",
   "source": [
    "releases_df = pd.read_csv('datasets/releases.csv')\n",
    "releases_df"
   ],
   "id": "58d81bbee758a926",
   "outputs": [
    {
     "data": {
      "text/plain": [
       "              id    country        date        type rating\n",
       "0        1000001    Andorra  2023-07-21  Theatrical    NaN\n",
       "1        1000001  Argentina  2023-07-20  Theatrical    ATP\n",
       "2        1000001  Australia  2023-07-19  Theatrical     PG\n",
       "3        1000001  Australia  2023-10-01     Digital     PG\n",
       "4        1000001    Austria  2023-07-20  Theatrical    NaN\n",
       "...          ...        ...         ...         ...    ...\n",
       "1332777  1940967        USA  1909-01-01  Theatrical    NaN\n",
       "1332778  1940968     Sweden  1908-11-11  Theatrical    NaN\n",
       "1332779  1940969     France  1902-01-01  Theatrical    NaN\n",
       "1332780  1940970     France  1902-01-01  Theatrical    NaN\n",
       "1332781  1940971     France  1902-01-01  Theatrical    NaN\n",
       "\n",
       "[1332782 rows x 5 columns]"
      ],
      "text/html": [
       "<div>\n",
       "<style scoped>\n",
       "    .dataframe tbody tr th:only-of-type {\n",
       "        vertical-align: middle;\n",
       "    }\n",
       "\n",
       "    .dataframe tbody tr th {\n",
       "        vertical-align: top;\n",
       "    }\n",
       "\n",
       "    .dataframe thead th {\n",
       "        text-align: right;\n",
       "    }\n",
       "</style>\n",
       "<table border=\"1\" class=\"dataframe\">\n",
       "  <thead>\n",
       "    <tr style=\"text-align: right;\">\n",
       "      <th></th>\n",
       "      <th>id</th>\n",
       "      <th>country</th>\n",
       "      <th>date</th>\n",
       "      <th>type</th>\n",
       "      <th>rating</th>\n",
       "    </tr>\n",
       "  </thead>\n",
       "  <tbody>\n",
       "    <tr>\n",
       "      <th>0</th>\n",
       "      <td>1000001</td>\n",
       "      <td>Andorra</td>\n",
       "      <td>2023-07-21</td>\n",
       "      <td>Theatrical</td>\n",
       "      <td>NaN</td>\n",
       "    </tr>\n",
       "    <tr>\n",
       "      <th>1</th>\n",
       "      <td>1000001</td>\n",
       "      <td>Argentina</td>\n",
       "      <td>2023-07-20</td>\n",
       "      <td>Theatrical</td>\n",
       "      <td>ATP</td>\n",
       "    </tr>\n",
       "    <tr>\n",
       "      <th>2</th>\n",
       "      <td>1000001</td>\n",
       "      <td>Australia</td>\n",
       "      <td>2023-07-19</td>\n",
       "      <td>Theatrical</td>\n",
       "      <td>PG</td>\n",
       "    </tr>\n",
       "    <tr>\n",
       "      <th>3</th>\n",
       "      <td>1000001</td>\n",
       "      <td>Australia</td>\n",
       "      <td>2023-10-01</td>\n",
       "      <td>Digital</td>\n",
       "      <td>PG</td>\n",
       "    </tr>\n",
       "    <tr>\n",
       "      <th>4</th>\n",
       "      <td>1000001</td>\n",
       "      <td>Austria</td>\n",
       "      <td>2023-07-20</td>\n",
       "      <td>Theatrical</td>\n",
       "      <td>NaN</td>\n",
       "    </tr>\n",
       "    <tr>\n",
       "      <th>...</th>\n",
       "      <td>...</td>\n",
       "      <td>...</td>\n",
       "      <td>...</td>\n",
       "      <td>...</td>\n",
       "      <td>...</td>\n",
       "    </tr>\n",
       "    <tr>\n",
       "      <th>1332777</th>\n",
       "      <td>1940967</td>\n",
       "      <td>USA</td>\n",
       "      <td>1909-01-01</td>\n",
       "      <td>Theatrical</td>\n",
       "      <td>NaN</td>\n",
       "    </tr>\n",
       "    <tr>\n",
       "      <th>1332778</th>\n",
       "      <td>1940968</td>\n",
       "      <td>Sweden</td>\n",
       "      <td>1908-11-11</td>\n",
       "      <td>Theatrical</td>\n",
       "      <td>NaN</td>\n",
       "    </tr>\n",
       "    <tr>\n",
       "      <th>1332779</th>\n",
       "      <td>1940969</td>\n",
       "      <td>France</td>\n",
       "      <td>1902-01-01</td>\n",
       "      <td>Theatrical</td>\n",
       "      <td>NaN</td>\n",
       "    </tr>\n",
       "    <tr>\n",
       "      <th>1332780</th>\n",
       "      <td>1940970</td>\n",
       "      <td>France</td>\n",
       "      <td>1902-01-01</td>\n",
       "      <td>Theatrical</td>\n",
       "      <td>NaN</td>\n",
       "    </tr>\n",
       "    <tr>\n",
       "      <th>1332781</th>\n",
       "      <td>1940971</td>\n",
       "      <td>France</td>\n",
       "      <td>1902-01-01</td>\n",
       "      <td>Theatrical</td>\n",
       "      <td>NaN</td>\n",
       "    </tr>\n",
       "  </tbody>\n",
       "</table>\n",
       "<p>1332782 rows × 5 columns</p>\n",
       "</div>"
      ]
     },
     "execution_count": 29,
     "metadata": {},
     "output_type": "execute_result"
    }
   ],
   "execution_count": 29
  },
  {
   "metadata": {
    "ExecuteTime": {
     "end_time": "2024-12-06T15:58:11.023454Z",
     "start_time": "2024-12-06T15:58:11.011637Z"
    }
   },
   "cell_type": "code",
   "source": "releases_df.dtypes",
   "id": "532d17f380f9d16d",
   "outputs": [
    {
     "data": {
      "text/plain": [
       "id                  int64\n",
       "country            object\n",
       "date       datetime64[ns]\n",
       "type               object\n",
       "rating             object\n",
       "dtype: object"
      ]
     },
     "execution_count": 28,
     "metadata": {},
     "output_type": "execute_result"
    }
   ],
   "execution_count": 28
  },
  {
   "metadata": {
    "ExecuteTime": {
     "end_time": "2024-12-06T16:06:32.479678Z",
     "start_time": "2024-12-06T16:06:32.259207Z"
    }
   },
   "cell_type": "code",
   "source": [
    "# typing columns\n",
    "releases_df['date'] = pd.to_datetime(releases_df['date'], format='%Y-%m-%d')\n",
    "\n",
    "releases_df['type'].unique()\n",
    "releases_df['type'] = releases_df['type'].astype('category')"
   ],
   "id": "415d88b436269e09",
   "outputs": [],
   "execution_count": 41
  },
  {
   "metadata": {
    "ExecuteTime": {
     "end_time": "2024-12-06T16:06:50.313906Z",
     "start_time": "2024-12-06T16:06:50.014915Z"
    }
   },
   "cell_type": "code",
   "source": [
    "# check for NaN values\n",
    "releases_df.isna().sum()\n",
    "# releases_df[releases_df['date'].str.len() != 10]"
   ],
   "id": "1520521767a42027",
   "outputs": [
    {
     "data": {
      "text/plain": [
       "id              0\n",
       "country         0\n",
       "date            0\n",
       "type            0\n",
       "rating     998802\n",
       "dtype: int64"
      ]
     },
     "execution_count": 42,
     "metadata": {},
     "output_type": "execute_result"
    }
   ],
   "execution_count": 42
  },
  {
   "metadata": {
    "ExecuteTime": {
     "end_time": "2024-12-06T16:07:18.214084Z",
     "start_time": "2024-12-06T16:07:17.136203Z"
    }
   },
   "cell_type": "code",
   "source": [
    "# check for duplicates values\n",
    "releases_df.duplicated().sum()"
   ],
   "id": "9bd49ddafbd907a9",
   "outputs": [
    {
     "data": {
      "text/plain": [
       "np.int64(0)"
      ]
     },
     "execution_count": 45,
     "metadata": {},
     "output_type": "execute_result"
    }
   ],
   "execution_count": 45
  },
  {
   "metadata": {},
   "cell_type": "markdown",
   "source": "## Studios",
   "id": "da81d3e12dc36ea5"
  },
  {
   "metadata": {
    "ExecuteTime": {
     "end_time": "2024-12-06T16:07:59.491280Z",
     "start_time": "2024-12-06T16:07:58.193823Z"
    }
   },
   "cell_type": "code",
   "source": [
    "studios_df = pd.read_csv('datasets/studios.csv')\n",
    "studios_df"
   ],
   "id": "84396a257c71794f",
   "outputs": [
    {
     "data": {
      "text/plain": [
       "             id                   studio\n",
       "0       1000001  LuckyChap Entertainment\n",
       "1       1000001             Heyday Films\n",
       "2       1000001           NB/GG Pictures\n",
       "3       1000001                   Mattel\n",
       "4       1000001    Warner Bros. Pictures\n",
       "...         ...                      ...\n",
       "679278  1941596               上海猫眼影业有限公司\n",
       "679279  1941596            坏小子（北京）传媒有限公司\n",
       "679280  1941596         亚太国影（重庆）文化传媒有限公司\n",
       "679281  1941596               凤凰传奇影业有限公司\n",
       "679282  1941596             无双（深圳）影业有限公司\n",
       "\n",
       "[679283 rows x 2 columns]"
      ],
      "text/html": [
       "<div>\n",
       "<style scoped>\n",
       "    .dataframe tbody tr th:only-of-type {\n",
       "        vertical-align: middle;\n",
       "    }\n",
       "\n",
       "    .dataframe tbody tr th {\n",
       "        vertical-align: top;\n",
       "    }\n",
       "\n",
       "    .dataframe thead th {\n",
       "        text-align: right;\n",
       "    }\n",
       "</style>\n",
       "<table border=\"1\" class=\"dataframe\">\n",
       "  <thead>\n",
       "    <tr style=\"text-align: right;\">\n",
       "      <th></th>\n",
       "      <th>id</th>\n",
       "      <th>studio</th>\n",
       "    </tr>\n",
       "  </thead>\n",
       "  <tbody>\n",
       "    <tr>\n",
       "      <th>0</th>\n",
       "      <td>1000001</td>\n",
       "      <td>LuckyChap Entertainment</td>\n",
       "    </tr>\n",
       "    <tr>\n",
       "      <th>1</th>\n",
       "      <td>1000001</td>\n",
       "      <td>Heyday Films</td>\n",
       "    </tr>\n",
       "    <tr>\n",
       "      <th>2</th>\n",
       "      <td>1000001</td>\n",
       "      <td>NB/GG Pictures</td>\n",
       "    </tr>\n",
       "    <tr>\n",
       "      <th>3</th>\n",
       "      <td>1000001</td>\n",
       "      <td>Mattel</td>\n",
       "    </tr>\n",
       "    <tr>\n",
       "      <th>4</th>\n",
       "      <td>1000001</td>\n",
       "      <td>Warner Bros. Pictures</td>\n",
       "    </tr>\n",
       "    <tr>\n",
       "      <th>...</th>\n",
       "      <td>...</td>\n",
       "      <td>...</td>\n",
       "    </tr>\n",
       "    <tr>\n",
       "      <th>679278</th>\n",
       "      <td>1941596</td>\n",
       "      <td>上海猫眼影业有限公司</td>\n",
       "    </tr>\n",
       "    <tr>\n",
       "      <th>679279</th>\n",
       "      <td>1941596</td>\n",
       "      <td>坏小子（北京）传媒有限公司</td>\n",
       "    </tr>\n",
       "    <tr>\n",
       "      <th>679280</th>\n",
       "      <td>1941596</td>\n",
       "      <td>亚太国影（重庆）文化传媒有限公司</td>\n",
       "    </tr>\n",
       "    <tr>\n",
       "      <th>679281</th>\n",
       "      <td>1941596</td>\n",
       "      <td>凤凰传奇影业有限公司</td>\n",
       "    </tr>\n",
       "    <tr>\n",
       "      <th>679282</th>\n",
       "      <td>1941596</td>\n",
       "      <td>无双（深圳）影业有限公司</td>\n",
       "    </tr>\n",
       "  </tbody>\n",
       "</table>\n",
       "<p>679283 rows × 2 columns</p>\n",
       "</div>"
      ]
     },
     "execution_count": 47,
     "metadata": {},
     "output_type": "execute_result"
    }
   ],
   "execution_count": 47
  },
  {
   "metadata": {
    "ExecuteTime": {
     "end_time": "2024-12-06T16:08:34.845198Z",
     "start_time": "2024-12-06T16:08:34.832413Z"
    }
   },
   "cell_type": "code",
   "source": "studios_df.dtypes",
   "id": "17766a803adc482f",
   "outputs": [
    {
     "data": {
      "text/plain": [
       "id         int64\n",
       "studio    object\n",
       "dtype: object"
      ]
     },
     "execution_count": 49,
     "metadata": {},
     "output_type": "execute_result"
    }
   ],
   "execution_count": 49
  },
  {
   "metadata": {
    "ExecuteTime": {
     "end_time": "2024-12-06T16:10:35.067070Z",
     "start_time": "2024-12-06T16:10:34.739848Z"
    }
   },
   "cell_type": "code",
   "source": [
    "# check for NaN values\n",
    "studios_df.isna().sum()\n",
    "studios_df[studios_df['studio'].isna()]\n",
    "\n",
    "studios_df = studios_df.dropna()"
   ],
   "id": "fbb896ee1231f17",
   "outputs": [],
   "execution_count": 56
  },
  {
   "metadata": {
    "ExecuteTime": {
     "end_time": "2024-12-06T16:12:21.214452Z",
     "start_time": "2024-12-06T16:12:19.338649Z"
    }
   },
   "cell_type": "code",
   "source": [
    "# check for duplicated values\n",
    "studios_df.duplicated().sum()\n",
    "studios_df[studios_df.duplicated(keep=False)]\n",
    "\n",
    "studios_df = studios_df.drop_duplicates()"
   ],
   "id": "adab9f0cfe764439",
   "outputs": [],
   "execution_count": 64
  },
  {
   "metadata": {},
   "cell_type": "markdown",
   "source": "## Themes",
   "id": "9a6b57c450f01c0f"
  },
  {
   "metadata": {
    "ExecuteTime": {
     "end_time": "2024-12-06T16:13:07.475024Z",
     "start_time": "2024-12-06T16:13:07.244458Z"
    }
   },
   "cell_type": "code",
   "source": [
    "themes_df = pd.read_csv('datasets/themes.csv')\n",
    "themes_df"
   ],
   "id": "fbe022bdfd8b0a04",
   "outputs": [
    {
     "data": {
      "text/plain": [
       "             id                                              theme\n",
       "0       1000001                   Humanity and the world around us\n",
       "1       1000001                             Crude humor and satire\n",
       "2       1000001                        Moving relationship stories\n",
       "3       1000001     Emotional and captivating fantasy storytelling\n",
       "4       1000001  Surreal and thought-provoking visions of life ...\n",
       "...         ...                                                ...\n",
       "125636  1835643                         Noir and dark crime dramas\n",
       "125637  1835643        Intriguing and suspenseful murder mysteries\n",
       "125638  1849827                                 Faith and religion\n",
       "125639  1849827                       Faith and spiritual journeys\n",
       "125640  1849827              Religious faith, sin, and forgiveness\n",
       "\n",
       "[125641 rows x 2 columns]"
      ],
      "text/html": [
       "<div>\n",
       "<style scoped>\n",
       "    .dataframe tbody tr th:only-of-type {\n",
       "        vertical-align: middle;\n",
       "    }\n",
       "\n",
       "    .dataframe tbody tr th {\n",
       "        vertical-align: top;\n",
       "    }\n",
       "\n",
       "    .dataframe thead th {\n",
       "        text-align: right;\n",
       "    }\n",
       "</style>\n",
       "<table border=\"1\" class=\"dataframe\">\n",
       "  <thead>\n",
       "    <tr style=\"text-align: right;\">\n",
       "      <th></th>\n",
       "      <th>id</th>\n",
       "      <th>theme</th>\n",
       "    </tr>\n",
       "  </thead>\n",
       "  <tbody>\n",
       "    <tr>\n",
       "      <th>0</th>\n",
       "      <td>1000001</td>\n",
       "      <td>Humanity and the world around us</td>\n",
       "    </tr>\n",
       "    <tr>\n",
       "      <th>1</th>\n",
       "      <td>1000001</td>\n",
       "      <td>Crude humor and satire</td>\n",
       "    </tr>\n",
       "    <tr>\n",
       "      <th>2</th>\n",
       "      <td>1000001</td>\n",
       "      <td>Moving relationship stories</td>\n",
       "    </tr>\n",
       "    <tr>\n",
       "      <th>3</th>\n",
       "      <td>1000001</td>\n",
       "      <td>Emotional and captivating fantasy storytelling</td>\n",
       "    </tr>\n",
       "    <tr>\n",
       "      <th>4</th>\n",
       "      <td>1000001</td>\n",
       "      <td>Surreal and thought-provoking visions of life ...</td>\n",
       "    </tr>\n",
       "    <tr>\n",
       "      <th>...</th>\n",
       "      <td>...</td>\n",
       "      <td>...</td>\n",
       "    </tr>\n",
       "    <tr>\n",
       "      <th>125636</th>\n",
       "      <td>1835643</td>\n",
       "      <td>Noir and dark crime dramas</td>\n",
       "    </tr>\n",
       "    <tr>\n",
       "      <th>125637</th>\n",
       "      <td>1835643</td>\n",
       "      <td>Intriguing and suspenseful murder mysteries</td>\n",
       "    </tr>\n",
       "    <tr>\n",
       "      <th>125638</th>\n",
       "      <td>1849827</td>\n",
       "      <td>Faith and religion</td>\n",
       "    </tr>\n",
       "    <tr>\n",
       "      <th>125639</th>\n",
       "      <td>1849827</td>\n",
       "      <td>Faith and spiritual journeys</td>\n",
       "    </tr>\n",
       "    <tr>\n",
       "      <th>125640</th>\n",
       "      <td>1849827</td>\n",
       "      <td>Religious faith, sin, and forgiveness</td>\n",
       "    </tr>\n",
       "  </tbody>\n",
       "</table>\n",
       "<p>125641 rows × 2 columns</p>\n",
       "</div>"
      ]
     },
     "execution_count": 68,
     "metadata": {},
     "output_type": "execute_result"
    }
   ],
   "execution_count": 68
  },
  {
   "metadata": {
    "ExecuteTime": {
     "end_time": "2024-12-06T16:14:02.247205Z",
     "start_time": "2024-12-06T16:14:02.231948Z"
    }
   },
   "cell_type": "code",
   "source": "themes_df.dtypes",
   "id": "f936ffb1de2fe4bd",
   "outputs": [
    {
     "data": {
      "text/plain": [
       "id        int64\n",
       "theme    object\n",
       "dtype: object"
      ]
     },
     "execution_count": 70,
     "metadata": {},
     "output_type": "execute_result"
    }
   ],
   "execution_count": 70
  },
  {
   "metadata": {
    "ExecuteTime": {
     "end_time": "2024-12-06T16:16:18.317821Z",
     "start_time": "2024-12-06T16:16:18.236004Z"
    }
   },
   "cell_type": "code",
   "source": [
    "len(themes_df['theme'].unique())\n",
    "\n",
    "themes_df['theme'].unique()"
   ],
   "id": "13ad053293c1ffd2",
   "outputs": [
    {
     "data": {
      "text/plain": [
       "array(['Humanity and the world around us', 'Crude humor and satire',\n",
       "       'Moving relationship stories',\n",
       "       'Emotional and captivating fantasy storytelling',\n",
       "       'Surreal and thought-provoking visions of life and death',\n",
       "       'Quirky and endearing relationships',\n",
       "       'Amusing jokes and witty satire',\n",
       "       'Laugh-out-loud relationship entanglements',\n",
       "       'Intense violence and sexual transgression',\n",
       "       'Twisted dark psychological thriller',\n",
       "       'Heartbreaking and moving family drama',\n",
       "       'Enduring stories of family and marital drama',\n",
       "       'Touching and sentimental family stories',\n",
       "       'Intense political and terrorist thrillers',\n",
       "       'Powerful stories of heartbreak and suffering',\n",
       "       'Dreamlike, quirky, and surreal storytelling',\n",
       "       'Challenging or sexual themes & twists',\n",
       "       'Graphic violence and brutal revenge', 'Song and dance',\n",
       "       'Dazzling vocal performances and musicals',\n",
       "       'Captivating relationships and charming romance',\n",
       "       'Dance rhythms and catchy tunes',\n",
       "       'Emotional life of renowned artists',\n",
       "       'Charming romances and delightful chemistry',\n",
       "       'Politics and human rights', 'Epic history and literature',\n",
       "       'Riveting political and presidential drama',\n",
       "       'Dangerous technology and the apocalypse',\n",
       "       'Political drama, patriotism, and war',\n",
       "       'Monsters, aliens, sci-fi and the apocalypse',\n",
       "       'Imaginative space odysseys and alien encounters',\n",
       "       'Action-packed space and alien sagas',\n",
       "       'Thought-provoking sci-fi action and future technology',\n",
       "       \"Humanity's odyssey: earth and beyond\",\n",
       "       'Crime, drugs and gangsters', 'Gripping, intense violent crime',\n",
       "       'Epic heroes',\n",
       "       'Superheroes in action-packed battles with villains',\n",
       "       'Gritty crime and ruthless gangsters',\n",
       "       'Violent action, guns, and crime', 'Heists and thrilling action',\n",
       "       'Brutal, violent prison drama', \"Kids' animated fun and adventure\",\n",
       "       'Action comedy and silly heroics',\n",
       "       'Teen school antics and laughter',\n",
       "       'Student coming-of-age challenges', 'High speed and special ops',\n",
       "       'Thrillers and murder mysteries',\n",
       "       'Explosive and action-packed heroes vs. villains',\n",
       "       'Noir and dark crime dramas',\n",
       "       'Intriguing and suspenseful murder mysteries',\n",
       "       'Horror, the undead and monster classics',\n",
       "       'Terrifying, haunted, and supernatural horror',\n",
       "       'Creepy, chilling, and terrifying horror',\n",
       "       'Gory, gruesome, and slasher horror',\n",
       "       'Racism and the powerful fight for justice',\n",
       "       'Suspenseful crime thrillers', 'Gothic and eerie haunting horror',\n",
       "       'Erotic relationships and desire', 'Underdogs and coming of age',\n",
       "       'Emotional and touching family dramas',\n",
       "       'Emotional teen coming-of-age stories', 'Relationship comedy',\n",
       "       'Gags, jokes, and slapstick humor', 'Funny jokes and crude humor',\n",
       "       'Engaging, intense crime and casino drama',\n",
       "       'Violent crime and drugs',\n",
       "       'Fantasy adventure, heroism, and swordplay',\n",
       "       'Historical battles and epic heroism',\n",
       "       'Fairy-tale fantasy and enchanted magic',\n",
       "       'Adorable animals and heartwarming families',\n",
       "       'Fascinating, emotional stories and documentaries',\n",
       "       'War and historical adventure', 'Nazis and World War II',\n",
       "       'Military combat and heroic soldiers', 'Bravery in War',\n",
       "       'Adrenaline-fueled action and fast cars',\n",
       "       'Intense combat and martial arts', 'Westerns',\n",
       "       'Wild west outlaws and gunfights',\n",
       "       'Western frontier dramas with a touch of humor',\n",
       "       'Emotional LGBTQ relationships', 'Passion and romance',\n",
       "       'Holiday joy and heartwarming Christmas',\n",
       "       'Catchy songs and hilarious musical comedy',\n",
       "       'Sci-fi horror, creatures, and aliens', 'Faith and religion',\n",
       "       'Epic adventure and breathtaking battles',\n",
       "       'Tragic sadness and captivating beauty',\n",
       "       'Disastrous voyages and heroic survival',\n",
       "       'Underdog fighting and boxing stories',\n",
       "       'Air pilot heroism and survival',\n",
       "       'Exciting spy thrillers with tense intrigue',\n",
       "       'Sci-fi monster and dinosaur adventures',\n",
       "       'Chilling experiments and classic monster horror',\n",
       "       'Captivating vision and Shakespearean drama',\n",
       "       'Powerful poetic and passionate drama', 'Spooky, scary comedy',\n",
       "       'Legendary musicians and stardom',\n",
       "       'Religious faith, sin, and forgiveness', 'Bloody vampire horror',\n",
       "       'Inspiring sports underdog stories',\n",
       "       'Survival horror and zombie carnage',\n",
       "       'Extreme gory horror and cannibalism',\n",
       "       'Lavish dramas and sumptuous royalty',\n",
       "       'Faith and spiritual journeys',\n",
       "       'Politics, propaganda, and political documentaries',\n",
       "       'Teen friendship and coming-of-age', 'Bollywood emotional dramas'],\n",
       "      dtype=object)"
      ]
     },
     "execution_count": 74,
     "metadata": {},
     "output_type": "execute_result"
    }
   ],
   "execution_count": 74
  },
  {
   "metadata": {
    "ExecuteTime": {
     "end_time": "2024-12-06T16:16:52.695983Z",
     "start_time": "2024-12-06T16:16:52.667016Z"
    }
   },
   "cell_type": "code",
   "source": [
    "# check for NaN values\n",
    "themes_df.isna().sum()"
   ],
   "id": "2084d91873e547a3",
   "outputs": [
    {
     "data": {
      "text/plain": [
       "id       0\n",
       "theme    0\n",
       "dtype: int64"
      ]
     },
     "execution_count": 76,
     "metadata": {},
     "output_type": "execute_result"
    }
   ],
   "execution_count": 76
  },
  {
   "metadata": {
    "ExecuteTime": {
     "end_time": "2024-12-06T16:17:05.822113Z",
     "start_time": "2024-12-06T16:17:05.747079Z"
    }
   },
   "cell_type": "code",
   "source": [
    "# check for duplicated values\n",
    "themes_df.duplicated().sum()"
   ],
   "id": "ab2b77ce8ed56bcd",
   "outputs": [
    {
     "data": {
      "text/plain": [
       "np.int64(0)"
      ]
     },
     "execution_count": 77,
     "metadata": {},
     "output_type": "execute_result"
    }
   ],
   "execution_count": 77
  },
  {
   "metadata": {},
   "cell_type": "markdown",
   "source": "## The Oscar Awards",
   "id": "8239b51a28a377ba"
  },
  {
   "metadata": {
    "ExecuteTime": {
     "end_time": "2024-12-06T16:45:58.519945Z",
     "start_time": "2024-12-06T16:45:58.416787Z"
    }
   },
   "cell_type": "code",
   "source": [
    "oscars_df = pd.read_csv('datasets/the_oscar_awards.csv')\n",
    "oscars_df"
   ],
   "id": "90562049b2b05eb1",
   "outputs": [
    {
     "data": {
      "text/plain": [
       "       year_film  year_ceremony  ceremony                          category  \\\n",
       "0           1927           1928         1                             ACTOR   \n",
       "1           1927           1928         1                             ACTOR   \n",
       "2           1927           1928         1                           ACTRESS   \n",
       "3           1927           1928         1                           ACTRESS   \n",
       "4           1927           1928         1                           ACTRESS   \n",
       "...          ...            ...       ...                               ...   \n",
       "10884       2023           2024        96     WRITING (Original Screenplay)   \n",
       "10885       2023           2024        96  JEAN HERSHOLT HUMANITARIAN AWARD   \n",
       "10886       2023           2024        96                    HONORARY AWARD   \n",
       "10887       2023           2024        96                    HONORARY AWARD   \n",
       "10888       2023           2024        96                    HONORARY AWARD   \n",
       "\n",
       "                                                    name              film  \\\n",
       "0                                    Richard Barthelmess         The Noose   \n",
       "1                                          Emil Jannings  The Last Command   \n",
       "2                                         Louise Dresser   A Ship Comes In   \n",
       "3                                           Janet Gaynor        7th Heaven   \n",
       "4                                         Gloria Swanson    Sadie Thompson   \n",
       "...                                                  ...               ...   \n",
       "10884                             Written by Celine Song        Past Lives   \n",
       "10885                                                NaN               NaN   \n",
       "10886  To Angela Bassett, who has inspired audiences ...               NaN   \n",
       "10887  To Mel Brooks, for his comedic brilliance, pro...               NaN   \n",
       "10888  To Carol Littleton, whose commitment to her cr...               NaN   \n",
       "\n",
       "       winner  \n",
       "0       False  \n",
       "1        True  \n",
       "2       False  \n",
       "3        True  \n",
       "4       False  \n",
       "...       ...  \n",
       "10884   False  \n",
       "10885    True  \n",
       "10886    True  \n",
       "10887    True  \n",
       "10888    True  \n",
       "\n",
       "[10889 rows x 7 columns]"
      ],
      "text/html": [
       "<div>\n",
       "<style scoped>\n",
       "    .dataframe tbody tr th:only-of-type {\n",
       "        vertical-align: middle;\n",
       "    }\n",
       "\n",
       "    .dataframe tbody tr th {\n",
       "        vertical-align: top;\n",
       "    }\n",
       "\n",
       "    .dataframe thead th {\n",
       "        text-align: right;\n",
       "    }\n",
       "</style>\n",
       "<table border=\"1\" class=\"dataframe\">\n",
       "  <thead>\n",
       "    <tr style=\"text-align: right;\">\n",
       "      <th></th>\n",
       "      <th>year_film</th>\n",
       "      <th>year_ceremony</th>\n",
       "      <th>ceremony</th>\n",
       "      <th>category</th>\n",
       "      <th>name</th>\n",
       "      <th>film</th>\n",
       "      <th>winner</th>\n",
       "    </tr>\n",
       "  </thead>\n",
       "  <tbody>\n",
       "    <tr>\n",
       "      <th>0</th>\n",
       "      <td>1927</td>\n",
       "      <td>1928</td>\n",
       "      <td>1</td>\n",
       "      <td>ACTOR</td>\n",
       "      <td>Richard Barthelmess</td>\n",
       "      <td>The Noose</td>\n",
       "      <td>False</td>\n",
       "    </tr>\n",
       "    <tr>\n",
       "      <th>1</th>\n",
       "      <td>1927</td>\n",
       "      <td>1928</td>\n",
       "      <td>1</td>\n",
       "      <td>ACTOR</td>\n",
       "      <td>Emil Jannings</td>\n",
       "      <td>The Last Command</td>\n",
       "      <td>True</td>\n",
       "    </tr>\n",
       "    <tr>\n",
       "      <th>2</th>\n",
       "      <td>1927</td>\n",
       "      <td>1928</td>\n",
       "      <td>1</td>\n",
       "      <td>ACTRESS</td>\n",
       "      <td>Louise Dresser</td>\n",
       "      <td>A Ship Comes In</td>\n",
       "      <td>False</td>\n",
       "    </tr>\n",
       "    <tr>\n",
       "      <th>3</th>\n",
       "      <td>1927</td>\n",
       "      <td>1928</td>\n",
       "      <td>1</td>\n",
       "      <td>ACTRESS</td>\n",
       "      <td>Janet Gaynor</td>\n",
       "      <td>7th Heaven</td>\n",
       "      <td>True</td>\n",
       "    </tr>\n",
       "    <tr>\n",
       "      <th>4</th>\n",
       "      <td>1927</td>\n",
       "      <td>1928</td>\n",
       "      <td>1</td>\n",
       "      <td>ACTRESS</td>\n",
       "      <td>Gloria Swanson</td>\n",
       "      <td>Sadie Thompson</td>\n",
       "      <td>False</td>\n",
       "    </tr>\n",
       "    <tr>\n",
       "      <th>...</th>\n",
       "      <td>...</td>\n",
       "      <td>...</td>\n",
       "      <td>...</td>\n",
       "      <td>...</td>\n",
       "      <td>...</td>\n",
       "      <td>...</td>\n",
       "      <td>...</td>\n",
       "    </tr>\n",
       "    <tr>\n",
       "      <th>10884</th>\n",
       "      <td>2023</td>\n",
       "      <td>2024</td>\n",
       "      <td>96</td>\n",
       "      <td>WRITING (Original Screenplay)</td>\n",
       "      <td>Written by Celine Song</td>\n",
       "      <td>Past Lives</td>\n",
       "      <td>False</td>\n",
       "    </tr>\n",
       "    <tr>\n",
       "      <th>10885</th>\n",
       "      <td>2023</td>\n",
       "      <td>2024</td>\n",
       "      <td>96</td>\n",
       "      <td>JEAN HERSHOLT HUMANITARIAN AWARD</td>\n",
       "      <td>NaN</td>\n",
       "      <td>NaN</td>\n",
       "      <td>True</td>\n",
       "    </tr>\n",
       "    <tr>\n",
       "      <th>10886</th>\n",
       "      <td>2023</td>\n",
       "      <td>2024</td>\n",
       "      <td>96</td>\n",
       "      <td>HONORARY AWARD</td>\n",
       "      <td>To Angela Bassett, who has inspired audiences ...</td>\n",
       "      <td>NaN</td>\n",
       "      <td>True</td>\n",
       "    </tr>\n",
       "    <tr>\n",
       "      <th>10887</th>\n",
       "      <td>2023</td>\n",
       "      <td>2024</td>\n",
       "      <td>96</td>\n",
       "      <td>HONORARY AWARD</td>\n",
       "      <td>To Mel Brooks, for his comedic brilliance, pro...</td>\n",
       "      <td>NaN</td>\n",
       "      <td>True</td>\n",
       "    </tr>\n",
       "    <tr>\n",
       "      <th>10888</th>\n",
       "      <td>2023</td>\n",
       "      <td>2024</td>\n",
       "      <td>96</td>\n",
       "      <td>HONORARY AWARD</td>\n",
       "      <td>To Carol Littleton, whose commitment to her cr...</td>\n",
       "      <td>NaN</td>\n",
       "      <td>True</td>\n",
       "    </tr>\n",
       "  </tbody>\n",
       "</table>\n",
       "<p>10889 rows × 7 columns</p>\n",
       "</div>"
      ]
     },
     "execution_count": 122,
     "metadata": {},
     "output_type": "execute_result"
    }
   ],
   "execution_count": 122
  },
  {
   "metadata": {
    "ExecuteTime": {
     "end_time": "2024-12-06T16:46:01.375678Z",
     "start_time": "2024-12-06T16:46:01.359353Z"
    }
   },
   "cell_type": "code",
   "source": "oscars_df.dtypes",
   "id": "36ae83bf8011e711",
   "outputs": [
    {
     "data": {
      "text/plain": [
       "year_film         int64\n",
       "year_ceremony     int64\n",
       "ceremony          int64\n",
       "category         object\n",
       "name             object\n",
       "film             object\n",
       "winner             bool\n",
       "dtype: object"
      ]
     },
     "execution_count": 123,
     "metadata": {},
     "output_type": "execute_result"
    }
   ],
   "execution_count": 123
  },
  {
   "metadata": {
    "ExecuteTime": {
     "end_time": "2024-12-06T16:46:12.251271Z",
     "start_time": "2024-12-06T16:46:12.238500Z"
    }
   },
   "cell_type": "code",
   "source": [
    "# typing columns\n",
    "oscars_df['ceremony'].unique()\n",
    "\n",
    "# year_film always <= year_ceremony\n",
    "# oscars_df[oscars_df['year_film'] > oscars_df['year_ceremony']]\n",
    "\n",
    "oscars_df['category'] = oscars_df['category'].astype('category')"
   ],
   "id": "bd61632afb506e99",
   "outputs": [],
   "execution_count": 124
  },
  {
   "metadata": {
    "ExecuteTime": {
     "end_time": "2024-12-06T16:52:56.148224Z",
     "start_time": "2024-12-06T16:52:56.107312Z"
    }
   },
   "cell_type": "code",
   "source": [
    "# check for NaN values\n",
    "oscars_df.isna().sum()\n",
    "\n",
    "oscars_df[oscars_df['category'] == \"JEAN HERSHOLT HUMANITARIAN AWARD\"]"
   ],
   "id": "307b81116fc86d32",
   "outputs": [
    {
     "data": {
      "text/plain": [
       "       year_film  year_ceremony  ceremony                          category  \\\n",
       "3259        1956           1957        29  JEAN HERSHOLT HUMANITARIAN AWARD   \n",
       "3357        1957           1958        30  JEAN HERSHOLT HUMANITARIAN AWARD   \n",
       "3589        1959           1960        32  JEAN HERSHOLT HUMANITARIAN AWARD   \n",
       "3710        1960           1961        33  JEAN HERSHOLT HUMANITARIAN AWARD   \n",
       "3833        1961           1962        34  JEAN HERSHOLT HUMANITARIAN AWARD   \n",
       "3955        1962           1963        35  JEAN HERSHOLT HUMANITARIAN AWARD   \n",
       "4324        1965           1966        38  JEAN HERSHOLT HUMANITARIAN AWARD   \n",
       "4447        1966           1967        39  JEAN HERSHOLT HUMANITARIAN AWARD   \n",
       "4557        1967           1968        40  JEAN HERSHOLT HUMANITARIAN AWARD   \n",
       "4665        1968           1969        41  JEAN HERSHOLT HUMANITARIAN AWARD   \n",
       "4771        1969           1970        42  JEAN HERSHOLT HUMANITARIAN AWARD   \n",
       "4876        1970           1971        43  JEAN HERSHOLT HUMANITARIAN AWARD   \n",
       "5085        1972           1973        45  JEAN HERSHOLT HUMANITARIAN AWARD   \n",
       "5187        1973           1974        46  JEAN HERSHOLT HUMANITARIAN AWARD   \n",
       "5295        1974           1975        47  JEAN HERSHOLT HUMANITARIAN AWARD   \n",
       "5402        1975           1976        48  JEAN HERSHOLT HUMANITARIAN AWARD   \n",
       "5615        1977           1978        50  JEAN HERSHOLT HUMANITARIAN AWARD   \n",
       "5719        1978           1979        51  JEAN HERSHOLT HUMANITARIAN AWARD   \n",
       "5831        1979           1980        52  JEAN HERSHOLT HUMANITARIAN AWARD   \n",
       "6034        1981           1982        54  JEAN HERSHOLT HUMANITARIAN AWARD   \n",
       "6146        1982           1983        55  JEAN HERSHOLT HUMANITARIAN AWARD   \n",
       "6250        1983           1984        56  JEAN HERSHOLT HUMANITARIAN AWARD   \n",
       "6358        1984           1985        57  JEAN HERSHOLT HUMANITARIAN AWARD   \n",
       "6466        1985           1986        58  JEAN HERSHOLT HUMANITARIAN AWARD   \n",
       "6887        1989           1990        62  JEAN HERSHOLT HUMANITARIAN AWARD   \n",
       "7213        1992           1993        65  JEAN HERSHOLT HUMANITARIAN AWARD   \n",
       "7214        1992           1993        65  JEAN HERSHOLT HUMANITARIAN AWARD   \n",
       "7323        1993           1994        66  JEAN HERSHOLT HUMANITARIAN AWARD   \n",
       "7434        1994           1995        67  JEAN HERSHOLT HUMANITARIAN AWARD   \n",
       "8225        2001           2002        74  JEAN HERSHOLT HUMANITARIAN AWARD   \n",
       "8564        2004           2005        77  JEAN HERSHOLT HUMANITARIAN AWARD   \n",
       "8789        2006           2007        79  JEAN HERSHOLT HUMANITARIAN AWARD   \n",
       "9016        2008           2009        81  JEAN HERSHOLT HUMANITARIAN AWARD   \n",
       "9385        2011           2012        84  JEAN HERSHOLT HUMANITARIAN AWARD   \n",
       "9510        2012           2013        85  JEAN HERSHOLT HUMANITARIAN AWARD   \n",
       "9636        2013           2014        86  JEAN HERSHOLT HUMANITARIAN AWARD   \n",
       "9761        2014           2015        87  JEAN HERSHOLT HUMANITARIAN AWARD   \n",
       "9886        2015           2016        88  JEAN HERSHOLT HUMANITARIAN AWARD   \n",
       "10391       2019           2020        92  JEAN HERSHOLT HUMANITARIAN AWARD   \n",
       "10513       2020           2021        93  JEAN HERSHOLT HUMANITARIAN AWARD   \n",
       "10514       2020           2021        93  JEAN HERSHOLT HUMANITARIAN AWARD   \n",
       "10635       2021           2022        94  JEAN HERSHOLT HUMANITARIAN AWARD   \n",
       "10759       2022           2023        95  JEAN HERSHOLT HUMANITARIAN AWARD   \n",
       "10885       2023           2024        96  JEAN HERSHOLT HUMANITARIAN AWARD   \n",
       "\n",
       "                         name film  winner  \n",
       "3259         Y. Frank Freeman  NaN    True  \n",
       "3357           Samuel Goldwyn  NaN    True  \n",
       "3589                 Bob Hope  NaN    True  \n",
       "3710               Sol Lesser  NaN    True  \n",
       "3833            George Seaton  NaN    True  \n",
       "3955             Steve Broidy  NaN    True  \n",
       "4324        Edmond L. DePatie  NaN    True  \n",
       "4447           George Bagnall  NaN    True  \n",
       "4557             Gregory Peck  NaN    True  \n",
       "4665              Martha Raye  NaN    True  \n",
       "4771            George Jessel  NaN    True  \n",
       "4876            Frank Sinatra  NaN    True  \n",
       "5085         Rosalind Russell  NaN    True  \n",
       "5187            Lew Wasserman  NaN    True  \n",
       "5295           Arthur B. Krim  NaN    True  \n",
       "5402       Dr. Jules C. Stein  NaN    True  \n",
       "5615          Charlton Heston  NaN    True  \n",
       "5719                Leo Jaffe  NaN    True  \n",
       "5831          Robert Benjamin  NaN    True  \n",
       "6034               Danny Kaye  NaN    True  \n",
       "6146           Walter Mirisch  NaN    True  \n",
       "6250         M. J. Frankovich  NaN    True  \n",
       "6358          David L. Wolper  NaN    True  \n",
       "6466   Charles 'Buddy' Rogers  NaN    True  \n",
       "6887           Howard W. Koch  NaN    True  \n",
       "7213           Audrey Hepburn  NaN    True  \n",
       "7214         Elizabeth Taylor  NaN    True  \n",
       "7323              Paul Newman  NaN    True  \n",
       "7434             Quincy Jones  NaN    True  \n",
       "8225            Arthur Hiller  NaN    True  \n",
       "8564              Roger Mayer  NaN    True  \n",
       "8789           Sherry Lansing  NaN    True  \n",
       "9016              Jerry Lewis  NaN    True  \n",
       "9385            Oprah Winfrey  NaN    True  \n",
       "9510       Jeffrey Katzenberg  NaN    True  \n",
       "9636           Angelina Jolie  NaN    True  \n",
       "9761          Harry Belafonte  NaN    True  \n",
       "9886          Debbie Reynolds  NaN    True  \n",
       "10391             Geena Davis  NaN    True  \n",
       "10513                     NaN  NaN    True  \n",
       "10514                     NaN  NaN    True  \n",
       "10635                     NaN  NaN    True  \n",
       "10759                     NaN  NaN    True  \n",
       "10885                     NaN  NaN    True  "
      ],
      "text/html": [
       "<div>\n",
       "<style scoped>\n",
       "    .dataframe tbody tr th:only-of-type {\n",
       "        vertical-align: middle;\n",
       "    }\n",
       "\n",
       "    .dataframe tbody tr th {\n",
       "        vertical-align: top;\n",
       "    }\n",
       "\n",
       "    .dataframe thead th {\n",
       "        text-align: right;\n",
       "    }\n",
       "</style>\n",
       "<table border=\"1\" class=\"dataframe\">\n",
       "  <thead>\n",
       "    <tr style=\"text-align: right;\">\n",
       "      <th></th>\n",
       "      <th>year_film</th>\n",
       "      <th>year_ceremony</th>\n",
       "      <th>ceremony</th>\n",
       "      <th>category</th>\n",
       "      <th>name</th>\n",
       "      <th>film</th>\n",
       "      <th>winner</th>\n",
       "    </tr>\n",
       "  </thead>\n",
       "  <tbody>\n",
       "    <tr>\n",
       "      <th>3259</th>\n",
       "      <td>1956</td>\n",
       "      <td>1957</td>\n",
       "      <td>29</td>\n",
       "      <td>JEAN HERSHOLT HUMANITARIAN AWARD</td>\n",
       "      <td>Y. Frank Freeman</td>\n",
       "      <td>NaN</td>\n",
       "      <td>True</td>\n",
       "    </tr>\n",
       "    <tr>\n",
       "      <th>3357</th>\n",
       "      <td>1957</td>\n",
       "      <td>1958</td>\n",
       "      <td>30</td>\n",
       "      <td>JEAN HERSHOLT HUMANITARIAN AWARD</td>\n",
       "      <td>Samuel Goldwyn</td>\n",
       "      <td>NaN</td>\n",
       "      <td>True</td>\n",
       "    </tr>\n",
       "    <tr>\n",
       "      <th>3589</th>\n",
       "      <td>1959</td>\n",
       "      <td>1960</td>\n",
       "      <td>32</td>\n",
       "      <td>JEAN HERSHOLT HUMANITARIAN AWARD</td>\n",
       "      <td>Bob Hope</td>\n",
       "      <td>NaN</td>\n",
       "      <td>True</td>\n",
       "    </tr>\n",
       "    <tr>\n",
       "      <th>3710</th>\n",
       "      <td>1960</td>\n",
       "      <td>1961</td>\n",
       "      <td>33</td>\n",
       "      <td>JEAN HERSHOLT HUMANITARIAN AWARD</td>\n",
       "      <td>Sol Lesser</td>\n",
       "      <td>NaN</td>\n",
       "      <td>True</td>\n",
       "    </tr>\n",
       "    <tr>\n",
       "      <th>3833</th>\n",
       "      <td>1961</td>\n",
       "      <td>1962</td>\n",
       "      <td>34</td>\n",
       "      <td>JEAN HERSHOLT HUMANITARIAN AWARD</td>\n",
       "      <td>George Seaton</td>\n",
       "      <td>NaN</td>\n",
       "      <td>True</td>\n",
       "    </tr>\n",
       "    <tr>\n",
       "      <th>3955</th>\n",
       "      <td>1962</td>\n",
       "      <td>1963</td>\n",
       "      <td>35</td>\n",
       "      <td>JEAN HERSHOLT HUMANITARIAN AWARD</td>\n",
       "      <td>Steve Broidy</td>\n",
       "      <td>NaN</td>\n",
       "      <td>True</td>\n",
       "    </tr>\n",
       "    <tr>\n",
       "      <th>4324</th>\n",
       "      <td>1965</td>\n",
       "      <td>1966</td>\n",
       "      <td>38</td>\n",
       "      <td>JEAN HERSHOLT HUMANITARIAN AWARD</td>\n",
       "      <td>Edmond L. DePatie</td>\n",
       "      <td>NaN</td>\n",
       "      <td>True</td>\n",
       "    </tr>\n",
       "    <tr>\n",
       "      <th>4447</th>\n",
       "      <td>1966</td>\n",
       "      <td>1967</td>\n",
       "      <td>39</td>\n",
       "      <td>JEAN HERSHOLT HUMANITARIAN AWARD</td>\n",
       "      <td>George Bagnall</td>\n",
       "      <td>NaN</td>\n",
       "      <td>True</td>\n",
       "    </tr>\n",
       "    <tr>\n",
       "      <th>4557</th>\n",
       "      <td>1967</td>\n",
       "      <td>1968</td>\n",
       "      <td>40</td>\n",
       "      <td>JEAN HERSHOLT HUMANITARIAN AWARD</td>\n",
       "      <td>Gregory Peck</td>\n",
       "      <td>NaN</td>\n",
       "      <td>True</td>\n",
       "    </tr>\n",
       "    <tr>\n",
       "      <th>4665</th>\n",
       "      <td>1968</td>\n",
       "      <td>1969</td>\n",
       "      <td>41</td>\n",
       "      <td>JEAN HERSHOLT HUMANITARIAN AWARD</td>\n",
       "      <td>Martha Raye</td>\n",
       "      <td>NaN</td>\n",
       "      <td>True</td>\n",
       "    </tr>\n",
       "    <tr>\n",
       "      <th>4771</th>\n",
       "      <td>1969</td>\n",
       "      <td>1970</td>\n",
       "      <td>42</td>\n",
       "      <td>JEAN HERSHOLT HUMANITARIAN AWARD</td>\n",
       "      <td>George Jessel</td>\n",
       "      <td>NaN</td>\n",
       "      <td>True</td>\n",
       "    </tr>\n",
       "    <tr>\n",
       "      <th>4876</th>\n",
       "      <td>1970</td>\n",
       "      <td>1971</td>\n",
       "      <td>43</td>\n",
       "      <td>JEAN HERSHOLT HUMANITARIAN AWARD</td>\n",
       "      <td>Frank Sinatra</td>\n",
       "      <td>NaN</td>\n",
       "      <td>True</td>\n",
       "    </tr>\n",
       "    <tr>\n",
       "      <th>5085</th>\n",
       "      <td>1972</td>\n",
       "      <td>1973</td>\n",
       "      <td>45</td>\n",
       "      <td>JEAN HERSHOLT HUMANITARIAN AWARD</td>\n",
       "      <td>Rosalind Russell</td>\n",
       "      <td>NaN</td>\n",
       "      <td>True</td>\n",
       "    </tr>\n",
       "    <tr>\n",
       "      <th>5187</th>\n",
       "      <td>1973</td>\n",
       "      <td>1974</td>\n",
       "      <td>46</td>\n",
       "      <td>JEAN HERSHOLT HUMANITARIAN AWARD</td>\n",
       "      <td>Lew Wasserman</td>\n",
       "      <td>NaN</td>\n",
       "      <td>True</td>\n",
       "    </tr>\n",
       "    <tr>\n",
       "      <th>5295</th>\n",
       "      <td>1974</td>\n",
       "      <td>1975</td>\n",
       "      <td>47</td>\n",
       "      <td>JEAN HERSHOLT HUMANITARIAN AWARD</td>\n",
       "      <td>Arthur B. Krim</td>\n",
       "      <td>NaN</td>\n",
       "      <td>True</td>\n",
       "    </tr>\n",
       "    <tr>\n",
       "      <th>5402</th>\n",
       "      <td>1975</td>\n",
       "      <td>1976</td>\n",
       "      <td>48</td>\n",
       "      <td>JEAN HERSHOLT HUMANITARIAN AWARD</td>\n",
       "      <td>Dr. Jules C. Stein</td>\n",
       "      <td>NaN</td>\n",
       "      <td>True</td>\n",
       "    </tr>\n",
       "    <tr>\n",
       "      <th>5615</th>\n",
       "      <td>1977</td>\n",
       "      <td>1978</td>\n",
       "      <td>50</td>\n",
       "      <td>JEAN HERSHOLT HUMANITARIAN AWARD</td>\n",
       "      <td>Charlton Heston</td>\n",
       "      <td>NaN</td>\n",
       "      <td>True</td>\n",
       "    </tr>\n",
       "    <tr>\n",
       "      <th>5719</th>\n",
       "      <td>1978</td>\n",
       "      <td>1979</td>\n",
       "      <td>51</td>\n",
       "      <td>JEAN HERSHOLT HUMANITARIAN AWARD</td>\n",
       "      <td>Leo Jaffe</td>\n",
       "      <td>NaN</td>\n",
       "      <td>True</td>\n",
       "    </tr>\n",
       "    <tr>\n",
       "      <th>5831</th>\n",
       "      <td>1979</td>\n",
       "      <td>1980</td>\n",
       "      <td>52</td>\n",
       "      <td>JEAN HERSHOLT HUMANITARIAN AWARD</td>\n",
       "      <td>Robert Benjamin</td>\n",
       "      <td>NaN</td>\n",
       "      <td>True</td>\n",
       "    </tr>\n",
       "    <tr>\n",
       "      <th>6034</th>\n",
       "      <td>1981</td>\n",
       "      <td>1982</td>\n",
       "      <td>54</td>\n",
       "      <td>JEAN HERSHOLT HUMANITARIAN AWARD</td>\n",
       "      <td>Danny Kaye</td>\n",
       "      <td>NaN</td>\n",
       "      <td>True</td>\n",
       "    </tr>\n",
       "    <tr>\n",
       "      <th>6146</th>\n",
       "      <td>1982</td>\n",
       "      <td>1983</td>\n",
       "      <td>55</td>\n",
       "      <td>JEAN HERSHOLT HUMANITARIAN AWARD</td>\n",
       "      <td>Walter Mirisch</td>\n",
       "      <td>NaN</td>\n",
       "      <td>True</td>\n",
       "    </tr>\n",
       "    <tr>\n",
       "      <th>6250</th>\n",
       "      <td>1983</td>\n",
       "      <td>1984</td>\n",
       "      <td>56</td>\n",
       "      <td>JEAN HERSHOLT HUMANITARIAN AWARD</td>\n",
       "      <td>M. J. Frankovich</td>\n",
       "      <td>NaN</td>\n",
       "      <td>True</td>\n",
       "    </tr>\n",
       "    <tr>\n",
       "      <th>6358</th>\n",
       "      <td>1984</td>\n",
       "      <td>1985</td>\n",
       "      <td>57</td>\n",
       "      <td>JEAN HERSHOLT HUMANITARIAN AWARD</td>\n",
       "      <td>David L. Wolper</td>\n",
       "      <td>NaN</td>\n",
       "      <td>True</td>\n",
       "    </tr>\n",
       "    <tr>\n",
       "      <th>6466</th>\n",
       "      <td>1985</td>\n",
       "      <td>1986</td>\n",
       "      <td>58</td>\n",
       "      <td>JEAN HERSHOLT HUMANITARIAN AWARD</td>\n",
       "      <td>Charles 'Buddy' Rogers</td>\n",
       "      <td>NaN</td>\n",
       "      <td>True</td>\n",
       "    </tr>\n",
       "    <tr>\n",
       "      <th>6887</th>\n",
       "      <td>1989</td>\n",
       "      <td>1990</td>\n",
       "      <td>62</td>\n",
       "      <td>JEAN HERSHOLT HUMANITARIAN AWARD</td>\n",
       "      <td>Howard W. Koch</td>\n",
       "      <td>NaN</td>\n",
       "      <td>True</td>\n",
       "    </tr>\n",
       "    <tr>\n",
       "      <th>7213</th>\n",
       "      <td>1992</td>\n",
       "      <td>1993</td>\n",
       "      <td>65</td>\n",
       "      <td>JEAN HERSHOLT HUMANITARIAN AWARD</td>\n",
       "      <td>Audrey Hepburn</td>\n",
       "      <td>NaN</td>\n",
       "      <td>True</td>\n",
       "    </tr>\n",
       "    <tr>\n",
       "      <th>7214</th>\n",
       "      <td>1992</td>\n",
       "      <td>1993</td>\n",
       "      <td>65</td>\n",
       "      <td>JEAN HERSHOLT HUMANITARIAN AWARD</td>\n",
       "      <td>Elizabeth Taylor</td>\n",
       "      <td>NaN</td>\n",
       "      <td>True</td>\n",
       "    </tr>\n",
       "    <tr>\n",
       "      <th>7323</th>\n",
       "      <td>1993</td>\n",
       "      <td>1994</td>\n",
       "      <td>66</td>\n",
       "      <td>JEAN HERSHOLT HUMANITARIAN AWARD</td>\n",
       "      <td>Paul Newman</td>\n",
       "      <td>NaN</td>\n",
       "      <td>True</td>\n",
       "    </tr>\n",
       "    <tr>\n",
       "      <th>7434</th>\n",
       "      <td>1994</td>\n",
       "      <td>1995</td>\n",
       "      <td>67</td>\n",
       "      <td>JEAN HERSHOLT HUMANITARIAN AWARD</td>\n",
       "      <td>Quincy Jones</td>\n",
       "      <td>NaN</td>\n",
       "      <td>True</td>\n",
       "    </tr>\n",
       "    <tr>\n",
       "      <th>8225</th>\n",
       "      <td>2001</td>\n",
       "      <td>2002</td>\n",
       "      <td>74</td>\n",
       "      <td>JEAN HERSHOLT HUMANITARIAN AWARD</td>\n",
       "      <td>Arthur Hiller</td>\n",
       "      <td>NaN</td>\n",
       "      <td>True</td>\n",
       "    </tr>\n",
       "    <tr>\n",
       "      <th>8564</th>\n",
       "      <td>2004</td>\n",
       "      <td>2005</td>\n",
       "      <td>77</td>\n",
       "      <td>JEAN HERSHOLT HUMANITARIAN AWARD</td>\n",
       "      <td>Roger Mayer</td>\n",
       "      <td>NaN</td>\n",
       "      <td>True</td>\n",
       "    </tr>\n",
       "    <tr>\n",
       "      <th>8789</th>\n",
       "      <td>2006</td>\n",
       "      <td>2007</td>\n",
       "      <td>79</td>\n",
       "      <td>JEAN HERSHOLT HUMANITARIAN AWARD</td>\n",
       "      <td>Sherry Lansing</td>\n",
       "      <td>NaN</td>\n",
       "      <td>True</td>\n",
       "    </tr>\n",
       "    <tr>\n",
       "      <th>9016</th>\n",
       "      <td>2008</td>\n",
       "      <td>2009</td>\n",
       "      <td>81</td>\n",
       "      <td>JEAN HERSHOLT HUMANITARIAN AWARD</td>\n",
       "      <td>Jerry Lewis</td>\n",
       "      <td>NaN</td>\n",
       "      <td>True</td>\n",
       "    </tr>\n",
       "    <tr>\n",
       "      <th>9385</th>\n",
       "      <td>2011</td>\n",
       "      <td>2012</td>\n",
       "      <td>84</td>\n",
       "      <td>JEAN HERSHOLT HUMANITARIAN AWARD</td>\n",
       "      <td>Oprah Winfrey</td>\n",
       "      <td>NaN</td>\n",
       "      <td>True</td>\n",
       "    </tr>\n",
       "    <tr>\n",
       "      <th>9510</th>\n",
       "      <td>2012</td>\n",
       "      <td>2013</td>\n",
       "      <td>85</td>\n",
       "      <td>JEAN HERSHOLT HUMANITARIAN AWARD</td>\n",
       "      <td>Jeffrey Katzenberg</td>\n",
       "      <td>NaN</td>\n",
       "      <td>True</td>\n",
       "    </tr>\n",
       "    <tr>\n",
       "      <th>9636</th>\n",
       "      <td>2013</td>\n",
       "      <td>2014</td>\n",
       "      <td>86</td>\n",
       "      <td>JEAN HERSHOLT HUMANITARIAN AWARD</td>\n",
       "      <td>Angelina Jolie</td>\n",
       "      <td>NaN</td>\n",
       "      <td>True</td>\n",
       "    </tr>\n",
       "    <tr>\n",
       "      <th>9761</th>\n",
       "      <td>2014</td>\n",
       "      <td>2015</td>\n",
       "      <td>87</td>\n",
       "      <td>JEAN HERSHOLT HUMANITARIAN AWARD</td>\n",
       "      <td>Harry Belafonte</td>\n",
       "      <td>NaN</td>\n",
       "      <td>True</td>\n",
       "    </tr>\n",
       "    <tr>\n",
       "      <th>9886</th>\n",
       "      <td>2015</td>\n",
       "      <td>2016</td>\n",
       "      <td>88</td>\n",
       "      <td>JEAN HERSHOLT HUMANITARIAN AWARD</td>\n",
       "      <td>Debbie Reynolds</td>\n",
       "      <td>NaN</td>\n",
       "      <td>True</td>\n",
       "    </tr>\n",
       "    <tr>\n",
       "      <th>10391</th>\n",
       "      <td>2019</td>\n",
       "      <td>2020</td>\n",
       "      <td>92</td>\n",
       "      <td>JEAN HERSHOLT HUMANITARIAN AWARD</td>\n",
       "      <td>Geena Davis</td>\n",
       "      <td>NaN</td>\n",
       "      <td>True</td>\n",
       "    </tr>\n",
       "    <tr>\n",
       "      <th>10513</th>\n",
       "      <td>2020</td>\n",
       "      <td>2021</td>\n",
       "      <td>93</td>\n",
       "      <td>JEAN HERSHOLT HUMANITARIAN AWARD</td>\n",
       "      <td>NaN</td>\n",
       "      <td>NaN</td>\n",
       "      <td>True</td>\n",
       "    </tr>\n",
       "    <tr>\n",
       "      <th>10514</th>\n",
       "      <td>2020</td>\n",
       "      <td>2021</td>\n",
       "      <td>93</td>\n",
       "      <td>JEAN HERSHOLT HUMANITARIAN AWARD</td>\n",
       "      <td>NaN</td>\n",
       "      <td>NaN</td>\n",
       "      <td>True</td>\n",
       "    </tr>\n",
       "    <tr>\n",
       "      <th>10635</th>\n",
       "      <td>2021</td>\n",
       "      <td>2022</td>\n",
       "      <td>94</td>\n",
       "      <td>JEAN HERSHOLT HUMANITARIAN AWARD</td>\n",
       "      <td>NaN</td>\n",
       "      <td>NaN</td>\n",
       "      <td>True</td>\n",
       "    </tr>\n",
       "    <tr>\n",
       "      <th>10759</th>\n",
       "      <td>2022</td>\n",
       "      <td>2023</td>\n",
       "      <td>95</td>\n",
       "      <td>JEAN HERSHOLT HUMANITARIAN AWARD</td>\n",
       "      <td>NaN</td>\n",
       "      <td>NaN</td>\n",
       "      <td>True</td>\n",
       "    </tr>\n",
       "    <tr>\n",
       "      <th>10885</th>\n",
       "      <td>2023</td>\n",
       "      <td>2024</td>\n",
       "      <td>96</td>\n",
       "      <td>JEAN HERSHOLT HUMANITARIAN AWARD</td>\n",
       "      <td>NaN</td>\n",
       "      <td>NaN</td>\n",
       "      <td>True</td>\n",
       "    </tr>\n",
       "  </tbody>\n",
       "</table>\n",
       "</div>"
      ]
     },
     "execution_count": 128,
     "metadata": {},
     "output_type": "execute_result"
    }
   ],
   "execution_count": 128
  },
  {
   "metadata": {
    "ExecuteTime": {
     "end_time": "2024-12-06T16:43:07.846895Z",
     "start_time": "2024-12-06T16:43:07.833463Z"
    }
   },
   "cell_type": "code",
   "source": [
    "# check for duplicated values\n",
    "oscars_df.duplicated().sum()"
   ],
   "id": "17006996a9aa1b24",
   "outputs": [
    {
     "data": {
      "text/plain": [
       "np.int64(10774)"
      ]
     },
     "execution_count": 117,
     "metadata": {},
     "output_type": "execute_result"
    }
   ],
   "execution_count": 117
  }
 ],
 "metadata": {
  "kernelspec": {
   "display_name": "Python 3",
   "language": "python",
   "name": "python3"
  },
  "language_info": {
   "codemirror_mode": {
    "name": "ipython",
    "version": 2
   },
   "file_extension": ".py",
   "mimetype": "text/x-python",
   "name": "python",
   "nbconvert_exporter": "python",
   "pygments_lexer": "ipython2",
   "version": "2.7.6"
  }
 },
 "nbformat": 4,
 "nbformat_minor": 5
}
