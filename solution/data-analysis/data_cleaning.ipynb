{
 "cells": [
  {
   "cell_type": "markdown",
   "id": "1ada8e0800af80f",
   "metadata": {},
   "source": [
    "# Data Cleaning\n",
    "The cleaning process is organized into sections, each corresponding to a different dataset (`.csv` file). Each section includes the following steps:\n",
    "\n",
    "1. **Data Understanding**: Initial exploration of the dataset.\n",
    "2. **Data Cleaning**: Handling of missing values (NaN), removal of duplicates, setting correct data types, and renaming columns. <br>\n",
    "   *(Optional)* **Deep Clean**: Custom cleaning steps applied to a specific dataset, if necessary.\n",
    "3. **Final Result**: Displays the cleaned dataset and saves it to a new `.csv` file.\n",
    "\n",
    "All the datasets combined have a total size of ~1Gb and can be all uploaded in memory at the same time on almost every PC.\n",
    "\n",
    "First, import the necessary libraries and set up any required options."
   ]
  },
  {
   "cell_type": "code",
   "id": "initial_id",
   "metadata": {
    "ExecuteTime": {
     "end_time": "2024-12-27T16:12:03.634021Z",
     "start_time": "2024-12-27T16:12:03.286236Z"
    }
   },
   "source": [
    "import pandas as pd\n",
    "import numpy as np\n",
    "\n",
    "from utils.utils import find_matching\n",
    "\n",
    "# Set to True to print cleaned data into new csv\n",
    "PRINT_CSV = False"
   ],
   "outputs": [],
   "execution_count": 1
  },
  {
   "cell_type": "markdown",
   "id": "3535d2e877d218a5",
   "metadata": {},
   "source": [
    "## Movies"
   ]
  },
  {
   "cell_type": "code",
   "id": "bfa523a3d71aa334",
   "metadata": {
    "ExecuteTime": {
     "end_time": "2024-12-27T16:12:06.858589Z",
     "start_time": "2024-12-27T16:12:03.641909Z"
    }
   },
   "source": [
    "# Import 'movies.csv' dataset\n",
    "movies_df = pd.read_csv('datasets/movies.csv')"
   ],
   "outputs": [],
   "execution_count": 2
  },
  {
   "cell_type": "markdown",
   "id": "91a7f5cc08f506b1",
   "metadata": {},
   "source": [
    "### 1. Data Understanding"
   ]
  },
  {
   "cell_type": "code",
   "id": "3fdf6136a09202bf",
   "metadata": {
    "ExecuteTime": {
     "end_time": "2024-12-27T16:12:07.000187Z",
     "start_time": "2024-12-27T16:12:06.989738Z"
    }
   },
   "source": [
    "movies_df.head()"
   ],
   "outputs": [
    {
     "data": {
      "text/plain": [
       "        id                               name    date  \\\n",
       "0  1000001                             Barbie  2023.0   \n",
       "1  1000002                           Parasite  2019.0   \n",
       "2  1000003  Everything Everywhere All at Once  2022.0   \n",
       "3  1000004                         Fight Club  1999.0   \n",
       "4  1000005                         La La Land  2016.0   \n",
       "\n",
       "                                            tagline  \\\n",
       "0                  She's everything. He's just Ken.   \n",
       "1                       Act like you own the place.   \n",
       "2  The universe is so much bigger than you realize.   \n",
       "3                           Mischief. Mayhem. Soap.   \n",
       "4                    Here's to the fools who dream.   \n",
       "\n",
       "                                         description  minute  rating  \n",
       "0  Barbie and Ken are having the time of their li...   114.0    3.86  \n",
       "1  All unemployed, Ki-taek's family takes peculia...   133.0    4.56  \n",
       "2  An aging Chinese immigrant is swept up in an i...   140.0    4.30  \n",
       "3  A ticking-time-bomb insomniac and a slippery s...   139.0    4.27  \n",
       "4  Mia, an aspiring actress, serves lattes to mov...   129.0    4.09  "
      ],
      "text/html": [
       "<div>\n",
       "<style scoped>\n",
       "    .dataframe tbody tr th:only-of-type {\n",
       "        vertical-align: middle;\n",
       "    }\n",
       "\n",
       "    .dataframe tbody tr th {\n",
       "        vertical-align: top;\n",
       "    }\n",
       "\n",
       "    .dataframe thead th {\n",
       "        text-align: right;\n",
       "    }\n",
       "</style>\n",
       "<table border=\"1\" class=\"dataframe\">\n",
       "  <thead>\n",
       "    <tr style=\"text-align: right;\">\n",
       "      <th></th>\n",
       "      <th>id</th>\n",
       "      <th>name</th>\n",
       "      <th>date</th>\n",
       "      <th>tagline</th>\n",
       "      <th>description</th>\n",
       "      <th>minute</th>\n",
       "      <th>rating</th>\n",
       "    </tr>\n",
       "  </thead>\n",
       "  <tbody>\n",
       "    <tr>\n",
       "      <th>0</th>\n",
       "      <td>1000001</td>\n",
       "      <td>Barbie</td>\n",
       "      <td>2023.0</td>\n",
       "      <td>She's everything. He's just Ken.</td>\n",
       "      <td>Barbie and Ken are having the time of their li...</td>\n",
       "      <td>114.0</td>\n",
       "      <td>3.86</td>\n",
       "    </tr>\n",
       "    <tr>\n",
       "      <th>1</th>\n",
       "      <td>1000002</td>\n",
       "      <td>Parasite</td>\n",
       "      <td>2019.0</td>\n",
       "      <td>Act like you own the place.</td>\n",
       "      <td>All unemployed, Ki-taek's family takes peculia...</td>\n",
       "      <td>133.0</td>\n",
       "      <td>4.56</td>\n",
       "    </tr>\n",
       "    <tr>\n",
       "      <th>2</th>\n",
       "      <td>1000003</td>\n",
       "      <td>Everything Everywhere All at Once</td>\n",
       "      <td>2022.0</td>\n",
       "      <td>The universe is so much bigger than you realize.</td>\n",
       "      <td>An aging Chinese immigrant is swept up in an i...</td>\n",
       "      <td>140.0</td>\n",
       "      <td>4.30</td>\n",
       "    </tr>\n",
       "    <tr>\n",
       "      <th>3</th>\n",
       "      <td>1000004</td>\n",
       "      <td>Fight Club</td>\n",
       "      <td>1999.0</td>\n",
       "      <td>Mischief. Mayhem. Soap.</td>\n",
       "      <td>A ticking-time-bomb insomniac and a slippery s...</td>\n",
       "      <td>139.0</td>\n",
       "      <td>4.27</td>\n",
       "    </tr>\n",
       "    <tr>\n",
       "      <th>4</th>\n",
       "      <td>1000005</td>\n",
       "      <td>La La Land</td>\n",
       "      <td>2016.0</td>\n",
       "      <td>Here's to the fools who dream.</td>\n",
       "      <td>Mia, an aspiring actress, serves lattes to mov...</td>\n",
       "      <td>129.0</td>\n",
       "      <td>4.09</td>\n",
       "    </tr>\n",
       "  </tbody>\n",
       "</table>\n",
       "</div>"
      ]
     },
     "execution_count": 3,
     "metadata": {},
     "output_type": "execute_result"
    }
   ],
   "execution_count": 3
  },
  {
   "cell_type": "code",
   "id": "f25edf3b61586308",
   "metadata": {
    "ExecuteTime": {
     "end_time": "2024-12-27T16:12:07.046538Z",
     "start_time": "2024-12-27T16:12:07.043270Z"
    }
   },
   "source": [
    "movies_df.shape"
   ],
   "outputs": [
    {
     "data": {
      "text/plain": [
       "(941597, 7)"
      ]
     },
     "execution_count": 4,
     "metadata": {},
     "output_type": "execute_result"
    }
   ],
   "execution_count": 4
  },
  {
   "cell_type": "code",
   "id": "66353feb2d15e0c1",
   "metadata": {
    "ExecuteTime": {
     "end_time": "2024-12-27T16:12:07.131572Z",
     "start_time": "2024-12-27T16:12:07.127290Z"
    }
   },
   "source": [
    "movies_df.dtypes"
   ],
   "outputs": [
    {
     "data": {
      "text/plain": [
       "id               int64\n",
       "name            object\n",
       "date           float64\n",
       "tagline         object\n",
       "description     object\n",
       "minute         float64\n",
       "rating         float64\n",
       "dtype: object"
      ]
     },
     "execution_count": 5,
     "metadata": {},
     "output_type": "execute_result"
    }
   ],
   "execution_count": 5
  },
  {
   "cell_type": "markdown",
   "id": "24564dc69f48117c",
   "metadata": {},
   "source": [
    "### 2. Data Cleaning"
   ]
  },
  {
   "cell_type": "code",
   "id": "92ec1ff74b506e2f",
   "metadata": {
    "ExecuteTime": {
     "end_time": "2024-12-27T16:12:07.331623Z",
     "start_time": "2024-12-27T16:12:07.295914Z"
    }
   },
   "source": [
    "# Rename columns\n",
    "movies_df = movies_df.rename(columns={'name': 'title', 'minute': 'duration_in_minutes', 'date': 'release_year'})\n",
    "print(f\"Movies dataset columns: {', '.join(movies_df.columns)}\")"
   ],
   "outputs": [
    {
     "name": "stdout",
     "output_type": "stream",
     "text": [
      "Movies dataset columns: id, title, release_year, tagline, description, duration_in_minutes, rating\n"
     ]
    }
   ],
   "execution_count": 6
  },
  {
   "cell_type": "code",
   "id": "943d34788f840a4c",
   "metadata": {
    "ExecuteTime": {
     "end_time": "2024-12-27T16:12:07.583337Z",
     "start_time": "2024-12-27T16:12:07.461786Z"
    }
   },
   "source": [
    "# Check for null values\n",
    "movies_df.isna().sum()"
   ],
   "outputs": [
    {
     "data": {
      "text/plain": [
       "id                          0\n",
       "title                      10\n",
       "release_year            91913\n",
       "tagline                802210\n",
       "description            160812\n",
       "duration_in_minutes    181570\n",
       "rating                 850598\n",
       "dtype: int64"
      ]
     },
     "execution_count": 7,
     "metadata": {},
     "output_type": "execute_result"
    }
   ],
   "execution_count": 7
  },
  {
   "cell_type": "markdown",
   "id": "5d60bd3bbbcdf43",
   "metadata": {},
   "source": [
    "There are null values in most of the columns.\n",
    "The fields '**release_year**', '**tagline**', '**description**', '**duration_in_minutes**' and '**rating**' don't cause any problems so we'll keep them, but the few movies that are without a title can't be used and will be removed."
   ]
  },
  {
   "cell_type": "code",
   "id": "e64b09d17cd6ac6f",
   "metadata": {
    "ExecuteTime": {
     "end_time": "2024-12-27T16:12:07.835213Z",
     "start_time": "2024-12-27T16:12:07.650550Z"
    }
   },
   "source": [
    "# Removing rows with null title\n",
    "no_title = movies_df[movies_df['title'].isna()]\n",
    "movies_df = movies_df.dropna(subset=['title'])\n",
    "\n",
    "print(\"Movies dataset without title:\")\n",
    "no_title.head()"
   ],
   "outputs": [
    {
     "name": "stdout",
     "output_type": "stream",
     "text": [
      "Movies dataset without title:\n"
     ]
    },
    {
     "data": {
      "text/plain": [
       "             id title  release_year tagline  \\\n",
       "287514  1287515   NaN        2015.0     NaN   \n",
       "617642  1617643   NaN           NaN     NaN   \n",
       "646520  1646521   NaN        2008.0     NaN   \n",
       "648185  1648186   NaN           NaN     NaN   \n",
       "720294  1720295   NaN           NaN     NaN   \n",
       "\n",
       "                                              description  \\\n",
       "287514  NONE is a short film that explores the balance...   \n",
       "617642                                                NaN   \n",
       "646520                                                NaN   \n",
       "648185                                                NaN   \n",
       "720294  In this directorial debut of Eden Ewardson, he...   \n",
       "\n",
       "        duration_in_minutes  rating  \n",
       "287514                  4.0     NaN  \n",
       "617642                  NaN     NaN  \n",
       "646520                  NaN     NaN  \n",
       "648185                  NaN     NaN  \n",
       "720294                  8.0     NaN  "
      ],
      "text/html": [
       "<div>\n",
       "<style scoped>\n",
       "    .dataframe tbody tr th:only-of-type {\n",
       "        vertical-align: middle;\n",
       "    }\n",
       "\n",
       "    .dataframe tbody tr th {\n",
       "        vertical-align: top;\n",
       "    }\n",
       "\n",
       "    .dataframe thead th {\n",
       "        text-align: right;\n",
       "    }\n",
       "</style>\n",
       "<table border=\"1\" class=\"dataframe\">\n",
       "  <thead>\n",
       "    <tr style=\"text-align: right;\">\n",
       "      <th></th>\n",
       "      <th>id</th>\n",
       "      <th>title</th>\n",
       "      <th>release_year</th>\n",
       "      <th>tagline</th>\n",
       "      <th>description</th>\n",
       "      <th>duration_in_minutes</th>\n",
       "      <th>rating</th>\n",
       "    </tr>\n",
       "  </thead>\n",
       "  <tbody>\n",
       "    <tr>\n",
       "      <th>287514</th>\n",
       "      <td>1287515</td>\n",
       "      <td>NaN</td>\n",
       "      <td>2015.0</td>\n",
       "      <td>NaN</td>\n",
       "      <td>NONE is a short film that explores the balance...</td>\n",
       "      <td>4.0</td>\n",
       "      <td>NaN</td>\n",
       "    </tr>\n",
       "    <tr>\n",
       "      <th>617642</th>\n",
       "      <td>1617643</td>\n",
       "      <td>NaN</td>\n",
       "      <td>NaN</td>\n",
       "      <td>NaN</td>\n",
       "      <td>NaN</td>\n",
       "      <td>NaN</td>\n",
       "      <td>NaN</td>\n",
       "    </tr>\n",
       "    <tr>\n",
       "      <th>646520</th>\n",
       "      <td>1646521</td>\n",
       "      <td>NaN</td>\n",
       "      <td>2008.0</td>\n",
       "      <td>NaN</td>\n",
       "      <td>NaN</td>\n",
       "      <td>NaN</td>\n",
       "      <td>NaN</td>\n",
       "    </tr>\n",
       "    <tr>\n",
       "      <th>648185</th>\n",
       "      <td>1648186</td>\n",
       "      <td>NaN</td>\n",
       "      <td>NaN</td>\n",
       "      <td>NaN</td>\n",
       "      <td>NaN</td>\n",
       "      <td>NaN</td>\n",
       "      <td>NaN</td>\n",
       "    </tr>\n",
       "    <tr>\n",
       "      <th>720294</th>\n",
       "      <td>1720295</td>\n",
       "      <td>NaN</td>\n",
       "      <td>NaN</td>\n",
       "      <td>NaN</td>\n",
       "      <td>In this directorial debut of Eden Ewardson, he...</td>\n",
       "      <td>8.0</td>\n",
       "      <td>NaN</td>\n",
       "    </tr>\n",
       "  </tbody>\n",
       "</table>\n",
       "</div>"
      ]
     },
     "execution_count": 8,
     "metadata": {},
     "output_type": "execute_result"
    }
   ],
   "execution_count": 8
  },
  {
   "cell_type": "code",
   "id": "709a95587abbdd3e",
   "metadata": {
    "ExecuteTime": {
     "end_time": "2024-12-27T16:12:08.532275Z",
     "start_time": "2024-12-27T16:12:07.911531Z"
    }
   },
   "source": [
    "# Check for duplicate rows\n",
    "print(f\"There are {movies_df.duplicated().sum()} duplicated rows\")"
   ],
   "outputs": [
    {
     "name": "stdout",
     "output_type": "stream",
     "text": [
      "There are 0 duplicated rows\n"
     ]
    }
   ],
   "execution_count": 9
  },
  {
   "cell_type": "code",
   "id": "b859e3726529609e",
   "metadata": {
    "ExecuteTime": {
     "end_time": "2024-12-27T16:12:08.753149Z",
     "start_time": "2024-12-27T16:12:08.555188Z"
    }
   },
   "source": [
    "# Setting the correct type for columns\n",
    "movies_df['release_year'] = movies_df['release_year'].astype('Int64')\n",
    "movies_df['duration_in_minutes'] = movies_df['duration_in_minutes'].astype('Int64')\n",
    "movies_df[['release_year', 'duration_in_minutes']].dtypes"
   ],
   "outputs": [
    {
     "data": {
      "text/plain": [
       "release_year           Int64\n",
       "duration_in_minutes    Int64\n",
       "dtype: object"
      ]
     },
     "execution_count": 10,
     "metadata": {},
     "output_type": "execute_result"
    }
   ],
   "execution_count": 10
  },
  {
   "cell_type": "code",
   "id": "903dbbf0e5d08f7c",
   "metadata": {
    "ExecuteTime": {
     "end_time": "2024-12-27T16:12:08.890986Z",
     "start_time": "2024-12-27T16:12:08.814049Z"
    }
   },
   "source": [
    "# Check if 'id' column has unique values\n",
    "print(f\"'id' duplicates: {movies_df[movies_df['id'].duplicated()].shape[0]}\")\n",
    "movies_df = movies_df.set_index(\"id\")"
   ],
   "outputs": [
    {
     "name": "stdout",
     "output_type": "stream",
     "text": [
      "'id' duplicates: 0\n"
     ]
    }
   ],
   "execution_count": 11
  },
  {
   "cell_type": "markdown",
   "id": "12ecbd6bd4da8000",
   "metadata": {},
   "source": [
    "The '**id**' field is the unique identifier of a movie, so it's been set as the index."
   ]
  },
  {
   "cell_type": "markdown",
   "id": "4de852ea61ae6f48",
   "metadata": {},
   "source": [
    "#### Deep Clean\n",
    "Let's look inside some columns to see most frequent values:"
   ]
  },
  {
   "cell_type": "code",
   "id": "207fa8d6b074b053",
   "metadata": {
    "ExecuteTime": {
     "end_time": "2024-12-27T16:12:09.605215Z",
     "start_time": "2024-12-27T16:12:09.056415Z"
    }
   },
   "source": [
    "movies_df['description'].value_counts().head(10)"
   ],
   "outputs": [
    {
     "data": {
      "text/plain": [
       "description\n",
       "Mexican feature film    893\n",
       "Plot Unavailable.       504\n",
       "Hong Kong movie         449\n",
       "to be added later       304\n",
       "Chinese movie           203\n",
       "plot is unknown         182\n",
       "Short film.             180\n",
       "A short film.           168\n",
       "1962 Japanese movie     162\n",
       "Documentary film.       151\n",
       "Name: count, dtype: int64"
      ]
     },
     "execution_count": 12,
     "metadata": {},
     "output_type": "execute_result"
    }
   ],
   "execution_count": 12
  },
  {
   "cell_type": "markdown",
   "id": "a74a60d521aeb637",
   "metadata": {},
   "source": [
    "Many descriptions seem to have a description like \"Plot Unavailable\" or similar instead of a null value. The other fields seem fine.<br>\n",
    "Let's try to fix as many as possible (fixing only the most frequent variation, not 100% accurate)."
   ]
  },
  {
   "cell_type": "code",
   "id": "29ea2050d5268983",
   "metadata": {
    "ExecuteTime": {
     "end_time": "2024-12-27T16:12:10.137647Z",
     "start_time": "2024-12-27T16:12:09.632225Z"
    }
   },
   "source": [
    "from utils.utils import null_movie_description_keywords\n",
    "\n",
    "# Find null description variation\n",
    "matches = find_matching(movies_df, 'description', null_movie_description_keywords, max_length=30)\n",
    "\n",
    "# Fill with NaN values the result obtained\n",
    "movies_df.loc[matches.index, ['description']] = np.nan\n",
    "\n",
    "# Manual check to be sure to not overwrite real descriptions\n",
    "matches['description'].value_counts().head(15)"
   ],
   "outputs": [
    {
     "data": {
      "text/plain": [
       "description\n",
       "Plot Unavailable.         504\n",
       "plot is unknown           182\n",
       "Plot Unknown              103\n",
       "Plot Unknown.              45\n",
       "Plot unknown.              35\n",
       "Plot unknown               26\n",
       "Plot details unknown.      16\n",
       "Synopsis unknown.          11\n",
       "Plot is unknown             9\n",
       "plot is unknown.            5\n",
       "plot unknown                5\n",
       "plot currently unknown      2\n",
       "Plot is Unknown             2\n",
       "Overview unknown.           2\n",
       "Plot unavailable            2\n",
       "Name: count, dtype: int64"
      ]
     },
     "execution_count": 13,
     "metadata": {},
     "output_type": "execute_result"
    }
   ],
   "execution_count": 13
  },
  {
   "cell_type": "markdown",
   "id": "a9a20b8e75e66e6b",
   "metadata": {},
   "source": [
    "### 3. Final Result\n",
    "All datasets reference the **movies** dataset. A movie is uniquely identified by his **id** and a movie id has multiple occurrences in other datasets. A movie has a title, a tagline, a description, the release year, the duration and a rating. Only the title is mandatory and all the other attributes could be missing."
   ]
  },
  {
   "cell_type": "code",
   "id": "35481461787f2554",
   "metadata": {
    "ExecuteTime": {
     "end_time": "2024-12-27T16:12:10.180802Z",
     "start_time": "2024-12-27T16:12:10.173540Z"
    }
   },
   "source": [
    "movies_df.head()"
   ],
   "outputs": [
    {
     "data": {
      "text/plain": [
       "                                     title  release_year  \\\n",
       "id                                                         \n",
       "1000001                             Barbie          2023   \n",
       "1000002                           Parasite          2019   \n",
       "1000003  Everything Everywhere All at Once          2022   \n",
       "1000004                         Fight Club          1999   \n",
       "1000005                         La La Land          2016   \n",
       "\n",
       "                                                  tagline  \\\n",
       "id                                                          \n",
       "1000001                  She's everything. He's just Ken.   \n",
       "1000002                       Act like you own the place.   \n",
       "1000003  The universe is so much bigger than you realize.   \n",
       "1000004                           Mischief. Mayhem. Soap.   \n",
       "1000005                    Here's to the fools who dream.   \n",
       "\n",
       "                                               description  \\\n",
       "id                                                           \n",
       "1000001  Barbie and Ken are having the time of their li...   \n",
       "1000002  All unemployed, Ki-taek's family takes peculia...   \n",
       "1000003  An aging Chinese immigrant is swept up in an i...   \n",
       "1000004  A ticking-time-bomb insomniac and a slippery s...   \n",
       "1000005  Mia, an aspiring actress, serves lattes to mov...   \n",
       "\n",
       "         duration_in_minutes  rating  \n",
       "id                                    \n",
       "1000001                  114    3.86  \n",
       "1000002                  133    4.56  \n",
       "1000003                  140    4.30  \n",
       "1000004                  139    4.27  \n",
       "1000005                  129    4.09  "
      ],
      "text/html": [
       "<div>\n",
       "<style scoped>\n",
       "    .dataframe tbody tr th:only-of-type {\n",
       "        vertical-align: middle;\n",
       "    }\n",
       "\n",
       "    .dataframe tbody tr th {\n",
       "        vertical-align: top;\n",
       "    }\n",
       "\n",
       "    .dataframe thead th {\n",
       "        text-align: right;\n",
       "    }\n",
       "</style>\n",
       "<table border=\"1\" class=\"dataframe\">\n",
       "  <thead>\n",
       "    <tr style=\"text-align: right;\">\n",
       "      <th></th>\n",
       "      <th>title</th>\n",
       "      <th>release_year</th>\n",
       "      <th>tagline</th>\n",
       "      <th>description</th>\n",
       "      <th>duration_in_minutes</th>\n",
       "      <th>rating</th>\n",
       "    </tr>\n",
       "    <tr>\n",
       "      <th>id</th>\n",
       "      <th></th>\n",
       "      <th></th>\n",
       "      <th></th>\n",
       "      <th></th>\n",
       "      <th></th>\n",
       "      <th></th>\n",
       "    </tr>\n",
       "  </thead>\n",
       "  <tbody>\n",
       "    <tr>\n",
       "      <th>1000001</th>\n",
       "      <td>Barbie</td>\n",
       "      <td>2023</td>\n",
       "      <td>She's everything. He's just Ken.</td>\n",
       "      <td>Barbie and Ken are having the time of their li...</td>\n",
       "      <td>114</td>\n",
       "      <td>3.86</td>\n",
       "    </tr>\n",
       "    <tr>\n",
       "      <th>1000002</th>\n",
       "      <td>Parasite</td>\n",
       "      <td>2019</td>\n",
       "      <td>Act like you own the place.</td>\n",
       "      <td>All unemployed, Ki-taek's family takes peculia...</td>\n",
       "      <td>133</td>\n",
       "      <td>4.56</td>\n",
       "    </tr>\n",
       "    <tr>\n",
       "      <th>1000003</th>\n",
       "      <td>Everything Everywhere All at Once</td>\n",
       "      <td>2022</td>\n",
       "      <td>The universe is so much bigger than you realize.</td>\n",
       "      <td>An aging Chinese immigrant is swept up in an i...</td>\n",
       "      <td>140</td>\n",
       "      <td>4.30</td>\n",
       "    </tr>\n",
       "    <tr>\n",
       "      <th>1000004</th>\n",
       "      <td>Fight Club</td>\n",
       "      <td>1999</td>\n",
       "      <td>Mischief. Mayhem. Soap.</td>\n",
       "      <td>A ticking-time-bomb insomniac and a slippery s...</td>\n",
       "      <td>139</td>\n",
       "      <td>4.27</td>\n",
       "    </tr>\n",
       "    <tr>\n",
       "      <th>1000005</th>\n",
       "      <td>La La Land</td>\n",
       "      <td>2016</td>\n",
       "      <td>Here's to the fools who dream.</td>\n",
       "      <td>Mia, an aspiring actress, serves lattes to mov...</td>\n",
       "      <td>129</td>\n",
       "      <td>4.09</td>\n",
       "    </tr>\n",
       "  </tbody>\n",
       "</table>\n",
       "</div>"
      ]
     },
     "execution_count": 14,
     "metadata": {},
     "output_type": "execute_result"
    }
   ],
   "execution_count": 14
  },
  {
   "cell_type": "code",
   "id": "f54fa1742a832d2d",
   "metadata": {
    "ExecuteTime": {
     "end_time": "2024-12-27T16:12:10.324062Z",
     "start_time": "2024-12-27T16:12:10.320181Z"
    }
   },
   "source": [
    "movies_df.shape"
   ],
   "outputs": [
    {
     "data": {
      "text/plain": [
       "(941587, 6)"
      ]
     },
     "execution_count": 15,
     "metadata": {},
     "output_type": "execute_result"
    }
   ],
   "execution_count": 15
  },
  {
   "cell_type": "markdown",
   "id": "8f0b9a430d101b37",
   "metadata": {},
   "source": [
    "## Languages"
   ]
  },
  {
   "cell_type": "code",
   "id": "ece358f79ead413e",
   "metadata": {
    "ExecuteTime": {
     "end_time": "2024-12-27T16:12:10.779758Z",
     "start_time": "2024-12-27T16:12:10.465198Z"
    }
   },
   "source": [
    "# Import 'languages.csv' dataset\n",
    "lang_df = pd.read_csv('datasets/languages.csv')"
   ],
   "outputs": [],
   "execution_count": 16
  },
  {
   "cell_type": "markdown",
   "id": "fc0e51ab4b81515f",
   "metadata": {},
   "source": [
    "### 1. Data Understanding"
   ]
  },
  {
   "cell_type": "code",
   "id": "fd8e821868e23834",
   "metadata": {
    "ExecuteTime": {
     "end_time": "2024-12-27T16:12:10.795010Z",
     "start_time": "2024-12-27T16:12:10.789474Z"
    }
   },
   "source": [
    "lang_df.head()"
   ],
   "outputs": [
    {
     "data": {
      "text/plain": [
       "        id              type language\n",
       "0  1000001          Language  English\n",
       "1  1000002  Primary language   Korean\n",
       "2  1000002   Spoken language  English\n",
       "3  1000002   Spoken language   German\n",
       "4  1000002   Spoken language   Korean"
      ],
      "text/html": [
       "<div>\n",
       "<style scoped>\n",
       "    .dataframe tbody tr th:only-of-type {\n",
       "        vertical-align: middle;\n",
       "    }\n",
       "\n",
       "    .dataframe tbody tr th {\n",
       "        vertical-align: top;\n",
       "    }\n",
       "\n",
       "    .dataframe thead th {\n",
       "        text-align: right;\n",
       "    }\n",
       "</style>\n",
       "<table border=\"1\" class=\"dataframe\">\n",
       "  <thead>\n",
       "    <tr style=\"text-align: right;\">\n",
       "      <th></th>\n",
       "      <th>id</th>\n",
       "      <th>type</th>\n",
       "      <th>language</th>\n",
       "    </tr>\n",
       "  </thead>\n",
       "  <tbody>\n",
       "    <tr>\n",
       "      <th>0</th>\n",
       "      <td>1000001</td>\n",
       "      <td>Language</td>\n",
       "      <td>English</td>\n",
       "    </tr>\n",
       "    <tr>\n",
       "      <th>1</th>\n",
       "      <td>1000002</td>\n",
       "      <td>Primary language</td>\n",
       "      <td>Korean</td>\n",
       "    </tr>\n",
       "    <tr>\n",
       "      <th>2</th>\n",
       "      <td>1000002</td>\n",
       "      <td>Spoken language</td>\n",
       "      <td>English</td>\n",
       "    </tr>\n",
       "    <tr>\n",
       "      <th>3</th>\n",
       "      <td>1000002</td>\n",
       "      <td>Spoken language</td>\n",
       "      <td>German</td>\n",
       "    </tr>\n",
       "    <tr>\n",
       "      <th>4</th>\n",
       "      <td>1000002</td>\n",
       "      <td>Spoken language</td>\n",
       "      <td>Korean</td>\n",
       "    </tr>\n",
       "  </tbody>\n",
       "</table>\n",
       "</div>"
      ]
     },
     "execution_count": 17,
     "metadata": {},
     "output_type": "execute_result"
    }
   ],
   "execution_count": 17
  },
  {
   "cell_type": "code",
   "id": "4523d755552d193",
   "metadata": {
    "ExecuteTime": {
     "end_time": "2024-12-27T16:12:10.870446Z",
     "start_time": "2024-12-27T16:12:10.866200Z"
    }
   },
   "source": [
    "lang_df.shape"
   ],
   "outputs": [
    {
     "data": {
      "text/plain": [
       "(1038762, 3)"
      ]
     },
     "execution_count": 18,
     "metadata": {},
     "output_type": "execute_result"
    }
   ],
   "execution_count": 18
  },
  {
   "cell_type": "code",
   "id": "a75cc482a4a9e58f",
   "metadata": {
    "ExecuteTime": {
     "end_time": "2024-12-27T16:12:10.991082Z",
     "start_time": "2024-12-27T16:12:10.985864Z"
    }
   },
   "source": [
    "lang_df.dtypes"
   ],
   "outputs": [
    {
     "data": {
      "text/plain": [
       "id           int64\n",
       "type        object\n",
       "language    object\n",
       "dtype: object"
      ]
     },
     "execution_count": 19,
     "metadata": {},
     "output_type": "execute_result"
    }
   ],
   "execution_count": 19
  },
  {
   "cell_type": "markdown",
   "id": "df4400a39ba89b3d",
   "metadata": {},
   "source": [
    "### 2. Data Cleaning"
   ]
  },
  {
   "cell_type": "code",
   "id": "567cb4904bd42350",
   "metadata": {
    "ExecuteTime": {
     "end_time": "2024-12-27T16:12:11.147859Z",
     "start_time": "2024-12-27T16:12:11.136318Z"
    }
   },
   "source": [
    "# Rename columns\n",
    "lang_df = lang_df.rename(columns={'id': 'movie_id'})\n",
    "print(f\"Languages dataset columns: {', '.join(lang_df.columns)}\")"
   ],
   "outputs": [
    {
     "name": "stdout",
     "output_type": "stream",
     "text": [
      "Languages dataset columns: movie_id, type, language\n"
     ]
    }
   ],
   "execution_count": 20
  },
  {
   "cell_type": "code",
   "id": "e9beb77f2bec1fd8",
   "metadata": {
    "ExecuteTime": {
     "end_time": "2024-12-27T16:12:11.399450Z",
     "start_time": "2024-12-27T16:12:11.339138Z"
    }
   },
   "source": [
    "# Check for null values\n",
    "lang_df.isna().sum()"
   ],
   "outputs": [
    {
     "data": {
      "text/plain": [
       "movie_id    0\n",
       "type        0\n",
       "language    0\n",
       "dtype: int64"
      ]
     },
     "execution_count": 21,
     "metadata": {},
     "output_type": "execute_result"
    }
   ],
   "execution_count": 21
  },
  {
   "cell_type": "code",
   "id": "df1df599b18fb36d",
   "metadata": {
    "ExecuteTime": {
     "end_time": "2024-12-27T16:12:11.700741Z",
     "start_time": "2024-12-27T16:12:11.506593Z"
    }
   },
   "source": [
    "# Check for duplicate rows\n",
    "print(f\"There are {lang_df.duplicated().sum()} duplicated rows\")"
   ],
   "outputs": [
    {
     "name": "stdout",
     "output_type": "stream",
     "text": [
      "There are 0 duplicated rows\n"
     ]
    }
   ],
   "execution_count": 22
  },
  {
   "cell_type": "code",
   "id": "9f395fe64e995870",
   "metadata": {
    "ExecuteTime": {
     "end_time": "2024-12-27T16:12:11.849401Z",
     "start_time": "2024-12-27T16:12:11.760472Z"
    }
   },
   "source": [
    "# Setting the category data type for column 'type'\n",
    "print(f\"types: {', '.join(lang_df['type'].unique())}\")\n",
    "lang_df['type'] = lang_df['type'].astype('category')"
   ],
   "outputs": [
    {
     "name": "stdout",
     "output_type": "stream",
     "text": [
      "types: Language, Primary language, Spoken language\n"
     ]
    }
   ],
   "execution_count": 23
  },
  {
   "cell_type": "markdown",
   "id": "4a98b5d55e778524",
   "metadata": {},
   "source": "The `type` field has only 3 possible values, so we can set it as a categorical type."
  },
  {
   "cell_type": "markdown",
   "id": "ca1422c0332601d4",
   "metadata": {},
   "source": [
    "### 3. Final Result\n",
    "The languages dataset is directly linked to the movies dataset through the `movie_id` column. There are more rows in the languages dataset than in the movies dataset because a movie can be associated with multiple languages. Additionally, not all movies have a language defined. <br>\n",
    "A language associated with a movie can fall into one or more of the following categories:\n",
    "- *Language*: Refers to a generic language associated with the movie, typically used when there is a single dominant language.\n",
    "- *Primary Language*: The main or original language of the movie.\n",
    "- *Spoken Language*: All the languages actually used in the movie's dialogues."
   ]
  },
  {
   "cell_type": "code",
   "id": "2d753d7a649a7bf0",
   "metadata": {
    "ExecuteTime": {
     "end_time": "2024-12-27T16:12:11.933555Z",
     "start_time": "2024-12-27T16:12:11.927817Z"
    }
   },
   "source": [
    "lang_df.head()"
   ],
   "outputs": [
    {
     "data": {
      "text/plain": [
       "   movie_id              type language\n",
       "0   1000001          Language  English\n",
       "1   1000002  Primary language   Korean\n",
       "2   1000002   Spoken language  English\n",
       "3   1000002   Spoken language   German\n",
       "4   1000002   Spoken language   Korean"
      ],
      "text/html": [
       "<div>\n",
       "<style scoped>\n",
       "    .dataframe tbody tr th:only-of-type {\n",
       "        vertical-align: middle;\n",
       "    }\n",
       "\n",
       "    .dataframe tbody tr th {\n",
       "        vertical-align: top;\n",
       "    }\n",
       "\n",
       "    .dataframe thead th {\n",
       "        text-align: right;\n",
       "    }\n",
       "</style>\n",
       "<table border=\"1\" class=\"dataframe\">\n",
       "  <thead>\n",
       "    <tr style=\"text-align: right;\">\n",
       "      <th></th>\n",
       "      <th>movie_id</th>\n",
       "      <th>type</th>\n",
       "      <th>language</th>\n",
       "    </tr>\n",
       "  </thead>\n",
       "  <tbody>\n",
       "    <tr>\n",
       "      <th>0</th>\n",
       "      <td>1000001</td>\n",
       "      <td>Language</td>\n",
       "      <td>English</td>\n",
       "    </tr>\n",
       "    <tr>\n",
       "      <th>1</th>\n",
       "      <td>1000002</td>\n",
       "      <td>Primary language</td>\n",
       "      <td>Korean</td>\n",
       "    </tr>\n",
       "    <tr>\n",
       "      <th>2</th>\n",
       "      <td>1000002</td>\n",
       "      <td>Spoken language</td>\n",
       "      <td>English</td>\n",
       "    </tr>\n",
       "    <tr>\n",
       "      <th>3</th>\n",
       "      <td>1000002</td>\n",
       "      <td>Spoken language</td>\n",
       "      <td>German</td>\n",
       "    </tr>\n",
       "    <tr>\n",
       "      <th>4</th>\n",
       "      <td>1000002</td>\n",
       "      <td>Spoken language</td>\n",
       "      <td>Korean</td>\n",
       "    </tr>\n",
       "  </tbody>\n",
       "</table>\n",
       "</div>"
      ]
     },
     "execution_count": 24,
     "metadata": {},
     "output_type": "execute_result"
    }
   ],
   "execution_count": 24
  },
  {
   "cell_type": "code",
   "id": "6d7a9b93f2a82197",
   "metadata": {
    "ExecuteTime": {
     "end_time": "2024-12-27T16:12:12.001220Z",
     "start_time": "2024-12-27T16:12:11.997025Z"
    }
   },
   "source": [
    "lang_df.shape"
   ],
   "outputs": [
    {
     "data": {
      "text/plain": [
       "(1038762, 3)"
      ]
     },
     "execution_count": 25,
     "metadata": {},
     "output_type": "execute_result"
    }
   ],
   "execution_count": 25
  },
  {
   "metadata": {},
   "cell_type": "markdown",
   "source": "## Actors",
   "id": "9bf3064bc8623942"
  },
  {
   "metadata": {
    "ExecuteTime": {
     "end_time": "2024-12-27T16:12:15.778704Z",
     "start_time": "2024-12-27T16:12:12.099308Z"
    }
   },
   "cell_type": "code",
   "source": [
    "# Import 'actors.csv' dataset\n",
    "actors_df = pd.read_csv('datasets/actors.csv')"
   ],
   "id": "6a0354ba1a003892",
   "outputs": [],
   "execution_count": 26
  },
  {
   "metadata": {},
   "cell_type": "markdown",
   "source": "### 1. Data Understanding",
   "id": "2ee737e86929a833"
  },
  {
   "metadata": {
    "ExecuteTime": {
     "end_time": "2024-12-27T16:12:15.793603Z",
     "start_time": "2024-12-27T16:12:15.788476Z"
    }
   },
   "cell_type": "code",
   "source": "actors_df.head()",
   "id": "9a9128792094f433",
   "outputs": [
    {
     "data": {
      "text/plain": [
       "        id               name    role\n",
       "0  1000001      Margot Robbie  Barbie\n",
       "1  1000001       Ryan Gosling     Ken\n",
       "2  1000001    America Ferrera  Gloria\n",
       "3  1000001  Ariana Greenblatt   Sasha\n",
       "4  1000001           Issa Rae  Barbie"
      ],
      "text/html": [
       "<div>\n",
       "<style scoped>\n",
       "    .dataframe tbody tr th:only-of-type {\n",
       "        vertical-align: middle;\n",
       "    }\n",
       "\n",
       "    .dataframe tbody tr th {\n",
       "        vertical-align: top;\n",
       "    }\n",
       "\n",
       "    .dataframe thead th {\n",
       "        text-align: right;\n",
       "    }\n",
       "</style>\n",
       "<table border=\"1\" class=\"dataframe\">\n",
       "  <thead>\n",
       "    <tr style=\"text-align: right;\">\n",
       "      <th></th>\n",
       "      <th>id</th>\n",
       "      <th>name</th>\n",
       "      <th>role</th>\n",
       "    </tr>\n",
       "  </thead>\n",
       "  <tbody>\n",
       "    <tr>\n",
       "      <th>0</th>\n",
       "      <td>1000001</td>\n",
       "      <td>Margot Robbie</td>\n",
       "      <td>Barbie</td>\n",
       "    </tr>\n",
       "    <tr>\n",
       "      <th>1</th>\n",
       "      <td>1000001</td>\n",
       "      <td>Ryan Gosling</td>\n",
       "      <td>Ken</td>\n",
       "    </tr>\n",
       "    <tr>\n",
       "      <th>2</th>\n",
       "      <td>1000001</td>\n",
       "      <td>America Ferrera</td>\n",
       "      <td>Gloria</td>\n",
       "    </tr>\n",
       "    <tr>\n",
       "      <th>3</th>\n",
       "      <td>1000001</td>\n",
       "      <td>Ariana Greenblatt</td>\n",
       "      <td>Sasha</td>\n",
       "    </tr>\n",
       "    <tr>\n",
       "      <th>4</th>\n",
       "      <td>1000001</td>\n",
       "      <td>Issa Rae</td>\n",
       "      <td>Barbie</td>\n",
       "    </tr>\n",
       "  </tbody>\n",
       "</table>\n",
       "</div>"
      ]
     },
     "execution_count": 27,
     "metadata": {},
     "output_type": "execute_result"
    }
   ],
   "execution_count": 27
  },
  {
   "cell_type": "code",
   "id": "1db6e7dafedf88df",
   "metadata": {
    "ExecuteTime": {
     "end_time": "2024-12-27T16:12:15.841098Z",
     "start_time": "2024-12-27T16:12:15.838078Z"
    }
   },
   "source": "actors_df.shape",
   "outputs": [
    {
     "data": {
      "text/plain": [
       "(5798450, 3)"
      ]
     },
     "execution_count": 28,
     "metadata": {},
     "output_type": "execute_result"
    }
   ],
   "execution_count": 28
  },
  {
   "cell_type": "code",
   "id": "a999b36a00c4f0c7",
   "metadata": {
    "ExecuteTime": {
     "end_time": "2024-12-27T16:12:15.932709Z",
     "start_time": "2024-12-27T16:12:15.928446Z"
    }
   },
   "source": "actors_df.dtypes",
   "outputs": [
    {
     "data": {
      "text/plain": [
       "id       int64\n",
       "name    object\n",
       "role    object\n",
       "dtype: object"
      ]
     },
     "execution_count": 29,
     "metadata": {},
     "output_type": "execute_result"
    }
   ],
   "execution_count": 29
  },
  {
   "metadata": {},
   "cell_type": "markdown",
   "source": "### 2. Data Cleaning",
   "id": "4f0f50dc944f6fc8"
  },
  {
   "metadata": {
    "ExecuteTime": {
     "end_time": "2024-12-27T16:12:16.136868Z",
     "start_time": "2024-12-27T16:12:16.029452Z"
    }
   },
   "cell_type": "code",
   "source": [
    "# Rename columns\n",
    "actors_df = actors_df.rename(columns={'id': 'movie_id'})\n",
    "print(f\"Actors dataset columns: {', '.join(actors_df.columns)}\")"
   ],
   "id": "6430f51f6a75f330",
   "outputs": [
    {
     "name": "stdout",
     "output_type": "stream",
     "text": [
      "Actors dataset columns: movie_id, name, role\n"
     ]
    }
   ],
   "execution_count": 30
  },
  {
   "cell_type": "code",
   "id": "9187debc4d1ad51e",
   "metadata": {
    "ExecuteTime": {
     "end_time": "2024-12-27T16:12:16.613638Z",
     "start_time": "2024-12-27T16:12:16.213153Z"
    }
   },
   "source": [
    "# Check for null values\n",
    "actors_df.isna().sum()"
   ],
   "outputs": [
    {
     "data": {
      "text/plain": [
       "movie_id          0\n",
       "name              4\n",
       "role        1361559\n",
       "dtype: int64"
      ]
     },
     "execution_count": 31,
     "metadata": {},
     "output_type": "execute_result"
    }
   ],
   "execution_count": 31
  },
  {
   "metadata": {},
   "cell_type": "markdown",
   "source": "Despite the high number of null values in the `role` field, the rows will be maintained because they still contain information about the actor's `name`. However, an actor without a name is unusable, so the corresponding rows will be removed.",
   "id": "6c07dfb872bec68b"
  },
  {
   "metadata": {
    "ExecuteTime": {
     "end_time": "2024-12-27T16:12:17.384731Z",
     "start_time": "2024-12-27T16:12:16.641303Z"
    }
   },
   "cell_type": "code",
   "source": [
    "# Removing actors without name\n",
    "no_name = actors_df[actors_df['name'].isna()]\n",
    "actors_df = actors_df.dropna(subset=['name'])\n",
    "no_name"
   ],
   "id": "6c5335a514fd12ac",
   "outputs": [
    {
     "data": {
      "text/plain": [
       "         movie_id name            role\n",
       "4145738   1443629  NaN             NaN\n",
       "4281100   1469981  NaN            Self\n",
       "4306960   1474958  NaN  Cinematography\n",
       "5430275   1773264  NaN             NaN"
      ],
      "text/html": [
       "<div>\n",
       "<style scoped>\n",
       "    .dataframe tbody tr th:only-of-type {\n",
       "        vertical-align: middle;\n",
       "    }\n",
       "\n",
       "    .dataframe tbody tr th {\n",
       "        vertical-align: top;\n",
       "    }\n",
       "\n",
       "    .dataframe thead th {\n",
       "        text-align: right;\n",
       "    }\n",
       "</style>\n",
       "<table border=\"1\" class=\"dataframe\">\n",
       "  <thead>\n",
       "    <tr style=\"text-align: right;\">\n",
       "      <th></th>\n",
       "      <th>movie_id</th>\n",
       "      <th>name</th>\n",
       "      <th>role</th>\n",
       "    </tr>\n",
       "  </thead>\n",
       "  <tbody>\n",
       "    <tr>\n",
       "      <th>4145738</th>\n",
       "      <td>1443629</td>\n",
       "      <td>NaN</td>\n",
       "      <td>NaN</td>\n",
       "    </tr>\n",
       "    <tr>\n",
       "      <th>4281100</th>\n",
       "      <td>1469981</td>\n",
       "      <td>NaN</td>\n",
       "      <td>Self</td>\n",
       "    </tr>\n",
       "    <tr>\n",
       "      <th>4306960</th>\n",
       "      <td>1474958</td>\n",
       "      <td>NaN</td>\n",
       "      <td>Cinematography</td>\n",
       "    </tr>\n",
       "    <tr>\n",
       "      <th>5430275</th>\n",
       "      <td>1773264</td>\n",
       "      <td>NaN</td>\n",
       "      <td>NaN</td>\n",
       "    </tr>\n",
       "  </tbody>\n",
       "</table>\n",
       "</div>"
      ]
     },
     "execution_count": 32,
     "metadata": {},
     "output_type": "execute_result"
    }
   ],
   "execution_count": 32
  },
  {
   "cell_type": "code",
   "id": "deb18315a671c8ca",
   "metadata": {
    "ExecuteTime": {
     "end_time": "2024-12-27T16:12:26.965419Z",
     "start_time": "2024-12-27T16:12:17.406967Z"
    }
   },
   "source": [
    "# Check for duplicate rows\n",
    "print(f\"There are {actors_df.duplicated().sum()} duplicated rows\")\n",
    "actors_duplicates = actors_df[actors_df.duplicated(keep=False)].head(6)\n",
    "\n",
    "# Dropping the duplicates\n",
    "actors_df = actors_df.drop_duplicates()\n",
    "\n",
    "actors_duplicates"
   ],
   "outputs": [
    {
     "name": "stdout",
     "output_type": "stream",
     "text": [
      "There are 946 duplicated rows\n"
     ]
    },
    {
     "data": {
      "text/plain": [
       "       movie_id               name                        role\n",
       "3967    1000062        Rosie Jones  Lady of the Boot of Jemiah\n",
       "3993    1000062        Rosie Jones  Lady of the Boot of Jemiah\n",
       "44615   1000797     Karel Heřmánek           Czech Injured Man\n",
       "44642   1000797     Karel Heřmánek           Czech Injured Man\n",
       "47806   1000863  Michael Fennimore                Car Salesman\n",
       "47807   1000863  Michael Fennimore                Car Salesman"
      ],
      "text/html": [
       "<div>\n",
       "<style scoped>\n",
       "    .dataframe tbody tr th:only-of-type {\n",
       "        vertical-align: middle;\n",
       "    }\n",
       "\n",
       "    .dataframe tbody tr th {\n",
       "        vertical-align: top;\n",
       "    }\n",
       "\n",
       "    .dataframe thead th {\n",
       "        text-align: right;\n",
       "    }\n",
       "</style>\n",
       "<table border=\"1\" class=\"dataframe\">\n",
       "  <thead>\n",
       "    <tr style=\"text-align: right;\">\n",
       "      <th></th>\n",
       "      <th>movie_id</th>\n",
       "      <th>name</th>\n",
       "      <th>role</th>\n",
       "    </tr>\n",
       "  </thead>\n",
       "  <tbody>\n",
       "    <tr>\n",
       "      <th>3967</th>\n",
       "      <td>1000062</td>\n",
       "      <td>Rosie Jones</td>\n",
       "      <td>Lady of the Boot of Jemiah</td>\n",
       "    </tr>\n",
       "    <tr>\n",
       "      <th>3993</th>\n",
       "      <td>1000062</td>\n",
       "      <td>Rosie Jones</td>\n",
       "      <td>Lady of the Boot of Jemiah</td>\n",
       "    </tr>\n",
       "    <tr>\n",
       "      <th>44615</th>\n",
       "      <td>1000797</td>\n",
       "      <td>Karel Heřmánek</td>\n",
       "      <td>Czech Injured Man</td>\n",
       "    </tr>\n",
       "    <tr>\n",
       "      <th>44642</th>\n",
       "      <td>1000797</td>\n",
       "      <td>Karel Heřmánek</td>\n",
       "      <td>Czech Injured Man</td>\n",
       "    </tr>\n",
       "    <tr>\n",
       "      <th>47806</th>\n",
       "      <td>1000863</td>\n",
       "      <td>Michael Fennimore</td>\n",
       "      <td>Car Salesman</td>\n",
       "    </tr>\n",
       "    <tr>\n",
       "      <th>47807</th>\n",
       "      <td>1000863</td>\n",
       "      <td>Michael Fennimore</td>\n",
       "      <td>Car Salesman</td>\n",
       "    </tr>\n",
       "  </tbody>\n",
       "</table>\n",
       "</div>"
      ]
     },
     "execution_count": 33,
     "metadata": {},
     "output_type": "execute_result"
    }
   ],
   "execution_count": 33
  },
  {
   "metadata": {},
   "cell_type": "markdown",
   "source": "Completely duplicated rows are clearly errors and can be removed.",
   "id": "c5e1e46b310a3bde"
  },
  {
   "metadata": {},
   "cell_type": "markdown",
   "source": "#### Deep Clean",
   "id": "3d6b9eb749421fa3"
  },
  {
   "metadata": {
    "ExecuteTime": {
     "end_time": "2024-12-27T16:12:28.691482Z",
     "start_time": "2024-12-27T16:12:26.987775Z"
    }
   },
   "cell_type": "code",
   "source": "actors_df['role'].value_counts().head(10)",
   "id": "94c807071b2a6ba7",
   "outputs": [
    {
     "data": {
      "text/plain": [
       "role\n",
       "Self                      188466\n",
       "Himself                    74797\n",
       "Herself                    22678\n",
       "Self (archive footage)     21851\n",
       "Narrator                   12276\n",
       "(uncredited)               10816\n",
       "(voice)                     8435\n",
       "Narrator (voice)            7569\n",
       "Dancer                      6874\n",
       "Doctor                      5742\n",
       "Name: count, dtype: int64"
      ]
     },
     "execution_count": 34,
     "metadata": {},
     "output_type": "execute_result"
    }
   ],
   "execution_count": 34
  },
  {
   "metadata": {},
   "cell_type": "markdown",
   "source": "The role column contains many variations of the 'Self' role. Let's examine this more closely.",
   "id": "c283a206af28fe01"
  },
  {
   "metadata": {
    "ExecuteTime": {
     "end_time": "2024-12-27T16:12:33.948190Z",
     "start_time": "2024-12-27T16:12:28.713859Z"
    }
   },
   "cell_type": "code",
   "source": [
    "from utils.utils import self_actor_role_keywords\n",
    "\n",
    "# Find self variation\n",
    "matches = find_matching(actors_df, 'role', self_actor_role_keywords)\n",
    "print(f\"Rows contains 'self' variations: {matches['role'].shape[0]}\")\n",
    "matches['role'].value_counts().head()"
   ],
   "id": "a79fddf5cb027c68",
   "outputs": [
    {
     "name": "stdout",
     "output_type": "stream",
     "text": [
      "Rows contains 'self' variations: 375241\n"
     ]
    },
    {
     "data": {
      "text/plain": [
       "role\n",
       "Self                      188466\n",
       "Himself                    74797\n",
       "Herself                    22678\n",
       "Self (archive footage)     21851\n",
       "himself                     5273\n",
       "Name: count, dtype: int64"
      ]
     },
     "execution_count": 35,
     "metadata": {},
     "output_type": "execute_result"
    }
   ],
   "execution_count": 35
  },
  {
   "metadata": {},
   "cell_type": "markdown",
   "source": "There are over 300,000 values similar to 'Self', but many of them also contain additional information, such as 'Self - Presenter' or 'Self - Guest'. Overwriting all these values could lead to a loss of information, so they won't be overwritten in the cleaned dataset. However, they may be modified when visualizing the data for statistical purposes.",
   "id": "4a03dfa2819305ab"
  },
  {
   "metadata": {
    "ExecuteTime": {
     "end_time": "2024-12-27T16:12:34.122854Z",
     "start_time": "2024-12-27T16:12:34.000134Z"
    }
   },
   "cell_type": "code",
   "source": [
    "# Reset indexing after removing rows\n",
    "actors_df = actors_df.reset_index(drop=True)"
   ],
   "id": "e4282914c42bb2a",
   "outputs": [],
   "execution_count": 36
  },
  {
   "metadata": {},
   "cell_type": "markdown",
   "source": [
    "### 3. Final Result\n",
    "The actors dataset is directly linked to the movies dataset through the `movie_id` column and contains nearly six times the number of rows as the movies dataset. Additionally, a movie may have no actors associated with it. <br>\n",
    "The same actor can appear multiple times in the dataset if they feature in more than one movie. <br>\n",
    "An actor is identified solely by their full name, stored in a single field.\n"
   ],
   "id": "563dedd21501ece"
  },
  {
   "metadata": {
    "ExecuteTime": {
     "end_time": "2024-12-27T16:12:34.242064Z",
     "start_time": "2024-12-27T16:12:34.236764Z"
    }
   },
   "cell_type": "code",
   "source": "actors_df.head()",
   "id": "4a2d9fb39fd684d",
   "outputs": [
    {
     "data": {
      "text/plain": [
       "   movie_id               name    role\n",
       "0   1000001      Margot Robbie  Barbie\n",
       "1   1000001       Ryan Gosling     Ken\n",
       "2   1000001    America Ferrera  Gloria\n",
       "3   1000001  Ariana Greenblatt   Sasha\n",
       "4   1000001           Issa Rae  Barbie"
      ],
      "text/html": [
       "<div>\n",
       "<style scoped>\n",
       "    .dataframe tbody tr th:only-of-type {\n",
       "        vertical-align: middle;\n",
       "    }\n",
       "\n",
       "    .dataframe tbody tr th {\n",
       "        vertical-align: top;\n",
       "    }\n",
       "\n",
       "    .dataframe thead th {\n",
       "        text-align: right;\n",
       "    }\n",
       "</style>\n",
       "<table border=\"1\" class=\"dataframe\">\n",
       "  <thead>\n",
       "    <tr style=\"text-align: right;\">\n",
       "      <th></th>\n",
       "      <th>movie_id</th>\n",
       "      <th>name</th>\n",
       "      <th>role</th>\n",
       "    </tr>\n",
       "  </thead>\n",
       "  <tbody>\n",
       "    <tr>\n",
       "      <th>0</th>\n",
       "      <td>1000001</td>\n",
       "      <td>Margot Robbie</td>\n",
       "      <td>Barbie</td>\n",
       "    </tr>\n",
       "    <tr>\n",
       "      <th>1</th>\n",
       "      <td>1000001</td>\n",
       "      <td>Ryan Gosling</td>\n",
       "      <td>Ken</td>\n",
       "    </tr>\n",
       "    <tr>\n",
       "      <th>2</th>\n",
       "      <td>1000001</td>\n",
       "      <td>America Ferrera</td>\n",
       "      <td>Gloria</td>\n",
       "    </tr>\n",
       "    <tr>\n",
       "      <th>3</th>\n",
       "      <td>1000001</td>\n",
       "      <td>Ariana Greenblatt</td>\n",
       "      <td>Sasha</td>\n",
       "    </tr>\n",
       "    <tr>\n",
       "      <th>4</th>\n",
       "      <td>1000001</td>\n",
       "      <td>Issa Rae</td>\n",
       "      <td>Barbie</td>\n",
       "    </tr>\n",
       "  </tbody>\n",
       "</table>\n",
       "</div>"
      ]
     },
     "execution_count": 37,
     "metadata": {},
     "output_type": "execute_result"
    }
   ],
   "execution_count": 37
  },
  {
   "cell_type": "code",
   "id": "8b17166d2b8653e0",
   "metadata": {
    "ExecuteTime": {
     "end_time": "2024-12-27T16:12:34.528556Z",
     "start_time": "2024-12-27T16:12:34.525110Z"
    }
   },
   "source": "actors_df.shape",
   "outputs": [
    {
     "data": {
      "text/plain": [
       "(5797500, 3)"
      ]
     },
     "execution_count": 38,
     "metadata": {},
     "output_type": "execute_result"
    }
   ],
   "execution_count": 38
  },
  {
   "metadata": {},
   "cell_type": "markdown",
   "source": "## Countries",
   "id": "f1d9363444a67cae"
  },
  {
   "metadata": {
    "ExecuteTime": {
     "end_time": "2024-12-27T16:12:34.748740Z",
     "start_time": "2024-12-27T16:12:34.622039Z"
    }
   },
   "cell_type": "code",
   "source": [
    "# Import 'countries.csv' dataset\n",
    "countries_df = pd.read_csv('datasets/countries.csv')"
   ],
   "id": "5e192245cdc9b500",
   "outputs": [],
   "execution_count": 39
  },
  {
   "metadata": {},
   "cell_type": "markdown",
   "source": "### 1. Data Understanding",
   "id": "e2969b68d9823aab"
  },
  {
   "metadata": {
    "ExecuteTime": {
     "end_time": "2024-12-27T16:12:34.828200Z",
     "start_time": "2024-12-27T16:12:34.823273Z"
    }
   },
   "cell_type": "code",
   "source": "countries_df.head()",
   "id": "7815e5b02dc6baef",
   "outputs": [
    {
     "data": {
      "text/plain": [
       "        id      country\n",
       "0  1000001           UK\n",
       "1  1000001          USA\n",
       "2  1000002  South Korea\n",
       "3  1000003          USA\n",
       "4  1000004      Germany"
      ],
      "text/html": [
       "<div>\n",
       "<style scoped>\n",
       "    .dataframe tbody tr th:only-of-type {\n",
       "        vertical-align: middle;\n",
       "    }\n",
       "\n",
       "    .dataframe tbody tr th {\n",
       "        vertical-align: top;\n",
       "    }\n",
       "\n",
       "    .dataframe thead th {\n",
       "        text-align: right;\n",
       "    }\n",
       "</style>\n",
       "<table border=\"1\" class=\"dataframe\">\n",
       "  <thead>\n",
       "    <tr style=\"text-align: right;\">\n",
       "      <th></th>\n",
       "      <th>id</th>\n",
       "      <th>country</th>\n",
       "    </tr>\n",
       "  </thead>\n",
       "  <tbody>\n",
       "    <tr>\n",
       "      <th>0</th>\n",
       "      <td>1000001</td>\n",
       "      <td>UK</td>\n",
       "    </tr>\n",
       "    <tr>\n",
       "      <th>1</th>\n",
       "      <td>1000001</td>\n",
       "      <td>USA</td>\n",
       "    </tr>\n",
       "    <tr>\n",
       "      <th>2</th>\n",
       "      <td>1000002</td>\n",
       "      <td>South Korea</td>\n",
       "    </tr>\n",
       "    <tr>\n",
       "      <th>3</th>\n",
       "      <td>1000003</td>\n",
       "      <td>USA</td>\n",
       "    </tr>\n",
       "    <tr>\n",
       "      <th>4</th>\n",
       "      <td>1000004</td>\n",
       "      <td>Germany</td>\n",
       "    </tr>\n",
       "  </tbody>\n",
       "</table>\n",
       "</div>"
      ]
     },
     "execution_count": 40,
     "metadata": {},
     "output_type": "execute_result"
    }
   ],
   "execution_count": 40
  },
  {
   "cell_type": "code",
   "id": "c10d0df0feda424d",
   "metadata": {
    "ExecuteTime": {
     "end_time": "2024-12-27T16:12:34.909669Z",
     "start_time": "2024-12-27T16:12:34.905524Z"
    }
   },
   "source": "countries_df.shape",
   "outputs": [
    {
     "data": {
      "text/plain": [
       "(693476, 2)"
      ]
     },
     "execution_count": 41,
     "metadata": {},
     "output_type": "execute_result"
    }
   ],
   "execution_count": 41
  },
  {
   "cell_type": "code",
   "id": "68a498aed1f33a22",
   "metadata": {
    "ExecuteTime": {
     "end_time": "2024-12-27T16:12:35.002943Z",
     "start_time": "2024-12-27T16:12:34.996706Z"
    }
   },
   "source": "countries_df.dtypes",
   "outputs": [
    {
     "data": {
      "text/plain": [
       "id          int64\n",
       "country    object\n",
       "dtype: object"
      ]
     },
     "execution_count": 42,
     "metadata": {},
     "output_type": "execute_result"
    }
   ],
   "execution_count": 42
  },
  {
   "metadata": {},
   "cell_type": "markdown",
   "source": "### 2. Data Cleaning",
   "id": "5036eeb19736e889"
  },
  {
   "metadata": {
    "ExecuteTime": {
     "end_time": "2024-12-27T16:12:35.102903Z",
     "start_time": "2024-12-27T16:12:35.095002Z"
    }
   },
   "cell_type": "code",
   "source": [
    "# Rename columns\n",
    "countries_df = countries_df.rename(columns={'id': 'movie_id'})\n",
    "print(f\"Countries dataset columns: {', '.join(countries_df.columns)}\")"
   ],
   "id": "5fac7f129517a8a8",
   "outputs": [
    {
     "name": "stdout",
     "output_type": "stream",
     "text": [
      "Countries dataset columns: movie_id, country\n"
     ]
    }
   ],
   "execution_count": 43
  },
  {
   "cell_type": "code",
   "id": "55f18d2a971d436a",
   "metadata": {
    "ExecuteTime": {
     "end_time": "2024-12-27T16:12:35.242550Z",
     "start_time": "2024-12-27T16:12:35.219765Z"
    }
   },
   "source": [
    "# Check for null values\n",
    "countries_df.isna().sum()"
   ],
   "outputs": [
    {
     "data": {
      "text/plain": [
       "movie_id    0\n",
       "country     0\n",
       "dtype: int64"
      ]
     },
     "execution_count": 44,
     "metadata": {},
     "output_type": "execute_result"
    }
   ],
   "execution_count": 44
  },
  {
   "cell_type": "code",
   "id": "c65f479cfb939c5a",
   "metadata": {
    "ExecuteTime": {
     "end_time": "2024-12-27T16:12:35.458765Z",
     "start_time": "2024-12-27T16:12:35.379178Z"
    }
   },
   "source": [
    "# Check for duplicate rows\n",
    "print(f\"There are {countries_df.duplicated().sum()} duplicated rows\")"
   ],
   "outputs": [
    {
     "name": "stdout",
     "output_type": "stream",
     "text": [
      "There are 0 duplicated rows\n"
     ]
    }
   ],
   "execution_count": 45
  },
  {
   "metadata": {},
   "cell_type": "markdown",
   "source": [
    "### 3. Final Results\n",
    "The **countries** dataset is directly connected to the movies dataset through the 'movie_id' column. This dataset contains all the countries where the movies were produced.\n"
   ],
   "id": "8fc0403ab681ebc4"
  },
  {
   "metadata": {
    "ExecuteTime": {
     "end_time": "2024-12-27T16:12:35.574609Z",
     "start_time": "2024-12-27T16:12:35.569622Z"
    }
   },
   "cell_type": "code",
   "source": "countries_df.head()",
   "id": "aaf9ca571009ee3c",
   "outputs": [
    {
     "data": {
      "text/plain": [
       "   movie_id      country\n",
       "0   1000001           UK\n",
       "1   1000001          USA\n",
       "2   1000002  South Korea\n",
       "3   1000003          USA\n",
       "4   1000004      Germany"
      ],
      "text/html": [
       "<div>\n",
       "<style scoped>\n",
       "    .dataframe tbody tr th:only-of-type {\n",
       "        vertical-align: middle;\n",
       "    }\n",
       "\n",
       "    .dataframe tbody tr th {\n",
       "        vertical-align: top;\n",
       "    }\n",
       "\n",
       "    .dataframe thead th {\n",
       "        text-align: right;\n",
       "    }\n",
       "</style>\n",
       "<table border=\"1\" class=\"dataframe\">\n",
       "  <thead>\n",
       "    <tr style=\"text-align: right;\">\n",
       "      <th></th>\n",
       "      <th>movie_id</th>\n",
       "      <th>country</th>\n",
       "    </tr>\n",
       "  </thead>\n",
       "  <tbody>\n",
       "    <tr>\n",
       "      <th>0</th>\n",
       "      <td>1000001</td>\n",
       "      <td>UK</td>\n",
       "    </tr>\n",
       "    <tr>\n",
       "      <th>1</th>\n",
       "      <td>1000001</td>\n",
       "      <td>USA</td>\n",
       "    </tr>\n",
       "    <tr>\n",
       "      <th>2</th>\n",
       "      <td>1000002</td>\n",
       "      <td>South Korea</td>\n",
       "    </tr>\n",
       "    <tr>\n",
       "      <th>3</th>\n",
       "      <td>1000003</td>\n",
       "      <td>USA</td>\n",
       "    </tr>\n",
       "    <tr>\n",
       "      <th>4</th>\n",
       "      <td>1000004</td>\n",
       "      <td>Germany</td>\n",
       "    </tr>\n",
       "  </tbody>\n",
       "</table>\n",
       "</div>"
      ]
     },
     "execution_count": 46,
     "metadata": {},
     "output_type": "execute_result"
    }
   ],
   "execution_count": 46
  },
  {
   "cell_type": "code",
   "id": "fe6488ea4524f638",
   "metadata": {
    "ExecuteTime": {
     "end_time": "2024-12-27T16:12:35.655789Z",
     "start_time": "2024-12-27T16:12:35.652521Z"
    }
   },
   "source": "countries_df.shape",
   "outputs": [
    {
     "data": {
      "text/plain": [
       "(693476, 2)"
      ]
     },
     "execution_count": 47,
     "metadata": {},
     "output_type": "execute_result"
    }
   ],
   "execution_count": 47
  },
  {
   "metadata": {},
   "cell_type": "markdown",
   "source": "## Crew",
   "id": "1122f4499c98b73b"
  },
  {
   "metadata": {
    "ExecuteTime": {
     "end_time": "2024-12-27T16:12:38.132728Z",
     "start_time": "2024-12-27T16:12:35.765552Z"
    }
   },
   "cell_type": "code",
   "source": [
    "# Import 'crew.csv' dataset\n",
    "crew_df = pd.read_csv('datasets/crew.csv')"
   ],
   "id": "e1d3a171d015fcb9",
   "outputs": [],
   "execution_count": 48
  },
  {
   "metadata": {},
   "cell_type": "markdown",
   "source": "### 1. Data Understanding",
   "id": "80892b45436e51e2"
  },
  {
   "metadata": {
    "ExecuteTime": {
     "end_time": "2024-12-27T16:12:38.147829Z",
     "start_time": "2024-12-27T16:12:38.142523Z"
    }
   },
   "cell_type": "code",
   "source": "crew_df.head()",
   "id": "b488341ae318b3d5",
   "outputs": [
    {
     "data": {
      "text/plain": [
       "        id      role            name\n",
       "0  1000001  Director    Greta Gerwig\n",
       "1  1000001  Producer    Tom Ackerley\n",
       "2  1000001  Producer   Margot Robbie\n",
       "3  1000001  Producer  Robbie Brenner\n",
       "4  1000001  Producer    David Heyman"
      ],
      "text/html": [
       "<div>\n",
       "<style scoped>\n",
       "    .dataframe tbody tr th:only-of-type {\n",
       "        vertical-align: middle;\n",
       "    }\n",
       "\n",
       "    .dataframe tbody tr th {\n",
       "        vertical-align: top;\n",
       "    }\n",
       "\n",
       "    .dataframe thead th {\n",
       "        text-align: right;\n",
       "    }\n",
       "</style>\n",
       "<table border=\"1\" class=\"dataframe\">\n",
       "  <thead>\n",
       "    <tr style=\"text-align: right;\">\n",
       "      <th></th>\n",
       "      <th>id</th>\n",
       "      <th>role</th>\n",
       "      <th>name</th>\n",
       "    </tr>\n",
       "  </thead>\n",
       "  <tbody>\n",
       "    <tr>\n",
       "      <th>0</th>\n",
       "      <td>1000001</td>\n",
       "      <td>Director</td>\n",
       "      <td>Greta Gerwig</td>\n",
       "    </tr>\n",
       "    <tr>\n",
       "      <th>1</th>\n",
       "      <td>1000001</td>\n",
       "      <td>Producer</td>\n",
       "      <td>Tom Ackerley</td>\n",
       "    </tr>\n",
       "    <tr>\n",
       "      <th>2</th>\n",
       "      <td>1000001</td>\n",
       "      <td>Producer</td>\n",
       "      <td>Margot Robbie</td>\n",
       "    </tr>\n",
       "    <tr>\n",
       "      <th>3</th>\n",
       "      <td>1000001</td>\n",
       "      <td>Producer</td>\n",
       "      <td>Robbie Brenner</td>\n",
       "    </tr>\n",
       "    <tr>\n",
       "      <th>4</th>\n",
       "      <td>1000001</td>\n",
       "      <td>Producer</td>\n",
       "      <td>David Heyman</td>\n",
       "    </tr>\n",
       "  </tbody>\n",
       "</table>\n",
       "</div>"
      ]
     },
     "execution_count": 49,
     "metadata": {},
     "output_type": "execute_result"
    }
   ],
   "execution_count": 49
  },
  {
   "cell_type": "code",
   "id": "85e516c20b098c22",
   "metadata": {
    "ExecuteTime": {
     "end_time": "2024-12-27T16:12:38.195129Z",
     "start_time": "2024-12-27T16:12:38.191168Z"
    }
   },
   "source": "crew_df.shape",
   "outputs": [
    {
     "data": {
      "text/plain": [
       "(4720183, 3)"
      ]
     },
     "execution_count": 50,
     "metadata": {},
     "output_type": "execute_result"
    }
   ],
   "execution_count": 50
  },
  {
   "cell_type": "code",
   "id": "6e9579fa3486f88e",
   "metadata": {
    "ExecuteTime": {
     "end_time": "2024-12-27T16:12:38.283554Z",
     "start_time": "2024-12-27T16:12:38.279490Z"
    }
   },
   "source": "crew_df.dtypes",
   "outputs": [
    {
     "data": {
      "text/plain": [
       "id       int64\n",
       "role    object\n",
       "name    object\n",
       "dtype: object"
      ]
     },
     "execution_count": 51,
     "metadata": {},
     "output_type": "execute_result"
    }
   ],
   "execution_count": 51
  },
  {
   "metadata": {},
   "cell_type": "markdown",
   "source": "### 2. Data Cleaning",
   "id": "ad8721f119cf94d0"
  },
  {
   "metadata": {
    "ExecuteTime": {
     "end_time": "2024-12-27T16:12:38.440924Z",
     "start_time": "2024-12-27T16:12:38.378714Z"
    }
   },
   "cell_type": "code",
   "source": [
    "# Rename columns\n",
    "crew_df = crew_df.rename(columns={'id': 'movie_id', 'name': 'crew_member_name'})\n",
    "print(f\"Crew dataset columns: {', '.join(crew_df.columns)}\")"
   ],
   "id": "268ff79057a21edb",
   "outputs": [
    {
     "name": "stdout",
     "output_type": "stream",
     "text": [
      "Crew dataset columns: movie_id, role, crew_member_name\n"
     ]
    }
   ],
   "execution_count": 52
  },
  {
   "cell_type": "code",
   "id": "56a653c79e4f9730",
   "metadata": {
    "ExecuteTime": {
     "end_time": "2024-12-27T16:12:38.807166Z",
     "start_time": "2024-12-27T16:12:38.509144Z"
    }
   },
   "source": [
    "# Check for null values\n",
    "crew_df.isna().sum()"
   ],
   "outputs": [
    {
     "data": {
      "text/plain": [
       "movie_id            0\n",
       "role                0\n",
       "crew_member_name    1\n",
       "dtype: int64"
      ]
     },
     "execution_count": 53,
     "metadata": {},
     "output_type": "execute_result"
    }
   ],
   "execution_count": 53
  },
  {
   "metadata": {
    "ExecuteTime": {
     "end_time": "2024-12-27T16:12:41.254452Z",
     "start_time": "2024-12-27T16:12:38.837143Z"
    }
   },
   "cell_type": "code",
   "source": "find_matching(crew_df, 'crew_member_name', [\"anonymous\", \"unknown\"]).head()",
   "id": "ad3c1bfc285a6ae4",
   "outputs": [
    {
     "data": {
      "text/plain": [
       "        movie_id                role     crew_member_name\n",
       "122552   1001960         Co-director            Anonymous\n",
       "488047   1014226  Executive producer  Anonymous Anonymous\n",
       "510633   1015341            Director            Anonymous\n",
       "510634   1015341              Editor            Anonymous\n",
       "740024   1028791     Original writer            Anonymous"
      ],
      "text/html": [
       "<div>\n",
       "<style scoped>\n",
       "    .dataframe tbody tr th:only-of-type {\n",
       "        vertical-align: middle;\n",
       "    }\n",
       "\n",
       "    .dataframe tbody tr th {\n",
       "        vertical-align: top;\n",
       "    }\n",
       "\n",
       "    .dataframe thead th {\n",
       "        text-align: right;\n",
       "    }\n",
       "</style>\n",
       "<table border=\"1\" class=\"dataframe\">\n",
       "  <thead>\n",
       "    <tr style=\"text-align: right;\">\n",
       "      <th></th>\n",
       "      <th>movie_id</th>\n",
       "      <th>role</th>\n",
       "      <th>crew_member_name</th>\n",
       "    </tr>\n",
       "  </thead>\n",
       "  <tbody>\n",
       "    <tr>\n",
       "      <th>122552</th>\n",
       "      <td>1001960</td>\n",
       "      <td>Co-director</td>\n",
       "      <td>Anonymous</td>\n",
       "    </tr>\n",
       "    <tr>\n",
       "      <th>488047</th>\n",
       "      <td>1014226</td>\n",
       "      <td>Executive producer</td>\n",
       "      <td>Anonymous Anonymous</td>\n",
       "    </tr>\n",
       "    <tr>\n",
       "      <th>510633</th>\n",
       "      <td>1015341</td>\n",
       "      <td>Director</td>\n",
       "      <td>Anonymous</td>\n",
       "    </tr>\n",
       "    <tr>\n",
       "      <th>510634</th>\n",
       "      <td>1015341</td>\n",
       "      <td>Editor</td>\n",
       "      <td>Anonymous</td>\n",
       "    </tr>\n",
       "    <tr>\n",
       "      <th>740024</th>\n",
       "      <td>1028791</td>\n",
       "      <td>Original writer</td>\n",
       "      <td>Anonymous</td>\n",
       "    </tr>\n",
       "  </tbody>\n",
       "</table>\n",
       "</div>"
      ]
     },
     "execution_count": 54,
     "metadata": {},
     "output_type": "execute_result"
    }
   ],
   "execution_count": 54
  },
  {
   "metadata": {},
   "cell_type": "markdown",
   "source": "The existing `NaN` value was not removed because it is minimal compared to the overall size of the dataset, and removing it would not significantly impact the analysis. Similarly, values such as *Unknown* or *Anonymous* were kept because they account for less than 0.001% of the data and do not affect the overall results.",
   "id": "653c8210e6e4480b"
  },
  {
   "metadata": {
    "ExecuteTime": {
     "end_time": "2024-12-27T16:12:46.884701Z",
     "start_time": "2024-12-27T16:12:41.279237Z"
    }
   },
   "cell_type": "code",
   "source": [
    "# Check for duplicate rows\n",
    "print('Duplicated rows:', crew_df.duplicated().sum())\n",
    "crew_duplicates = crew_df[crew_df.duplicated(keep=False)].head()\n",
    "\n",
    "# Dropping the duplicates\n",
    "crew_df = crew_df.drop_duplicates()\n",
    "\n",
    "crew_duplicates"
   ],
   "id": "7f6075c4451752e3",
   "outputs": [
    {
     "name": "stdout",
     "output_type": "stream",
     "text": [
      "Duplicated rows: 1282\n"
     ]
    },
    {
     "data": {
      "text/plain": [
       "      movie_id    role crew_member_name\n",
       "1680   1000018  Stunts       Chris Webb\n",
       "1721   1000018  Stunts       Chris Webb\n",
       "2690   1000031  Stunts      Sarah Irwin\n",
       "2691   1000031  Stunts      Sarah Irwin\n",
       "2692   1000031  Stunts      Sarah Irwin"
      ],
      "text/html": [
       "<div>\n",
       "<style scoped>\n",
       "    .dataframe tbody tr th:only-of-type {\n",
       "        vertical-align: middle;\n",
       "    }\n",
       "\n",
       "    .dataframe tbody tr th {\n",
       "        vertical-align: top;\n",
       "    }\n",
       "\n",
       "    .dataframe thead th {\n",
       "        text-align: right;\n",
       "    }\n",
       "</style>\n",
       "<table border=\"1\" class=\"dataframe\">\n",
       "  <thead>\n",
       "    <tr style=\"text-align: right;\">\n",
       "      <th></th>\n",
       "      <th>movie_id</th>\n",
       "      <th>role</th>\n",
       "      <th>crew_member_name</th>\n",
       "    </tr>\n",
       "  </thead>\n",
       "  <tbody>\n",
       "    <tr>\n",
       "      <th>1680</th>\n",
       "      <td>1000018</td>\n",
       "      <td>Stunts</td>\n",
       "      <td>Chris Webb</td>\n",
       "    </tr>\n",
       "    <tr>\n",
       "      <th>1721</th>\n",
       "      <td>1000018</td>\n",
       "      <td>Stunts</td>\n",
       "      <td>Chris Webb</td>\n",
       "    </tr>\n",
       "    <tr>\n",
       "      <th>2690</th>\n",
       "      <td>1000031</td>\n",
       "      <td>Stunts</td>\n",
       "      <td>Sarah Irwin</td>\n",
       "    </tr>\n",
       "    <tr>\n",
       "      <th>2691</th>\n",
       "      <td>1000031</td>\n",
       "      <td>Stunts</td>\n",
       "      <td>Sarah Irwin</td>\n",
       "    </tr>\n",
       "    <tr>\n",
       "      <th>2692</th>\n",
       "      <td>1000031</td>\n",
       "      <td>Stunts</td>\n",
       "      <td>Sarah Irwin</td>\n",
       "    </tr>\n",
       "  </tbody>\n",
       "</table>\n",
       "</div>"
      ]
     },
     "execution_count": 55,
     "metadata": {},
     "output_type": "execute_result"
    }
   ],
   "execution_count": 55
  },
  {
   "metadata": {},
   "cell_type": "markdown",
   "source": "Completely duplicated rows are clearly an error and can be safely removed.",
   "id": "6b9bba4bf607c54f"
  },
  {
   "metadata": {
    "ExecuteTime": {
     "end_time": "2024-12-27T16:12:47.010173Z",
     "start_time": "2024-12-27T16:12:46.906662Z"
    }
   },
   "cell_type": "code",
   "source": [
    "# Reset indexing after removing rows\n",
    "crew_df = crew_df.reset_index(drop=True)"
   ],
   "id": "8f3cd5fe16853ccf",
   "outputs": [],
   "execution_count": 56
  },
  {
   "metadata": {},
   "cell_type": "markdown",
   "source": [
    "### 3. Final Results\n",
    "The **crew** dataset is connected to the movies dataset through the `movie_id` column. It includes the names of all crew members along with their roles. <br>\n",
    "A crew member can have different roles in the same movies and can appear in more than one movie. <br>\n",
    "A crew member is solely identified by his full name."
   ],
   "id": "2649f725e4082c0b"
  },
  {
   "metadata": {
    "ExecuteTime": {
     "end_time": "2024-12-27T16:12:47.160931Z",
     "start_time": "2024-12-27T16:12:47.155546Z"
    }
   },
   "cell_type": "code",
   "source": "crew_df.head()",
   "id": "e39e3a8cefbde1e0",
   "outputs": [
    {
     "data": {
      "text/plain": [
       "   movie_id      role crew_member_name\n",
       "0   1000001  Director     Greta Gerwig\n",
       "1   1000001  Producer     Tom Ackerley\n",
       "2   1000001  Producer    Margot Robbie\n",
       "3   1000001  Producer   Robbie Brenner\n",
       "4   1000001  Producer     David Heyman"
      ],
      "text/html": [
       "<div>\n",
       "<style scoped>\n",
       "    .dataframe tbody tr th:only-of-type {\n",
       "        vertical-align: middle;\n",
       "    }\n",
       "\n",
       "    .dataframe tbody tr th {\n",
       "        vertical-align: top;\n",
       "    }\n",
       "\n",
       "    .dataframe thead th {\n",
       "        text-align: right;\n",
       "    }\n",
       "</style>\n",
       "<table border=\"1\" class=\"dataframe\">\n",
       "  <thead>\n",
       "    <tr style=\"text-align: right;\">\n",
       "      <th></th>\n",
       "      <th>movie_id</th>\n",
       "      <th>role</th>\n",
       "      <th>crew_member_name</th>\n",
       "    </tr>\n",
       "  </thead>\n",
       "  <tbody>\n",
       "    <tr>\n",
       "      <th>0</th>\n",
       "      <td>1000001</td>\n",
       "      <td>Director</td>\n",
       "      <td>Greta Gerwig</td>\n",
       "    </tr>\n",
       "    <tr>\n",
       "      <th>1</th>\n",
       "      <td>1000001</td>\n",
       "      <td>Producer</td>\n",
       "      <td>Tom Ackerley</td>\n",
       "    </tr>\n",
       "    <tr>\n",
       "      <th>2</th>\n",
       "      <td>1000001</td>\n",
       "      <td>Producer</td>\n",
       "      <td>Margot Robbie</td>\n",
       "    </tr>\n",
       "    <tr>\n",
       "      <th>3</th>\n",
       "      <td>1000001</td>\n",
       "      <td>Producer</td>\n",
       "      <td>Robbie Brenner</td>\n",
       "    </tr>\n",
       "    <tr>\n",
       "      <th>4</th>\n",
       "      <td>1000001</td>\n",
       "      <td>Producer</td>\n",
       "      <td>David Heyman</td>\n",
       "    </tr>\n",
       "  </tbody>\n",
       "</table>\n",
       "</div>"
      ]
     },
     "execution_count": 57,
     "metadata": {},
     "output_type": "execute_result"
    }
   ],
   "execution_count": 57
  },
  {
   "cell_type": "code",
   "id": "704a35689acd277a",
   "metadata": {
    "ExecuteTime": {
     "end_time": "2024-12-27T16:12:47.287496Z",
     "start_time": "2024-12-27T16:12:47.283185Z"
    }
   },
   "source": "crew_df.shape",
   "outputs": [
    {
     "data": {
      "text/plain": [
       "(4718901, 3)"
      ]
     },
     "execution_count": 58,
     "metadata": {},
     "output_type": "execute_result"
    }
   ],
   "execution_count": 58
  },
  {
   "metadata": {},
   "cell_type": "markdown",
   "source": "## Genres",
   "id": "e85d09f6e1a04068"
  },
  {
   "metadata": {
    "ExecuteTime": {
     "end_time": "2024-12-27T16:12:47.638909Z",
     "start_time": "2024-12-27T16:12:47.438533Z"
    }
   },
   "cell_type": "code",
   "source": [
    "# Import 'genres.csv' dataset\n",
    "genres_df = pd.read_csv('datasets/genres.csv')"
   ],
   "id": "860a0ee5a5f558d7",
   "outputs": [],
   "execution_count": 59
  },
  {
   "metadata": {},
   "cell_type": "markdown",
   "source": "### 1. Data Understanding",
   "id": "17adafa70ee07907"
  },
  {
   "metadata": {
    "ExecuteTime": {
     "end_time": "2024-12-27T16:12:47.658080Z",
     "start_time": "2024-12-27T16:12:47.653132Z"
    }
   },
   "cell_type": "code",
   "source": "genres_df.head()",
   "id": "355d3e1444e6a9c7",
   "outputs": [
    {
     "data": {
      "text/plain": [
       "        id      genre\n",
       "0  1000001     Comedy\n",
       "1  1000001  Adventure\n",
       "2  1000002     Comedy\n",
       "3  1000002   Thriller\n",
       "4  1000002      Drama"
      ],
      "text/html": [
       "<div>\n",
       "<style scoped>\n",
       "    .dataframe tbody tr th:only-of-type {\n",
       "        vertical-align: middle;\n",
       "    }\n",
       "\n",
       "    .dataframe tbody tr th {\n",
       "        vertical-align: top;\n",
       "    }\n",
       "\n",
       "    .dataframe thead th {\n",
       "        text-align: right;\n",
       "    }\n",
       "</style>\n",
       "<table border=\"1\" class=\"dataframe\">\n",
       "  <thead>\n",
       "    <tr style=\"text-align: right;\">\n",
       "      <th></th>\n",
       "      <th>id</th>\n",
       "      <th>genre</th>\n",
       "    </tr>\n",
       "  </thead>\n",
       "  <tbody>\n",
       "    <tr>\n",
       "      <th>0</th>\n",
       "      <td>1000001</td>\n",
       "      <td>Comedy</td>\n",
       "    </tr>\n",
       "    <tr>\n",
       "      <th>1</th>\n",
       "      <td>1000001</td>\n",
       "      <td>Adventure</td>\n",
       "    </tr>\n",
       "    <tr>\n",
       "      <th>2</th>\n",
       "      <td>1000002</td>\n",
       "      <td>Comedy</td>\n",
       "    </tr>\n",
       "    <tr>\n",
       "      <th>3</th>\n",
       "      <td>1000002</td>\n",
       "      <td>Thriller</td>\n",
       "    </tr>\n",
       "    <tr>\n",
       "      <th>4</th>\n",
       "      <td>1000002</td>\n",
       "      <td>Drama</td>\n",
       "    </tr>\n",
       "  </tbody>\n",
       "</table>\n",
       "</div>"
      ]
     },
     "execution_count": 60,
     "metadata": {},
     "output_type": "execute_result"
    }
   ],
   "execution_count": 60
  },
  {
   "cell_type": "code",
   "id": "d81b082bc37242f6",
   "metadata": {
    "ExecuteTime": {
     "end_time": "2024-12-27T16:12:47.717245Z",
     "start_time": "2024-12-27T16:12:47.713616Z"
    }
   },
   "source": "genres_df.shape",
   "outputs": [
    {
     "data": {
      "text/plain": [
       "(1046849, 2)"
      ]
     },
     "execution_count": 61,
     "metadata": {},
     "output_type": "execute_result"
    }
   ],
   "execution_count": 61
  },
  {
   "cell_type": "code",
   "id": "143ecf4fe158fba2",
   "metadata": {
    "ExecuteTime": {
     "end_time": "2024-12-27T16:12:47.798269Z",
     "start_time": "2024-12-27T16:12:47.793967Z"
    }
   },
   "source": "genres_df.dtypes",
   "outputs": [
    {
     "data": {
      "text/plain": [
       "id        int64\n",
       "genre    object\n",
       "dtype: object"
      ]
     },
     "execution_count": 62,
     "metadata": {},
     "output_type": "execute_result"
    }
   ],
   "execution_count": 62
  },
  {
   "metadata": {},
   "cell_type": "markdown",
   "source": "### 2. Data Cleaning",
   "id": "1aff4674837a5d81"
  },
  {
   "metadata": {
    "ExecuteTime": {
     "end_time": "2024-12-27T16:12:47.906378Z",
     "start_time": "2024-12-27T16:12:47.896890Z"
    }
   },
   "cell_type": "code",
   "source": [
    "# Rename columns\n",
    "genres_df = genres_df.rename(columns={'id': 'movie_id'})\n",
    "print(f\"Genres dataset columns: {', '.join(genres_df.columns)}\")"
   ],
   "id": "fdcab4c2d97ac491",
   "outputs": [
    {
     "name": "stdout",
     "output_type": "stream",
     "text": [
      "Genres dataset columns: movie_id, genre\n"
     ]
    }
   ],
   "execution_count": 63
  },
  {
   "cell_type": "code",
   "id": "e8e51ba8b0004763",
   "metadata": {
    "ExecuteTime": {
     "end_time": "2024-12-27T16:12:48.053295Z",
     "start_time": "2024-12-27T16:12:48.018886Z"
    }
   },
   "source": [
    "# Check for null values\n",
    "genres_df.isna().sum()"
   ],
   "outputs": [
    {
     "data": {
      "text/plain": [
       "movie_id    0\n",
       "genre       0\n",
       "dtype: int64"
      ]
     },
     "execution_count": 64,
     "metadata": {},
     "output_type": "execute_result"
    }
   ],
   "execution_count": 64
  },
  {
   "cell_type": "code",
   "id": "3646eb6aa8a294c3",
   "metadata": {
    "ExecuteTime": {
     "end_time": "2024-12-27T16:12:48.238653Z",
     "start_time": "2024-12-27T16:12:48.122219Z"
    }
   },
   "source": [
    "# Check for duplicate rows\n",
    "print(f\"There are {genres_df.duplicated().sum()} duplicated rows\")"
   ],
   "outputs": [
    {
     "name": "stdout",
     "output_type": "stream",
     "text": [
      "There are 0 duplicated rows\n"
     ]
    }
   ],
   "execution_count": 65
  },
  {
   "cell_type": "code",
   "id": "f4ab9550c0d65192",
   "metadata": {
    "ExecuteTime": {
     "end_time": "2024-12-27T16:12:48.408202Z",
     "start_time": "2024-12-27T16:12:48.310969Z"
    }
   },
   "source": [
    "# Setting the correct type for columns\n",
    "genres_list = list(genres_df[\"genre\"].unique())\n",
    "print(f'There are {len(genres_list)} genres in the dataset: {\", \".join(genres_list)}')\n",
    "\n",
    "genres_df['genre'] = genres_df['genre'].astype('category')"
   ],
   "outputs": [
    {
     "name": "stdout",
     "output_type": "stream",
     "text": [
      "There are 19 genres in the dataset: Comedy, Adventure, Thriller, Drama, Science Fiction, Action, Music, Romance, History, Crime, Animation, Mystery, Horror, Family, Fantasy, War, Western, TV Movie, Documentary\n"
     ]
    }
   ],
   "execution_count": 66
  },
  {
   "metadata": {},
   "cell_type": "markdown",
   "source": "Given the limited number of genres in the dataset, the field can be optimized setting it to category type.",
   "id": "d6424026a2a71677"
  },
  {
   "metadata": {},
   "cell_type": "markdown",
   "source": [
    "### 3. Final Results\n",
    "The **genres** dataset is connected to the movies dataset through the `movie_id` column. A movie can have multiple genres.\n"
   ],
   "id": "c7e984ddf81ccb1a"
  },
  {
   "metadata": {
    "ExecuteTime": {
     "end_time": "2024-12-27T16:12:48.482470Z",
     "start_time": "2024-12-27T16:12:48.477121Z"
    }
   },
   "cell_type": "code",
   "source": "genres_df.head()",
   "id": "e8212362a24e246c",
   "outputs": [
    {
     "data": {
      "text/plain": [
       "   movie_id      genre\n",
       "0   1000001     Comedy\n",
       "1   1000001  Adventure\n",
       "2   1000002     Comedy\n",
       "3   1000002   Thriller\n",
       "4   1000002      Drama"
      ],
      "text/html": [
       "<div>\n",
       "<style scoped>\n",
       "    .dataframe tbody tr th:only-of-type {\n",
       "        vertical-align: middle;\n",
       "    }\n",
       "\n",
       "    .dataframe tbody tr th {\n",
       "        vertical-align: top;\n",
       "    }\n",
       "\n",
       "    .dataframe thead th {\n",
       "        text-align: right;\n",
       "    }\n",
       "</style>\n",
       "<table border=\"1\" class=\"dataframe\">\n",
       "  <thead>\n",
       "    <tr style=\"text-align: right;\">\n",
       "      <th></th>\n",
       "      <th>movie_id</th>\n",
       "      <th>genre</th>\n",
       "    </tr>\n",
       "  </thead>\n",
       "  <tbody>\n",
       "    <tr>\n",
       "      <th>0</th>\n",
       "      <td>1000001</td>\n",
       "      <td>Comedy</td>\n",
       "    </tr>\n",
       "    <tr>\n",
       "      <th>1</th>\n",
       "      <td>1000001</td>\n",
       "      <td>Adventure</td>\n",
       "    </tr>\n",
       "    <tr>\n",
       "      <th>2</th>\n",
       "      <td>1000002</td>\n",
       "      <td>Comedy</td>\n",
       "    </tr>\n",
       "    <tr>\n",
       "      <th>3</th>\n",
       "      <td>1000002</td>\n",
       "      <td>Thriller</td>\n",
       "    </tr>\n",
       "    <tr>\n",
       "      <th>4</th>\n",
       "      <td>1000002</td>\n",
       "      <td>Drama</td>\n",
       "    </tr>\n",
       "  </tbody>\n",
       "</table>\n",
       "</div>"
      ]
     },
     "execution_count": 67,
     "metadata": {},
     "output_type": "execute_result"
    }
   ],
   "execution_count": 67
  },
  {
   "cell_type": "code",
   "id": "bab939cf7be6dcaa",
   "metadata": {
    "ExecuteTime": {
     "end_time": "2024-12-27T16:12:48.538509Z",
     "start_time": "2024-12-27T16:12:48.533956Z"
    }
   },
   "source": "genres_df.shape",
   "outputs": [
    {
     "data": {
      "text/plain": [
       "(1046849, 2)"
      ]
     },
     "execution_count": 68,
     "metadata": {},
     "output_type": "execute_result"
    }
   ],
   "execution_count": 68
  },
  {
   "metadata": {},
   "cell_type": "markdown",
   "source": "## Posters",
   "id": "eb596a96e8ea190b"
  },
  {
   "metadata": {
    "ExecuteTime": {
     "end_time": "2024-12-27T16:12:49.772158Z",
     "start_time": "2024-12-27T16:12:48.673431Z"
    }
   },
   "cell_type": "code",
   "source": [
    "# Import 'posters.csv' dataset\n",
    "posters_df = pd.read_csv('datasets/posters.csv')"
   ],
   "id": "403fd2064babd235",
   "outputs": [],
   "execution_count": 69
  },
  {
   "metadata": {},
   "cell_type": "markdown",
   "source": "### 1. Data Understanding",
   "id": "e4940c54fc49f25c"
  },
  {
   "metadata": {
    "ExecuteTime": {
     "end_time": "2024-12-27T16:12:49.787787Z",
     "start_time": "2024-12-27T16:12:49.782556Z"
    }
   },
   "cell_type": "code",
   "source": "posters_df.head()",
   "id": "9871771eeedfc55c",
   "outputs": [
    {
     "data": {
      "text/plain": [
       "        id                                               link\n",
       "0  1000001  https://a.ltrbxd.com/resized/film-poster/2/7/7...\n",
       "1  1000002  https://a.ltrbxd.com/resized/film-poster/4/2/6...\n",
       "2  1000003  https://a.ltrbxd.com/resized/film-poster/4/7/4...\n",
       "3  1000004  https://a.ltrbxd.com/resized/film-poster/5/1/5...\n",
       "4  1000005  https://a.ltrbxd.com/resized/film-poster/2/4/0..."
      ],
      "text/html": [
       "<div>\n",
       "<style scoped>\n",
       "    .dataframe tbody tr th:only-of-type {\n",
       "        vertical-align: middle;\n",
       "    }\n",
       "\n",
       "    .dataframe tbody tr th {\n",
       "        vertical-align: top;\n",
       "    }\n",
       "\n",
       "    .dataframe thead th {\n",
       "        text-align: right;\n",
       "    }\n",
       "</style>\n",
       "<table border=\"1\" class=\"dataframe\">\n",
       "  <thead>\n",
       "    <tr style=\"text-align: right;\">\n",
       "      <th></th>\n",
       "      <th>id</th>\n",
       "      <th>link</th>\n",
       "    </tr>\n",
       "  </thead>\n",
       "  <tbody>\n",
       "    <tr>\n",
       "      <th>0</th>\n",
       "      <td>1000001</td>\n",
       "      <td>https://a.ltrbxd.com/resized/film-poster/2/7/7...</td>\n",
       "    </tr>\n",
       "    <tr>\n",
       "      <th>1</th>\n",
       "      <td>1000002</td>\n",
       "      <td>https://a.ltrbxd.com/resized/film-poster/4/2/6...</td>\n",
       "    </tr>\n",
       "    <tr>\n",
       "      <th>2</th>\n",
       "      <td>1000003</td>\n",
       "      <td>https://a.ltrbxd.com/resized/film-poster/4/7/4...</td>\n",
       "    </tr>\n",
       "    <tr>\n",
       "      <th>3</th>\n",
       "      <td>1000004</td>\n",
       "      <td>https://a.ltrbxd.com/resized/film-poster/5/1/5...</td>\n",
       "    </tr>\n",
       "    <tr>\n",
       "      <th>4</th>\n",
       "      <td>1000005</td>\n",
       "      <td>https://a.ltrbxd.com/resized/film-poster/2/4/0...</td>\n",
       "    </tr>\n",
       "  </tbody>\n",
       "</table>\n",
       "</div>"
      ]
     },
     "execution_count": 70,
     "metadata": {},
     "output_type": "execute_result"
    }
   ],
   "execution_count": 70
  },
  {
   "cell_type": "code",
   "id": "7e493780822572d4",
   "metadata": {
    "ExecuteTime": {
     "end_time": "2024-12-27T16:12:49.833423Z",
     "start_time": "2024-12-27T16:12:49.829677Z"
    }
   },
   "source": "posters_df.shape",
   "outputs": [
    {
     "data": {
      "text/plain": [
       "(941597, 2)"
      ]
     },
     "execution_count": 71,
     "metadata": {},
     "output_type": "execute_result"
    }
   ],
   "execution_count": 71
  },
  {
   "cell_type": "code",
   "id": "8606883b437702d9",
   "metadata": {
    "ExecuteTime": {
     "end_time": "2024-12-27T16:12:49.919730Z",
     "start_time": "2024-12-27T16:12:49.915720Z"
    }
   },
   "source": "posters_df.dtypes",
   "outputs": [
    {
     "data": {
      "text/plain": [
       "id       int64\n",
       "link    object\n",
       "dtype: object"
      ]
     },
     "execution_count": 72,
     "metadata": {},
     "output_type": "execute_result"
    }
   ],
   "execution_count": 72
  },
  {
   "metadata": {},
   "cell_type": "markdown",
   "source": "### 2. Data Cleaning",
   "id": "dd9d2bacbaee4b45"
  },
  {
   "metadata": {
    "ExecuteTime": {
     "end_time": "2024-12-27T16:12:50.027087Z",
     "start_time": "2024-12-27T16:12:50.010021Z"
    }
   },
   "cell_type": "code",
   "source": [
    "# Rename columns\n",
    "posters_df = posters_df.rename(columns={'id': 'movie_id', 'link': 'poster_link'})\n",
    "print(f\"Posters dataset columns: {', '.join(posters_df.columns)}\")"
   ],
   "id": "2182ed33df60f466",
   "outputs": [
    {
     "name": "stdout",
     "output_type": "stream",
     "text": [
      "Posters dataset columns: movie_id, poster_link\n"
     ]
    }
   ],
   "execution_count": 73
  },
  {
   "cell_type": "code",
   "id": "ee99715a7770203d",
   "metadata": {
    "ExecuteTime": {
     "end_time": "2024-12-27T16:12:50.190517Z",
     "start_time": "2024-12-27T16:12:50.153188Z"
    }
   },
   "source": [
    "# Check for null values\n",
    "posters_df.isna().sum()"
   ],
   "outputs": [
    {
     "data": {
      "text/plain": [
       "movie_id            0\n",
       "poster_link    180712\n",
       "dtype: int64"
      ]
     },
     "execution_count": 74,
     "metadata": {},
     "output_type": "execute_result"
    }
   ],
   "execution_count": 74
  },
  {
   "cell_type": "code",
   "id": "63dcee20ac047ce7",
   "metadata": {
    "ExecuteTime": {
     "end_time": "2024-12-27T16:12:50.400567Z",
     "start_time": "2024-12-27T16:12:50.323104Z"
    }
   },
   "source": [
    "# Removing null rows\n",
    "posters_df = posters_df.dropna()"
   ],
   "outputs": [],
   "execution_count": 75
  },
  {
   "metadata": {},
   "cell_type": "markdown",
   "source": [
    "Removing the `NaN` values as they do not contribute meaningful information to the dataset and could hinder data consistency and analysis. <br>\n",
    "We also need to check the validity of the link:"
   ],
   "id": "dd86974f8f3c15a"
  },
  {
   "metadata": {
    "ExecuteTime": {
     "end_time": "2024-12-27T16:12:50.845892Z",
     "start_time": "2024-12-27T16:12:50.476058Z"
    }
   },
   "cell_type": "code",
   "source": [
    "# Check for invalid links\n",
    "link_regex = r'\\bhttps?:\\/\\/(?:www\\.)?[a-zA-Z0-9-]+\\.[a-zA-Z]{2,}(?:\\/[^\\s]*)?'\n",
    "print(f\"There are {(~posters_df['poster_link'].str.contains(link_regex, na=False)).sum()} invalid links.\")"
   ],
   "id": "59102f00154663d2",
   "outputs": [
    {
     "name": "stdout",
     "output_type": "stream",
     "text": [
      "There are 0 invalid links.\n"
     ]
    }
   ],
   "execution_count": 76
  },
  {
   "metadata": {
    "ExecuteTime": {
     "end_time": "2024-12-27T16:12:51.274022Z",
     "start_time": "2024-12-27T16:12:50.879499Z"
    }
   },
   "cell_type": "code",
   "source": [
    "# Check for duplicate rows\n",
    "print(f\"There are {posters_df.duplicated().sum()} duplicated rows\")"
   ],
   "id": "a4ba1493c388ea5c",
   "outputs": [
    {
     "name": "stdout",
     "output_type": "stream",
     "text": [
      "There are 0 duplicated rows\n"
     ]
    }
   ],
   "execution_count": 77
  },
  {
   "metadata": {
    "ExecuteTime": {
     "end_time": "2024-12-27T16:12:51.294687Z",
     "start_time": "2024-12-27T16:12:51.281694Z"
    }
   },
   "cell_type": "code",
   "source": [
    "# Check if a movie can have more than 1 poster\n",
    "print(f\"There are {posters_df['movie_id'].duplicated().sum()} duplicates in the 'movie_id' column.\")"
   ],
   "id": "47c6dd59eb2d0166",
   "outputs": [
    {
     "name": "stdout",
     "output_type": "stream",
     "text": [
      "There are 0 duplicates in the 'movie_id' column.\n"
     ]
    }
   ],
   "execution_count": 78
  },
  {
   "metadata": {},
   "cell_type": "markdown",
   "source": "A movie can have at most only one poster. The relationship between the **posters** dataset and the **movies** dataset is One-to-One, allowing us to merge the two datasets.",
   "id": "571ae0ea4591d425"
  },
  {
   "metadata": {
    "ExecuteTime": {
     "end_time": "2024-12-27T16:12:51.551221Z",
     "start_time": "2024-12-27T16:12:51.310877Z"
    }
   },
   "cell_type": "code",
   "source": [
    "# Merging the datasets on 'id' from 'movies' and 'movie_id' from 'posters'\n",
    "movies_df = pd.merge(movies_df, posters_df, left_on='id', right_on='movie_id', how='left').drop(columns=['movie_id'])"
   ],
   "id": "2a5625b2b9b37a59",
   "outputs": [],
   "execution_count": 79
  },
  {
   "metadata": {},
   "cell_type": "markdown",
   "source": [
    "### 3. Final Results\n",
    "The posters dataset has now been merged into the movies dataset under the `poster_link` column. To ensure the merge was successful, the dataset should have the same number of rows as before (previously 941,587) and one additional column (previously 6)."
   ],
   "id": "f0b7bd4f467b7d57"
  },
  {
   "metadata": {
    "ExecuteTime": {
     "end_time": "2024-12-27T16:12:51.589838Z",
     "start_time": "2024-12-27T16:12:51.582902Z"
    }
   },
   "cell_type": "code",
   "source": "movies_df.head()",
   "id": "4f205e31002afb7e",
   "outputs": [
    {
     "data": {
      "text/plain": [
       "                               title  release_year  \\\n",
       "0                             Barbie          2023   \n",
       "1                           Parasite          2019   \n",
       "2  Everything Everywhere All at Once          2022   \n",
       "3                         Fight Club          1999   \n",
       "4                         La La Land          2016   \n",
       "\n",
       "                                            tagline  \\\n",
       "0                  She's everything. He's just Ken.   \n",
       "1                       Act like you own the place.   \n",
       "2  The universe is so much bigger than you realize.   \n",
       "3                           Mischief. Mayhem. Soap.   \n",
       "4                    Here's to the fools who dream.   \n",
       "\n",
       "                                         description  duration_in_minutes  \\\n",
       "0  Barbie and Ken are having the time of their li...                  114   \n",
       "1  All unemployed, Ki-taek's family takes peculia...                  133   \n",
       "2  An aging Chinese immigrant is swept up in an i...                  140   \n",
       "3  A ticking-time-bomb insomniac and a slippery s...                  139   \n",
       "4  Mia, an aspiring actress, serves lattes to mov...                  129   \n",
       "\n",
       "   rating                                        poster_link  \n",
       "0    3.86  https://a.ltrbxd.com/resized/film-poster/2/7/7...  \n",
       "1    4.56  https://a.ltrbxd.com/resized/film-poster/4/2/6...  \n",
       "2    4.30  https://a.ltrbxd.com/resized/film-poster/4/7/4...  \n",
       "3    4.27  https://a.ltrbxd.com/resized/film-poster/5/1/5...  \n",
       "4    4.09  https://a.ltrbxd.com/resized/film-poster/2/4/0...  "
      ],
      "text/html": [
       "<div>\n",
       "<style scoped>\n",
       "    .dataframe tbody tr th:only-of-type {\n",
       "        vertical-align: middle;\n",
       "    }\n",
       "\n",
       "    .dataframe tbody tr th {\n",
       "        vertical-align: top;\n",
       "    }\n",
       "\n",
       "    .dataframe thead th {\n",
       "        text-align: right;\n",
       "    }\n",
       "</style>\n",
       "<table border=\"1\" class=\"dataframe\">\n",
       "  <thead>\n",
       "    <tr style=\"text-align: right;\">\n",
       "      <th></th>\n",
       "      <th>title</th>\n",
       "      <th>release_year</th>\n",
       "      <th>tagline</th>\n",
       "      <th>description</th>\n",
       "      <th>duration_in_minutes</th>\n",
       "      <th>rating</th>\n",
       "      <th>poster_link</th>\n",
       "    </tr>\n",
       "  </thead>\n",
       "  <tbody>\n",
       "    <tr>\n",
       "      <th>0</th>\n",
       "      <td>Barbie</td>\n",
       "      <td>2023</td>\n",
       "      <td>She's everything. He's just Ken.</td>\n",
       "      <td>Barbie and Ken are having the time of their li...</td>\n",
       "      <td>114</td>\n",
       "      <td>3.86</td>\n",
       "      <td>https://a.ltrbxd.com/resized/film-poster/2/7/7...</td>\n",
       "    </tr>\n",
       "    <tr>\n",
       "      <th>1</th>\n",
       "      <td>Parasite</td>\n",
       "      <td>2019</td>\n",
       "      <td>Act like you own the place.</td>\n",
       "      <td>All unemployed, Ki-taek's family takes peculia...</td>\n",
       "      <td>133</td>\n",
       "      <td>4.56</td>\n",
       "      <td>https://a.ltrbxd.com/resized/film-poster/4/2/6...</td>\n",
       "    </tr>\n",
       "    <tr>\n",
       "      <th>2</th>\n",
       "      <td>Everything Everywhere All at Once</td>\n",
       "      <td>2022</td>\n",
       "      <td>The universe is so much bigger than you realize.</td>\n",
       "      <td>An aging Chinese immigrant is swept up in an i...</td>\n",
       "      <td>140</td>\n",
       "      <td>4.30</td>\n",
       "      <td>https://a.ltrbxd.com/resized/film-poster/4/7/4...</td>\n",
       "    </tr>\n",
       "    <tr>\n",
       "      <th>3</th>\n",
       "      <td>Fight Club</td>\n",
       "      <td>1999</td>\n",
       "      <td>Mischief. Mayhem. Soap.</td>\n",
       "      <td>A ticking-time-bomb insomniac and a slippery s...</td>\n",
       "      <td>139</td>\n",
       "      <td>4.27</td>\n",
       "      <td>https://a.ltrbxd.com/resized/film-poster/5/1/5...</td>\n",
       "    </tr>\n",
       "    <tr>\n",
       "      <th>4</th>\n",
       "      <td>La La Land</td>\n",
       "      <td>2016</td>\n",
       "      <td>Here's to the fools who dream.</td>\n",
       "      <td>Mia, an aspiring actress, serves lattes to mov...</td>\n",
       "      <td>129</td>\n",
       "      <td>4.09</td>\n",
       "      <td>https://a.ltrbxd.com/resized/film-poster/2/4/0...</td>\n",
       "    </tr>\n",
       "  </tbody>\n",
       "</table>\n",
       "</div>"
      ]
     },
     "execution_count": 80,
     "metadata": {},
     "output_type": "execute_result"
    }
   ],
   "execution_count": 80
  },
  {
   "metadata": {
    "ExecuteTime": {
     "end_time": "2024-12-27T16:12:51.632397Z",
     "start_time": "2024-12-27T16:12:51.629023Z"
    }
   },
   "cell_type": "code",
   "source": "movies_df.shape",
   "id": "2bbcf090c4f37230",
   "outputs": [
    {
     "data": {
      "text/plain": [
       "(941587, 7)"
      ]
     },
     "execution_count": 81,
     "metadata": {},
     "output_type": "execute_result"
    }
   ],
   "execution_count": 81
  },
  {
   "metadata": {},
   "cell_type": "markdown",
   "source": "## Releases",
   "id": "e5c776fed4df7b46"
  },
  {
   "metadata": {
    "ExecuteTime": {
     "end_time": "2024-12-27T16:12:52.289781Z",
     "start_time": "2024-12-27T16:12:51.711027Z"
    }
   },
   "cell_type": "code",
   "source": [
    "# Import 'release.csv' dataset\n",
    "releases_df = pd.read_csv('datasets/releases.csv')"
   ],
   "id": "452f3fa61572b07",
   "outputs": [],
   "execution_count": 82
  },
  {
   "metadata": {},
   "cell_type": "markdown",
   "source": "### 1. Data Understanding",
   "id": "46ae974f7d414208"
  },
  {
   "metadata": {
    "ExecuteTime": {
     "end_time": "2024-12-27T16:12:52.306613Z",
     "start_time": "2024-12-27T16:12:52.301127Z"
    }
   },
   "cell_type": "code",
   "source": "releases_df.head()",
   "id": "29d4f97bf53cf2e2",
   "outputs": [
    {
     "data": {
      "text/plain": [
       "        id    country        date        type rating\n",
       "0  1000001    Andorra  2023-07-21  Theatrical    NaN\n",
       "1  1000001  Argentina  2023-07-20  Theatrical    ATP\n",
       "2  1000001  Australia  2023-07-19  Theatrical     PG\n",
       "3  1000001  Australia  2023-10-01     Digital     PG\n",
       "4  1000001    Austria  2023-07-20  Theatrical    NaN"
      ],
      "text/html": [
       "<div>\n",
       "<style scoped>\n",
       "    .dataframe tbody tr th:only-of-type {\n",
       "        vertical-align: middle;\n",
       "    }\n",
       "\n",
       "    .dataframe tbody tr th {\n",
       "        vertical-align: top;\n",
       "    }\n",
       "\n",
       "    .dataframe thead th {\n",
       "        text-align: right;\n",
       "    }\n",
       "</style>\n",
       "<table border=\"1\" class=\"dataframe\">\n",
       "  <thead>\n",
       "    <tr style=\"text-align: right;\">\n",
       "      <th></th>\n",
       "      <th>id</th>\n",
       "      <th>country</th>\n",
       "      <th>date</th>\n",
       "      <th>type</th>\n",
       "      <th>rating</th>\n",
       "    </tr>\n",
       "  </thead>\n",
       "  <tbody>\n",
       "    <tr>\n",
       "      <th>0</th>\n",
       "      <td>1000001</td>\n",
       "      <td>Andorra</td>\n",
       "      <td>2023-07-21</td>\n",
       "      <td>Theatrical</td>\n",
       "      <td>NaN</td>\n",
       "    </tr>\n",
       "    <tr>\n",
       "      <th>1</th>\n",
       "      <td>1000001</td>\n",
       "      <td>Argentina</td>\n",
       "      <td>2023-07-20</td>\n",
       "      <td>Theatrical</td>\n",
       "      <td>ATP</td>\n",
       "    </tr>\n",
       "    <tr>\n",
       "      <th>2</th>\n",
       "      <td>1000001</td>\n",
       "      <td>Australia</td>\n",
       "      <td>2023-07-19</td>\n",
       "      <td>Theatrical</td>\n",
       "      <td>PG</td>\n",
       "    </tr>\n",
       "    <tr>\n",
       "      <th>3</th>\n",
       "      <td>1000001</td>\n",
       "      <td>Australia</td>\n",
       "      <td>2023-10-01</td>\n",
       "      <td>Digital</td>\n",
       "      <td>PG</td>\n",
       "    </tr>\n",
       "    <tr>\n",
       "      <th>4</th>\n",
       "      <td>1000001</td>\n",
       "      <td>Austria</td>\n",
       "      <td>2023-07-20</td>\n",
       "      <td>Theatrical</td>\n",
       "      <td>NaN</td>\n",
       "    </tr>\n",
       "  </tbody>\n",
       "</table>\n",
       "</div>"
      ]
     },
     "execution_count": 83,
     "metadata": {},
     "output_type": "execute_result"
    }
   ],
   "execution_count": 83
  },
  {
   "cell_type": "code",
   "id": "d4229fdeb2ec0df4",
   "metadata": {
    "ExecuteTime": {
     "end_time": "2024-12-27T16:12:52.350610Z",
     "start_time": "2024-12-27T16:12:52.347211Z"
    }
   },
   "source": "releases_df.shape",
   "outputs": [
    {
     "data": {
      "text/plain": [
       "(1332782, 5)"
      ]
     },
     "execution_count": 84,
     "metadata": {},
     "output_type": "execute_result"
    }
   ],
   "execution_count": 84
  },
  {
   "cell_type": "code",
   "id": "3c3f65a9f26b8107",
   "metadata": {
    "ExecuteTime": {
     "end_time": "2024-12-27T16:12:52.436403Z",
     "start_time": "2024-12-27T16:12:52.431891Z"
    }
   },
   "source": "releases_df.dtypes",
   "outputs": [
    {
     "data": {
      "text/plain": [
       "id          int64\n",
       "country    object\n",
       "date       object\n",
       "type       object\n",
       "rating     object\n",
       "dtype: object"
      ]
     },
     "execution_count": 85,
     "metadata": {},
     "output_type": "execute_result"
    }
   ],
   "execution_count": 85
  },
  {
   "metadata": {},
   "cell_type": "markdown",
   "source": "### 2. Data Cleaning",
   "id": "571f2114cfb9ed7d"
  },
  {
   "metadata": {
    "ExecuteTime": {
     "end_time": "2024-12-27T16:12:52.559415Z",
     "start_time": "2024-12-27T16:12:52.532735Z"
    }
   },
   "cell_type": "code",
   "source": [
    "# Rename columns\n",
    "releases_df = releases_df.rename(columns={'id': 'movie_id', 'type': 'distribution_format'})\n",
    "print(f\"Release dataset columns: {', '.join(releases_df.columns)}\")"
   ],
   "id": "fffde7a39f606830",
   "outputs": [
    {
     "name": "stdout",
     "output_type": "stream",
     "text": [
      "Release dataset columns: movie_id, country, date, distribution_format, rating\n"
     ]
    }
   ],
   "execution_count": 86
  },
  {
   "cell_type": "code",
   "id": "4f968df32d23f212",
   "metadata": {
    "ExecuteTime": {
     "end_time": "2024-12-27T16:12:52.794521Z",
     "start_time": "2024-12-27T16:12:52.653687Z"
    }
   },
   "source": [
    "# Check for null values\n",
    "releases_df.isna().sum()"
   ],
   "outputs": [
    {
     "data": {
      "text/plain": [
       "movie_id                    0\n",
       "country                     0\n",
       "date                        0\n",
       "distribution_format         0\n",
       "rating                 998802\n",
       "dtype: int64"
      ]
     },
     "execution_count": 87,
     "metadata": {},
     "output_type": "execute_result"
    }
   ],
   "execution_count": 87
  },
  {
   "metadata": {},
   "cell_type": "markdown",
   "source": [
    "It's fine for the dataset to have null values  in the `rating` column. <br>\n",
    "The absence of a rating could also be due to some countries not having an official rating system. If that is the case, we don't have enough information to determine whether it's a missing value or a country without a rating system. To make the data more meaningful, we should identify the countries without an official rating system and differentiate them from with a specific value. However, for our purposes, we don't need to clean the data to that extent."
   ],
   "id": "663da19b56ef9c19"
  },
  {
   "cell_type": "code",
   "id": "9bd49ddafbd907a9",
   "metadata": {
    "ExecuteTime": {
     "end_time": "2024-12-27T16:12:52.916079Z",
     "start_time": "2024-12-27T16:12:52.835695Z"
    }
   },
   "source": [
    "# Check for alternative null values in the dataset\n",
    "releases_df[(releases_df['rating'] == \"0\") & (~releases_df['country'].isin([\"Germany\", \"Austria\", \"Switzerland\"]))].head()"
   ],
   "outputs": [
    {
     "data": {
      "text/plain": [
       "        movie_id   country        date distribution_format rating\n",
       "216945   1009817   Hungary  2013-08-22          Theatrical      0\n",
       "223492   1010561  Thailand  2011-11-21            Physical      0\n",
       "279945   1018726    Israel  2022-06-16             Digital      0\n",
       "289168   1020593    Israel  2022-06-16             Digital      0\n",
       "291982   1021166    Israel  2022-06-16             Digital      0"
      ],
      "text/html": [
       "<div>\n",
       "<style scoped>\n",
       "    .dataframe tbody tr th:only-of-type {\n",
       "        vertical-align: middle;\n",
       "    }\n",
       "\n",
       "    .dataframe tbody tr th {\n",
       "        vertical-align: top;\n",
       "    }\n",
       "\n",
       "    .dataframe thead th {\n",
       "        text-align: right;\n",
       "    }\n",
       "</style>\n",
       "<table border=\"1\" class=\"dataframe\">\n",
       "  <thead>\n",
       "    <tr style=\"text-align: right;\">\n",
       "      <th></th>\n",
       "      <th>movie_id</th>\n",
       "      <th>country</th>\n",
       "      <th>date</th>\n",
       "      <th>distribution_format</th>\n",
       "      <th>rating</th>\n",
       "    </tr>\n",
       "  </thead>\n",
       "  <tbody>\n",
       "    <tr>\n",
       "      <th>216945</th>\n",
       "      <td>1009817</td>\n",
       "      <td>Hungary</td>\n",
       "      <td>2013-08-22</td>\n",
       "      <td>Theatrical</td>\n",
       "      <td>0</td>\n",
       "    </tr>\n",
       "    <tr>\n",
       "      <th>223492</th>\n",
       "      <td>1010561</td>\n",
       "      <td>Thailand</td>\n",
       "      <td>2011-11-21</td>\n",
       "      <td>Physical</td>\n",
       "      <td>0</td>\n",
       "    </tr>\n",
       "    <tr>\n",
       "      <th>279945</th>\n",
       "      <td>1018726</td>\n",
       "      <td>Israel</td>\n",
       "      <td>2022-06-16</td>\n",
       "      <td>Digital</td>\n",
       "      <td>0</td>\n",
       "    </tr>\n",
       "    <tr>\n",
       "      <th>289168</th>\n",
       "      <td>1020593</td>\n",
       "      <td>Israel</td>\n",
       "      <td>2022-06-16</td>\n",
       "      <td>Digital</td>\n",
       "      <td>0</td>\n",
       "    </tr>\n",
       "    <tr>\n",
       "      <th>291982</th>\n",
       "      <td>1021166</td>\n",
       "      <td>Israel</td>\n",
       "      <td>2022-06-16</td>\n",
       "      <td>Digital</td>\n",
       "      <td>0</td>\n",
       "    </tr>\n",
       "  </tbody>\n",
       "</table>\n",
       "</div>"
      ]
     },
     "execution_count": 88,
     "metadata": {},
     "output_type": "execute_result"
    }
   ],
   "execution_count": 88
  },
  {
   "metadata": {},
   "cell_type": "markdown",
   "source": "We initially checked the rating value 0 in the dataset, assuming it might represent a null or missing value. However, we discovered that in some countries (e.g., Germany), a rating of 0 has a meaningful interpretation, indicating that the film is suitable for all audiences, including children. While in some cases the 0 rating might still be an error, it appears only 70 times in a dataset of over one million rows. Given that we don't have a reference dataset with the rating system for every country, we can ignore these values.",
   "id": "2f00d4768c79e451"
  },
  {
   "metadata": {
    "ExecuteTime": {
     "end_time": "2024-12-27T16:12:53.372729Z",
     "start_time": "2024-12-27T16:12:52.998033Z"
    }
   },
   "cell_type": "code",
   "source": [
    "# Check for duplicate rows\n",
    "print(f\"There are {releases_df.duplicated().sum()} duplicated rows\")"
   ],
   "id": "c6d04c3f8349ce7b",
   "outputs": [
    {
     "name": "stdout",
     "output_type": "stream",
     "text": [
      "There are 0 duplicated rows\n"
     ]
    }
   ],
   "execution_count": 89
  },
  {
   "metadata": {
    "ExecuteTime": {
     "end_time": "2024-12-27T16:12:53.739334Z",
     "start_time": "2024-12-27T16:12:53.406980Z"
    }
   },
   "cell_type": "code",
   "source": [
    "# Setting the correct type for the columns\n",
    "releases_df['date'] = pd.to_datetime(releases_df['date'], format='%Y-%m-%d')\n",
    "releases_df['distribution_format'] = releases_df['distribution_format'].astype('category')\n",
    "\n",
    "distribution_formats = list(releases_df['distribution_format'].unique())\n",
    "print(f'There are {len(distribution_formats)} distribution formats in the dataset: {\", \".join(distribution_formats)}')"
   ],
   "id": "2321d27b8ed7276d",
   "outputs": [
    {
     "name": "stdout",
     "output_type": "stream",
     "text": [
      "There are 6 distribution formats in the dataset: Theatrical, Digital, Physical, Premiere, Theatrical limited, TV\n"
     ]
    }
   ],
   "execution_count": 90
  },
  {
   "metadata": {},
   "cell_type": "markdown",
   "source": "Given the limited number of distribution formats in the dataset, the field can be optimized setting it to category type.",
   "id": "73c71516f93258fc"
  },
  {
   "metadata": {},
   "cell_type": "markdown",
   "source": [
    "### 3. Final Results\n",
    "The **release** dataset is linked to the movies dataset through the 'movie_id' column. It contains details about the movie releases worldwide, including the release date, distribution format, and rating."
   ],
   "id": "1ea61bee9191c465"
  },
  {
   "metadata": {
    "ExecuteTime": {
     "end_time": "2024-12-27T16:12:53.769970Z",
     "start_time": "2024-12-27T16:12:53.763829Z"
    }
   },
   "cell_type": "code",
   "source": "releases_df.head()",
   "id": "e0be4cba5f2b3859",
   "outputs": [
    {
     "data": {
      "text/plain": [
       "   movie_id    country       date distribution_format rating\n",
       "0   1000001    Andorra 2023-07-21          Theatrical    NaN\n",
       "1   1000001  Argentina 2023-07-20          Theatrical    ATP\n",
       "2   1000001  Australia 2023-07-19          Theatrical     PG\n",
       "3   1000001  Australia 2023-10-01             Digital     PG\n",
       "4   1000001    Austria 2023-07-20          Theatrical    NaN"
      ],
      "text/html": [
       "<div>\n",
       "<style scoped>\n",
       "    .dataframe tbody tr th:only-of-type {\n",
       "        vertical-align: middle;\n",
       "    }\n",
       "\n",
       "    .dataframe tbody tr th {\n",
       "        vertical-align: top;\n",
       "    }\n",
       "\n",
       "    .dataframe thead th {\n",
       "        text-align: right;\n",
       "    }\n",
       "</style>\n",
       "<table border=\"1\" class=\"dataframe\">\n",
       "  <thead>\n",
       "    <tr style=\"text-align: right;\">\n",
       "      <th></th>\n",
       "      <th>movie_id</th>\n",
       "      <th>country</th>\n",
       "      <th>date</th>\n",
       "      <th>distribution_format</th>\n",
       "      <th>rating</th>\n",
       "    </tr>\n",
       "  </thead>\n",
       "  <tbody>\n",
       "    <tr>\n",
       "      <th>0</th>\n",
       "      <td>1000001</td>\n",
       "      <td>Andorra</td>\n",
       "      <td>2023-07-21</td>\n",
       "      <td>Theatrical</td>\n",
       "      <td>NaN</td>\n",
       "    </tr>\n",
       "    <tr>\n",
       "      <th>1</th>\n",
       "      <td>1000001</td>\n",
       "      <td>Argentina</td>\n",
       "      <td>2023-07-20</td>\n",
       "      <td>Theatrical</td>\n",
       "      <td>ATP</td>\n",
       "    </tr>\n",
       "    <tr>\n",
       "      <th>2</th>\n",
       "      <td>1000001</td>\n",
       "      <td>Australia</td>\n",
       "      <td>2023-07-19</td>\n",
       "      <td>Theatrical</td>\n",
       "      <td>PG</td>\n",
       "    </tr>\n",
       "    <tr>\n",
       "      <th>3</th>\n",
       "      <td>1000001</td>\n",
       "      <td>Australia</td>\n",
       "      <td>2023-10-01</td>\n",
       "      <td>Digital</td>\n",
       "      <td>PG</td>\n",
       "    </tr>\n",
       "    <tr>\n",
       "      <th>4</th>\n",
       "      <td>1000001</td>\n",
       "      <td>Austria</td>\n",
       "      <td>2023-07-20</td>\n",
       "      <td>Theatrical</td>\n",
       "      <td>NaN</td>\n",
       "    </tr>\n",
       "  </tbody>\n",
       "</table>\n",
       "</div>"
      ]
     },
     "execution_count": 91,
     "metadata": {},
     "output_type": "execute_result"
    }
   ],
   "execution_count": 91
  },
  {
   "cell_type": "code",
   "id": "e6bf754e207c33c8",
   "metadata": {
    "ExecuteTime": {
     "end_time": "2024-12-27T16:12:53.853134Z",
     "start_time": "2024-12-27T16:12:53.849481Z"
    }
   },
   "source": "releases_df.shape",
   "outputs": [
    {
     "data": {
      "text/plain": [
       "(1332782, 5)"
      ]
     },
     "execution_count": 92,
     "metadata": {},
     "output_type": "execute_result"
    }
   ],
   "execution_count": 92
  },
  {
   "metadata": {},
   "cell_type": "markdown",
   "source": "## Studios",
   "id": "9737e986e51d2cfe"
  },
  {
   "metadata": {
    "ExecuteTime": {
     "end_time": "2024-12-27T16:12:54.229030Z",
     "start_time": "2024-12-27T16:12:53.940890Z"
    }
   },
   "cell_type": "code",
   "source": [
    "# Import 'studios.csv' dataset\n",
    "studios_df = pd.read_csv('datasets/studios.csv')"
   ],
   "id": "3d2689ce87ad8b1e",
   "outputs": [],
   "execution_count": 93
  },
  {
   "metadata": {},
   "cell_type": "markdown",
   "source": "### 1. Data Understanding",
   "id": "28637961eba451d1"
  },
  {
   "metadata": {
    "ExecuteTime": {
     "end_time": "2024-12-27T16:12:54.258800Z",
     "start_time": "2024-12-27T16:12:54.253457Z"
    }
   },
   "cell_type": "code",
   "source": "studios_df.head()",
   "id": "4fee13f9ba916f6c",
   "outputs": [
    {
     "data": {
      "text/plain": [
       "        id                   studio\n",
       "0  1000001  LuckyChap Entertainment\n",
       "1  1000001             Heyday Films\n",
       "2  1000001           NB/GG Pictures\n",
       "3  1000001                   Mattel\n",
       "4  1000001    Warner Bros. Pictures"
      ],
      "text/html": [
       "<div>\n",
       "<style scoped>\n",
       "    .dataframe tbody tr th:only-of-type {\n",
       "        vertical-align: middle;\n",
       "    }\n",
       "\n",
       "    .dataframe tbody tr th {\n",
       "        vertical-align: top;\n",
       "    }\n",
       "\n",
       "    .dataframe thead th {\n",
       "        text-align: right;\n",
       "    }\n",
       "</style>\n",
       "<table border=\"1\" class=\"dataframe\">\n",
       "  <thead>\n",
       "    <tr style=\"text-align: right;\">\n",
       "      <th></th>\n",
       "      <th>id</th>\n",
       "      <th>studio</th>\n",
       "    </tr>\n",
       "  </thead>\n",
       "  <tbody>\n",
       "    <tr>\n",
       "      <th>0</th>\n",
       "      <td>1000001</td>\n",
       "      <td>LuckyChap Entertainment</td>\n",
       "    </tr>\n",
       "    <tr>\n",
       "      <th>1</th>\n",
       "      <td>1000001</td>\n",
       "      <td>Heyday Films</td>\n",
       "    </tr>\n",
       "    <tr>\n",
       "      <th>2</th>\n",
       "      <td>1000001</td>\n",
       "      <td>NB/GG Pictures</td>\n",
       "    </tr>\n",
       "    <tr>\n",
       "      <th>3</th>\n",
       "      <td>1000001</td>\n",
       "      <td>Mattel</td>\n",
       "    </tr>\n",
       "    <tr>\n",
       "      <th>4</th>\n",
       "      <td>1000001</td>\n",
       "      <td>Warner Bros. Pictures</td>\n",
       "    </tr>\n",
       "  </tbody>\n",
       "</table>\n",
       "</div>"
      ]
     },
     "execution_count": 94,
     "metadata": {},
     "output_type": "execute_result"
    }
   ],
   "execution_count": 94
  },
  {
   "cell_type": "code",
   "id": "a88021e9ebb0065c",
   "metadata": {
    "ExecuteTime": {
     "end_time": "2024-12-27T16:12:54.305302Z",
     "start_time": "2024-12-27T16:12:54.302079Z"
    }
   },
   "source": "studios_df.shape",
   "outputs": [
    {
     "data": {
      "text/plain": [
       "(679283, 2)"
      ]
     },
     "execution_count": 95,
     "metadata": {},
     "output_type": "execute_result"
    }
   ],
   "execution_count": 95
  },
  {
   "cell_type": "code",
   "id": "bbf42bcb0f1fb08",
   "metadata": {
    "ExecuteTime": {
     "end_time": "2024-12-27T16:12:54.391003Z",
     "start_time": "2024-12-27T16:12:54.386661Z"
    }
   },
   "source": "studios_df.dtypes",
   "outputs": [
    {
     "data": {
      "text/plain": [
       "id         int64\n",
       "studio    object\n",
       "dtype: object"
      ]
     },
     "execution_count": 96,
     "metadata": {},
     "output_type": "execute_result"
    }
   ],
   "execution_count": 96
  },
  {
   "metadata": {},
   "cell_type": "markdown",
   "source": "### 2. Data Cleaning",
   "id": "74f2241fe9949baf"
  },
  {
   "metadata": {
    "ExecuteTime": {
     "end_time": "2024-12-27T16:12:54.485600Z",
     "start_time": "2024-12-27T16:12:54.475820Z"
    }
   },
   "cell_type": "code",
   "source": [
    "# Rename columns\n",
    "studios_df = studios_df.rename(columns={'id': 'movie_id'})\n",
    "print(f\"Studios dataset columns: {', '.join(studios_df.columns)}\")"
   ],
   "id": "ef2ca86c4030239",
   "outputs": [
    {
     "name": "stdout",
     "output_type": "stream",
     "text": [
      "Studios dataset columns: movie_id, studio\n"
     ]
    }
   ],
   "execution_count": 97
  },
  {
   "cell_type": "code",
   "id": "be17f510fb844ba0",
   "metadata": {
    "ExecuteTime": {
     "end_time": "2024-12-27T16:12:54.640494Z",
     "start_time": "2024-12-27T16:12:54.611557Z"
    }
   },
   "source": [
    "# Check for null values\n",
    "studios_df.isna().sum()"
   ],
   "outputs": [
    {
     "data": {
      "text/plain": [
       "movie_id     0\n",
       "studio      10\n",
       "dtype: int64"
      ]
     },
     "execution_count": 98,
     "metadata": {},
     "output_type": "execute_result"
    }
   ],
   "execution_count": 98
  },
  {
   "metadata": {},
   "cell_type": "markdown",
   "source": "Unnamed studios are not usable and can be safely removed.",
   "id": "7bd0906984fdee8f"
  },
  {
   "metadata": {
    "ExecuteTime": {
     "end_time": "2024-12-27T16:12:54.787066Z",
     "start_time": "2024-12-27T16:12:54.704831Z"
    }
   },
   "cell_type": "code",
   "source": [
    "# Removing rows with null studio name\n",
    "no_name_studios = studios_df[studios_df['studio'].isna()]\n",
    "studios_df = studios_df.dropna(subset=['studio'])\n",
    "\n",
    "print(\"Studios without name:\")\n",
    "no_name_studios.head()"
   ],
   "id": "fd632b025371337c",
   "outputs": [
    {
     "name": "stdout",
     "output_type": "stream",
     "text": [
      "Studios without name:\n"
     ]
    },
    {
     "data": {
      "text/plain": [
       "        movie_id studio\n",
       "347347   1259717    NaN\n",
       "411467   1350206    NaN\n",
       "473794   1450762    NaN\n",
       "534117   1565428    NaN\n",
       "541076   1579904    NaN"
      ],
      "text/html": [
       "<div>\n",
       "<style scoped>\n",
       "    .dataframe tbody tr th:only-of-type {\n",
       "        vertical-align: middle;\n",
       "    }\n",
       "\n",
       "    .dataframe tbody tr th {\n",
       "        vertical-align: top;\n",
       "    }\n",
       "\n",
       "    .dataframe thead th {\n",
       "        text-align: right;\n",
       "    }\n",
       "</style>\n",
       "<table border=\"1\" class=\"dataframe\">\n",
       "  <thead>\n",
       "    <tr style=\"text-align: right;\">\n",
       "      <th></th>\n",
       "      <th>movie_id</th>\n",
       "      <th>studio</th>\n",
       "    </tr>\n",
       "  </thead>\n",
       "  <tbody>\n",
       "    <tr>\n",
       "      <th>347347</th>\n",
       "      <td>1259717</td>\n",
       "      <td>NaN</td>\n",
       "    </tr>\n",
       "    <tr>\n",
       "      <th>411467</th>\n",
       "      <td>1350206</td>\n",
       "      <td>NaN</td>\n",
       "    </tr>\n",
       "    <tr>\n",
       "      <th>473794</th>\n",
       "      <td>1450762</td>\n",
       "      <td>NaN</td>\n",
       "    </tr>\n",
       "    <tr>\n",
       "      <th>534117</th>\n",
       "      <td>1565428</td>\n",
       "      <td>NaN</td>\n",
       "    </tr>\n",
       "    <tr>\n",
       "      <th>541076</th>\n",
       "      <td>1579904</td>\n",
       "      <td>NaN</td>\n",
       "    </tr>\n",
       "  </tbody>\n",
       "</table>\n",
       "</div>"
      ]
     },
     "execution_count": 99,
     "metadata": {},
     "output_type": "execute_result"
    }
   ],
   "execution_count": 99
  },
  {
   "cell_type": "code",
   "id": "8595684e442f49a9",
   "metadata": {
    "ExecuteTime": {
     "end_time": "2024-12-27T16:12:55.376294Z",
     "start_time": "2024-12-27T16:12:54.891780Z"
    }
   },
   "source": [
    "# Check for duplicate rows\n",
    "print(f\"There are {studios_df.duplicated().sum()} duplicated rows\")\n",
    "studios_duplicates = studios_df[studios_df.duplicated(keep=False)].head(6)\n",
    "\n",
    "# Drop duplicates\n",
    "studios_df = studios_df.drop_duplicates()\n",
    "\n",
    "studios_duplicates"
   ],
   "outputs": [
    {
     "name": "stdout",
     "output_type": "stream",
     "text": [
      "There are 212 duplicated rows\n"
     ]
    },
    {
     "data": {
      "text/plain": [
       "     movie_id               studio\n",
       "145   1000044  Working Title Films\n",
       "146   1000044  Working Title Films\n",
       "485   1000165  Working Title Films\n",
       "487   1000165  Working Title Films\n",
       "809   1000263  Working Title Films\n",
       "810   1000263  Working Title Films"
      ],
      "text/html": [
       "<div>\n",
       "<style scoped>\n",
       "    .dataframe tbody tr th:only-of-type {\n",
       "        vertical-align: middle;\n",
       "    }\n",
       "\n",
       "    .dataframe tbody tr th {\n",
       "        vertical-align: top;\n",
       "    }\n",
       "\n",
       "    .dataframe thead th {\n",
       "        text-align: right;\n",
       "    }\n",
       "</style>\n",
       "<table border=\"1\" class=\"dataframe\">\n",
       "  <thead>\n",
       "    <tr style=\"text-align: right;\">\n",
       "      <th></th>\n",
       "      <th>movie_id</th>\n",
       "      <th>studio</th>\n",
       "    </tr>\n",
       "  </thead>\n",
       "  <tbody>\n",
       "    <tr>\n",
       "      <th>145</th>\n",
       "      <td>1000044</td>\n",
       "      <td>Working Title Films</td>\n",
       "    </tr>\n",
       "    <tr>\n",
       "      <th>146</th>\n",
       "      <td>1000044</td>\n",
       "      <td>Working Title Films</td>\n",
       "    </tr>\n",
       "    <tr>\n",
       "      <th>485</th>\n",
       "      <td>1000165</td>\n",
       "      <td>Working Title Films</td>\n",
       "    </tr>\n",
       "    <tr>\n",
       "      <th>487</th>\n",
       "      <td>1000165</td>\n",
       "      <td>Working Title Films</td>\n",
       "    </tr>\n",
       "    <tr>\n",
       "      <th>809</th>\n",
       "      <td>1000263</td>\n",
       "      <td>Working Title Films</td>\n",
       "    </tr>\n",
       "    <tr>\n",
       "      <th>810</th>\n",
       "      <td>1000263</td>\n",
       "      <td>Working Title Films</td>\n",
       "    </tr>\n",
       "  </tbody>\n",
       "</table>\n",
       "</div>"
      ]
     },
     "execution_count": 100,
     "metadata": {},
     "output_type": "execute_result"
    }
   ],
   "execution_count": 100
  },
  {
   "metadata": {},
   "cell_type": "markdown",
   "source": "Completely duplicated rows are clearly an error and can be safely removed.",
   "id": "b47d4f5c80c11489"
  },
  {
   "metadata": {
    "ExecuteTime": {
     "end_time": "2024-12-27T16:12:55.409597Z",
     "start_time": "2024-12-27T16:12:55.397819Z"
    }
   },
   "cell_type": "code",
   "source": [
    "# Reset indexing after removing rows\n",
    "studios_df = studios_df.reset_index(drop=True)"
   ],
   "id": "393a06758ac45898",
   "outputs": [],
   "execution_count": 101
  },
  {
   "cell_type": "markdown",
   "id": "9fd5d15b2326c93d",
   "metadata": {},
   "source": [
    "### 3. Final Results\n",
    "The **studios** dataset is linked to the movies dataset through the `movie_id` column. It lists all the studios involved in each movie, allowing a movie to be associated with multiple studios and a studio to collaborate on multiple movies."
   ]
  },
  {
   "metadata": {
    "ExecuteTime": {
     "end_time": "2024-12-27T16:12:55.505821Z",
     "start_time": "2024-12-27T16:12:55.501170Z"
    }
   },
   "cell_type": "code",
   "source": "studios_df.head()",
   "id": "8f103f1b74015b1f",
   "outputs": [
    {
     "data": {
      "text/plain": [
       "   movie_id                   studio\n",
       "0   1000001  LuckyChap Entertainment\n",
       "1   1000001             Heyday Films\n",
       "2   1000001           NB/GG Pictures\n",
       "3   1000001                   Mattel\n",
       "4   1000001    Warner Bros. Pictures"
      ],
      "text/html": [
       "<div>\n",
       "<style scoped>\n",
       "    .dataframe tbody tr th:only-of-type {\n",
       "        vertical-align: middle;\n",
       "    }\n",
       "\n",
       "    .dataframe tbody tr th {\n",
       "        vertical-align: top;\n",
       "    }\n",
       "\n",
       "    .dataframe thead th {\n",
       "        text-align: right;\n",
       "    }\n",
       "</style>\n",
       "<table border=\"1\" class=\"dataframe\">\n",
       "  <thead>\n",
       "    <tr style=\"text-align: right;\">\n",
       "      <th></th>\n",
       "      <th>movie_id</th>\n",
       "      <th>studio</th>\n",
       "    </tr>\n",
       "  </thead>\n",
       "  <tbody>\n",
       "    <tr>\n",
       "      <th>0</th>\n",
       "      <td>1000001</td>\n",
       "      <td>LuckyChap Entertainment</td>\n",
       "    </tr>\n",
       "    <tr>\n",
       "      <th>1</th>\n",
       "      <td>1000001</td>\n",
       "      <td>Heyday Films</td>\n",
       "    </tr>\n",
       "    <tr>\n",
       "      <th>2</th>\n",
       "      <td>1000001</td>\n",
       "      <td>NB/GG Pictures</td>\n",
       "    </tr>\n",
       "    <tr>\n",
       "      <th>3</th>\n",
       "      <td>1000001</td>\n",
       "      <td>Mattel</td>\n",
       "    </tr>\n",
       "    <tr>\n",
       "      <th>4</th>\n",
       "      <td>1000001</td>\n",
       "      <td>Warner Bros. Pictures</td>\n",
       "    </tr>\n",
       "  </tbody>\n",
       "</table>\n",
       "</div>"
      ]
     },
     "execution_count": 102,
     "metadata": {},
     "output_type": "execute_result"
    }
   ],
   "execution_count": 102
  },
  {
   "cell_type": "code",
   "id": "6bbbdea78e8941f9",
   "metadata": {
    "ExecuteTime": {
     "end_time": "2024-12-27T16:12:55.671727Z",
     "start_time": "2024-12-27T16:12:55.667961Z"
    }
   },
   "source": "studios_df.shape",
   "outputs": [
    {
     "data": {
      "text/plain": [
       "(679061, 2)"
      ]
     },
     "execution_count": 103,
     "metadata": {},
     "output_type": "execute_result"
    }
   ],
   "execution_count": 103
  },
  {
   "metadata": {},
   "cell_type": "markdown",
   "source": "## Themes",
   "id": "e8ad60965cb8f312"
  },
  {
   "metadata": {
    "ExecuteTime": {
     "end_time": "2024-12-27T16:12:55.845606Z",
     "start_time": "2024-12-27T16:12:55.797377Z"
    }
   },
   "cell_type": "code",
   "source": [
    "# Import 'themes.csv' dataset\n",
    "themes_df = pd.read_csv('datasets/themes.csv')"
   ],
   "id": "467abef3146c2450",
   "outputs": [],
   "execution_count": 104
  },
  {
   "metadata": {},
   "cell_type": "markdown",
   "source": "### 1. Data Understanding",
   "id": "d9ba7956130c0647"
  },
  {
   "metadata": {
    "ExecuteTime": {
     "end_time": "2024-12-27T16:12:55.944539Z",
     "start_time": "2024-12-27T16:12:55.939711Z"
    }
   },
   "cell_type": "code",
   "source": "themes_df.head()",
   "id": "36cfa6d2ecba36c",
   "outputs": [
    {
     "data": {
      "text/plain": [
       "        id                                              theme\n",
       "0  1000001                   Humanity and the world around us\n",
       "1  1000001                             Crude humor and satire\n",
       "2  1000001                        Moving relationship stories\n",
       "3  1000001     Emotional and captivating fantasy storytelling\n",
       "4  1000001  Surreal and thought-provoking visions of life ..."
      ],
      "text/html": [
       "<div>\n",
       "<style scoped>\n",
       "    .dataframe tbody tr th:only-of-type {\n",
       "        vertical-align: middle;\n",
       "    }\n",
       "\n",
       "    .dataframe tbody tr th {\n",
       "        vertical-align: top;\n",
       "    }\n",
       "\n",
       "    .dataframe thead th {\n",
       "        text-align: right;\n",
       "    }\n",
       "</style>\n",
       "<table border=\"1\" class=\"dataframe\">\n",
       "  <thead>\n",
       "    <tr style=\"text-align: right;\">\n",
       "      <th></th>\n",
       "      <th>id</th>\n",
       "      <th>theme</th>\n",
       "    </tr>\n",
       "  </thead>\n",
       "  <tbody>\n",
       "    <tr>\n",
       "      <th>0</th>\n",
       "      <td>1000001</td>\n",
       "      <td>Humanity and the world around us</td>\n",
       "    </tr>\n",
       "    <tr>\n",
       "      <th>1</th>\n",
       "      <td>1000001</td>\n",
       "      <td>Crude humor and satire</td>\n",
       "    </tr>\n",
       "    <tr>\n",
       "      <th>2</th>\n",
       "      <td>1000001</td>\n",
       "      <td>Moving relationship stories</td>\n",
       "    </tr>\n",
       "    <tr>\n",
       "      <th>3</th>\n",
       "      <td>1000001</td>\n",
       "      <td>Emotional and captivating fantasy storytelling</td>\n",
       "    </tr>\n",
       "    <tr>\n",
       "      <th>4</th>\n",
       "      <td>1000001</td>\n",
       "      <td>Surreal and thought-provoking visions of life ...</td>\n",
       "    </tr>\n",
       "  </tbody>\n",
       "</table>\n",
       "</div>"
      ]
     },
     "execution_count": 105,
     "metadata": {},
     "output_type": "execute_result"
    }
   ],
   "execution_count": 105
  },
  {
   "cell_type": "code",
   "id": "69df8bf8d4af08b6",
   "metadata": {
    "ExecuteTime": {
     "end_time": "2024-12-27T16:12:56.055477Z",
     "start_time": "2024-12-27T16:12:56.052001Z"
    }
   },
   "source": "themes_df.shape",
   "outputs": [
    {
     "data": {
      "text/plain": [
       "(125641, 2)"
      ]
     },
     "execution_count": 106,
     "metadata": {},
     "output_type": "execute_result"
    }
   ],
   "execution_count": 106
  },
  {
   "cell_type": "code",
   "id": "ae680921860473c0",
   "metadata": {
    "ExecuteTime": {
     "end_time": "2024-12-27T16:12:56.143403Z",
     "start_time": "2024-12-27T16:12:56.139501Z"
    }
   },
   "source": "themes_df.dtypes",
   "outputs": [
    {
     "data": {
      "text/plain": [
       "id        int64\n",
       "theme    object\n",
       "dtype: object"
      ]
     },
     "execution_count": 107,
     "metadata": {},
     "output_type": "execute_result"
    }
   ],
   "execution_count": 107
  },
  {
   "metadata": {},
   "cell_type": "markdown",
   "source": "### 2. Data Cleaning",
   "id": "ef8edd02f93d29df"
  },
  {
   "metadata": {
    "ExecuteTime": {
     "end_time": "2024-12-27T16:12:56.231490Z",
     "start_time": "2024-12-27T16:12:56.227886Z"
    }
   },
   "cell_type": "code",
   "source": [
    "# Rename columns\n",
    "themes_df = themes_df.rename(columns={'id': 'movie_id'})\n",
    "print(f\"Themes dataset columns: {', '.join(themes_df.columns)}\")"
   ],
   "id": "ed07fc6b8bf6673e",
   "outputs": [
    {
     "name": "stdout",
     "output_type": "stream",
     "text": [
      "Themes dataset columns: movie_id, theme\n"
     ]
    }
   ],
   "execution_count": 108
  },
  {
   "cell_type": "code",
   "id": "2d304eca9061e808",
   "metadata": {
    "ExecuteTime": {
     "end_time": "2024-12-27T16:12:56.354165Z",
     "start_time": "2024-12-27T16:12:56.346349Z"
    }
   },
   "source": [
    "# Check for null values\n",
    "themes_df.isna().sum()"
   ],
   "outputs": [
    {
     "data": {
      "text/plain": [
       "movie_id    0\n",
       "theme       0\n",
       "dtype: int64"
      ]
     },
     "execution_count": 109,
     "metadata": {},
     "output_type": "execute_result"
    }
   ],
   "execution_count": 109
  },
  {
   "cell_type": "code",
   "id": "2084d91873e547a3",
   "metadata": {
    "ExecuteTime": {
     "end_time": "2024-12-27T16:12:56.476195Z",
     "start_time": "2024-12-27T16:12:56.457655Z"
    }
   },
   "source": [
    "# Check for duplicate rows\n",
    "print(f\"There are {themes_df.duplicated().sum()} duplicated rows\")"
   ],
   "outputs": [
    {
     "name": "stdout",
     "output_type": "stream",
     "text": [
      "There are 0 duplicated rows\n"
     ]
    }
   ],
   "execution_count": 110
  },
  {
   "metadata": {
    "ExecuteTime": {
     "end_time": "2024-12-27T16:12:56.595016Z",
     "start_time": "2024-12-27T16:12:56.572721Z"
    }
   },
   "cell_type": "code",
   "source": [
    "# Check for unique values\n",
    "print(f\"There are {len(themes_df['theme'].unique())} unique themes\")\n",
    "\n",
    "# Setting the correct type for columns\n",
    "themes_df['theme'] = themes_df['theme'].astype('category')"
   ],
   "id": "ab2b77ce8ed56bcd",
   "outputs": [
    {
     "name": "stdout",
     "output_type": "stream",
     "text": [
      "There are 109 unique themes\n"
     ]
    }
   ],
   "execution_count": 111
  },
  {
   "metadata": {},
   "cell_type": "markdown",
   "source": "There are a limited number of values for the theme, which means the column can be set as a categorical variable to optimize the analysis.",
   "id": "de7b1a10ec1f6db1"
  },
  {
   "metadata": {},
   "cell_type": "markdown",
   "source": [
    "### 3. Final Results\n",
    "The **themes** dataset is linked to the movies dataset through the `movie_id` column. It contains 125,000 rows, with multiple occurrences referring to the same movie, suggesting that themes are not frequently assigned to movies. Each theme describes a movie using few standard phrases."
   ],
   "id": "3fec6a74b9d74921"
  },
  {
   "metadata": {
    "ExecuteTime": {
     "end_time": "2024-12-27T16:12:56.685531Z",
     "start_time": "2024-12-27T16:12:56.680773Z"
    }
   },
   "cell_type": "code",
   "source": "themes_df.head()",
   "id": "d52e79450b746a17",
   "outputs": [
    {
     "data": {
      "text/plain": [
       "   movie_id                                              theme\n",
       "0   1000001                   Humanity and the world around us\n",
       "1   1000001                             Crude humor and satire\n",
       "2   1000001                        Moving relationship stories\n",
       "3   1000001     Emotional and captivating fantasy storytelling\n",
       "4   1000001  Surreal and thought-provoking visions of life ..."
      ],
      "text/html": [
       "<div>\n",
       "<style scoped>\n",
       "    .dataframe tbody tr th:only-of-type {\n",
       "        vertical-align: middle;\n",
       "    }\n",
       "\n",
       "    .dataframe tbody tr th {\n",
       "        vertical-align: top;\n",
       "    }\n",
       "\n",
       "    .dataframe thead th {\n",
       "        text-align: right;\n",
       "    }\n",
       "</style>\n",
       "<table border=\"1\" class=\"dataframe\">\n",
       "  <thead>\n",
       "    <tr style=\"text-align: right;\">\n",
       "      <th></th>\n",
       "      <th>movie_id</th>\n",
       "      <th>theme</th>\n",
       "    </tr>\n",
       "  </thead>\n",
       "  <tbody>\n",
       "    <tr>\n",
       "      <th>0</th>\n",
       "      <td>1000001</td>\n",
       "      <td>Humanity and the world around us</td>\n",
       "    </tr>\n",
       "    <tr>\n",
       "      <th>1</th>\n",
       "      <td>1000001</td>\n",
       "      <td>Crude humor and satire</td>\n",
       "    </tr>\n",
       "    <tr>\n",
       "      <th>2</th>\n",
       "      <td>1000001</td>\n",
       "      <td>Moving relationship stories</td>\n",
       "    </tr>\n",
       "    <tr>\n",
       "      <th>3</th>\n",
       "      <td>1000001</td>\n",
       "      <td>Emotional and captivating fantasy storytelling</td>\n",
       "    </tr>\n",
       "    <tr>\n",
       "      <th>4</th>\n",
       "      <td>1000001</td>\n",
       "      <td>Surreal and thought-provoking visions of life ...</td>\n",
       "    </tr>\n",
       "  </tbody>\n",
       "</table>\n",
       "</div>"
      ]
     },
     "execution_count": 112,
     "metadata": {},
     "output_type": "execute_result"
    }
   ],
   "execution_count": 112
  },
  {
   "cell_type": "code",
   "id": "3acdf4455cdc7109",
   "metadata": {
    "ExecuteTime": {
     "end_time": "2024-12-27T16:12:56.754956Z",
     "start_time": "2024-12-27T16:12:56.751391Z"
    }
   },
   "source": "themes_df.shape",
   "outputs": [
    {
     "data": {
      "text/plain": [
       "(125641, 2)"
      ]
     },
     "execution_count": 113,
     "metadata": {},
     "output_type": "execute_result"
    }
   ],
   "execution_count": 113
  },
  {
   "metadata": {},
   "cell_type": "markdown",
   "source": "## The Oscar Awards",
   "id": "c14a45c6bd1d9f23"
  },
  {
   "metadata": {
    "ExecuteTime": {
     "end_time": "2024-12-27T16:12:56.878250Z",
     "start_time": "2024-12-27T16:12:56.860988Z"
    }
   },
   "cell_type": "code",
   "source": [
    "# Import 'the_oscar_awards.csv' dataset\n",
    "oscars_df = pd.read_csv('datasets/the_oscar_awards.csv')"
   ],
   "id": "f26b0b3d14b0f52e",
   "outputs": [],
   "execution_count": 114
  },
  {
   "metadata": {},
   "cell_type": "markdown",
   "source": "### 1. Data Understanding",
   "id": "d03f7cfdd91ab9e4"
  },
  {
   "metadata": {
    "ExecuteTime": {
     "end_time": "2024-12-27T16:12:56.989587Z",
     "start_time": "2024-12-27T16:12:56.983044Z"
    }
   },
   "cell_type": "code",
   "source": "oscars_df.head()",
   "id": "fccabeaf5be196d",
   "outputs": [
    {
     "data": {
      "text/plain": [
       "   year_film  year_ceremony  ceremony category                 name  \\\n",
       "0       1927           1928         1    ACTOR  Richard Barthelmess   \n",
       "1       1927           1928         1    ACTOR        Emil Jannings   \n",
       "2       1927           1928         1  ACTRESS       Louise Dresser   \n",
       "3       1927           1928         1  ACTRESS         Janet Gaynor   \n",
       "4       1927           1928         1  ACTRESS       Gloria Swanson   \n",
       "\n",
       "               film  winner  \n",
       "0         The Noose   False  \n",
       "1  The Last Command    True  \n",
       "2   A Ship Comes In   False  \n",
       "3        7th Heaven    True  \n",
       "4    Sadie Thompson   False  "
      ],
      "text/html": [
       "<div>\n",
       "<style scoped>\n",
       "    .dataframe tbody tr th:only-of-type {\n",
       "        vertical-align: middle;\n",
       "    }\n",
       "\n",
       "    .dataframe tbody tr th {\n",
       "        vertical-align: top;\n",
       "    }\n",
       "\n",
       "    .dataframe thead th {\n",
       "        text-align: right;\n",
       "    }\n",
       "</style>\n",
       "<table border=\"1\" class=\"dataframe\">\n",
       "  <thead>\n",
       "    <tr style=\"text-align: right;\">\n",
       "      <th></th>\n",
       "      <th>year_film</th>\n",
       "      <th>year_ceremony</th>\n",
       "      <th>ceremony</th>\n",
       "      <th>category</th>\n",
       "      <th>name</th>\n",
       "      <th>film</th>\n",
       "      <th>winner</th>\n",
       "    </tr>\n",
       "  </thead>\n",
       "  <tbody>\n",
       "    <tr>\n",
       "      <th>0</th>\n",
       "      <td>1927</td>\n",
       "      <td>1928</td>\n",
       "      <td>1</td>\n",
       "      <td>ACTOR</td>\n",
       "      <td>Richard Barthelmess</td>\n",
       "      <td>The Noose</td>\n",
       "      <td>False</td>\n",
       "    </tr>\n",
       "    <tr>\n",
       "      <th>1</th>\n",
       "      <td>1927</td>\n",
       "      <td>1928</td>\n",
       "      <td>1</td>\n",
       "      <td>ACTOR</td>\n",
       "      <td>Emil Jannings</td>\n",
       "      <td>The Last Command</td>\n",
       "      <td>True</td>\n",
       "    </tr>\n",
       "    <tr>\n",
       "      <th>2</th>\n",
       "      <td>1927</td>\n",
       "      <td>1928</td>\n",
       "      <td>1</td>\n",
       "      <td>ACTRESS</td>\n",
       "      <td>Louise Dresser</td>\n",
       "      <td>A Ship Comes In</td>\n",
       "      <td>False</td>\n",
       "    </tr>\n",
       "    <tr>\n",
       "      <th>3</th>\n",
       "      <td>1927</td>\n",
       "      <td>1928</td>\n",
       "      <td>1</td>\n",
       "      <td>ACTRESS</td>\n",
       "      <td>Janet Gaynor</td>\n",
       "      <td>7th Heaven</td>\n",
       "      <td>True</td>\n",
       "    </tr>\n",
       "    <tr>\n",
       "      <th>4</th>\n",
       "      <td>1927</td>\n",
       "      <td>1928</td>\n",
       "      <td>1</td>\n",
       "      <td>ACTRESS</td>\n",
       "      <td>Gloria Swanson</td>\n",
       "      <td>Sadie Thompson</td>\n",
       "      <td>False</td>\n",
       "    </tr>\n",
       "  </tbody>\n",
       "</table>\n",
       "</div>"
      ]
     },
     "execution_count": 115,
     "metadata": {},
     "output_type": "execute_result"
    }
   ],
   "execution_count": 115
  },
  {
   "cell_type": "code",
   "id": "29e89700e94bb439",
   "metadata": {
    "ExecuteTime": {
     "end_time": "2024-12-27T16:12:57.056180Z",
     "start_time": "2024-12-27T16:12:57.053010Z"
    }
   },
   "source": "oscars_df.shape",
   "outputs": [
    {
     "data": {
      "text/plain": [
       "(10889, 7)"
      ]
     },
     "execution_count": 116,
     "metadata": {},
     "output_type": "execute_result"
    }
   ],
   "execution_count": 116
  },
  {
   "cell_type": "code",
   "id": "efceb3c1ee68ef58",
   "metadata": {
    "ExecuteTime": {
     "end_time": "2024-12-27T16:12:57.127681Z",
     "start_time": "2024-12-27T16:12:57.123434Z"
    }
   },
   "source": "oscars_df.dtypes",
   "outputs": [
    {
     "data": {
      "text/plain": [
       "year_film         int64\n",
       "year_ceremony     int64\n",
       "ceremony          int64\n",
       "category         object\n",
       "name             object\n",
       "film             object\n",
       "winner             bool\n",
       "dtype: object"
      ]
     },
     "execution_count": 117,
     "metadata": {},
     "output_type": "execute_result"
    }
   ],
   "execution_count": 117
  },
  {
   "metadata": {},
   "cell_type": "markdown",
   "source": "### 2. Data Cleaning",
   "id": "741dd394f5e0af2a"
  },
  {
   "metadata": {
    "ExecuteTime": {
     "end_time": "2024-12-27T16:12:57.265827Z",
     "start_time": "2024-12-27T16:12:57.262084Z"
    }
   },
   "cell_type": "code",
   "source": [
    "# Rename columns\n",
    "oscars_df = oscars_df.rename(columns={'name': 'nominee_name', 'film': 'nominated_film', 'winner': 'is_winner'})\n",
    "print(f\"Oscar dataset columns: {', '.join(oscars_df.columns)}\")"
   ],
   "id": "7b604a36fcf4142e",
   "outputs": [
    {
     "name": "stdout",
     "output_type": "stream",
     "text": [
      "Oscar dataset columns: year_film, year_ceremony, ceremony, category, nominee_name, nominated_film, is_winner\n"
     ]
    }
   ],
   "execution_count": 118
  },
  {
   "cell_type": "code",
   "id": "d93f7491d1b2ef61",
   "metadata": {
    "ExecuteTime": {
     "end_time": "2024-12-27T16:12:57.425544Z",
     "start_time": "2024-12-27T16:12:57.419455Z"
    }
   },
   "source": [
    "# Check for null values\n",
    "oscars_df.isna().sum()"
   ],
   "outputs": [
    {
     "data": {
      "text/plain": [
       "year_film           0\n",
       "year_ceremony       0\n",
       "ceremony            0\n",
       "category            0\n",
       "nominee_name        5\n",
       "nominated_film    319\n",
       "is_winner           0\n",
       "dtype: int64"
      ]
     },
     "execution_count": 119,
     "metadata": {},
     "output_type": "execute_result"
    }
   ],
   "execution_count": 119
  },
  {
   "cell_type": "code",
   "id": "307b81116fc86d32",
   "metadata": {
    "ExecuteTime": {
     "end_time": "2024-12-27T16:12:57.554480Z",
     "start_time": "2024-12-27T16:12:57.540586Z"
    }
   },
   "source": [
    "# Check for duplicate rows\n",
    "print(f\"There are {oscars_df.duplicated().sum()} duplicated rows\")\n",
    "oscars_df[oscars_df.duplicated(keep=False)].head(6)"
   ],
   "outputs": [
    {
     "name": "stdout",
     "output_type": "stream",
     "text": [
      "There are 7 duplicated rows\n"
     ]
    },
    {
     "data": {
      "text/plain": [
       "      year_film  year_ceremony  ceremony               category  \\\n",
       "6219       1983           1984        56  MUSIC (Original Song)   \n",
       "6220       1983           1984        56  MUSIC (Original Song)   \n",
       "7066       1991           1992        64  MUSIC (Original Song)   \n",
       "7068       1991           1992        64  MUSIC (Original Song)   \n",
       "7394       1994           1995        67  MUSIC (Original Song)   \n",
       "7395       1994           1995        67  MUSIC (Original Song)   \n",
       "\n",
       "                                           nominee_name        nominated_film  \\\n",
       "6219  Music by Michel Legrand; Lyric by Alan Bergman...                 Yentl   \n",
       "6220  Music by Michel Legrand; Lyric by Alan Bergman...                 Yentl   \n",
       "7066       Music by Alan Menken; Lyric by Howard Ashman  Beauty and the Beast   \n",
       "7068       Music by Alan Menken; Lyric by Howard Ashman  Beauty and the Beast   \n",
       "7394             Music by Elton John; Lyric by Tim Rice         The Lion King   \n",
       "7395             Music by Elton John; Lyric by Tim Rice         The Lion King   \n",
       "\n",
       "      is_winner  \n",
       "6219      False  \n",
       "6220      False  \n",
       "7066      False  \n",
       "7068      False  \n",
       "7394      False  \n",
       "7395      False  "
      ],
      "text/html": [
       "<div>\n",
       "<style scoped>\n",
       "    .dataframe tbody tr th:only-of-type {\n",
       "        vertical-align: middle;\n",
       "    }\n",
       "\n",
       "    .dataframe tbody tr th {\n",
       "        vertical-align: top;\n",
       "    }\n",
       "\n",
       "    .dataframe thead th {\n",
       "        text-align: right;\n",
       "    }\n",
       "</style>\n",
       "<table border=\"1\" class=\"dataframe\">\n",
       "  <thead>\n",
       "    <tr style=\"text-align: right;\">\n",
       "      <th></th>\n",
       "      <th>year_film</th>\n",
       "      <th>year_ceremony</th>\n",
       "      <th>ceremony</th>\n",
       "      <th>category</th>\n",
       "      <th>nominee_name</th>\n",
       "      <th>nominated_film</th>\n",
       "      <th>is_winner</th>\n",
       "    </tr>\n",
       "  </thead>\n",
       "  <tbody>\n",
       "    <tr>\n",
       "      <th>6219</th>\n",
       "      <td>1983</td>\n",
       "      <td>1984</td>\n",
       "      <td>56</td>\n",
       "      <td>MUSIC (Original Song)</td>\n",
       "      <td>Music by Michel Legrand; Lyric by Alan Bergman...</td>\n",
       "      <td>Yentl</td>\n",
       "      <td>False</td>\n",
       "    </tr>\n",
       "    <tr>\n",
       "      <th>6220</th>\n",
       "      <td>1983</td>\n",
       "      <td>1984</td>\n",
       "      <td>56</td>\n",
       "      <td>MUSIC (Original Song)</td>\n",
       "      <td>Music by Michel Legrand; Lyric by Alan Bergman...</td>\n",
       "      <td>Yentl</td>\n",
       "      <td>False</td>\n",
       "    </tr>\n",
       "    <tr>\n",
       "      <th>7066</th>\n",
       "      <td>1991</td>\n",
       "      <td>1992</td>\n",
       "      <td>64</td>\n",
       "      <td>MUSIC (Original Song)</td>\n",
       "      <td>Music by Alan Menken; Lyric by Howard Ashman</td>\n",
       "      <td>Beauty and the Beast</td>\n",
       "      <td>False</td>\n",
       "    </tr>\n",
       "    <tr>\n",
       "      <th>7068</th>\n",
       "      <td>1991</td>\n",
       "      <td>1992</td>\n",
       "      <td>64</td>\n",
       "      <td>MUSIC (Original Song)</td>\n",
       "      <td>Music by Alan Menken; Lyric by Howard Ashman</td>\n",
       "      <td>Beauty and the Beast</td>\n",
       "      <td>False</td>\n",
       "    </tr>\n",
       "    <tr>\n",
       "      <th>7394</th>\n",
       "      <td>1994</td>\n",
       "      <td>1995</td>\n",
       "      <td>67</td>\n",
       "      <td>MUSIC (Original Song)</td>\n",
       "      <td>Music by Elton John; Lyric by Tim Rice</td>\n",
       "      <td>The Lion King</td>\n",
       "      <td>False</td>\n",
       "    </tr>\n",
       "    <tr>\n",
       "      <th>7395</th>\n",
       "      <td>1994</td>\n",
       "      <td>1995</td>\n",
       "      <td>67</td>\n",
       "      <td>MUSIC (Original Song)</td>\n",
       "      <td>Music by Elton John; Lyric by Tim Rice</td>\n",
       "      <td>The Lion King</td>\n",
       "      <td>False</td>\n",
       "    </tr>\n",
       "  </tbody>\n",
       "</table>\n",
       "</div>"
      ]
     },
     "execution_count": 120,
     "metadata": {},
     "output_type": "execute_result"
    }
   ],
   "execution_count": 120
  },
  {
   "metadata": {},
   "cell_type": "markdown",
   "source": "Duplicates are retained because, in music categories, the same artists can receive identical nominations for different songs, with the song titles not specified in the dataset.",
   "id": "751e26f4f6f5f6f0"
  },
  {
   "metadata": {
    "ExecuteTime": {
     "end_time": "2024-12-27T16:12:57.701372Z",
     "start_time": "2024-12-27T16:12:57.698010Z"
    }
   },
   "cell_type": "code",
   "source": [
    "# Check the consistency between year_film and year_ceremony\n",
    "print(f\"There are {oscars_df[oscars_df['year_film'] > oscars_df['year_ceremony']].shape[0]} rows where the movie has been released after ceremony\")"
   ],
   "id": "cc4bc676259f0b43",
   "outputs": [
    {
     "name": "stdout",
     "output_type": "stream",
     "text": [
      "There are 0 rows where the movie has been released after ceremony\n"
     ]
    }
   ],
   "execution_count": 121
  },
  {
   "cell_type": "code",
   "id": "5d29d2335bbf5f57",
   "metadata": {
    "ExecuteTime": {
     "end_time": "2024-12-27T16:12:57.911645Z",
     "start_time": "2024-12-27T16:12:57.867367Z"
    }
   },
   "source": [
    "# Check for multiple winner possibilities\n",
    "from utils.utils import special_oscar_awards\n",
    "\n",
    "# Filtering rows where the 'category' is in the special_oscar_awards list\n",
    "filtered_oscars = find_matching(oscars_df, 'category', special_oscar_awards)\n",
    "\n",
    "# Find groups with more than one winner\n",
    "multiple_winners = filtered_oscars.groupby(['year_ceremony', 'category']).filter(\n",
    "    lambda x: x['is_winner'].sum() > 1\n",
    ")\n",
    "\n",
    "# Keep only the rows where 'is_winner' is True\n",
    "multiple_winners = multiple_winners[multiple_winners['is_winner'] == True]\n",
    "multiple_winners.head(6)"
   ],
   "outputs": [
    {
     "data": {
      "text/plain": [
       "     year_film  year_ceremony  ceremony       category  \\\n",
       "33        1927           1928         1  SPECIAL AWARD   \n",
       "34        1927           1928         1  SPECIAL AWARD   \n",
       "520       1936           1937         9  SPECIAL AWARD   \n",
       "521       1936           1937         9  SPECIAL AWARD   \n",
       "640       1937           1938        10  SPECIAL AWARD   \n",
       "641       1937           1938        10  SPECIAL AWARD   \n",
       "\n",
       "                                          nominee_name nominated_film  \\\n",
       "33                                        Warner Bros.            NaN   \n",
       "34                                     Charles Chaplin            NaN   \n",
       "520   The March of Time for its significance to mot...            NaN   \n",
       "521   W. Howard Greene and Harold Rosson for the co...            NaN   \n",
       "640                                       Mack Sennett            NaN   \n",
       "641   Edgar Bergen for his outstanding comedy creation            NaN   \n",
       "\n",
       "     is_winner  \n",
       "33        True  \n",
       "34        True  \n",
       "520       True  \n",
       "521       True  \n",
       "640       True  \n",
       "641       True  "
      ],
      "text/html": [
       "<div>\n",
       "<style scoped>\n",
       "    .dataframe tbody tr th:only-of-type {\n",
       "        vertical-align: middle;\n",
       "    }\n",
       "\n",
       "    .dataframe tbody tr th {\n",
       "        vertical-align: top;\n",
       "    }\n",
       "\n",
       "    .dataframe thead th {\n",
       "        text-align: right;\n",
       "    }\n",
       "</style>\n",
       "<table border=\"1\" class=\"dataframe\">\n",
       "  <thead>\n",
       "    <tr style=\"text-align: right;\">\n",
       "      <th></th>\n",
       "      <th>year_film</th>\n",
       "      <th>year_ceremony</th>\n",
       "      <th>ceremony</th>\n",
       "      <th>category</th>\n",
       "      <th>nominee_name</th>\n",
       "      <th>nominated_film</th>\n",
       "      <th>is_winner</th>\n",
       "    </tr>\n",
       "  </thead>\n",
       "  <tbody>\n",
       "    <tr>\n",
       "      <th>33</th>\n",
       "      <td>1927</td>\n",
       "      <td>1928</td>\n",
       "      <td>1</td>\n",
       "      <td>SPECIAL AWARD</td>\n",
       "      <td>Warner Bros.</td>\n",
       "      <td>NaN</td>\n",
       "      <td>True</td>\n",
       "    </tr>\n",
       "    <tr>\n",
       "      <th>34</th>\n",
       "      <td>1927</td>\n",
       "      <td>1928</td>\n",
       "      <td>1</td>\n",
       "      <td>SPECIAL AWARD</td>\n",
       "      <td>Charles Chaplin</td>\n",
       "      <td>NaN</td>\n",
       "      <td>True</td>\n",
       "    </tr>\n",
       "    <tr>\n",
       "      <th>520</th>\n",
       "      <td>1936</td>\n",
       "      <td>1937</td>\n",
       "      <td>9</td>\n",
       "      <td>SPECIAL AWARD</td>\n",
       "      <td>The March of Time for its significance to mot...</td>\n",
       "      <td>NaN</td>\n",
       "      <td>True</td>\n",
       "    </tr>\n",
       "    <tr>\n",
       "      <th>521</th>\n",
       "      <td>1936</td>\n",
       "      <td>1937</td>\n",
       "      <td>9</td>\n",
       "      <td>SPECIAL AWARD</td>\n",
       "      <td>W. Howard Greene and Harold Rosson for the co...</td>\n",
       "      <td>NaN</td>\n",
       "      <td>True</td>\n",
       "    </tr>\n",
       "    <tr>\n",
       "      <th>640</th>\n",
       "      <td>1937</td>\n",
       "      <td>1938</td>\n",
       "      <td>10</td>\n",
       "      <td>SPECIAL AWARD</td>\n",
       "      <td>Mack Sennett</td>\n",
       "      <td>NaN</td>\n",
       "      <td>True</td>\n",
       "    </tr>\n",
       "    <tr>\n",
       "      <th>641</th>\n",
       "      <td>1937</td>\n",
       "      <td>1938</td>\n",
       "      <td>10</td>\n",
       "      <td>SPECIAL AWARD</td>\n",
       "      <td>Edgar Bergen for his outstanding comedy creation</td>\n",
       "      <td>NaN</td>\n",
       "      <td>True</td>\n",
       "    </tr>\n",
       "  </tbody>\n",
       "</table>\n",
       "</div>"
      ]
     },
     "execution_count": 122,
     "metadata": {},
     "output_type": "execute_result"
    }
   ],
   "execution_count": 122
  },
  {
   "metadata": {},
   "cell_type": "markdown",
   "source": [
    "There can be multiple winners for the same Oscar category (e.g., 1932 Best Actor). <br>\n",
    "In the count, we excluded special awards, such as the Jean Hersholt Humanitarian Award, because they are given without nominations and have an undefined number of winners each year. These awards are not part of traditional competitive categories but rather honorary recognitions."
   ],
   "id": "c24d5696c99a5999"
  },
  {
   "metadata": {
    "ExecuteTime": {
     "end_time": "2024-12-27T16:12:58.047131Z",
     "start_time": "2024-12-27T16:12:58.041448Z"
    }
   },
   "cell_type": "code",
   "source": [
    "# Check for unique values\n",
    "print(f\"There are {len(oscars_df['category'].unique())} unique categories\")\n",
    "\n",
    "# Setting the correct type for columns\n",
    "oscars_df['category'] = oscars_df['category'].astype('category')"
   ],
   "id": "568c18ca79e97a9b",
   "outputs": [
    {
     "name": "stdout",
     "output_type": "stream",
     "text": [
      "There are 115 unique categories\n"
     ]
    }
   ],
   "execution_count": 123
  },
  {
   "metadata": {},
   "cell_type": "markdown",
   "source": "There are a limited number of values for the `category` field, which means the column can be set as a categorical variable to optimize the analysis.",
   "id": "6fa04ef722ade090"
  },
  {
   "metadata": {},
   "cell_type": "markdown",
   "source": "### 3. Final Results",
   "id": "71c3be3ed819e979"
  },
  {
   "metadata": {
    "ExecuteTime": {
     "end_time": "2024-12-27T16:12:58.234514Z",
     "start_time": "2024-12-27T16:12:58.228024Z"
    }
   },
   "cell_type": "code",
   "source": "oscars_df.head()",
   "id": "a38f7f0f12f92b9e",
   "outputs": [
    {
     "data": {
      "text/plain": [
       "   year_film  year_ceremony  ceremony category         nominee_name  \\\n",
       "0       1927           1928         1    ACTOR  Richard Barthelmess   \n",
       "1       1927           1928         1    ACTOR        Emil Jannings   \n",
       "2       1927           1928         1  ACTRESS       Louise Dresser   \n",
       "3       1927           1928         1  ACTRESS         Janet Gaynor   \n",
       "4       1927           1928         1  ACTRESS       Gloria Swanson   \n",
       "\n",
       "     nominated_film  is_winner  \n",
       "0         The Noose      False  \n",
       "1  The Last Command       True  \n",
       "2   A Ship Comes In      False  \n",
       "3        7th Heaven       True  \n",
       "4    Sadie Thompson      False  "
      ],
      "text/html": [
       "<div>\n",
       "<style scoped>\n",
       "    .dataframe tbody tr th:only-of-type {\n",
       "        vertical-align: middle;\n",
       "    }\n",
       "\n",
       "    .dataframe tbody tr th {\n",
       "        vertical-align: top;\n",
       "    }\n",
       "\n",
       "    .dataframe thead th {\n",
       "        text-align: right;\n",
       "    }\n",
       "</style>\n",
       "<table border=\"1\" class=\"dataframe\">\n",
       "  <thead>\n",
       "    <tr style=\"text-align: right;\">\n",
       "      <th></th>\n",
       "      <th>year_film</th>\n",
       "      <th>year_ceremony</th>\n",
       "      <th>ceremony</th>\n",
       "      <th>category</th>\n",
       "      <th>nominee_name</th>\n",
       "      <th>nominated_film</th>\n",
       "      <th>is_winner</th>\n",
       "    </tr>\n",
       "  </thead>\n",
       "  <tbody>\n",
       "    <tr>\n",
       "      <th>0</th>\n",
       "      <td>1927</td>\n",
       "      <td>1928</td>\n",
       "      <td>1</td>\n",
       "      <td>ACTOR</td>\n",
       "      <td>Richard Barthelmess</td>\n",
       "      <td>The Noose</td>\n",
       "      <td>False</td>\n",
       "    </tr>\n",
       "    <tr>\n",
       "      <th>1</th>\n",
       "      <td>1927</td>\n",
       "      <td>1928</td>\n",
       "      <td>1</td>\n",
       "      <td>ACTOR</td>\n",
       "      <td>Emil Jannings</td>\n",
       "      <td>The Last Command</td>\n",
       "      <td>True</td>\n",
       "    </tr>\n",
       "    <tr>\n",
       "      <th>2</th>\n",
       "      <td>1927</td>\n",
       "      <td>1928</td>\n",
       "      <td>1</td>\n",
       "      <td>ACTRESS</td>\n",
       "      <td>Louise Dresser</td>\n",
       "      <td>A Ship Comes In</td>\n",
       "      <td>False</td>\n",
       "    </tr>\n",
       "    <tr>\n",
       "      <th>3</th>\n",
       "      <td>1927</td>\n",
       "      <td>1928</td>\n",
       "      <td>1</td>\n",
       "      <td>ACTRESS</td>\n",
       "      <td>Janet Gaynor</td>\n",
       "      <td>7th Heaven</td>\n",
       "      <td>True</td>\n",
       "    </tr>\n",
       "    <tr>\n",
       "      <th>4</th>\n",
       "      <td>1927</td>\n",
       "      <td>1928</td>\n",
       "      <td>1</td>\n",
       "      <td>ACTRESS</td>\n",
       "      <td>Gloria Swanson</td>\n",
       "      <td>Sadie Thompson</td>\n",
       "      <td>False</td>\n",
       "    </tr>\n",
       "  </tbody>\n",
       "</table>\n",
       "</div>"
      ]
     },
     "execution_count": 124,
     "metadata": {},
     "output_type": "execute_result"
    }
   ],
   "execution_count": 124
  },
  {
   "cell_type": "code",
   "id": "ac992bfef9078cde",
   "metadata": {
    "ExecuteTime": {
     "end_time": "2024-12-27T16:12:58.349395Z",
     "start_time": "2024-12-27T16:12:58.345749Z"
    }
   },
   "source": "oscars_df.shape",
   "outputs": [
    {
     "data": {
      "text/plain": [
       "(10889, 7)"
      ]
     },
     "execution_count": 125,
     "metadata": {},
     "output_type": "execute_result"
    }
   ],
   "execution_count": 125
  },
  {
   "metadata": {},
   "cell_type": "markdown",
   "source": "## Rotten Tomatoes Reviews",
   "id": "a670a475ea20ed78"
  },
  {
   "metadata": {
    "ExecuteTime": {
     "end_time": "2024-12-27T16:13:01.084663Z",
     "start_time": "2024-12-27T16:12:58.513332Z"
    }
   },
   "cell_type": "code",
   "source": [
    "# Import 'rotten_tomatoes_reviews' dataset\n",
    "reviews_df = pd.read_csv('datasets/rotten_tomatoes_reviews.csv')"
   ],
   "id": "b3d0f18e491ab115",
   "outputs": [],
   "execution_count": 126
  },
  {
   "metadata": {},
   "cell_type": "markdown",
   "source": "### 1. Data Understanding",
   "id": "a790ee8417635725"
  },
  {
   "metadata": {
    "ExecuteTime": {
     "end_time": "2024-12-27T16:13:01.117760Z",
     "start_time": "2024-12-27T16:13:01.109759Z"
    }
   },
   "cell_type": "code",
   "source": "reviews_df.head()",
   "id": "ca8a2a77b4bf060c",
   "outputs": [
    {
     "data": {
      "text/plain": [
       "  rotten_tomatoes_link                                        movie_title  \\\n",
       "0            m/0814255  Percy Jackson & the Olympians: The Lightning T...   \n",
       "1            m/0814255  Percy Jackson & the Olympians: The Lightning T...   \n",
       "2            m/0814255  Percy Jackson & the Olympians: The Lightning T...   \n",
       "3            m/0814255  Percy Jackson & the Olympians: The Lightning T...   \n",
       "4            m/0814255  Percy Jackson & the Olympians: The Lightning T...   \n",
       "\n",
       "       critic_name  top_critic           publisher_name review_type  \\\n",
       "0  Andrew L. Urban       False           Urban Cinefile       Fresh   \n",
       "1    Louise Keller       False           Urban Cinefile       Fresh   \n",
       "2              NaN       False      FILMINK (Australia)       Fresh   \n",
       "3     Ben McEachen       False  Sunday Mail (Australia)       Fresh   \n",
       "4      Ethan Alter        True       Hollywood Reporter      Rotten   \n",
       "\n",
       "  review_score review_date                                     review_content  \n",
       "0          NaN  2010-02-06  A fantasy adventure that fuses Greek mythology...  \n",
       "1          NaN  2010-02-06  Uma Thurman as Medusa, the gorgon with a coiff...  \n",
       "2          NaN  2010-02-09  With a top-notch cast and dazzling special eff...  \n",
       "3        3.5/5  2010-02-09  Whether audiences will get behind The Lightnin...  \n",
       "4          NaN  2010-02-10  What's really lacking in The Lightning Thief i...  "
      ],
      "text/html": [
       "<div>\n",
       "<style scoped>\n",
       "    .dataframe tbody tr th:only-of-type {\n",
       "        vertical-align: middle;\n",
       "    }\n",
       "\n",
       "    .dataframe tbody tr th {\n",
       "        vertical-align: top;\n",
       "    }\n",
       "\n",
       "    .dataframe thead th {\n",
       "        text-align: right;\n",
       "    }\n",
       "</style>\n",
       "<table border=\"1\" class=\"dataframe\">\n",
       "  <thead>\n",
       "    <tr style=\"text-align: right;\">\n",
       "      <th></th>\n",
       "      <th>rotten_tomatoes_link</th>\n",
       "      <th>movie_title</th>\n",
       "      <th>critic_name</th>\n",
       "      <th>top_critic</th>\n",
       "      <th>publisher_name</th>\n",
       "      <th>review_type</th>\n",
       "      <th>review_score</th>\n",
       "      <th>review_date</th>\n",
       "      <th>review_content</th>\n",
       "    </tr>\n",
       "  </thead>\n",
       "  <tbody>\n",
       "    <tr>\n",
       "      <th>0</th>\n",
       "      <td>m/0814255</td>\n",
       "      <td>Percy Jackson &amp; the Olympians: The Lightning T...</td>\n",
       "      <td>Andrew L. Urban</td>\n",
       "      <td>False</td>\n",
       "      <td>Urban Cinefile</td>\n",
       "      <td>Fresh</td>\n",
       "      <td>NaN</td>\n",
       "      <td>2010-02-06</td>\n",
       "      <td>A fantasy adventure that fuses Greek mythology...</td>\n",
       "    </tr>\n",
       "    <tr>\n",
       "      <th>1</th>\n",
       "      <td>m/0814255</td>\n",
       "      <td>Percy Jackson &amp; the Olympians: The Lightning T...</td>\n",
       "      <td>Louise Keller</td>\n",
       "      <td>False</td>\n",
       "      <td>Urban Cinefile</td>\n",
       "      <td>Fresh</td>\n",
       "      <td>NaN</td>\n",
       "      <td>2010-02-06</td>\n",
       "      <td>Uma Thurman as Medusa, the gorgon with a coiff...</td>\n",
       "    </tr>\n",
       "    <tr>\n",
       "      <th>2</th>\n",
       "      <td>m/0814255</td>\n",
       "      <td>Percy Jackson &amp; the Olympians: The Lightning T...</td>\n",
       "      <td>NaN</td>\n",
       "      <td>False</td>\n",
       "      <td>FILMINK (Australia)</td>\n",
       "      <td>Fresh</td>\n",
       "      <td>NaN</td>\n",
       "      <td>2010-02-09</td>\n",
       "      <td>With a top-notch cast and dazzling special eff...</td>\n",
       "    </tr>\n",
       "    <tr>\n",
       "      <th>3</th>\n",
       "      <td>m/0814255</td>\n",
       "      <td>Percy Jackson &amp; the Olympians: The Lightning T...</td>\n",
       "      <td>Ben McEachen</td>\n",
       "      <td>False</td>\n",
       "      <td>Sunday Mail (Australia)</td>\n",
       "      <td>Fresh</td>\n",
       "      <td>3.5/5</td>\n",
       "      <td>2010-02-09</td>\n",
       "      <td>Whether audiences will get behind The Lightnin...</td>\n",
       "    </tr>\n",
       "    <tr>\n",
       "      <th>4</th>\n",
       "      <td>m/0814255</td>\n",
       "      <td>Percy Jackson &amp; the Olympians: The Lightning T...</td>\n",
       "      <td>Ethan Alter</td>\n",
       "      <td>True</td>\n",
       "      <td>Hollywood Reporter</td>\n",
       "      <td>Rotten</td>\n",
       "      <td>NaN</td>\n",
       "      <td>2010-02-10</td>\n",
       "      <td>What's really lacking in The Lightning Thief i...</td>\n",
       "    </tr>\n",
       "  </tbody>\n",
       "</table>\n",
       "</div>"
      ]
     },
     "execution_count": 127,
     "metadata": {},
     "output_type": "execute_result"
    }
   ],
   "execution_count": 127
  },
  {
   "cell_type": "code",
   "id": "e959042f66953cdb",
   "metadata": {
    "ExecuteTime": {
     "end_time": "2024-12-27T16:13:01.191629Z",
     "start_time": "2024-12-27T16:13:01.187109Z"
    }
   },
   "source": "reviews_df.shape",
   "outputs": [
    {
     "data": {
      "text/plain": [
       "(1129887, 9)"
      ]
     },
     "execution_count": 128,
     "metadata": {},
     "output_type": "execute_result"
    }
   ],
   "execution_count": 128
  },
  {
   "cell_type": "code",
   "id": "f729775e5075501",
   "metadata": {
    "ExecuteTime": {
     "end_time": "2024-12-27T16:13:01.287408Z",
     "start_time": "2024-12-27T16:13:01.282432Z"
    }
   },
   "source": "reviews_df.dtypes",
   "outputs": [
    {
     "data": {
      "text/plain": [
       "rotten_tomatoes_link    object\n",
       "movie_title             object\n",
       "critic_name             object\n",
       "top_critic                bool\n",
       "publisher_name          object\n",
       "review_type             object\n",
       "review_score            object\n",
       "review_date             object\n",
       "review_content          object\n",
       "dtype: object"
      ]
     },
     "execution_count": 129,
     "metadata": {},
     "output_type": "execute_result"
    }
   ],
   "execution_count": 129
  },
  {
   "metadata": {},
   "cell_type": "markdown",
   "source": "### 2. Data Cleaning",
   "id": "48154fd38808d4d0"
  },
  {
   "metadata": {
    "ExecuteTime": {
     "end_time": "2024-12-27T16:13:01.439484Z",
     "start_time": "2024-12-27T16:13:01.391651Z"
    }
   },
   "cell_type": "code",
   "source": [
    "# Rename columns\n",
    "reviews_df = reviews_df.rename(columns={'review_type': 'type', 'review_score': 'score', 'review_content': 'content', 'top_critic': 'is_top_critic'})\n",
    "print(f\"Rotten Tomatoes Reviews dataset columns: {', '.join(reviews_df.columns)}\")"
   ],
   "id": "434b3feddc2528b1",
   "outputs": [
    {
     "name": "stdout",
     "output_type": "stream",
     "text": [
      "Rotten Tomatoes Reviews dataset columns: rotten_tomatoes_link, movie_title, critic_name, is_top_critic, publisher_name, type, score, review_date, content\n"
     ]
    }
   ],
   "execution_count": 130
  },
  {
   "cell_type": "code",
   "id": "f35d276353417a37",
   "metadata": {
    "ExecuteTime": {
     "end_time": "2024-12-27T16:13:01.795828Z",
     "start_time": "2024-12-27T16:13:01.539095Z"
    }
   },
   "source": [
    "# Check for null values\n",
    "reviews_df.isna().sum()"
   ],
   "outputs": [
    {
     "data": {
      "text/plain": [
       "rotten_tomatoes_link         0\n",
       "movie_title                  0\n",
       "critic_name              18521\n",
       "is_top_critic                0\n",
       "publisher_name               0\n",
       "type                         0\n",
       "score                   305902\n",
       "review_date                  0\n",
       "content                  65778\n",
       "dtype: int64"
      ]
     },
     "execution_count": 131,
     "metadata": {},
     "output_type": "execute_result"
    }
   ],
   "execution_count": 131
  },
  {
   "metadata": {},
   "cell_type": "markdown",
   "source": "After checking the Rotten Tomatoes website, it's fine to have the publisher name, critic name, and content as null values.",
   "id": "ce5b9a2709c7ee6f"
  },
  {
   "metadata": {
    "ExecuteTime": {
     "end_time": "2024-12-27T16:13:03.745253Z",
     "start_time": "2024-12-27T16:13:01.821373Z"
    }
   },
   "cell_type": "code",
   "source": [
    "# Check for duplicate rows\n",
    "print(f\"There are {reviews_df.duplicated().sum()} duplicated rows\")\n",
    "\n",
    "filtered_df = reviews_df[reviews_df['critic_name'].notna()]\n",
    "filtered_df = filtered_df[filtered_df.duplicated(keep=False)]\n",
    "\n",
    "reviews_df = reviews_df.drop(reviews_df[reviews_df['critic_name'].isna()].index)\n",
    "\n",
    "filtered_df.head()"
   ],
   "id": "576cd57651f54647",
   "outputs": [
    {
     "name": "stdout",
     "output_type": "stream",
     "text": [
      "There are 119471 duplicated rows\n"
     ]
    },
    {
     "data": {
      "text/plain": [
       "       rotten_tomatoes_link    movie_title      critic_name  is_top_critic  \\\n",
       "35513   m/1069696-screamers      Screamers       Dave White          False   \n",
       "35514   m/1069696-screamers      Screamers       Dave White          False   \n",
       "35576     m/1069707-othello        Othello       Fred Topel          False   \n",
       "35577     m/1069707-othello        Othello       Fred Topel          False   \n",
       "135520          m/animatrix  The Animatrix  Michael Dequina          False   \n",
       "\n",
       "            publisher_name   type score review_date  \\\n",
       "35513           Movies.com  Fresh    B-  1996-01-26   \n",
       "35514           Movies.com  Fresh    B-  1996-01-26   \n",
       "35576            About.com  Fresh   4/5  2003-11-25   \n",
       "35577            About.com  Fresh   4/5  2003-11-25   \n",
       "135520  TheMovieReport.com  Fresh   3/5  2007-01-12   \n",
       "\n",
       "                            content  \n",
       "35513                           NaN  \n",
       "35514                           NaN  \n",
       "35576   Fine Shakespeare adaptation  \n",
       "35577   Fine Shakespeare adaptation  \n",
       "135520                          NaN  "
      ],
      "text/html": [
       "<div>\n",
       "<style scoped>\n",
       "    .dataframe tbody tr th:only-of-type {\n",
       "        vertical-align: middle;\n",
       "    }\n",
       "\n",
       "    .dataframe tbody tr th {\n",
       "        vertical-align: top;\n",
       "    }\n",
       "\n",
       "    .dataframe thead th {\n",
       "        text-align: right;\n",
       "    }\n",
       "</style>\n",
       "<table border=\"1\" class=\"dataframe\">\n",
       "  <thead>\n",
       "    <tr style=\"text-align: right;\">\n",
       "      <th></th>\n",
       "      <th>rotten_tomatoes_link</th>\n",
       "      <th>movie_title</th>\n",
       "      <th>critic_name</th>\n",
       "      <th>is_top_critic</th>\n",
       "      <th>publisher_name</th>\n",
       "      <th>type</th>\n",
       "      <th>score</th>\n",
       "      <th>review_date</th>\n",
       "      <th>content</th>\n",
       "    </tr>\n",
       "  </thead>\n",
       "  <tbody>\n",
       "    <tr>\n",
       "      <th>35513</th>\n",
       "      <td>m/1069696-screamers</td>\n",
       "      <td>Screamers</td>\n",
       "      <td>Dave White</td>\n",
       "      <td>False</td>\n",
       "      <td>Movies.com</td>\n",
       "      <td>Fresh</td>\n",
       "      <td>B-</td>\n",
       "      <td>1996-01-26</td>\n",
       "      <td>NaN</td>\n",
       "    </tr>\n",
       "    <tr>\n",
       "      <th>35514</th>\n",
       "      <td>m/1069696-screamers</td>\n",
       "      <td>Screamers</td>\n",
       "      <td>Dave White</td>\n",
       "      <td>False</td>\n",
       "      <td>Movies.com</td>\n",
       "      <td>Fresh</td>\n",
       "      <td>B-</td>\n",
       "      <td>1996-01-26</td>\n",
       "      <td>NaN</td>\n",
       "    </tr>\n",
       "    <tr>\n",
       "      <th>35576</th>\n",
       "      <td>m/1069707-othello</td>\n",
       "      <td>Othello</td>\n",
       "      <td>Fred Topel</td>\n",
       "      <td>False</td>\n",
       "      <td>About.com</td>\n",
       "      <td>Fresh</td>\n",
       "      <td>4/5</td>\n",
       "      <td>2003-11-25</td>\n",
       "      <td>Fine Shakespeare adaptation</td>\n",
       "    </tr>\n",
       "    <tr>\n",
       "      <th>35577</th>\n",
       "      <td>m/1069707-othello</td>\n",
       "      <td>Othello</td>\n",
       "      <td>Fred Topel</td>\n",
       "      <td>False</td>\n",
       "      <td>About.com</td>\n",
       "      <td>Fresh</td>\n",
       "      <td>4/5</td>\n",
       "      <td>2003-11-25</td>\n",
       "      <td>Fine Shakespeare adaptation</td>\n",
       "    </tr>\n",
       "    <tr>\n",
       "      <th>135520</th>\n",
       "      <td>m/animatrix</td>\n",
       "      <td>The Animatrix</td>\n",
       "      <td>Michael Dequina</td>\n",
       "      <td>False</td>\n",
       "      <td>TheMovieReport.com</td>\n",
       "      <td>Fresh</td>\n",
       "      <td>3/5</td>\n",
       "      <td>2007-01-12</td>\n",
       "      <td>NaN</td>\n",
       "    </tr>\n",
       "  </tbody>\n",
       "</table>\n",
       "</div>"
      ]
     },
     "execution_count": 132,
     "metadata": {},
     "output_type": "execute_result"
    }
   ],
   "execution_count": 132
  },
  {
   "metadata": {},
   "cell_type": "markdown",
   "source": "There are many duplicate reviews in the datasets. After checking the official website, it is possible to have multiple reviews for the same movie from the same publisher and with an unspecified critic. These rows will be excluded from the total count of duplicates and will not be removed. All other duplicate rows are being removed.",
   "id": "be65c7711e299c87"
  },
  {
   "metadata": {
    "ExecuteTime": {
     "end_time": "2024-12-27T16:13:03.967925Z",
     "start_time": "2024-12-27T16:13:03.768441Z"
    }
   },
   "cell_type": "code",
   "source": [
    "# Check for unique values\n",
    "print(f\"There are {len(reviews_df['type'].unique())} review types\")\n",
    "\n",
    "# Setting the correct type for columns\n",
    "reviews_df['type'] = reviews_df['type'].astype('category')\n",
    "reviews_df['review_date'] = pd.to_datetime(reviews_df['review_date'], format='%Y-%m-%d')"
   ],
   "id": "d6b383e9c3e0f4d",
   "outputs": [
    {
     "name": "stdout",
     "output_type": "stream",
     "text": [
      "There are 2 review types\n"
     ]
    }
   ],
   "execution_count": 133
  },
  {
   "metadata": {},
   "cell_type": "markdown",
   "source": "A review can be either Fresh or Rotten, so the `type` column is set as a categorical variable.",
   "id": "12d0cd2d4c7201ad"
  },
  {
   "metadata": {
    "ExecuteTime": {
     "end_time": "2024-12-27T16:13:04.192240Z",
     "start_time": "2024-12-27T16:13:04.012724Z"
    }
   },
   "cell_type": "code",
   "source": [
    "# Reset indexing after removing rows\n",
    "reviews_df = reviews_df.reset_index(drop=True)"
   ],
   "id": "153f2221336c711c",
   "outputs": [],
   "execution_count": 134
  },
  {
   "metadata": {},
   "cell_type": "markdown",
   "source": "### 3. Final Result",
   "id": "dd1f25f9e8d15aea"
  },
  {
   "metadata": {
    "ExecuteTime": {
     "end_time": "2024-12-27T16:13:04.224947Z",
     "start_time": "2024-12-27T16:13:04.216785Z"
    }
   },
   "cell_type": "code",
   "source": "reviews_df.head()",
   "id": "3dc1b542d28cde61",
   "outputs": [
    {
     "data": {
      "text/plain": [
       "  rotten_tomatoes_link                                        movie_title  \\\n",
       "0            m/0814255  Percy Jackson & the Olympians: The Lightning T...   \n",
       "1            m/0814255  Percy Jackson & the Olympians: The Lightning T...   \n",
       "2            m/0814255  Percy Jackson & the Olympians: The Lightning T...   \n",
       "3            m/0814255  Percy Jackson & the Olympians: The Lightning T...   \n",
       "4            m/0814255  Percy Jackson & the Olympians: The Lightning T...   \n",
       "\n",
       "       critic_name  is_top_critic           publisher_name    type  score  \\\n",
       "0  Andrew L. Urban          False           Urban Cinefile   Fresh    NaN   \n",
       "1    Louise Keller          False           Urban Cinefile   Fresh    NaN   \n",
       "2     Ben McEachen          False  Sunday Mail (Australia)   Fresh  3.5/5   \n",
       "3      Ethan Alter           True       Hollywood Reporter  Rotten    NaN   \n",
       "4    David Germain           True         Associated Press  Rotten    NaN   \n",
       "\n",
       "  review_date                                            content  \n",
       "0  2010-02-06  A fantasy adventure that fuses Greek mythology...  \n",
       "1  2010-02-06  Uma Thurman as Medusa, the gorgon with a coiff...  \n",
       "2  2010-02-09  Whether audiences will get behind The Lightnin...  \n",
       "3  2010-02-10  What's really lacking in The Lightning Thief i...  \n",
       "4  2010-02-10  It's more a list of ingredients than a movie-m...  "
      ],
      "text/html": [
       "<div>\n",
       "<style scoped>\n",
       "    .dataframe tbody tr th:only-of-type {\n",
       "        vertical-align: middle;\n",
       "    }\n",
       "\n",
       "    .dataframe tbody tr th {\n",
       "        vertical-align: top;\n",
       "    }\n",
       "\n",
       "    .dataframe thead th {\n",
       "        text-align: right;\n",
       "    }\n",
       "</style>\n",
       "<table border=\"1\" class=\"dataframe\">\n",
       "  <thead>\n",
       "    <tr style=\"text-align: right;\">\n",
       "      <th></th>\n",
       "      <th>rotten_tomatoes_link</th>\n",
       "      <th>movie_title</th>\n",
       "      <th>critic_name</th>\n",
       "      <th>is_top_critic</th>\n",
       "      <th>publisher_name</th>\n",
       "      <th>type</th>\n",
       "      <th>score</th>\n",
       "      <th>review_date</th>\n",
       "      <th>content</th>\n",
       "    </tr>\n",
       "  </thead>\n",
       "  <tbody>\n",
       "    <tr>\n",
       "      <th>0</th>\n",
       "      <td>m/0814255</td>\n",
       "      <td>Percy Jackson &amp; the Olympians: The Lightning T...</td>\n",
       "      <td>Andrew L. Urban</td>\n",
       "      <td>False</td>\n",
       "      <td>Urban Cinefile</td>\n",
       "      <td>Fresh</td>\n",
       "      <td>NaN</td>\n",
       "      <td>2010-02-06</td>\n",
       "      <td>A fantasy adventure that fuses Greek mythology...</td>\n",
       "    </tr>\n",
       "    <tr>\n",
       "      <th>1</th>\n",
       "      <td>m/0814255</td>\n",
       "      <td>Percy Jackson &amp; the Olympians: The Lightning T...</td>\n",
       "      <td>Louise Keller</td>\n",
       "      <td>False</td>\n",
       "      <td>Urban Cinefile</td>\n",
       "      <td>Fresh</td>\n",
       "      <td>NaN</td>\n",
       "      <td>2010-02-06</td>\n",
       "      <td>Uma Thurman as Medusa, the gorgon with a coiff...</td>\n",
       "    </tr>\n",
       "    <tr>\n",
       "      <th>2</th>\n",
       "      <td>m/0814255</td>\n",
       "      <td>Percy Jackson &amp; the Olympians: The Lightning T...</td>\n",
       "      <td>Ben McEachen</td>\n",
       "      <td>False</td>\n",
       "      <td>Sunday Mail (Australia)</td>\n",
       "      <td>Fresh</td>\n",
       "      <td>3.5/5</td>\n",
       "      <td>2010-02-09</td>\n",
       "      <td>Whether audiences will get behind The Lightnin...</td>\n",
       "    </tr>\n",
       "    <tr>\n",
       "      <th>3</th>\n",
       "      <td>m/0814255</td>\n",
       "      <td>Percy Jackson &amp; the Olympians: The Lightning T...</td>\n",
       "      <td>Ethan Alter</td>\n",
       "      <td>True</td>\n",
       "      <td>Hollywood Reporter</td>\n",
       "      <td>Rotten</td>\n",
       "      <td>NaN</td>\n",
       "      <td>2010-02-10</td>\n",
       "      <td>What's really lacking in The Lightning Thief i...</td>\n",
       "    </tr>\n",
       "    <tr>\n",
       "      <th>4</th>\n",
       "      <td>m/0814255</td>\n",
       "      <td>Percy Jackson &amp; the Olympians: The Lightning T...</td>\n",
       "      <td>David Germain</td>\n",
       "      <td>True</td>\n",
       "      <td>Associated Press</td>\n",
       "      <td>Rotten</td>\n",
       "      <td>NaN</td>\n",
       "      <td>2010-02-10</td>\n",
       "      <td>It's more a list of ingredients than a movie-m...</td>\n",
       "    </tr>\n",
       "  </tbody>\n",
       "</table>\n",
       "</div>"
      ]
     },
     "execution_count": 135,
     "metadata": {},
     "output_type": "execute_result"
    }
   ],
   "execution_count": 135
  },
  {
   "cell_type": "code",
   "id": "2ccca9ccb161d93",
   "metadata": {
    "ExecuteTime": {
     "end_time": "2024-12-27T16:13:04.475488Z",
     "start_time": "2024-12-27T16:13:04.472257Z"
    }
   },
   "source": "reviews_df.shape",
   "outputs": [
    {
     "data": {
      "text/plain": [
       "(1111366, 9)"
      ]
     },
     "execution_count": 136,
     "metadata": {},
     "output_type": "execute_result"
    }
   ],
   "execution_count": 136
  },
  {
   "metadata": {},
   "cell_type": "markdown",
   "source": [
    "---\n",
    "## Save the cleaned dataset to new `.csv` files"
   ],
   "id": "2abfaa9286ea0587"
  },
  {
   "metadata": {
    "ExecuteTime": {
     "end_time": "2024-12-27T16:13:36.750247Z",
     "start_time": "2024-12-27T16:13:04.567134Z"
    }
   },
   "cell_type": "code",
   "source": [
    "# Print the clean datasets to new csv files\n",
    "if PRINT_CSV:\n",
    "    movies_df.to_csv('clean_datasets/movies.csv')\n",
    "    lang_df.to_csv('clean_datasets/languages.csv')\n",
    "    actors_df.to_csv('clean_datasets/actors.csv')\n",
    "    countries_df.to_csv('clean_datasets/countries.csv')\n",
    "    crew_df.to_csv('clean_datasets/crew.csv')\n",
    "    genres_df.to_csv('clean_datasets/genres.csv')\n",
    "    releases_df.to_csv('clean_datasets/releases.csv')\n",
    "    studios_df.to_csv('clean_datasets/studios.csv')\n",
    "    themes_df.to_csv('clean_datasets/themes.csv')\n",
    "    oscars_df.to_csv('clean_datasets/oscars.csv')\n",
    "    reviews_df.to_csv('clean_datasets/reviews.csv')"
   ],
   "id": "d4464b09d031d772",
   "outputs": [],
   "execution_count": 137
  }
 ],
 "metadata": {
  "kernelspec": {
   "display_name": "Python 3 (ipykernel)",
   "language": "python",
   "name": "python3"
  },
  "language_info": {
   "codemirror_mode": {
    "name": "ipython",
    "version": 3
   },
   "file_extension": ".py",
   "mimetype": "text/x-python",
   "name": "python",
   "nbconvert_exporter": "python",
   "pygments_lexer": "ipython3",
   "version": "3.13.1"
  }
 },
 "nbformat": 4,
 "nbformat_minor": 5
}
