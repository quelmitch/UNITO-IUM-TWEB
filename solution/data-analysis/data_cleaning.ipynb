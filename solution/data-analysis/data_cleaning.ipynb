{
 "cells": [
  {
   "cell_type": "markdown",
   "id": "1ada8e0800af80f",
   "metadata": {},
   "source": [
    "# Data Cleaning\n",
    "The cleaning process is organized into sections, each corresponding to a different dataset (`.csv` file). Each section includes the following steps:\n",
    "\n",
    "1. **Data Understanding**: Initial exploration of the dataset.\n",
    "2. **Data Cleaning**: Handling of missing values (NaN), removal of duplicates, setting correct data types, and renaming columns.\n",
    "   *(Optional)* **Deep Clean**: Custom cleaning steps applied to a specific dataset, if necessary.\n",
    "3. **Final Result**: Displays the cleaned dataset and saves it to a new `.csv` file.\n",
    "\n",
    "First, import the necessary libraries and set up any required options."
   ]
  },
  {
   "cell_type": "code",
   "id": "initial_id",
   "metadata": {},
   "source": [
    "import pandas as pd\n",
    "import numpy as np\n",
    "\n",
    "from utils.utils import find_matching\n",
    "\n",
    "# Set to True to print cleaned data into new csv\n",
    "PRINT_CSV = False"
   ],
   "outputs": [],
   "execution_count": null
  },
  {
   "cell_type": "markdown",
   "id": "3535d2e877d218a5",
   "metadata": {},
   "source": [
    "## Movies"
   ]
  },
  {
   "cell_type": "code",
   "id": "bfa523a3d71aa334",
   "metadata": {},
   "source": [
    "# Import 'movies.csv' dataset\n",
    "movies_df = pd.read_csv('datasets/movies.csv')"
   ],
   "outputs": [],
   "execution_count": null
  },
  {
   "cell_type": "markdown",
   "id": "91a7f5cc08f506b1",
   "metadata": {},
   "source": [
    "### 1. Data Understanding"
   ]
  },
  {
   "cell_type": "code",
   "id": "3fdf6136a09202bf",
   "metadata": {},
   "source": [
    "movies_df.head()"
   ],
   "outputs": [],
   "execution_count": null
  },
  {
   "cell_type": "code",
   "id": "f25edf3b61586308",
   "metadata": {},
   "source": [
    "movies_df.shape"
   ],
   "outputs": [],
   "execution_count": null
  },
  {
   "cell_type": "code",
   "id": "66353feb2d15e0c1",
   "metadata": {},
   "source": [
    "movies_df.dtypes"
   ],
   "outputs": [],
   "execution_count": null
  },
  {
   "cell_type": "markdown",
   "id": "24564dc69f48117c",
   "metadata": {},
   "source": [
    "### 2. Data Cleaning"
   ]
  },
  {
   "cell_type": "code",
   "id": "92ec1ff74b506e2f",
   "metadata": {},
   "source": [
    "# Rename columns\n",
    "movies_df = movies_df.rename(columns={'name': 'title', 'minute': 'duration_in_minutes', 'date': 'release_year'})\n",
    "print(f\"Movies dataset columns: {', '.join(movies_df.columns)}\")"
   ],
   "outputs": [],
   "execution_count": null
  },
  {
   "cell_type": "code",
   "id": "943d34788f840a4c",
   "metadata": {},
   "source": [
    "# Check for null values\n",
    "movies_df.isna().sum()"
   ],
   "outputs": [],
   "execution_count": null
  },
  {
   "cell_type": "markdown",
   "id": "5d60bd3bbbcdf43",
   "metadata": {},
   "source": [
    "There are null values in most of the columns.\n",
    "The fields '**release_year**', '**tagline**', '**description**', '**duration_in_minutes**' and '**rating**' don't cause any problems so we'll keep them, but the few movies that are without a title can't be used and will be removed."
   ]
  },
  {
   "cell_type": "code",
   "id": "e64b09d17cd6ac6f",
   "metadata": {},
   "source": [
    "# Removing rows with null title\n",
    "no_title = movies_df[movies_df['title'].isna()]\n",
    "movies_df = movies_df.dropna(subset=['title'])\n",
    "\n",
    "print(\"Movies dataset without title:\")\n",
    "no_title"
   ],
   "outputs": [],
   "execution_count": null
  },
  {
   "cell_type": "code",
   "id": "709a95587abbdd3e",
   "metadata": {},
   "source": [
    "# Check for duplicate rows\n",
    "if movies_df.duplicated().sum():\n",
    "    print(f\"There are {movies_df.duplicated().sum()} duplicated rows\")\n",
    "else:\n",
    "    print(\"No duplicated rows\")"
   ],
   "outputs": [],
   "execution_count": null
  },
  {
   "cell_type": "code",
   "id": "903dbbf0e5d08f7c",
   "metadata": {},
   "source": [
    "# Check if 'id' column has unique values\n",
    "duplicates_id = movies_df[movies_df['id'].duplicated()].shape[0]\n",
    "print(f\"'id' duplicates: {duplicates_id}\")"
   ],
   "outputs": [],
   "execution_count": null
  },
  {
   "metadata": {},
   "cell_type": "markdown",
   "source": "The '**id**' field is the dataset's Primary Key, so we'll set it as the index.",
   "id": "12ecbd6bd4da8000"
  },
  {
   "metadata": {},
   "cell_type": "code",
   "source": "movies_df = movies_df.set_index(\"id\")",
   "id": "308266a1c278ccb4",
   "outputs": [],
   "execution_count": null
  },
  {
   "cell_type": "code",
   "id": "b859e3726529609e",
   "metadata": {},
   "source": [
    "# Setting the correct type for columns\n",
    "movies_df['release_year'] = movies_df['release_year'].astype('Int64')\n",
    "movies_df['duration_in_minutes'] = movies_df['duration_in_minutes'].astype('Int64')\n",
    "movies_df[['release_year', 'duration_in_minutes']].dtypes"
   ],
   "outputs": [],
   "execution_count": null
  },
  {
   "cell_type": "markdown",
   "id": "4de852ea61ae6f48",
   "metadata": {},
   "source": [
    "#### Deep Clean\n",
    "Let's look inside some columns to see most frequent values"
   ]
  },
  {
   "cell_type": "code",
   "id": "207fa8d6b074b053",
   "metadata": {},
   "source": [
    "movies_df['description'].value_counts().head(10)"
   ],
   "outputs": [],
   "execution_count": null
  },
  {
   "cell_type": "markdown",
   "id": "a74a60d521aeb637",
   "metadata": {},
   "source": [
    "Many descriptions seem to have a description like \"Plot Unavailable\" or similar instead of a null value. The other fields seem fine.<br>\n",
    "Let's try to fix as many as possible (fixing only the most frequent variation, not 100% accurate)."
   ]
  },
  {
   "cell_type": "code",
   "id": "29ea2050d5268983",
   "metadata": {},
   "source": [
    "from utils.utils import null_movie_description_keywords\n",
    "\n",
    "# Find null description variation\n",
    "result = find_matching(movies_df, 'description', null_movie_description_keywords, max_length=30)\n",
    "matches = result.copy()\n",
    "\n",
    "# Fill with NaN values the result obtained\n",
    "result['description'] = np.nan\n",
    "\n",
    "# Manual check to be sure to not overwrite real descriptions\n",
    "matches['description'].value_counts()"
   ],
   "outputs": [],
   "execution_count": null
  },
  {
   "cell_type": "markdown",
   "id": "a9a20b8e75e66e6b",
   "metadata": {},
   "source": [
    "### 3. Final Result\n",
    "All datasets reference the **movies** dataset. A movie is uniquely identified by his **id** and a movie id has multiple occurrences in other datasets."
   ]
  },
  {
   "cell_type": "code",
   "id": "35481461787f2554",
   "metadata": {},
   "source": [
    "movies_df.head()"
   ],
   "outputs": [],
   "execution_count": null
  },
  {
   "cell_type": "code",
   "id": "f54fa1742a832d2d",
   "metadata": {},
   "source": [
    "movies_df.shape"
   ],
   "outputs": [],
   "execution_count": null
  },
  {
   "cell_type": "code",
   "id": "cd473f210afa47b3",
   "metadata": {},
   "source": [
    "# Print clean dataset to new csv file\n",
    "if PRINT_CSV:\n",
    "    movies_df.to_csv('clean_datasets/movies.csv')\n",
    "\n",
    "# Free memory\n",
    "movies_df = None"
   ],
   "outputs": [],
   "execution_count": null
  },
  {
   "cell_type": "markdown",
   "id": "8f0b9a430d101b37",
   "metadata": {},
   "source": [
    "## Languages"
   ]
  },
  {
   "cell_type": "code",
   "id": "ece358f79ead413e",
   "metadata": {},
   "source": [
    "# Import 'languages.csv' dataset\n",
    "lang_df = pd.read_csv('datasets/languages.csv')"
   ],
   "outputs": [],
   "execution_count": null
  },
  {
   "cell_type": "markdown",
   "id": "fc0e51ab4b81515f",
   "metadata": {},
   "source": [
    "### 1. Data Understanding"
   ]
  },
  {
   "cell_type": "code",
   "id": "fd8e821868e23834",
   "metadata": {},
   "source": [
    "lang_df.head()"
   ],
   "outputs": [],
   "execution_count": null
  },
  {
   "cell_type": "code",
   "id": "4523d755552d193",
   "metadata": {},
   "source": [
    "lang_df.shape"
   ],
   "outputs": [],
   "execution_count": null
  },
  {
   "cell_type": "code",
   "id": "a75cc482a4a9e58f",
   "metadata": {},
   "source": [
    "lang_df.dtypes"
   ],
   "outputs": [],
   "execution_count": null
  },
  {
   "cell_type": "markdown",
   "id": "df4400a39ba89b3d",
   "metadata": {},
   "source": [
    "### 2. Data Cleaning"
   ]
  },
  {
   "cell_type": "code",
   "id": "567cb4904bd42350",
   "metadata": {},
   "source": [
    "# Rename columns\n",
    "lang_df = lang_df.rename(columns={'id': 'movie_id'})\n",
    "print(f\"Languages dataset columns: {', '.join(lang_df.columns)}\")"
   ],
   "outputs": [],
   "execution_count": null
  },
  {
   "cell_type": "code",
   "id": "e9beb77f2bec1fd8",
   "metadata": {},
   "source": [
    "# Check for null values\n",
    "lang_df.isna().sum()"
   ],
   "outputs": [],
   "execution_count": null
  },
  {
   "cell_type": "code",
   "id": "df1df599b18fb36d",
   "metadata": {},
   "source": [
    "# Check for duplicate rows\n",
    "lang_df.duplicated().sum()"
   ],
   "outputs": [],
   "execution_count": null
  },
  {
   "cell_type": "code",
   "id": "9f395fe64e995870",
   "metadata": {},
   "source": [
    "# Setting the category data type for column 'type'\n",
    "lang_types = lang_df['type'].unique()\n",
    "lang_df['type'] = lang_df['type'].astype('category')\n",
    "print(f\"types: {', '.join(lang_types)}\")"
   ],
   "outputs": [],
   "execution_count": null
  },
  {
   "metadata": {},
   "cell_type": "markdown",
   "source": "The '**type**' field has only 3 possible values, so we can set it as a categorical type",
   "id": "4a98b5d55e778524"
  },
  {
   "cell_type": "markdown",
   "id": "ca1422c0332601d4",
   "metadata": {},
   "source": [
    "### 3. Final Result\n",
    "The languages dataset is directly connected to the movies dataset with the movie_id column. There are more languages rows than movies rows, because a movie can have multiple languages connected. Also, not all movie must have a language defined."
   ]
  },
  {
   "cell_type": "code",
   "id": "2d753d7a649a7bf0",
   "metadata": {},
   "source": "lang_df.head()",
   "outputs": [],
   "execution_count": null
  },
  {
   "cell_type": "code",
   "id": "6d7a9b93f2a82197",
   "metadata": {},
   "source": [
    "lang_df.shape"
   ],
   "outputs": [],
   "execution_count": null
  },
  {
   "cell_type": "code",
   "id": "7f08b875426ec5df",
   "metadata": {},
   "source": [
    "# Print clean dataset to new csv file\n",
    "if PRINT_CSV:\n",
    "    lang_df.to_csv('clean_datasets/languages.csv')\n",
    "\n",
    "# Free memory\n",
    "lang_df = None"
   ],
   "outputs": [],
   "execution_count": null
  },
  {
   "cell_type": "markdown",
   "id": "f9ebbf4c27dcb25e",
   "metadata": {},
   "source": [
    "## Actors"
   ]
  },
  {
   "cell_type": "code",
   "id": "29b93334077ab162",
   "metadata": {},
   "source": [
    "# Import the 'actors.csv' dataset\n",
    "actors_df = pd.read_csv('datasets/actors.csv')"
   ],
   "outputs": [],
   "execution_count": null
  },
  {
   "cell_type": "markdown",
   "id": "714394fe6ec3d82d",
   "metadata": {},
   "source": [
    "### 1. Data Understanding"
   ]
  },
  {
   "cell_type": "code",
   "id": "1db6e7dafedf88df",
   "metadata": {},
   "source": "actors_df.head()",
   "outputs": [],
   "execution_count": null
  },
  {
   "cell_type": "code",
   "id": "a999b36a00c4f0c7",
   "metadata": {},
   "source": [
    "actors_df.shape"
   ],
   "outputs": [],
   "execution_count": null
  },
  {
   "cell_type": "code",
   "id": "e61ee0ab68247d2a",
   "metadata": {},
   "source": [
    "actors_df.dtypes"
   ],
   "outputs": [],
   "execution_count": null
  },
  {
   "cell_type": "markdown",
   "id": "6b5b29d74651b585",
   "metadata": {},
   "source": [
    "### 2. Data Cleaning"
   ]
  },
  {
   "cell_type": "code",
   "id": "9187debc4d1ad51e",
   "metadata": {},
   "source": [
    "# Rename columns\n",
    "actors_df = actors_df.rename(columns={'id': 'movie_id'})"
   ],
   "outputs": [],
   "execution_count": null
  },
  {
   "cell_type": "code",
   "id": "3833716afd294027",
   "metadata": {},
   "source": [
    "# Check for null values\n",
    "actors_df.isna().sum()"
   ],
   "outputs": [],
   "execution_count": null
  },
  {
   "cell_type": "markdown",
   "id": "ff01c08822556d24",
   "metadata": {},
   "source": [
    "There are a lot of missing roles, but there is nothing to do about it."
   ]
  },
  {
   "cell_type": "code",
   "id": "deb18315a671c8ca",
   "metadata": {},
   "source": [
    "# Few actors are without a name and can't be used. Remove them\n",
    "no_name = actors_df[actors_df['name'].isna()]\n",
    "actors_df = actors_df.dropna(subset=['name'])\n",
    "no_name"
   ],
   "outputs": [],
   "execution_count": null
  },
  {
   "cell_type": "code",
   "id": "db26c76a56188205",
   "metadata": {},
   "source": [
    "# Check for duplicate rows\n",
    "print('Duplicated rows:', actors_df.duplicated().sum())\n",
    "actors_duplicates = actors_df[actors_df.duplicated(keep=False)].head(6)\n",
    "\n",
    "# Dropping the duplicates\n",
    "actors_df = actors_df.drop_duplicates()\n",
    "\n",
    "actors_duplicates"
   ],
   "outputs": [],
   "execution_count": null
  },
  {
   "cell_type": "markdown",
   "id": "c0dee24f2dee8446",
   "metadata": {},
   "source": [
    "#### Deep Clean"
   ]
  },
  {
   "cell_type": "code",
   "id": "b2d31c861ac4f2ae",
   "metadata": {},
   "source": [
    "actors_df['role'].value_counts().head(10)"
   ],
   "outputs": [],
   "execution_count": null
  },
  {
   "cell_type": "markdown",
   "id": "dbf5aa0e068e26ad",
   "metadata": {},
   "source": [
    "The role column has many \"Self\" role variations let's look more deeply."
   ]
  },
  {
   "cell_type": "code",
   "id": "f8e7a43e7d9b25ad",
   "metadata": {},
   "source": [
    "from utils.utils import self_actor_role_keywords\n",
    "\n",
    "# Find self variation\n",
    "result = find_matching(actors_df, 'role', self_actor_role_keywords)\n",
    "print('Values matching:', result['role'].shape[0])\n",
    "result['role'].value_counts().head(10)"
   ],
   "outputs": [],
   "execution_count": null
  },
  {
   "cell_type": "markdown",
   "id": "f3df05cb9547cf92",
   "metadata": {},
   "source": [
    "There are over 300.000 values that are similar to \"Self\", but many of them contains also other information as \"Self - Presenter\" or \"Self - Guest\". Overwriting all those values could result in a loss of information, so they won't be overwritten in the cleaned dataset, but they might be when visualizing the data for statistical purposes."
   ]
  },
  {
   "metadata": {},
   "cell_type": "code",
   "source": [
    "# Reset indexing after removing rows\n",
    "actors_df = actors_df.reset_index(drop=True)"
   ],
   "id": "292ee6e521843ffb",
   "outputs": [],
   "execution_count": null
  },
  {
   "cell_type": "markdown",
   "id": "15ad2e8fae1555b6",
   "metadata": {},
   "source": [
    "### 3. Final Result\n",
    "The actors dataset is directly connected to the movies dataset and has almost six times the number of rows as the movies dataset. Also, a movie can have no actors connected"
   ]
  },
  {
   "cell_type": "code",
   "id": "8b17166d2b8653e0",
   "metadata": {},
   "source": [
    "actors_df.head()"
   ],
   "outputs": [],
   "execution_count": null
  },
  {
   "cell_type": "code",
   "id": "4b2ff7785bdee833",
   "metadata": {},
   "source": [
    "actors_df.shape"
   ],
   "outputs": [],
   "execution_count": null
  },
  {
   "cell_type": "code",
   "id": "c0bf6df41d084329",
   "metadata": {},
   "source": [
    "# Print clean dataset to new csv file\n",
    "if PRINT_CSV:\n",
    "    actors_df.to_csv('clean_datasets/actors.csv')\n",
    "\n",
    "# Free memory\n",
    "actors_df = None"
   ],
   "outputs": [],
   "execution_count": null
  },
  {
   "cell_type": "markdown",
   "id": "ed6a3442ff25eae8",
   "metadata": {},
   "source": [
    "## Countries"
   ]
  },
  {
   "metadata": {},
   "cell_type": "code",
   "source": [
    "# Import 'countries.csv' dataset\n",
    "countries_df = pd.read_csv('datasets/countries.csv')"
   ],
   "id": "661073e9d310aa6b",
   "outputs": [],
   "execution_count": null
  },
  {
   "metadata": {},
   "cell_type": "markdown",
   "source": "### 1. Data Understanding",
   "id": "a2a635ce280ab289"
  },
  {
   "metadata": {},
   "cell_type": "code",
   "source": "countries_df.head()",
   "id": "c10d0df0feda424d",
   "outputs": [],
   "execution_count": null
  },
  {
   "metadata": {},
   "cell_type": "code",
   "source": "countries_df.shape",
   "id": "68a498aed1f33a22",
   "outputs": [],
   "execution_count": null
  },
  {
   "cell_type": "code",
   "id": "37bc9dec1507718e",
   "metadata": {},
   "source": [
    "countries_df.dtypes"
   ],
   "outputs": [],
   "execution_count": null
  },
  {
   "metadata": {},
   "cell_type": "markdown",
   "source": "### 2. Data Cleaning",
   "id": "3cb5e504f80fe702"
  },
  {
   "metadata": {},
   "cell_type": "code",
   "source": [
    "# Rename columns\n",
    "countries_df = countries_df.rename(columns={'id': 'movie_id'})\n",
    "print(f\"Countries dataset columns: {', '.join(countries_df.columns)}\")"
   ],
   "id": "55f18d2a971d436a",
   "outputs": [],
   "execution_count": null
  },
  {
   "metadata": {},
   "cell_type": "code",
   "source": [
    "# Check for null values\n",
    "countries_df.isna().sum()"
   ],
   "id": "c65f479cfb939c5a",
   "outputs": [],
   "execution_count": null
  },
  {
   "metadata": {},
   "cell_type": "code",
   "source": [
    "# Check for duplicate rows\n",
    "countries_df.duplicated().sum()"
   ],
   "id": "7ca88973a3f02bf6",
   "outputs": [],
   "execution_count": null
  },
  {
   "metadata": {},
   "cell_type": "markdown",
   "source": [
    "### 3. Final Results\n",
    "The **countries** dataset is directly connected to the movies dataset with the movie_id column as a Foreign Key. This dataset contains all the countries where the movies were produced.\n"
   ],
   "id": "22a09f7b2b168370"
  },
  {
   "metadata": {},
   "cell_type": "code",
   "source": "countries_df.head()",
   "id": "fe6488ea4524f638",
   "outputs": [],
   "execution_count": null
  },
  {
   "metadata": {},
   "cell_type": "code",
   "source": "countries_df.shape",
   "id": "5f2c59a6098fbecc",
   "outputs": [],
   "execution_count": null
  },
  {
   "metadata": {},
   "cell_type": "code",
   "source": [
    "# Print clean dataset to new csv file\n",
    "if PRINT_CSV:\n",
    "    countries_df.to_csv('clean_datasets/countries.csv')\n",
    "\n",
    "# Free memory\n",
    "countries_df = None"
   ],
   "id": "459279d5eedfca5e",
   "outputs": [],
   "execution_count": null
  },
  {
   "cell_type": "markdown",
   "id": "24edc4892a749039",
   "metadata": {},
   "source": [
    "## Crew"
   ]
  },
  {
   "cell_type": "code",
   "id": "a88c911e6dbb612d",
   "metadata": {},
   "source": [
    "# Import 'crew.csv' dataset\n",
    "crew_df = pd.read_csv('datasets/crew.csv')"
   ],
   "outputs": [],
   "execution_count": null
  },
  {
   "metadata": {},
   "cell_type": "markdown",
   "source": "### 1. Data Understanding",
   "id": "4623e280b0d3983d"
  },
  {
   "metadata": {},
   "cell_type": "code",
   "source": "crew_df.head()",
   "id": "85e516c20b098c22",
   "outputs": [],
   "execution_count": null
  },
  {
   "metadata": {},
   "cell_type": "code",
   "source": "crew_df.shape",
   "id": "6e9579fa3486f88e",
   "outputs": [],
   "execution_count": null
  },
  {
   "cell_type": "code",
   "id": "f59cb0428c025849",
   "metadata": {},
   "source": [
    "crew_df.dtypes"
   ],
   "outputs": [],
   "execution_count": null
  },
  {
   "metadata": {},
   "cell_type": "markdown",
   "source": "### 2. Data Cleaning",
   "id": "8e5989eb178d962c"
  },
  {
   "metadata": {},
   "cell_type": "code",
   "source": [
    "# Rename columns\n",
    "crew_df = crew_df.rename(columns={'id': 'movie_id', 'name': 'crew_member_name'})\n",
    "print(f\"Crew dataset columns: {', '.join(crew_df.columns)}\")"
   ],
   "id": "56a653c79e4f9730",
   "outputs": [],
   "execution_count": null
  },
  {
   "metadata": {},
   "cell_type": "code",
   "source": [
    "# Check for null values\n",
    "crew_df.isna().sum()"
   ],
   "id": "2fa859770e654939",
   "outputs": [],
   "execution_count": null
  },
  {
   "metadata": {},
   "cell_type": "markdown",
   "source": "The existing `NaN` value was not removed because it is minimal compared to the overall size of the dataset, and removing it would not significantly impact the analysis. Similarly, values such as *Unknown* or *Anonymous* were kept because they account for less than 1% of the data and do not affect the overall results.",
   "id": "ab29772f52de7260"
  },
  {
   "metadata": {},
   "cell_type": "code",
   "source": [
    "# Check for duplicate rows\n",
    "print('Duplicated rows:', crew_df.duplicated().sum())\n",
    "crew_duplicates = crew_df[crew_df.duplicated(keep=False)].head()\n",
    "\n",
    "# Dropping the duplicates\n",
    "crew_df = crew_df.drop_duplicates()\n",
    "\n",
    "crew_duplicates"
   ],
   "id": "7fbf186aaf3597a9",
   "outputs": [],
   "execution_count": null
  },
  {
   "metadata": {},
   "cell_type": "markdown",
   "source": "#### Deep Clean",
   "id": "138220d7eb0dfb09"
  },
  {
   "metadata": {},
   "cell_type": "code",
   "source": "# TODO:",
   "id": "af7aeb781dcb9cc6",
   "outputs": [],
   "execution_count": null
  },
  {
   "metadata": {},
   "cell_type": "markdown",
   "source": [
    "### 3. Final Results\n",
    "The **crew** dataset is connected to the movies dataset through the 'movie_id' Foreign Key. It includes the names of all crew members along with their roles. A crew member can have multiple roles, but cannot perform the same role in the same movie more than once."
   ],
   "id": "dffa0c440859da90"
  },
  {
   "metadata": {},
   "cell_type": "code",
   "source": "crew_df.head()",
   "id": "704a35689acd277a",
   "outputs": [],
   "execution_count": null
  },
  {
   "metadata": {},
   "cell_type": "code",
   "source": "crew_df.shape",
   "id": "1cbe63d876bd8671",
   "outputs": [],
   "execution_count": null
  },
  {
   "metadata": {},
   "cell_type": "code",
   "source": [
    "# Print clean dataset to new csv file\n",
    "if PRINT_CSV:\n",
    "    crew_df.to_csv('clean_datasets/crew.csv')\n",
    "\n",
    "# Free memory\n",
    "crew_df = None"
   ],
   "id": "f62d7e46f503aa0e",
   "outputs": [],
   "execution_count": null
  },
  {
   "cell_type": "markdown",
   "id": "b55a82b3deb73d9e",
   "metadata": {},
   "source": [
    "## Genres"
   ]
  },
  {
   "cell_type": "code",
   "id": "43a3ee2662d4a7ac",
   "metadata": {},
   "source": [
    "# Import 'genres.csv' dataset\n",
    "genres_df = pd.read_csv('datasets/genres.csv')"
   ],
   "outputs": [],
   "execution_count": null
  },
  {
   "metadata": {},
   "cell_type": "markdown",
   "source": "### 1. Data Understanding",
   "id": "f90938c522de76e4"
  },
  {
   "metadata": {},
   "cell_type": "code",
   "source": "genres_df.head()",
   "id": "d81b082bc37242f6",
   "outputs": [],
   "execution_count": null
  },
  {
   "metadata": {},
   "cell_type": "code",
   "source": "genres_df.shape",
   "id": "143ecf4fe158fba2",
   "outputs": [],
   "execution_count": null
  },
  {
   "cell_type": "code",
   "id": "8f16e8215d40053b",
   "metadata": {},
   "source": [
    "genres_df.dtypes"
   ],
   "outputs": [],
   "execution_count": null
  },
  {
   "metadata": {},
   "cell_type": "markdown",
   "source": "### 2. Data Cleaning",
   "id": "f33c5e865b634c2a"
  },
  {
   "metadata": {},
   "cell_type": "code",
   "source": [
    "# Rename columns\n",
    "genres_df = genres_df.rename(columns={'id': 'movie_id'})\n",
    "print(f\"Genres dataset columns: {', '.join(genres_df.columns)}\")"
   ],
   "id": "e8e51ba8b0004763",
   "outputs": [],
   "execution_count": null
  },
  {
   "cell_type": "code",
   "id": "3646eb6aa8a294c3",
   "metadata": {},
   "source": [
    "# Check for null values\n",
    "genres_df.isna().sum()"
   ],
   "outputs": [],
   "execution_count": null
  },
  {
   "cell_type": "code",
   "id": "f4ab9550c0d65192",
   "metadata": {},
   "source": [
    "# Check for duplicate rows\n",
    "genres_df.duplicated().sum()"
   ],
   "outputs": [],
   "execution_count": null
  },
  {
   "metadata": {},
   "cell_type": "code",
   "source": [
    "# Setting the correct type for columns\n",
    "genres_list = list(genres_df[\"genre\"].unique())\n",
    "print(f'There are {len(genres_list)} genres in the dataset: {\", \".join(genres_list)}')\n",
    "\n",
    "genres_df['genre'] = genres_df['genre'].astype('category')"
   ],
   "id": "89707d9e7fe2fde3",
   "outputs": [],
   "execution_count": null
  },
  {
   "metadata": {},
   "cell_type": "markdown",
   "source": [
    "### 3. Final Results\n",
    "The **genres** dataset is connected to the movies dataset through the movie_id Foreign Key. A movie can have multiple genres.\n"
   ],
   "id": "cdcf6350cb2c8dff"
  },
  {
   "metadata": {},
   "cell_type": "code",
   "source": "genres_df.head()",
   "id": "bab939cf7be6dcaa",
   "outputs": [],
   "execution_count": null
  },
  {
   "metadata": {},
   "cell_type": "code",
   "source": "genres_df.shape",
   "id": "ed9881e2ff2d6321",
   "outputs": [],
   "execution_count": null
  },
  {
   "metadata": {},
   "cell_type": "code",
   "source": [
    "# Print clean dataset to new csv file\n",
    "if PRINT_CSV:\n",
    "    genres_df.to_csv('clean_datasets/genres.csv')\n",
    "\n",
    "# Free memory\n",
    "genres_df = None"
   ],
   "id": "ad190e9b305ad9e4",
   "outputs": [],
   "execution_count": null
  },
  {
   "cell_type": "markdown",
   "id": "86c4322ed5fd0623",
   "metadata": {},
   "source": [
    "## Posters"
   ]
  },
  {
   "cell_type": "code",
   "id": "2a6907762e34e2f5",
   "metadata": {},
   "source": [
    "# Import 'posters.csv' dataset\n",
    "posters_df = pd.read_csv('datasets/posters.csv')"
   ],
   "outputs": [],
   "execution_count": null
  },
  {
   "metadata": {},
   "cell_type": "markdown",
   "source": "### 1. Data Understanding",
   "id": "136e2c17b3bcff2e"
  },
  {
   "metadata": {},
   "cell_type": "code",
   "source": "posters_df.head()",
   "id": "7e493780822572d4",
   "outputs": [],
   "execution_count": null
  },
  {
   "metadata": {},
   "cell_type": "code",
   "source": "posters_df.shape",
   "id": "8606883b437702d9",
   "outputs": [],
   "execution_count": null
  },
  {
   "cell_type": "code",
   "id": "301f6ed84cc0bc75",
   "metadata": {},
   "source": "posters_df.dtypes",
   "outputs": [],
   "execution_count": null
  },
  {
   "metadata": {},
   "cell_type": "markdown",
   "source": "### 2. Data Cleaning",
   "id": "59806c9ab7e7af87"
  },
  {
   "metadata": {},
   "cell_type": "code",
   "source": [
    "# Rename columns\n",
    "posters_df = posters_df.rename(columns={'id': 'movie_id', 'link': 'poster_link'})\n",
    "print(f\"Posters dataset columns: {', '.join(posters_df.columns)}\")"
   ],
   "id": "ee99715a7770203d",
   "outputs": [],
   "execution_count": null
  },
  {
   "cell_type": "code",
   "id": "63dcee20ac047ce7",
   "metadata": {},
   "source": [
    "# Check for null values\n",
    "posters_df.isna().sum()"
   ],
   "outputs": [],
   "execution_count": null
  },
  {
   "metadata": {},
   "cell_type": "code",
   "source": [
    "# Removing null rows\n",
    "posters_df = posters_df.dropna()"
   ],
   "id": "fb53bd70089be031",
   "outputs": [],
   "execution_count": null
  },
  {
   "metadata": {},
   "cell_type": "markdown",
   "source": "It was decided to remove the `NaN` values as they do not contribute meaningful information to the dataset and could hinder data consistency and analysis.",
   "id": "aae6d57b1f646f5e"
  },
  {
   "cell_type": "code",
   "id": "47c6dd59eb2d0166",
   "metadata": {},
   "source": [
    "# Check for duplicate rows\n",
    "posters_df.duplicated().sum()"
   ],
   "outputs": [],
   "execution_count": null
  },
  {
   "metadata": {},
   "cell_type": "code",
   "source": [
    "# Check if a movie can have more than 1 poster\n",
    "id_duplicates = posters_df['movie_id'].duplicated().any()\n",
    "\n",
    "if id_duplicates:\n",
    "    print(\"There are duplicates in the 'movie_id' column.\")\n",
    "else:\n",
    "    print(\"There are no duplicates in the 'movie_id' column.\")"
   ],
   "id": "4abef74122f2f58e",
   "outputs": [],
   "execution_count": null
  },
  {
   "metadata": {},
   "cell_type": "markdown",
   "source": "The relationship between the **posters** dataset and the **movies** dataset must be One-to-One, allowing us to consider merging the two datasets.",
   "id": "b8bee96efbde6641"
  },
  {
   "metadata": {},
   "cell_type": "code",
   "source": [
    "from utils.utils import check_valid_links\n",
    "\n",
    "print(check_valid_links(posters_df, 'poster_link'))"
   ],
   "id": "9e306182884d85c4",
   "outputs": [],
   "execution_count": null
  },
  {
   "metadata": {},
   "cell_type": "markdown",
   "source": "### 3. Final Results",
   "id": "9a313ba5a96d4fb8"
  },
  {
   "metadata": {},
   "cell_type": "code",
   "source": "posters_df.head()",
   "id": "2bbcf090c4f37230",
   "outputs": [],
   "execution_count": null
  },
  {
   "metadata": {},
   "cell_type": "code",
   "source": "posters_df.shape",
   "id": "2a5625b2b9b37a59",
   "outputs": [],
   "execution_count": null
  },
  {
   "metadata": {},
   "cell_type": "code",
   "source": [
    "# TODO: Merging the datasets on 'id' from 'movies' and 'movie_id' from 'posters'\n",
    "# merged_df = pd.merge(movies_df, posters_df, left_on='id', right_on='movie_id', how='left')"
   ],
   "id": "b00a8511b531e0cb",
   "outputs": [],
   "execution_count": null
  },
  {
   "metadata": {},
   "cell_type": "code",
   "source": [
    "if PRINT_CSV:\n",
    "    posters_df.to_csv('clean_datasets/posters.csv')\n",
    "\n",
    "posters_df = None"
   ],
   "id": "b57721ebd15cb419",
   "outputs": [],
   "execution_count": null
  },
  {
   "cell_type": "markdown",
   "id": "4196a42a33f7c016",
   "metadata": {},
   "source": [
    "## Releases"
   ]
  },
  {
   "cell_type": "code",
   "id": "58d81bbee758a926",
   "metadata": {},
   "source": [
    "# Import the 'release.csv' dataset\n",
    "releases_df = pd.read_csv('datasets/releases.csv')"
   ],
   "outputs": [],
   "execution_count": null
  },
  {
   "metadata": {},
   "cell_type": "markdown",
   "source": "### 1. Data Understanding",
   "id": "6f20992376e2f86c"
  },
  {
   "metadata": {},
   "cell_type": "code",
   "source": "releases_df.head()",
   "id": "d4229fdeb2ec0df4",
   "outputs": [],
   "execution_count": null
  },
  {
   "metadata": {},
   "cell_type": "code",
   "source": "releases_df.shape",
   "id": "3c3f65a9f26b8107",
   "outputs": [],
   "execution_count": null
  },
  {
   "cell_type": "code",
   "id": "532d17f380f9d16d",
   "metadata": {},
   "source": "releases_df.dtypes",
   "outputs": [],
   "execution_count": null
  },
  {
   "metadata": {},
   "cell_type": "markdown",
   "source": "### 2. Data Cleaning",
   "id": "43ace379e3f928d1"
  },
  {
   "metadata": {},
   "cell_type": "code",
   "source": [
    "# Rename columns\n",
    "releases_df = releases_df.rename(columns={'id': 'movie_id', 'type': 'distribution_format'})\n",
    "print(f\"Release dataset columns: {', '.join(releases_df.columns)}\")"
   ],
   "id": "4f968df32d23f212",
   "outputs": [],
   "execution_count": null
  },
  {
   "cell_type": "code",
   "id": "1520521767a42027",
   "metadata": {},
   "source": [
    "# Check for null values\n",
    "releases_df.isna().sum()"
   ],
   "outputs": [],
   "execution_count": null
  },
  {
   "cell_type": "code",
   "id": "9bd49ddafbd907a9",
   "metadata": {},
   "source": [
    "# Check for duplicate rows\n",
    "releases_df.duplicated().sum()"
   ],
   "outputs": [],
   "execution_count": null
  },
  {
   "metadata": {},
   "cell_type": "code",
   "source": "releases_df[(releases_df['rating'] == \"0\") & (~releases_df['country'].isin([\"Germany\", \"Austria\", \"Switzerland\"]))]",
   "id": "6f84be4fef8f9c77",
   "outputs": [],
   "execution_count": null
  },
  {
   "metadata": {},
   "cell_type": "markdown",
   "source": "We initially checked the value `0` in the dataset, assuming it might represent a null or missing value. However, we discovered that in Germany, Austria, and Switzerland, the `0` rating has a meaningful interpretation, indicating that the film is suitable for all audiences, including children. For the remaining countries, it is possible that the `0` rating is an error, but since it appears only 70 times in a dataset of 1,332,782 rows, we deemed it unnecessary to remove or correct these entries.",
   "id": "335338050e2448fa"
  },
  {
   "metadata": {},
   "cell_type": "code",
   "source": [
    "# Setting the correct type for the columns\n",
    "releases_df['date'] = pd.to_datetime(releases_df['date'], format='%Y-%m-%d')\n",
    "releases_df['distribution_format'] = releases_df['distribution_format'].astype('category')"
   ],
   "id": "cd6d215126e6873f",
   "outputs": [],
   "execution_count": null
  },
  {
   "metadata": {},
   "cell_type": "markdown",
   "source": [
    "### 3. Final Results\n",
    "The **release** dataset is linked to the movies dataset via the Foreign Key movie_id. It contains details about the movies' releases around the world."
   ],
   "id": "6370db33e1d66708"
  },
  {
   "metadata": {},
   "cell_type": "code",
   "source": "releases_df.head()",
   "id": "e6bf754e207c33c8",
   "outputs": [],
   "execution_count": null
  },
  {
   "metadata": {},
   "cell_type": "code",
   "source": "releases_df.shape",
   "id": "f0ca164238628799",
   "outputs": [],
   "execution_count": null
  },
  {
   "metadata": {},
   "cell_type": "code",
   "source": [
    "if PRINT_CSV:\n",
    "    releases_df.to_csv('clean_datasets/releases.csv')\n",
    "\n",
    "releases_df = None"
   ],
   "id": "9218c0140c7245a5",
   "outputs": [],
   "execution_count": null
  },
  {
   "cell_type": "markdown",
   "id": "da81d3e12dc36ea5",
   "metadata": {},
   "source": [
    "## Studios"
   ]
  },
  {
   "cell_type": "code",
   "id": "84396a257c71794f",
   "metadata": {},
   "source": [
    "# Import the 'studios.csv' dataset\n",
    "studios_df = pd.read_csv('datasets/studios.csv')"
   ],
   "outputs": [],
   "execution_count": null
  },
  {
   "metadata": {},
   "cell_type": "markdown",
   "source": "### 1. Data Understanding",
   "id": "e076ed4a5564bec3"
  },
  {
   "metadata": {},
   "cell_type": "code",
   "source": "studios_df.head()",
   "id": "a88021e9ebb0065c",
   "outputs": [],
   "execution_count": null
  },
  {
   "metadata": {},
   "cell_type": "code",
   "source": "studios_df.shape",
   "id": "bbf42bcb0f1fb08",
   "outputs": [],
   "execution_count": null
  },
  {
   "cell_type": "code",
   "id": "17766a803adc482f",
   "metadata": {},
   "source": [
    "studios_df.dtypes"
   ],
   "outputs": [],
   "execution_count": null
  },
  {
   "metadata": {},
   "cell_type": "markdown",
   "source": "### 2. Data Cleaning",
   "id": "b91cf90d9d4b5ab7"
  },
  {
   "metadata": {},
   "cell_type": "code",
   "source": [
    "# Rename columns\n",
    "studios_df = studios_df.rename(columns={'id': 'movie_id'})"
   ],
   "id": "be17f510fb844ba0",
   "outputs": [],
   "execution_count": null
  },
  {
   "cell_type": "code",
   "id": "fbb896ee1231f17",
   "metadata": {},
   "source": [
    "# Check for null values\n",
    "studios_df.isna().sum()\n",
    "\n",
    "# Dropping rows with null studios\n",
    "studios_df = studios_df.dropna()"
   ],
   "outputs": [],
   "execution_count": null
  },
  {
   "cell_type": "code",
   "id": "adab9f0cfe764439",
   "metadata": {},
   "source": [
    "# Check for duplicate row\n",
    "studios_df.duplicated().sum()\n",
    "\n",
    "# Dropping duplicate rows\n",
    "studios_df = studios_df.drop_duplicates()"
   ],
   "outputs": [],
   "execution_count": null
  },
  {
   "metadata": {},
   "cell_type": "markdown",
   "source": [
    "### 3. Final Results\n",
    "The **studios** dataset is linked to the movies dataset via the Foreign Key movie_id."
   ],
   "id": "c213f2e412124103"
  },
  {
   "metadata": {},
   "cell_type": "code",
   "source": "studios_df.head()",
   "id": "6bbbdea78e8941f9",
   "outputs": [],
   "execution_count": null
  },
  {
   "metadata": {},
   "cell_type": "code",
   "source": "studios_df.shape",
   "id": "4a6bfeaf84401a35",
   "outputs": [],
   "execution_count": null
  },
  {
   "metadata": {},
   "cell_type": "code",
   "source": [
    "if PRINT_CSV:\n",
    "    studios_df.to_csv('clean_datasets/studios.csv')\n",
    "\n",
    "studios_df = None"
   ],
   "id": "9b98ee93498c1674",
   "outputs": [],
   "execution_count": null
  },
  {
   "cell_type": "markdown",
   "id": "9a6b57c450f01c0f",
   "metadata": {},
   "source": [
    "## Themes"
   ]
  },
  {
   "cell_type": "code",
   "id": "fbe022bdfd8b0a04",
   "metadata": {},
   "source": [
    "# Import the 'themes.csv' dataset\n",
    "themes_df = pd.read_csv('datasets/themes.csv')"
   ],
   "outputs": [],
   "execution_count": null
  },
  {
   "metadata": {},
   "cell_type": "markdown",
   "source": "### 1. Data Understanding",
   "id": "46de0138c423204b"
  },
  {
   "metadata": {},
   "cell_type": "code",
   "source": "themes_df.head()",
   "id": "69df8bf8d4af08b6",
   "outputs": [],
   "execution_count": null
  },
  {
   "metadata": {},
   "cell_type": "code",
   "source": "themes_df.shape",
   "id": "ae680921860473c0",
   "outputs": [],
   "execution_count": null
  },
  {
   "cell_type": "code",
   "id": "f936ffb1de2fe4bd",
   "metadata": {},
   "source": [
    "themes_df.dtypes"
   ],
   "outputs": [],
   "execution_count": null
  },
  {
   "metadata": {},
   "cell_type": "markdown",
   "source": "### 2. Data Cleaning",
   "id": "711bfc246d672b30"
  },
  {
   "metadata": {},
   "cell_type": "code",
   "source": [
    "# Rename columns\n",
    "themes_df = themes_df.rename(columns={'id': 'movie_id'})"
   ],
   "id": "2d304eca9061e808",
   "outputs": [],
   "execution_count": null
  },
  {
   "cell_type": "code",
   "id": "2084d91873e547a3",
   "metadata": {},
   "source": [
    "# Check for null values\n",
    "themes_df.isna().sum()"
   ],
   "outputs": [],
   "execution_count": null
  },
  {
   "cell_type": "code",
   "id": "ab2b77ce8ed56bcd",
   "metadata": {},
   "source": [
    "# Check for duplicate rows\n",
    "themes_df.duplicated().sum()"
   ],
   "outputs": [],
   "execution_count": null
  },
  {
   "metadata": {},
   "cell_type": "code",
   "source": [
    "# Check for invalid themes\n",
    "themes_df['theme'].value_counts()"
   ],
   "id": "6fa16b169f6fb01d",
   "outputs": [],
   "execution_count": null
  },
  {
   "metadata": {},
   "cell_type": "markdown",
   "source": [
    "### 3. Final Results\n",
    "The **themes** dataset is linked to the movies dataset via the Foreign Key movie_id. It describes a movie with few, standard phrases."
   ],
   "id": "453e5db4ff2c89dc"
  },
  {
   "metadata": {},
   "cell_type": "code",
   "source": "themes_df.head()",
   "id": "3acdf4455cdc7109",
   "outputs": [],
   "execution_count": null
  },
  {
   "metadata": {},
   "cell_type": "code",
   "source": "themes_df.shape",
   "id": "53b93e65c67cf8a2",
   "outputs": [],
   "execution_count": null
  },
  {
   "cell_type": "markdown",
   "id": "8239b51a28a377ba",
   "metadata": {},
   "source": [
    "## The Oscar Awards"
   ]
  },
  {
   "cell_type": "code",
   "id": "90562049b2b05eb1",
   "metadata": {},
   "source": [
    "# Import the 'the_oscar_awards.csv' dataset\n",
    "oscars_df = pd.read_csv('datasets/the_oscar_awards.csv')"
   ],
   "outputs": [],
   "execution_count": null
  },
  {
   "metadata": {},
   "cell_type": "markdown",
   "source": "### 1. Data Understanding",
   "id": "18f64da01e11d138"
  },
  {
   "metadata": {},
   "cell_type": "code",
   "source": "oscars_df.head()",
   "id": "29e89700e94bb439",
   "outputs": [],
   "execution_count": null
  },
  {
   "metadata": {},
   "cell_type": "code",
   "source": "oscars_df.shape",
   "id": "efceb3c1ee68ef58",
   "outputs": [],
   "execution_count": null
  },
  {
   "cell_type": "code",
   "id": "36ae83bf8011e711",
   "metadata": {},
   "source": "oscars_df.dtypes",
   "outputs": [],
   "execution_count": null
  },
  {
   "metadata": {},
   "cell_type": "markdown",
   "source": "### 2. Data Cleaning",
   "id": "8716fff4dd5ada25"
  },
  {
   "metadata": {},
   "cell_type": "code",
   "source": [
    "# Rename columns\n",
    "oscars_df = oscars_df.rename(columns={'name': 'nominee_name', 'film': 'nominated_film', 'winner': 'is_winner'})"
   ],
   "id": "d93f7491d1b2ef61",
   "outputs": [],
   "execution_count": null
  },
  {
   "cell_type": "code",
   "id": "307b81116fc86d32",
   "metadata": {},
   "source": [
    "# Check for null values\n",
    "oscars_df.isna().sum()"
   ],
   "outputs": [],
   "execution_count": null
  },
  {
   "cell_type": "code",
   "id": "17006996a9aa1b24",
   "metadata": {},
   "source": [
    "# Check for duplicate rows\n",
    "oscars_df.duplicated().sum()"
   ],
   "outputs": [],
   "execution_count": null
  },
  {
   "metadata": {},
   "cell_type": "code",
   "source": [
    "# Check the consistency between year_film and year_ceremony\n",
    "oscars_df[oscars_df['year_film'] > oscars_df['year_ceremony']]"
   ],
   "id": "5d29d2335bbf5f57",
   "outputs": [],
   "execution_count": null
  },
  {
   "metadata": {},
   "cell_type": "code",
   "source": [
    "# Check for multiple winner possibilities\n",
    "from utils.utils import special_oscar_awards\n",
    "\n",
    "# Exclude rows where the 'category' is in the special_oscar_awards list\n",
    "filtered_oscars = oscars_df[~oscars_df['category'].isin(special_oscar_awards)]\n",
    "\n",
    "# Find groups with more than one winner\n",
    "multiple_winners = filtered_oscars.groupby(['year_ceremony', 'category']).filter(\n",
    "    lambda x: x['is_winner'].sum() > 1\n",
    ")\n",
    "\n",
    "# Keep only the rows where 'is_winner' is True\n",
    "multiple_winners = multiple_winners[multiple_winners['is_winner'] == True]\n",
    "multiple_winners.head()"
   ],
   "id": "741287fc5092aa70",
   "outputs": [],
   "execution_count": null
  },
  {
   "metadata": {},
   "cell_type": "markdown",
   "source": "Displaying multiple winners (including draws), as we want to keep all winners in case of a draw in the same category (1969 Best Actress, or 1932 Best Actor)",
   "id": "57ee0c65ca97bccc"
  },
  {
   "metadata": {},
   "cell_type": "code",
   "source": [
    "duplicates_nominee = oscars_df[oscars_df.duplicated(subset=['nominee_name', 'nominated_film', 'category', 'ceremony'], keep=False)]\n",
    "duplicates_nominee.head()"
   ],
   "id": "dc57c770767f2e3a",
   "outputs": [],
   "execution_count": null
  },
  {
   "metadata": {},
   "cell_type": "markdown",
   "source": "Duplicates are retained because, in music categories, the same artists can receive identical nominations for different songs, with the song titles not specified in the dataset",
   "id": "2ca1f9a0799048b9"
  },
  {
   "metadata": {},
   "cell_type": "code",
   "source": [
    "# Setting the correct type for columns\n",
    "oscars_df['category'] = oscars_df['category'].astype('category')"
   ],
   "id": "846347b46852640",
   "outputs": [],
   "execution_count": null
  },
  {
   "metadata": {},
   "cell_type": "markdown",
   "source": "### 3. Final Results",
   "id": "3e16e3bd7b373322"
  },
  {
   "metadata": {},
   "cell_type": "code",
   "source": "oscars_df.head()",
   "id": "ac992bfef9078cde",
   "outputs": [],
   "execution_count": null
  },
  {
   "metadata": {},
   "cell_type": "code",
   "source": "oscars_df.shape",
   "id": "70d9b4555f7f7027",
   "outputs": [],
   "execution_count": null
  },
  {
   "metadata": {},
   "cell_type": "code",
   "source": [
    "if PRINT_CSV:\n",
    "    oscars_df.to_csv('clean_datasets/the_oscar_awards.csv')\n",
    "\n",
    "oscars_df = None"
   ],
   "id": "87705a0681addee4",
   "outputs": [],
   "execution_count": null
  },
  {
   "cell_type": "markdown",
   "id": "9987f1ea66215e6e",
   "metadata": {},
   "source": [
    "## Rotten Tomatoes Reviews"
   ]
  },
  {
   "cell_type": "code",
   "id": "a034e62862b0698",
   "metadata": {},
   "source": [
    "reviews_df = pd.read_csv('datasets/rotten_tomatoes_reviews.csv')"
   ],
   "outputs": [],
   "execution_count": null
  },
  {
   "cell_type": "markdown",
   "id": "235db8f4bf98f800",
   "metadata": {},
   "source": [
    "### 1. Data Understanding"
   ]
  },
  {
   "cell_type": "code",
   "id": "e959042f66953cdb",
   "metadata": {},
   "source": [
    "reviews_df.head()"
   ],
   "outputs": [],
   "execution_count": null
  },
  {
   "cell_type": "code",
   "id": "f729775e5075501",
   "metadata": {},
   "source": [
    "reviews_df.shape"
   ],
   "outputs": [],
   "execution_count": null
  },
  {
   "cell_type": "code",
   "id": "40ad7ccbbcf0d1ba",
   "metadata": {},
   "source": [
    "reviews_df.dtypes"
   ],
   "outputs": [],
   "execution_count": null
  },
  {
   "cell_type": "markdown",
   "id": "a74ea906fcf8b827",
   "metadata": {},
   "source": [
    "### 2. Data Cleaning"
   ]
  },
  {
   "cell_type": "code",
   "id": "f35d276353417a37",
   "metadata": {},
   "source": [
    "# Rename columns\n",
    "reviews_df = reviews_df.rename(columns={'review_type': 'type', 'review_score': 'score', 'review_date': 'date', 'review_content': 'content', 'top_critic': 'is_top_critic'})"
   ],
   "outputs": [],
   "execution_count": null
  },
  {
   "cell_type": "code",
   "id": "507ec35f28e248b9",
   "metadata": {},
   "source": [
    "# Check for null values\n",
    "reviews_df.isna().sum()"
   ],
   "outputs": [],
   "execution_count": null
  },
  {
   "cell_type": "markdown",
   "id": "43d8e22000f6a9b5",
   "metadata": {},
   "source": [
    "Checking on Rotten Tomatoes website is fine having the publisher and critic name and content as null values."
   ]
  },
  {
   "cell_type": "code",
   "id": "957a4ddfb06f5615",
   "metadata": {},
   "source": [
    "# Check for duplicate rows\n",
    "filtered_df = reviews_df[reviews_df['critic_name'].notna()]\n",
    "filtered_df = filtered_df[filtered_df.duplicated(keep=False)]\n",
    "\n",
    "reviews_df = reviews_df.drop(reviews_df[reviews_df['critic_name'].isna()].index)\n",
    "\n",
    "filtered_df"
   ],
   "outputs": [],
   "execution_count": null
  },
  {
   "cell_type": "markdown",
   "id": "cb9315e8f8138eeb",
   "metadata": {},
   "source": [
    "There are many duplicate reviews in the datasets. Looking closely is actually possible to have more reviews for the same movie that have the same publisher and with the author not specified. Those rows will be excluded from the total count of duplicate rows and will not be removed. All other duplicate rows will be removed."
   ]
  },
  {
   "cell_type": "code",
   "id": "2291b484257ea9d3",
   "metadata": {},
   "source": [
    "# Setting the correct type for columns\n",
    "reviews_df['type'] = reviews_df['type'].astype('category')\n",
    "reviews_df['date'] = pd.to_datetime(reviews_df['date'], format='%Y-%m-%d')"
   ],
   "outputs": [],
   "execution_count": null
  },
  {
   "cell_type": "markdown",
   "id": "7ab64ae4b73713b4",
   "metadata": {},
   "source": [
    "### 3. Final Result"
   ]
  },
  {
   "cell_type": "code",
   "id": "2ccca9ccb161d93",
   "metadata": {},
   "source": [
    "reviews_df.head()"
   ],
   "outputs": [],
   "execution_count": null
  },
  {
   "cell_type": "code",
   "id": "86d8854260261307",
   "metadata": {},
   "source": [
    "reviews_df.shape"
   ],
   "outputs": [],
   "execution_count": null
  },
  {
   "cell_type": "code",
   "id": "a1f0ab1613f14adf",
   "metadata": {},
   "source": [
    "# Print clean dataset to new csv file\n",
    "if PRINT_CSV:\n",
    "    reviews_df.to_csv('clean_datasets/reviews.csv')\n",
    "\n",
    "# Free memory\n",
    "reviews_df = None"
   ],
   "outputs": [],
   "execution_count": null
  }
 ],
 "metadata": {
  "kernelspec": {
   "display_name": "Python 3 (ipykernel)",
   "language": "python",
   "name": "python3"
  },
  "language_info": {
   "codemirror_mode": {
    "name": "ipython",
    "version": 3
   },
   "file_extension": ".py",
   "mimetype": "text/x-python",
   "name": "python",
   "nbconvert_exporter": "python",
   "pygments_lexer": "ipython3",
   "version": "3.13.1"
  }
 },
 "nbformat": 4,
 "nbformat_minor": 5
}
