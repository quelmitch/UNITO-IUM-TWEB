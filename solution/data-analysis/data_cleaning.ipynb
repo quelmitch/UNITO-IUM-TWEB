{
 "cells": [
  {
   "metadata": {},
   "cell_type": "markdown",
   "source": [
    "# Data Cleaning\n",
    "Made a section for each dataset (csv file).\n",
    "Every section has a:\n",
    "1. Data Understanding\n",
    "2. Data Cleaning\n",
    "3. Final Result\n",
    "\n",
    "First of all libraries imports and options:"
   ],
   "id": "1ada8e0800af80f"
  },
  {
   "cell_type": "code",
   "id": "initial_id",
   "metadata": {
    "collapsed": true
   },
   "source": [
    "import pandas as pd\n",
    "import numpy as np\n",
    "\n",
    "from utils.movies import find_matching\n",
    "\n",
    "# Suppress warning on reassigning edited columns\n",
    "pd.options.mode.chained_assignment = None\n",
    "\n",
    "# BUG ALERT: In PyCharm 2024.3 error \"Table data could not be loaded\" is often caused by columns exceeding display area and could be resolved by increasing the size of the display area by hiding sidebars as project source files."
   ],
   "outputs": [],
   "execution_count": null
  },
  {
   "metadata": {},
   "cell_type": "markdown",
   "source": "## Movies",
   "id": "3535d2e877d218a5"
  },
  {
   "metadata": {},
   "cell_type": "code",
   "source": [
    "# Import 'movies.csv' dataset\n",
    "movies_df = pd.read_csv('datasets/movies.csv')"
   ],
   "id": "bfa523a3d71aa334",
   "outputs": [],
   "execution_count": null
  },
  {
   "metadata": {},
   "cell_type": "markdown",
   "source": "### 1. Data Understanding",
   "id": "91a7f5cc08f506b1"
  },
  {
   "metadata": {},
   "cell_type": "code",
   "source": "movies_df.head()",
   "id": "3fdf6136a09202bf",
   "outputs": [],
   "execution_count": null
  },
  {
   "metadata": {},
   "cell_type": "code",
   "source": "movies_df.shape",
   "id": "f25edf3b61586308",
   "outputs": [],
   "execution_count": null
  },
  {
   "metadata": {},
   "cell_type": "code",
   "source": "movies_df.dtypes",
   "id": "66353feb2d15e0c1",
   "outputs": [],
   "execution_count": null
  },
  {
   "metadata": {},
   "cell_type": "markdown",
   "source": "### 2. Data Cleaning",
   "id": "24564dc69f48117c"
  },
  {
   "metadata": {},
   "cell_type": "code",
   "source": [
    "# Rename columns\n",
    "movies_df.rename(columns={'name': 'title', 'minute': 'duration_in_minutes', 'date': 'release_year'}, inplace=True)\n",
    "movies_df.columns"
   ],
   "id": "92ec1ff74b506e2f",
   "outputs": [],
   "execution_count": null
  },
  {
   "metadata": {},
   "cell_type": "code",
   "source": [
    "# Check for null values\n",
    "movies_df.isna().sum()"
   ],
   "id": "943d34788f840a4c",
   "outputs": [],
   "execution_count": null
  },
  {
   "metadata": {},
   "cell_type": "markdown",
   "source": [
    "There are null values in most of the columns.\n",
    "'**release_year**', '**tagline**', '**description**', '**duration_in_minutes**' and '**rating**' don't cause any problems so we'll keep them."
   ],
   "id": "5d60bd3bbbcdf43"
  },
  {
   "metadata": {},
   "cell_type": "code",
   "source": [
    "# Few movies are without a title and can't be used. Remove them\n",
    "no_title = movies_df[movies_df['title'].isna()]\n",
    "movies_df = movies_df.dropna(subset=['title'])\n",
    "no_title"
   ],
   "id": "e64b09d17cd6ac6f",
   "outputs": [],
   "execution_count": null
  },
  {
   "metadata": {},
   "cell_type": "code",
   "source": [
    "# Check for duplicate rows\n",
    "movies_df.duplicated().sum()"
   ],
   "id": "709a95587abbdd3e",
   "outputs": [],
   "execution_count": null
  },
  {
   "metadata": {},
   "cell_type": "code",
   "source": [
    "# If 'id' column has unique values can be an index\n",
    "duplicates_id = movies_df[movies_df['id'].duplicated()].shape[0]\n",
    "movies_df.set_index(\"id\", inplace=True)\n",
    "print(\"'id' duplicates:\", duplicates_id)"
   ],
   "id": "903dbbf0e5d08f7c",
   "outputs": [],
   "execution_count": null
  },
  {
   "metadata": {},
   "cell_type": "code",
   "source": [
    "# Setting the correct type for columns\n",
    "movies_df['release_year'] = movies_df['release_year'].astype('Int64')\n",
    "movies_df['duration_in_minutes'] = movies_df['duration_in_minutes'].astype('Int64')\n",
    "movies_df[['release_year', 'duration_in_minutes']].dtypes"
   ],
   "id": "b859e3726529609e",
   "outputs": [],
   "execution_count": null
  },
  {
   "metadata": {},
   "cell_type": "markdown",
   "source": [
    "#### Deep Clean\n",
    "Let's look inside some columns to see most frequent values"
   ],
   "id": "4de852ea61ae6f48"
  },
  {
   "metadata": {},
   "cell_type": "code",
   "source": "movies_df['description'].value_counts()",
   "id": "207fa8d6b074b053",
   "outputs": [],
   "execution_count": null
  },
  {
   "metadata": {},
   "cell_type": "markdown",
   "source": [
    "Many descriptions seem to have a description like \"Plot Unavailable\" or similar instead of a null value. The other fields seem fine.<br>\n",
    "Let's try to fix as many as possible (fixing only the most frequent variation, not 100% accurate)."
   ],
   "id": "a74a60d521aeb637"
  },
  {
   "metadata": {},
   "cell_type": "code",
   "source": [
    "from utils.movies import null_description_keywords\n",
    "\n",
    "# Find many null description\n",
    "result = find_matching(movies_df, 'description', null_description_keywords)\n",
    "matches = result.copy()\n",
    "\n",
    "# Fill with NaN values the result obtained\n",
    "result['description'] = np.nan\n",
    "\n",
    "# Manual check to be sure to not overwrite real descriptions\n",
    "matches['description'].value_counts()"
   ],
   "id": "29ea2050d5268983",
   "outputs": [],
   "execution_count": null
  },
  {
   "metadata": {},
   "cell_type": "markdown",
   "source": "### 3. Final Result",
   "id": "a9a20b8e75e66e6b"
  },
  {
   "metadata": {},
   "cell_type": "markdown",
   "source": "All datasets reference the **movies** dataset. A movie is uniquely identified by his **id** and a movie id has multiple occurrences in other datasets.",
   "id": "4987e93bbd8ca035"
  },
  {
   "metadata": {},
   "cell_type": "code",
   "source": "movies_df.head()",
   "id": "35481461787f2554",
   "outputs": [],
   "execution_count": null
  },
  {
   "metadata": {},
   "cell_type": "markdown",
   "source": "## Languages",
   "id": "8f0b9a430d101b37"
  },
  {
   "metadata": {},
   "cell_type": "code",
   "source": [
    "# Import 'languages.csv' dataset\n",
    "lang_df = pd.read_csv('datasets/languages.csv')"
   ],
   "id": "ece358f79ead413e",
   "outputs": [],
   "execution_count": null
  },
  {
   "metadata": {},
   "cell_type": "markdown",
   "source": "### 1. Data Understanding",
   "id": "fc0e51ab4b81515f"
  },
  {
   "metadata": {},
   "cell_type": "code",
   "source": "lang_df.head()",
   "id": "fd8e821868e23834",
   "outputs": [],
   "execution_count": null
  },
  {
   "metadata": {},
   "cell_type": "code",
   "source": "lang_df.shape",
   "id": "4523d755552d193",
   "outputs": [],
   "execution_count": null
  },
  {
   "metadata": {},
   "cell_type": "code",
   "source": "lang_df.dtypes",
   "id": "a75cc482a4a9e58f",
   "outputs": [],
   "execution_count": null
  },
  {
   "metadata": {},
   "cell_type": "markdown",
   "source": "### 2. Data Cleaning",
   "id": "df4400a39ba89b3d"
  },
  {
   "metadata": {},
   "cell_type": "code",
   "source": [
    "# Rename columns\n",
    "lang_df = lang_df.rename(columns={'id': 'movie_id'})"
   ],
   "id": "567cb4904bd42350",
   "outputs": [],
   "execution_count": null
  },
  {
   "metadata": {},
   "cell_type": "code",
   "source": [
    "# Check for null values\n",
    "lang_df.isna().sum()"
   ],
   "id": "e9beb77f2bec1fd8",
   "outputs": [],
   "execution_count": null
  },
  {
   "metadata": {},
   "cell_type": "code",
   "source": [
    "# check for duplicate row\n",
    "lang_df.duplicated().sum()"
   ],
   "id": "df1df599b18fb36d",
   "outputs": [],
   "execution_count": null
  },
  {
   "metadata": {},
   "cell_type": "code",
   "source": [
    "# Setting the category data type for column 'type'\n",
    "lang_types = lang_df['type'].unique()\n",
    "lang_df['type'] = lang_df['type'].astype('category')\n",
    "lang_types"
   ],
   "id": "9f395fe64e995870",
   "outputs": [],
   "execution_count": null
  },
  {
   "metadata": {},
   "cell_type": "markdown",
   "source": "### 3. Final Result",
   "id": "ca1422c0332601d4"
  },
  {
   "metadata": {},
   "cell_type": "code",
   "source": "lang_df.head()",
   "id": "2d753d7a649a7bf0",
   "outputs": [],
   "execution_count": null
  },
  {
   "metadata": {},
   "cell_type": "markdown",
   "source": "## Actors",
   "id": "f9ebbf4c27dcb25e"
  },
  {
   "metadata": {},
   "cell_type": "code",
   "source": "actors_df = pd.read_csv('datasets/actors.csv')",
   "id": "29b93334077ab162",
   "outputs": [],
   "execution_count": null
  },
  {
   "metadata": {},
   "cell_type": "markdown",
   "source": "### 1. Data Understanding",
   "id": "714394fe6ec3d82d"
  },
  {
   "metadata": {},
   "cell_type": "code",
   "source": "actors_df.head()",
   "id": "1db6e7dafedf88df",
   "outputs": [],
   "execution_count": null
  },
  {
   "metadata": {},
   "cell_type": "code",
   "source": "actors_df.shape",
   "id": "a999b36a00c4f0c7",
   "outputs": [],
   "execution_count": null
  },
  {
   "metadata": {},
   "cell_type": "code",
   "source": "actors_df.dtypes",
   "id": "e61ee0ab68247d2a",
   "outputs": [],
   "execution_count": null
  },
  {
   "metadata": {},
   "cell_type": "markdown",
   "source": "### 2. Data Cleaning",
   "id": "6b5b29d74651b585"
  },
  {
   "metadata": {},
   "cell_type": "code",
   "source": [
    "# Rename columns\n",
    "actors_df = actors_df.rename(columns={'id': 'movie_id'})"
   ],
   "id": "9187debc4d1ad51e",
   "outputs": [],
   "execution_count": null
  },
  {
   "metadata": {},
   "cell_type": "code",
   "source": [
    "# check NaN values\n",
    "actors_df.isna().sum()"
   ],
   "id": "3833716afd294027",
   "outputs": [],
   "execution_count": null
  },
  {
   "metadata": {},
   "cell_type": "markdown",
   "source": "There are a lot of missing roles, but there is nothing to do about it.",
   "id": "ff01c08822556d24"
  },
  {
   "metadata": {},
   "cell_type": "code",
   "source": [
    "# Few actors are without a name and can't be used. Remove them\n",
    "no_name = actors_df[actors_df['name'].isna()]\n",
    "actors_df = actors_df.dropna(subset=['name'])\n",
    "no_name"
   ],
   "id": "deb18315a671c8ca",
   "outputs": [],
   "execution_count": null
  },
  {
   "metadata": {},
   "cell_type": "code",
   "source": [
    "# Check for duplicate rows\n",
    "print('Duplicated rows:', actors_df.duplicated().sum())\n",
    "actors_duplicates = actors_df[actors_df.duplicated(keep=False)].head(6)\n",
    "\n",
    "# Dropping the duplicates\n",
    "actors_df = actors_df.drop_duplicates()\n",
    "\n",
    "actors_duplicates"
   ],
   "id": "db26c76a56188205",
   "outputs": [],
   "execution_count": null
  },
  {
   "metadata": {},
   "cell_type": "markdown",
   "source": "## Countries",
   "id": "ed6a3442ff25eae8"
  },
  {
   "metadata": {},
   "cell_type": "code",
   "source": [
    "countries_df = pd.read_csv('datasets/countries.csv')\n",
    "countries_df"
   ],
   "id": "ce80a2476a4576c1",
   "outputs": [],
   "execution_count": null
  },
  {
   "metadata": {},
   "cell_type": "code",
   "source": "countries_df.dtypes",
   "id": "37bc9dec1507718e",
   "outputs": [],
   "execution_count": null
  },
  {
   "metadata": {},
   "cell_type": "code",
   "source": [
    "# check for NaN values\n",
    "countries_df.isna().sum()"
   ],
   "id": "c8556e6536adcf83",
   "outputs": [],
   "execution_count": null
  },
  {
   "metadata": {},
   "cell_type": "code",
   "source": [
    "# check for duplicated values\n",
    "countries_df.duplicated().sum()"
   ],
   "id": "38e659593638018d",
   "outputs": [],
   "execution_count": null
  },
  {
   "metadata": {},
   "cell_type": "markdown",
   "source": "## Crew",
   "id": "24edc4892a749039"
  },
  {
   "metadata": {},
   "cell_type": "code",
   "source": [
    "crew_df = pd.read_csv('datasets/crew.csv')\n",
    "crew_df"
   ],
   "id": "a88c911e6dbb612d",
   "outputs": [],
   "execution_count": null
  },
  {
   "metadata": {},
   "cell_type": "code",
   "source": "crew_df.dtypes",
   "id": "f59cb0428c025849",
   "outputs": [],
   "execution_count": null
  },
  {
   "metadata": {},
   "cell_type": "code",
   "source": [
    "# typing columns\n",
    "# crew_df['role'].unique()\n",
    "\n",
    "crew_df['role'] = crew_df['role'].astype('category')"
   ],
   "id": "1591bfef0adaa431",
   "outputs": [],
   "execution_count": null
  },
  {
   "metadata": {},
   "cell_type": "code",
   "source": [
    "# check for NaN values\n",
    "crew_df.isna().sum()\n",
    "crew_df['name'] = crew_df['name'].replace('Unknown', np.nan)"
   ],
   "id": "1dfd8b66e81487c4",
   "outputs": [],
   "execution_count": null
  },
  {
   "metadata": {},
   "cell_type": "code",
   "source": [
    "# check for duplicated values\n",
    "crew_df.duplicated().sum()\n",
    "crew_df[crew_df.duplicated(keep=False)]\n",
    "\n",
    "crew_df = crew_df.drop_duplicates()"
   ],
   "id": "7231e99e1db245a8",
   "outputs": [],
   "execution_count": null
  },
  {
   "metadata": {},
   "cell_type": "markdown",
   "source": "## Genres",
   "id": "b55a82b3deb73d9e"
  },
  {
   "metadata": {},
   "cell_type": "code",
   "source": [
    "genres_df = pd.read_csv('datasets/genres.csv')\n",
    "genres_df"
   ],
   "id": "43a3ee2662d4a7ac",
   "outputs": [],
   "execution_count": null
  },
  {
   "metadata": {},
   "cell_type": "code",
   "source": "genres_df.dtypes",
   "id": "8f16e8215d40053b",
   "outputs": [],
   "execution_count": null
  },
  {
   "metadata": {},
   "cell_type": "code",
   "source": [
    "# check for NaN values\n",
    "genres_df.isna().sum()"
   ],
   "id": "3646eb6aa8a294c3",
   "outputs": [],
   "execution_count": null
  },
  {
   "metadata": {},
   "cell_type": "code",
   "source": [
    "# check for duplicated values\n",
    "genres_df.duplicated().sum()"
   ],
   "id": "f4ab9550c0d65192",
   "outputs": [],
   "execution_count": null
  },
  {
   "metadata": {},
   "cell_type": "markdown",
   "source": "## Posters",
   "id": "86c4322ed5fd0623"
  },
  {
   "metadata": {},
   "cell_type": "code",
   "source": [
    "poster_df = pd.read_csv('datasets/posters.csv')\n",
    "poster_df"
   ],
   "id": "2a6907762e34e2f5",
   "outputs": [],
   "execution_count": null
  },
  {
   "metadata": {},
   "cell_type": "code",
   "source": "poster_df.dtypes",
   "id": "301f6ed84cc0bc75",
   "outputs": [],
   "execution_count": null
  },
  {
   "metadata": {},
   "cell_type": "code",
   "source": [
    "# check for NaN values\n",
    "poster_df.isna().sum()\n",
    "poster_df[poster_df['link'].isna()]\n",
    "\n",
    "poster_df = poster_df.dropna()"
   ],
   "id": "63dcee20ac047ce7",
   "outputs": [],
   "execution_count": null
  },
  {
   "metadata": {},
   "cell_type": "code",
   "source": [
    "# check for duplicated values\n",
    "poster_df.duplicated().sum()"
   ],
   "id": "47c6dd59eb2d0166",
   "outputs": [],
   "execution_count": null
  },
  {
   "metadata": {},
   "cell_type": "markdown",
   "source": "## Releases",
   "id": "4196a42a33f7c016"
  },
  {
   "metadata": {},
   "cell_type": "code",
   "source": [
    "releases_df = pd.read_csv('datasets/releases.csv')\n",
    "releases_df"
   ],
   "id": "58d81bbee758a926",
   "outputs": [],
   "execution_count": null
  },
  {
   "metadata": {},
   "cell_type": "code",
   "source": "releases_df.dtypes",
   "id": "532d17f380f9d16d",
   "outputs": [],
   "execution_count": null
  },
  {
   "metadata": {},
   "cell_type": "code",
   "source": [
    "# typing columns\n",
    "releases_df['date'] = pd.to_datetime(releases_df['date'], format='%Y-%m-%d')\n",
    "\n",
    "releases_df['type'].unique()\n",
    "releases_df['type'] = releases_df['type'].astype('category')"
   ],
   "id": "415d88b436269e09",
   "outputs": [],
   "execution_count": null
  },
  {
   "metadata": {},
   "cell_type": "code",
   "source": [
    "# check for NaN values\n",
    "releases_df.isna().sum()\n",
    "# releases_df[releases_df['date'].str.len() != 10]"
   ],
   "id": "1520521767a42027",
   "outputs": [],
   "execution_count": null
  },
  {
   "metadata": {},
   "cell_type": "code",
   "source": [
    "# check for duplicates values\n",
    "releases_df.duplicated().sum()"
   ],
   "id": "9bd49ddafbd907a9",
   "outputs": [],
   "execution_count": null
  },
  {
   "metadata": {},
   "cell_type": "markdown",
   "source": "## Studios",
   "id": "da81d3e12dc36ea5"
  },
  {
   "metadata": {},
   "cell_type": "code",
   "source": [
    "studios_df = pd.read_csv('datasets/studios.csv')\n",
    "studios_df"
   ],
   "id": "84396a257c71794f",
   "outputs": [],
   "execution_count": null
  },
  {
   "metadata": {},
   "cell_type": "code",
   "source": "studios_df.dtypes",
   "id": "17766a803adc482f",
   "outputs": [],
   "execution_count": null
  },
  {
   "metadata": {},
   "cell_type": "code",
   "source": [
    "# check for NaN values\n",
    "studios_df.isna().sum()\n",
    "studios_df[studios_df['studio'].isna()]\n",
    "\n",
    "studios_df = studios_df.dropna()"
   ],
   "id": "fbb896ee1231f17",
   "outputs": [],
   "execution_count": null
  },
  {
   "metadata": {},
   "cell_type": "code",
   "source": [
    "# check for duplicated values\n",
    "studios_df.duplicated().sum()\n",
    "studios_df[studios_df.duplicated(keep=False)]\n",
    "\n",
    "studios_df = studios_df.drop_duplicates()"
   ],
   "id": "adab9f0cfe764439",
   "outputs": [],
   "execution_count": null
  },
  {
   "metadata": {},
   "cell_type": "markdown",
   "source": "## Themes",
   "id": "9a6b57c450f01c0f"
  },
  {
   "metadata": {},
   "cell_type": "code",
   "source": [
    "themes_df = pd.read_csv('datasets/themes.csv')\n",
    "themes_df"
   ],
   "id": "fbe022bdfd8b0a04",
   "outputs": [],
   "execution_count": null
  },
  {
   "metadata": {},
   "cell_type": "code",
   "source": "themes_df.dtypes",
   "id": "f936ffb1de2fe4bd",
   "outputs": [],
   "execution_count": null
  },
  {
   "metadata": {},
   "cell_type": "code",
   "source": [
    "len(themes_df['theme'].unique())\n",
    "\n",
    "themes_df['theme'].unique()"
   ],
   "id": "13ad053293c1ffd2",
   "outputs": [],
   "execution_count": null
  },
  {
   "metadata": {},
   "cell_type": "code",
   "source": [
    "# check for NaN values\n",
    "themes_df.isna().sum()"
   ],
   "id": "2084d91873e547a3",
   "outputs": [],
   "execution_count": null
  },
  {
   "metadata": {},
   "cell_type": "code",
   "source": [
    "# check for duplicated values\n",
    "themes_df.duplicated().sum()"
   ],
   "id": "ab2b77ce8ed56bcd",
   "outputs": [],
   "execution_count": null
  },
  {
   "metadata": {},
   "cell_type": "markdown",
   "source": "## The Oscar Awards",
   "id": "8239b51a28a377ba"
  },
  {
   "metadata": {},
   "cell_type": "code",
   "source": [
    "oscars_df = pd.read_csv('datasets/the_oscar_awards.csv')\n",
    "oscars_df"
   ],
   "id": "90562049b2b05eb1",
   "outputs": [],
   "execution_count": null
  },
  {
   "metadata": {},
   "cell_type": "code",
   "source": "oscars_df.dtypes",
   "id": "36ae83bf8011e711",
   "outputs": [],
   "execution_count": null
  },
  {
   "metadata": {},
   "cell_type": "code",
   "source": [
    "# typing columns\n",
    "oscars_df['ceremony'].unique()\n",
    "\n",
    "# year_film always <= year_ceremony\n",
    "# oscars_df[oscars_df['year_film'] > oscars_df['year_ceremony']]\n",
    "\n",
    "oscars_df['category'] = oscars_df['category'].astype('category')"
   ],
   "id": "bd61632afb506e99",
   "outputs": [],
   "execution_count": null
  },
  {
   "metadata": {},
   "cell_type": "code",
   "source": [
    "# check for NaN values\n",
    "oscars_df.isna().sum()\n",
    "\n",
    "oscars_df[oscars_df['category'] == \"JEAN HERSHOLT HUMANITARIAN AWARD\"]"
   ],
   "id": "307b81116fc86d32",
   "outputs": [],
   "execution_count": null
  },
  {
   "metadata": {},
   "cell_type": "code",
   "source": [
    "# check for duplicated values\n",
    "oscars_df.duplicated().sum()\n",
    "\n",
    "oscars_df[oscars_df.duplicated(keep=False)]"
   ],
   "id": "17006996a9aa1b24",
   "outputs": [],
   "execution_count": null
  },
  {
   "metadata": {},
   "cell_type": "markdown",
   "source": "## Rotten Tomatoes Reviews",
   "id": "9987f1ea66215e6e"
  },
  {
   "metadata": {},
   "cell_type": "code",
   "source": [
    "reviews_df = pd.read_csv('datasets/rotten_tomatoes_reviews.csv')\n",
    "reviews_df"
   ],
   "id": "a034e62862b0698",
   "outputs": [],
   "execution_count": null
  },
  {
   "metadata": {},
   "cell_type": "code",
   "source": "reviews_df.dtypes",
   "id": "40ad7ccbbcf0d1ba",
   "outputs": [],
   "execution_count": null
  },
  {
   "metadata": {},
   "cell_type": "code",
   "source": [
    "# typing columns\n",
    "reviews_df[\"review_type\"] = reviews_df[\"review_type\"].astype('category')\n",
    "\n",
    "reviews_df[\"review_date\"] = pd.to_datetime(reviews_df[\"review_date\"], format='%Y-%m-%d')"
   ],
   "id": "2291b484257ea9d3",
   "outputs": [],
   "execution_count": null
  },
  {
   "metadata": {},
   "cell_type": "code",
   "source": [
    "# rename columns\n",
    "reviews_df = reviews_df.rename(columns={'review_type': 'type', 'review_score': 'score', 'review_date': 'date', 'review_content': 'content'})"
   ],
   "id": "f35d276353417a37",
   "outputs": [],
   "execution_count": null
  },
  {
   "metadata": {},
   "cell_type": "code",
   "source": [
    "# check for NaN values\n",
    "reviews_df.isna().sum()"
   ],
   "id": "507ec35f28e248b9",
   "outputs": [],
   "execution_count": null
  },
  {
   "metadata": {},
   "cell_type": "code",
   "source": [
    "# check for duplicated values\n",
    "reviews_df.duplicated().sum()\n",
    "\n",
    "reviews_df = reviews_df.drop_duplicates()"
   ],
   "id": "957a4ddfb06f5615",
   "outputs": [],
   "execution_count": null
  }
 ],
 "metadata": {
  "kernelspec": {
   "display_name": "Python 3",
   "language": "python",
   "name": "python3"
  },
  "language_info": {
   "codemirror_mode": {
    "name": "ipython",
    "version": 2
   },
   "file_extension": ".py",
   "mimetype": "text/x-python",
   "name": "python",
   "nbconvert_exporter": "python",
   "pygments_lexer": "ipython2",
   "version": "2.7.6"
  }
 },
 "nbformat": 4,
 "nbformat_minor": 5
}
