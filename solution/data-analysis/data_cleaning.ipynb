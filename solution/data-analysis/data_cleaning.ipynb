{
 "cells": [
  {
   "metadata": {},
   "cell_type": "markdown",
   "source": "# Data Cleaning",
   "id": "1ada8e0800af80f"
  },
  {
   "cell_type": "code",
   "id": "initial_id",
   "metadata": {
    "collapsed": true
   },
   "source": [
    "import pandas as pd\n",
    "import numpy as np\n",
    "\n",
    "pd.options.mode.chained_assignment = None"
   ],
   "outputs": [],
   "execution_count": null
  },
  {
   "metadata": {},
   "cell_type": "markdown",
   "source": "## Movies",
   "id": "3535d2e877d218a5"
  },
  {
   "metadata": {},
   "cell_type": "code",
   "source": [
    "movies_df = pd.read_csv('datasets/movies.csv')\n",
    "movies_df"
   ],
   "id": "bfa523a3d71aa334",
   "outputs": [],
   "execution_count": null
  },
  {
   "metadata": {},
   "cell_type": "code",
   "source": "movies_df.dtypes",
   "id": "f25edf3b61586308",
   "outputs": [],
   "execution_count": null
  },
  {
   "metadata": {},
   "cell_type": "code",
   "source": "movies_df.shape",
   "id": "66353feb2d15e0c1",
   "outputs": [],
   "execution_count": null
  },
  {
   "metadata": {},
   "cell_type": "code",
   "source": "movies_df[movies_df.isna().any(axis=1)]",
   "id": "92ec1ff74b506e2f",
   "outputs": [],
   "execution_count": null
  },
  {
   "metadata": {},
   "cell_type": "code",
   "source": "movies_df.isna().sum()",
   "id": "943d34788f840a4c",
   "outputs": [],
   "execution_count": null
  },
  {
   "metadata": {},
   "cell_type": "code",
   "source": [
    "# removing NaN 'name' records\n",
    "movies_df = movies_df[movies_df['name'].notna()]"
   ],
   "id": "e64b09d17cd6ac6f",
   "outputs": [],
   "execution_count": null
  },
  {
   "metadata": {},
   "cell_type": "code",
   "source": [
    "# check if 'id' column have duplicate values\n",
    "movies_df[movies_df[\"id\"].duplicated()].shape[0]"
   ],
   "id": "903dbbf0e5d08f7c",
   "outputs": [],
   "execution_count": null
  },
  {
   "metadata": {},
   "cell_type": "code",
   "source": [
    "# then set index as id\n",
    "movies_df.set_index(\"id\", inplace=True)"
   ],
   "id": "e490e8be2bcd79b6",
   "outputs": [],
   "execution_count": null
  },
  {
   "metadata": {},
   "cell_type": "code",
   "source": [
    "# typing columns\n",
    "\n",
    "# check if necessary\n",
    "# movies_df['name'] = movies_df['name'].astype('string')\n",
    "# movies_df['tagline'] = movies_df['tagline'].astype('string')\n",
    "# movies_df['description'] = movies_df['description'].astype('string')\n",
    "\n",
    "movies_df['date'] = movies_df['date'].astype('Int64')\n",
    "\n",
    "movies_df['minute'] = movies_df['minute'].astype('Int64')"
   ],
   "id": "b859e3726529609e",
   "outputs": [],
   "execution_count": null
  },
  {
   "metadata": {},
   "cell_type": "code",
   "source": [
    "# rename columns\n",
    "movies_df.rename(columns={'minute': 'duration_in_minutes', 'date': 'release_year'}, inplace=True)"
   ],
   "id": "d65bc3bdb87e53fe",
   "outputs": [],
   "execution_count": null
  },
  {
   "metadata": {},
   "cell_type": "markdown",
   "source": "## Languages",
   "id": "8f0b9a430d101b37"
  },
  {
   "metadata": {},
   "cell_type": "code",
   "source": [
    "lang_df = pd.read_csv('datasets/languages.csv')\n",
    "lang_df"
   ],
   "id": "fd8e821868e23834",
   "outputs": [],
   "execution_count": null
  },
  {
   "metadata": {},
   "cell_type": "code",
   "source": "lang_df.dtypes",
   "id": "a75cc482a4a9e58f",
   "outputs": [],
   "execution_count": null
  },
  {
   "metadata": {},
   "cell_type": "code",
   "source": [
    "# check NaN values\n",
    "lang_df.isna().sum()"
   ],
   "id": "e9beb77f2bec1fd8",
   "outputs": [],
   "execution_count": null
  },
  {
   "metadata": {},
   "cell_type": "code",
   "source": [
    "# typing columns\n",
    "lang_df['type'] = lang_df['type'].astype('category')\n",
    "lang_df['type'].unique()"
   ],
   "id": "9f395fe64e995870",
   "outputs": [],
   "execution_count": null
  },
  {
   "metadata": {},
   "cell_type": "code",
   "source": [
    "# check for duplicate values\n",
    "lang_df.duplicated().sum()"
   ],
   "id": "df1df599b18fb36d",
   "outputs": [],
   "execution_count": null
  },
  {
   "metadata": {},
   "cell_type": "markdown",
   "source": "## Actors",
   "id": "f9ebbf4c27dcb25e"
  },
  {
   "metadata": {},
   "cell_type": "code",
   "source": [
    "actors_df = pd.read_csv('datasets/actors.csv')\n",
    "actors_df"
   ],
   "id": "29b93334077ab162",
   "outputs": [],
   "execution_count": null
  },
  {
   "metadata": {},
   "cell_type": "code",
   "source": "actors_df.dtypes",
   "id": "e61ee0ab68247d2a",
   "outputs": [],
   "execution_count": null
  },
  {
   "metadata": {},
   "cell_type": "code",
   "source": [
    "# check NaN values\n",
    "actors_df.isna().sum()"
   ],
   "id": "3833716afd294027",
   "outputs": [],
   "execution_count": null
  },
  {
   "metadata": {},
   "cell_type": "code",
   "source": [
    "# check duplicated values\n",
    "\n",
    "actors_df.duplicated().sum()\n",
    "actors_df = actors_df.drop_duplicates()\n",
    "\n",
    "actors_df[actors_df['role'].isna()].duplicated(subset=['id', 'name']).sum()"
   ],
   "id": "db26c76a56188205",
   "outputs": [],
   "execution_count": null
  },
  {
   "metadata": {},
   "cell_type": "code",
   "source": [
    "# removing name NaN\n",
    "actors_df = actors_df.dropna(subset=['name'])"
   ],
   "id": "8f7041e7edd93125",
   "outputs": [],
   "execution_count": null
  },
  {
   "metadata": {},
   "cell_type": "markdown",
   "source": "## Countries",
   "id": "ed6a3442ff25eae8"
  },
  {
   "metadata": {},
   "cell_type": "code",
   "source": [
    "countries_df = pd.read_csv('datasets/countries.csv')\n",
    "countries_df"
   ],
   "id": "ce80a2476a4576c1",
   "outputs": [],
   "execution_count": null
  },
  {
   "metadata": {},
   "cell_type": "code",
   "source": "countries_df.dtypes",
   "id": "37bc9dec1507718e",
   "outputs": [],
   "execution_count": null
  },
  {
   "metadata": {},
   "cell_type": "code",
   "source": [
    "# check for NaN values\n",
    "countries_df.isna().sum()"
   ],
   "id": "c8556e6536adcf83",
   "outputs": [],
   "execution_count": null
  },
  {
   "metadata": {},
   "cell_type": "code",
   "source": [
    "# check for duplicated values\n",
    "countries_df.duplicated().sum()"
   ],
   "id": "38e659593638018d",
   "outputs": [],
   "execution_count": null
  },
  {
   "metadata": {},
   "cell_type": "markdown",
   "source": "## Crew",
   "id": "24edc4892a749039"
  },
  {
   "metadata": {},
   "cell_type": "code",
   "source": [
    "crew_df = pd.read_csv('datasets/crew.csv')\n",
    "crew_df"
   ],
   "id": "a88c911e6dbb612d",
   "outputs": [],
   "execution_count": null
  },
  {
   "metadata": {},
   "cell_type": "code",
   "source": "crew_df.dtypes",
   "id": "f59cb0428c025849",
   "outputs": [],
   "execution_count": null
  },
  {
   "metadata": {},
   "cell_type": "code",
   "source": [
    "# typing columns\n",
    "# crew_df['role'].unique()\n",
    "\n",
    "crew_df['role'] = crew_df['role'].astype('category')"
   ],
   "id": "1591bfef0adaa431",
   "outputs": [],
   "execution_count": null
  },
  {
   "metadata": {},
   "cell_type": "code",
   "source": [
    "# check for NaN values\n",
    "crew_df.isna().sum()\n",
    "crew_df['name'] = crew_df['name'].replace('Unknown', np.nan)"
   ],
   "id": "1dfd8b66e81487c4",
   "outputs": [],
   "execution_count": null
  },
  {
   "metadata": {},
   "cell_type": "code",
   "source": [
    "# check for duplicated values\n",
    "crew_df.duplicated().sum()\n",
    "crew_df[crew_df.duplicated(keep=False)]\n",
    "\n",
    "crew_df = crew_df.drop_duplicates()"
   ],
   "id": "7231e99e1db245a8",
   "outputs": [],
   "execution_count": null
  },
  {
   "metadata": {},
   "cell_type": "markdown",
   "source": "## Genres",
   "id": "b55a82b3deb73d9e"
  },
  {
   "metadata": {},
   "cell_type": "code",
   "source": [
    "genres_df = pd.read_csv('datasets/genres.csv')\n",
    "genres_df"
   ],
   "id": "43a3ee2662d4a7ac",
   "outputs": [],
   "execution_count": null
  },
  {
   "metadata": {},
   "cell_type": "code",
   "source": "genres_df.dtypes",
   "id": "8f16e8215d40053b",
   "outputs": [],
   "execution_count": null
  },
  {
   "metadata": {},
   "cell_type": "code",
   "source": [
    "# check for NaN values\n",
    "genres_df.isna().sum()"
   ],
   "id": "3646eb6aa8a294c3",
   "outputs": [],
   "execution_count": null
  },
  {
   "metadata": {},
   "cell_type": "code",
   "source": [
    "# check for duplicated values\n",
    "genres_df.duplicated().sum()"
   ],
   "id": "f4ab9550c0d65192",
   "outputs": [],
   "execution_count": null
  },
  {
   "metadata": {},
   "cell_type": "markdown",
   "source": "## Posters",
   "id": "86c4322ed5fd0623"
  },
  {
   "metadata": {},
   "cell_type": "code",
   "source": [
    "poster_df = pd.read_csv('datasets/posters.csv')\n",
    "poster_df"
   ],
   "id": "2a6907762e34e2f5",
   "outputs": [],
   "execution_count": null
  },
  {
   "metadata": {},
   "cell_type": "code",
   "source": "poster_df.dtypes",
   "id": "301f6ed84cc0bc75",
   "outputs": [],
   "execution_count": null
  },
  {
   "metadata": {},
   "cell_type": "code",
   "source": [
    "# check for NaN values\n",
    "poster_df.isna().sum()\n",
    "poster_df[poster_df['link'].isna()]\n",
    "\n",
    "poster_df = poster_df.dropna()"
   ],
   "id": "63dcee20ac047ce7",
   "outputs": [],
   "execution_count": null
  },
  {
   "metadata": {},
   "cell_type": "code",
   "source": [
    "# check for duplicated values\n",
    "poster_df.duplicated().sum()"
   ],
   "id": "47c6dd59eb2d0166",
   "outputs": [],
   "execution_count": null
  },
  {
   "metadata": {},
   "cell_type": "markdown",
   "source": "## Releases",
   "id": "4196a42a33f7c016"
  },
  {
   "metadata": {},
   "cell_type": "code",
   "source": [
    "releases_df = pd.read_csv('datasets/releases.csv')\n",
    "releases_df"
   ],
   "id": "58d81bbee758a926",
   "outputs": [],
   "execution_count": null
  },
  {
   "metadata": {},
   "cell_type": "code",
   "source": "releases_df.dtypes",
   "id": "532d17f380f9d16d",
   "outputs": [],
   "execution_count": null
  },
  {
   "metadata": {},
   "cell_type": "code",
   "source": [
    "# typing columns\n",
    "releases_df['date'] = pd.to_datetime(releases_df['date'], format='%Y-%m-%d')\n",
    "\n",
    "releases_df['type'].unique()\n",
    "releases_df['type'] = releases_df['type'].astype('category')"
   ],
   "id": "415d88b436269e09",
   "outputs": [],
   "execution_count": null
  },
  {
   "metadata": {},
   "cell_type": "code",
   "source": [
    "# check for NaN values\n",
    "releases_df.isna().sum()\n",
    "# releases_df[releases_df['date'].str.len() != 10]"
   ],
   "id": "1520521767a42027",
   "outputs": [],
   "execution_count": null
  },
  {
   "metadata": {},
   "cell_type": "code",
   "source": [
    "# check for duplicates values\n",
    "releases_df.duplicated().sum()"
   ],
   "id": "9bd49ddafbd907a9",
   "outputs": [],
   "execution_count": null
  },
  {
   "metadata": {},
   "cell_type": "markdown",
   "source": "## Studios",
   "id": "da81d3e12dc36ea5"
  },
  {
   "metadata": {},
   "cell_type": "code",
   "source": [
    "studios_df = pd.read_csv('datasets/studios.csv')\n",
    "studios_df"
   ],
   "id": "84396a257c71794f",
   "outputs": [],
   "execution_count": null
  },
  {
   "metadata": {},
   "cell_type": "code",
   "source": "studios_df.dtypes",
   "id": "17766a803adc482f",
   "outputs": [],
   "execution_count": null
  },
  {
   "metadata": {},
   "cell_type": "code",
   "source": [
    "# check for NaN values\n",
    "studios_df.isna().sum()\n",
    "studios_df[studios_df['studio'].isna()]\n",
    "\n",
    "studios_df = studios_df.dropna()"
   ],
   "id": "fbb896ee1231f17",
   "outputs": [],
   "execution_count": null
  },
  {
   "metadata": {},
   "cell_type": "code",
   "source": [
    "# check for duplicated values\n",
    "studios_df.duplicated().sum()\n",
    "studios_df[studios_df.duplicated(keep=False)]\n",
    "\n",
    "studios_df = studios_df.drop_duplicates()"
   ],
   "id": "adab9f0cfe764439",
   "outputs": [],
   "execution_count": null
  },
  {
   "metadata": {},
   "cell_type": "markdown",
   "source": "## Themes",
   "id": "9a6b57c450f01c0f"
  },
  {
   "metadata": {},
   "cell_type": "code",
   "source": [
    "themes_df = pd.read_csv('datasets/themes.csv')\n",
    "themes_df"
   ],
   "id": "fbe022bdfd8b0a04",
   "outputs": [],
   "execution_count": null
  },
  {
   "metadata": {},
   "cell_type": "code",
   "source": "themes_df.dtypes",
   "id": "f936ffb1de2fe4bd",
   "outputs": [],
   "execution_count": null
  },
  {
   "metadata": {},
   "cell_type": "code",
   "source": [
    "len(themes_df['theme'].unique())\n",
    "\n",
    "themes_df['theme'].unique()"
   ],
   "id": "13ad053293c1ffd2",
   "outputs": [],
   "execution_count": null
  },
  {
   "metadata": {},
   "cell_type": "code",
   "source": [
    "# check for NaN values\n",
    "themes_df.isna().sum()"
   ],
   "id": "2084d91873e547a3",
   "outputs": [],
   "execution_count": null
  },
  {
   "metadata": {},
   "cell_type": "code",
   "source": [
    "# check for duplicated values\n",
    "themes_df.duplicated().sum()"
   ],
   "id": "ab2b77ce8ed56bcd",
   "outputs": [],
   "execution_count": null
  },
  {
   "metadata": {},
   "cell_type": "markdown",
   "source": "## The Oscar Awards",
   "id": "8239b51a28a377ba"
  },
  {
   "metadata": {},
   "cell_type": "code",
   "source": [
    "oscars_df = pd.read_csv('datasets/the_oscar_awards.csv')\n",
    "oscars_df"
   ],
   "id": "90562049b2b05eb1",
   "outputs": [],
   "execution_count": null
  },
  {
   "metadata": {},
   "cell_type": "code",
   "source": "oscars_df.dtypes",
   "id": "36ae83bf8011e711",
   "outputs": [],
   "execution_count": null
  },
  {
   "metadata": {},
   "cell_type": "code",
   "source": [
    "# typing columns\n",
    "oscars_df['ceremony'].unique()\n",
    "\n",
    "# year_film always <= year_ceremony\n",
    "# oscars_df[oscars_df['year_film'] > oscars_df['year_ceremony']]\n",
    "\n",
    "oscars_df['category'] = oscars_df['category'].astype('category')"
   ],
   "id": "bd61632afb506e99",
   "outputs": [],
   "execution_count": null
  },
  {
   "metadata": {},
   "cell_type": "code",
   "source": [
    "# check for NaN values\n",
    "oscars_df.isna().sum()\n",
    "\n",
    "oscars_df[oscars_df['category'] == \"JEAN HERSHOLT HUMANITARIAN AWARD\"]"
   ],
   "id": "307b81116fc86d32",
   "outputs": [],
   "execution_count": null
  },
  {
   "metadata": {},
   "cell_type": "code",
   "source": [
    "# check for duplicated values\n",
    "oscars_df.duplicated().sum()\n",
    "\n",
    "oscars_df[oscars_df.duplicated(keep=False)]"
   ],
   "id": "17006996a9aa1b24",
   "outputs": [],
   "execution_count": null
  },
  {
   "metadata": {},
   "cell_type": "markdown",
   "source": "## Rotten Tomatoes Reviews",
   "id": "9987f1ea66215e6e"
  },
  {
   "metadata": {},
   "cell_type": "code",
   "source": [
    "reviews_df = pd.read_csv('datasets/rotten_tomatoes_reviews.csv')\n",
    "reviews_df"
   ],
   "id": "a034e62862b0698",
   "outputs": [],
   "execution_count": null
  },
  {
   "metadata": {},
   "cell_type": "code",
   "source": "reviews_df.dtypes",
   "id": "40ad7ccbbcf0d1ba",
   "outputs": [],
   "execution_count": null
  },
  {
   "metadata": {},
   "cell_type": "code",
   "source": [
    "# typing columns\n",
    "reviews_df[\"review_type\"] = reviews_df[\"review_type\"].astype('category')\n",
    "\n",
    "reviews_df[\"review_date\"] = pd.to_datetime(reviews_df[\"review_date\"], format='%Y-%m-%d')"
   ],
   "id": "2291b484257ea9d3",
   "outputs": [],
   "execution_count": null
  },
  {
   "metadata": {},
   "cell_type": "code",
   "source": [
    "# rename columns\n",
    "reviews_df = reviews_df.rename(columns={'review_type': 'type', 'review_score': 'score', 'review_date': 'date', 'review_content': 'content'})"
   ],
   "id": "f35d276353417a37",
   "outputs": [],
   "execution_count": null
  },
  {
   "metadata": {},
   "cell_type": "code",
   "source": [
    "# check for NaN values\n",
    "reviews_df.isna().sum()"
   ],
   "id": "507ec35f28e248b9",
   "outputs": [],
   "execution_count": null
  },
  {
   "metadata": {},
   "cell_type": "code",
   "source": [
    "# check for duplicated values\n",
    "reviews_df.duplicated().sum()\n",
    "\n",
    "reviews_df = reviews_df.drop_duplicates()"
   ],
   "id": "957a4ddfb06f5615",
   "outputs": [],
   "execution_count": null
  }
 ],
 "metadata": {
  "kernelspec": {
   "display_name": "Python 3",
   "language": "python",
   "name": "python3"
  },
  "language_info": {
   "codemirror_mode": {
    "name": "ipython",
    "version": 2
   },
   "file_extension": ".py",
   "mimetype": "text/x-python",
   "name": "python",
   "nbconvert_exporter": "python",
   "pygments_lexer": "ipython2",
   "version": "2.7.6"
  }
 },
 "nbformat": 4,
 "nbformat_minor": 5
}
