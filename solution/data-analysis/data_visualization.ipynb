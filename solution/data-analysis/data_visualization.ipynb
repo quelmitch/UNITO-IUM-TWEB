{
 "cells": [
  {
   "cell_type": "markdown",
   "id": "3b59960931092253",
   "metadata": {},
   "source": [
    "# Data Visualization\n",
    "# 1. Introduction\n",
    "## Dataset Description\n",
    "This Jupyter Notebook explores a dataset centered around movies, organized into three main components:\n",
    "1. **The Movie Dataset**: This dataset provides detailed information about individual films. It is fragmented into multiple dataframes that are linked through a unique movie identifier key.\n",
    "2. **The Oscar Awards Datasets**: This dataset contains comprehensive records of every nomination and winner since the first ceremony of the Oscars.\n",
    "3. **The Rotten Tomatoes Review Dataset**: This dataset focuses on the reception of movies by critics, with data sourced from the review aggregator Rotten Tomatoes.\n",
    "\n",
    "The Movie, the Oscar and Review datasets are not interconnected because they lack a shared unique identifier for movies. This happens because these datasets originate from entirely separate sources.<br>\n",
    "Consequently, analyzing and visualizing the data presents additional challenges, as there is limited information available to effectively correlate a movie's performance and success.\n",
    "\n",
    "## Methodology\n",
    "The analysis follows a structured methodology which includes the following steps\n",
    "1. **Introduction**: A brief introduction to the objective of the analysis.\n",
    "2. **Prediction**: For the *In-Depth Visualization* the analysts will develop hypothesis and prediction to encourage critical thinking and expose common misconceptions.\n",
    "3. **Analysis and Visualization**: Conducting *Simple* and *In-Depth* exploration of the datasets to identify patterns, trends, and relationships. Creating meaningful and creative visual representations of the data to enhance understanding and interpretation.\n",
    "4. **Conclusion**: Summarizing findings and deriving insights from the analysis and visualizations and comparing them with the previous hypothesis.\n",
    "\n",
    "## Visualization Technologies\n",
    "A variety of Python libraries are employed to create both static, dynamic, interactive and geographic visualizations. The following libraries are used:\n",
    "- **Plotly**: For creating interactive and dynamic plots.\n",
    "- **Geopandas**: For handling and visualizing geographic data.\n",
    "- **Seaborn**: For generating aesthetically pleasing statistical graphics.\n",
    "- **Matplotlib**: For static visualizations.\n",
    "- **Folium**: For creating interactive maps and geographic visualizations.\n",
    "\n",
    "These tools enable a diverse range of visualization techniques, enhancing the ability to explore and interpret the data effectively."
   ]
  },
  {
   "cell_type": "code",
   "id": "6f0633cd345f0e20",
   "metadata": {},
   "source": [
    "import pandas as pd\n",
    "import numpy as np\n",
    "import matplotlib.pyplot as plt\n",
    "import seaborn as sns\n",
    "import geopandas as gpd\n",
    "import folium as fm\n",
    "import plotly.express as px\n",
    "import plotly.graph_objects as go\n",
    "\n",
    "# to evaluate the use\n",
    "from wordcloud import WordCloud"
   ],
   "outputs": [],
   "execution_count": null
  },
  {
   "cell_type": "markdown",
   "id": "506753f24915e449",
   "metadata": {},
   "source": [
    "# 2. Exploratory Data Analysis (EDA)"
   ]
  },
  {
   "metadata": {},
   "cell_type": "markdown",
   "source": "### *Mapping the Silver Screen*: A Geographical and Temporal Analysis",
   "id": "5952d7964c9e0870"
  },
  {
   "cell_type": "markdown",
   "id": "123ca701b4bf28de",
   "metadata": {},
   "source": [
    "***Why is it useful to know?***\n",
    "<br> Analyzing the geographical and temporal distribution of movie production helps to understand how data is spread across different locations and over time.\n",
    "By analyzing these patterns, we can improve our understanding of trends, regional differences, and the evolution of the global film industry.\n",
    "\n",
    "***Prediction***\n",
    "<br> Movie production will most likely increase gradually over the years, with major global producers such as the United States and India likely playing leading roles in this trend."
   ]
  },
  {
   "cell_type": "code",
   "id": "2e2b96f907eeec9b",
   "metadata": {},
   "source": [
    "movies_df = pd.read_csv('clean_datasets/movies.csv')\n",
    "countries_df = pd.read_csv('clean_datasets/countries.csv')\n",
    "\n",
    "df = pd.merge(movies_df, countries_df, left_on='id', right_on='movie_id')\n",
    "\n",
    "df = df.dropna(subset=[\"release_year\"])\n",
    "df = df.set_index(\"id\")\n",
    "df = df[df['release_year'] <= 2023]"
   ],
   "outputs": [],
   "execution_count": null
  },
  {
   "metadata": {},
   "cell_type": "code",
   "source": "movie_counts = df.groupby(['release_year', 'country']).size().reset_index(name='movie_count')",
   "id": "6a0c5fd0a85305dd",
   "outputs": [],
   "execution_count": null
  },
  {
   "metadata": {},
   "cell_type": "markdown",
   "source": [
    "***Analysis of the Procedure***\n",
    "\n",
    "1. *Loading the Datasets*:\n",
    "   The datasets containing information on movies and countries were loaded using Pandas.\n",
    "\n",
    "2. *Merging Datasets*:\n",
    "   The `movies_df` and `countries_df` were merged on the `id` and `movie_id` columns to create a unified dataset.\n",
    "\n",
    "3. *Cleaning the Data*:\n",
    "   - Rows with missing `release_year` were removed.\n",
    "   - The dataset was filtered to include only movies released up to 2023, as the dataset is not updated beyond that year.\n",
    "<br> <br>\n",
    "4. *Grouping and Counting*:\n",
    "   The cleaned dataset was grouped by `release_year` and `country` to count the number of movies produced each year in each country."
   ],
   "id": "721169528aa34b52"
  },
  {
   "cell_type": "code",
   "id": "649905865590a8dd",
   "metadata": {},
   "source": [
    "fig = (px.choropleth(movie_counts,\n",
    "                     locations='country', # Country names in the 'country' column\n",
    "                     color='movie_count', # Number of movies per country\n",
    "                     hover_name='country',\n",
    "                     color_continuous_scale=\"Viridis\",\n",
    "                     title=\"Number of Movies Produced by Country Over Time\",\n",
    "                     labels={'movie_count': 'Number of Movies'},\n",
    "                     locationmode=\"country names\", # Ensure matching by country names\n",
    "                     animation_frame=\"release_year\", # Animate by release year\n",
    "                     animation_group=\"country\", # Group by country during animation\n",
    "                     template=\"plotly_dark\")\n",
    "       .update_layout(\n",
    "           width=1000,\n",
    "           height=600,\n",
    "           title={'x': 0.5, 'xanchor': 'center', 'y': 0.95}\n",
    "       )\n",
    "       .show())"
   ],
   "outputs": [],
   "execution_count": null
  },
  {
   "metadata": {},
   "cell_type": "markdown",
   "source": [
    "***Conclusions***\n",
    "\n",
    "As expected, movie production increased over the years, with the United States and India playing fundamental roles in this evolution of the film industry. The limited number of movies viewable at the start of the choropleth animation is likely attributable to the accuracy and completeness of the dataset."
   ],
   "id": "afde442284ae7c3c"
  },
  {
   "metadata": {},
   "cell_type": "markdown",
   "source": "### *The Studio Power Play*: Studio Dominance Across Film Genres",
   "id": "ff2e791d0b176bc2"
  },
  {
   "metadata": {},
   "cell_type": "markdown",
   "source": [
    "***Why is it useful to know?***\n",
    "<br> Understanding the dominance of specific studios within each genre helps reveal trends in studio specialization. By identifying which studios are most active in particular genres, this analysis provides valuable insights into how different studios influence the film industry.\n",
    "\n",
    "***Prediction***\n",
    "<br> Given the presence of major studios like BBC and Warner Bros. Pictures in the database, it's likely that certain studios will dominate specific genres. It's also highly probable that the same studio will appear in multiple genres."
   ],
   "id": "f34d68f2484e496b"
  },
  {
   "metadata": {},
   "cell_type": "code",
   "source": [
    "studios_df = pd.read_csv('clean_datasets/studios.csv')\n",
    "genres_df = pd.read_csv('clean_datasets/genres.csv')\n",
    "\n",
    "df = pd.merge(studios_df, genres_df, left_on='movie_id', right_on='movie_id')"
   ],
   "id": "36b6711b7968c0d2",
   "outputs": [],
   "execution_count": null
  },
  {
   "cell_type": "code",
   "id": "8f0053bc937b8110",
   "metadata": {},
   "source": [
    "studio_genre_counts = df.groupby(['studio', 'genre']).size().reset_index(name='movie_count')\n",
    "\n",
    "top_studios_per_genre = (\n",
    "    studio_genre_counts\n",
    "    .sort_values(\n",
    "        by=['genre', 'movie_count'],\n",
    "        ascending=[True, False])\n",
    "    .groupby('genre')\n",
    "    .head(10)\n",
    ")\n",
    "\n",
    "top_studios_per_genre['rank'] = top_studios_per_genre.groupby('genre')['movie_count'].rank(method='first', ascending=False)"
   ],
   "outputs": [],
   "execution_count": null
  },
  {
   "metadata": {},
   "cell_type": "markdown",
   "source": [
    "***Analysis of the Procedure***\n",
    "1. *Loading the Datasets*:\n",
    "   The datasets containing information about studios and genres were loaded using Pandas.\n",
    "\n",
    "2. *Merging the Datasets*:\n",
    "   The `studios_df` and `genres_df` datasets were merged on the `movie_id` column to associate each movie with its respective studio and genre.\n",
    "\n",
    "3. *Counting Movies by Studio and Genre*:\n",
    "   The dataset was grouped by both `studio` and `genre` to count the number of movies each studio produced within each genre.\n",
    "\n",
    "4. *Selecting Top Studios*:\n",
    "   The data was sorted by `genre` and `movie_count`, and the top 10 studios (only relevant data to make a readable plot) producing the most movies in each genre were selected.\n",
    "\n",
    "5. *Ranking the Studios*:\n",
    "   A rank was assigned to the studios within each genre based on the number of movies they produced."
   ],
   "id": "76210853e41e2c87"
  },
  {
   "cell_type": "code",
   "id": "3788b03e5e962d3a",
   "metadata": {},
   "source": [
    "fig = px.treemap(\n",
    "    top_studios_per_genre,\n",
    "    path=['genre', 'studio'],\n",
    "    values='movie_count',\n",
    "    color='movie_count',\n",
    "    color_continuous_scale='Viridis',\n",
    "    title='Top 10 Dominant Studio for Each Genre'\n",
    ")\n",
    "fig.update_traces(textinfo='label+value', marker=dict(cornerradius=3))\n",
    "fig.update_layout(\n",
    "    coloraxis_colorbar=dict(title=\"Number of Movies\"),\n",
    "    height=600,\n",
    "    title={'x': 0.5, 'xanchor': 'center', 'y': 0.95})\n",
    "fig.show()"
   ],
   "outputs": [],
   "execution_count": null
  },
  {
   "metadata": {},
   "cell_type": "markdown",
   "source": [
    "***Conclusions***\n",
    "<br> In line with our expectations, studios such as BBC in Drama and Warner Bros. Pictures in Comedy have shown a strong presence. In addition, studios such as Paramount, Toei Company and BBC itself are found in different genres."
   ],
   "id": "398d0f5f66c5235f"
  },
  {
   "metadata": {},
   "cell_type": "markdown",
   "source": "### *Genre Giants*: Analysis of the Most Frequent Genres",
   "id": "3e64648faadf6d9f"
  },
  {
   "metadata": {},
   "cell_type": "markdown",
   "source": [
    "***Why is it userful to know?***\n",
    "<br> Identifying the most popular movie genres in the dataset reveals which types of films are most commonly produced, providing insights into historical production trends and audience preferences.\n",
    "\n",
    "***Prediction***\n",
    "<br> Making predictions based on the data can be challenging, as during the data cleaning phase, we discovered that the dataset also includes TV series, documentaries, and short films. This diversity of content types may introduce inconsistencies, making it difficult to draw clear conclusions or forecast future trends."
   ],
   "id": "7ced5ca2b687e1a"
  },
  {
   "cell_type": "code",
   "id": "ee912f3b88084310",
   "metadata": {},
   "source": "genres_df = pd.read_csv('clean_datasets/genres.csv')",
   "outputs": [],
   "execution_count": null
  },
  {
   "metadata": {},
   "cell_type": "code",
   "source": [
    "genre_movies = genres_df['genre'].value_counts().reset_index(name='movie_count')\n",
    "\n",
    "genre_dict = genre_movies.set_index('genre')['movie_count'].to_dict()"
   ],
   "id": "996e23a0c261f565",
   "outputs": [],
   "execution_count": null
  },
  {
   "metadata": {},
   "cell_type": "markdown",
   "source": [
    "***Analysis of the Procedure***\n",
    "\n",
    "1. *Loading the Dataset*:\n",
    "   The dataset containing information about genres was loaded using Pandas.\n",
    "\n",
    "2. *Counting genre occurrences*:\n",
    "   The occurrences of each genre were counted using the `value_counts()` function.\n",
    "\n",
    "3. *Creating a Dictionary*:\n",
    "   The genre counts were converted into a dictionary to make it usable for viewing."
   ],
   "id": "9e2170892a2476e2"
  },
  {
   "cell_type": "code",
   "id": "e952169d2505e444",
   "metadata": {},
   "source": [
    "wordcloud = WordCloud(width=800, height=400, background_color='white').generate_from_frequencies(genre_dict)\n",
    "\n",
    "plt.figure(figsize=(10, 6))\n",
    "plt.imshow(wordcloud, interpolation='kaiser')\n",
    "plt.axis('off')\n",
    "plt.title('Word Cloud of Genres')\n",
    "plt.show()"
   ],
   "outputs": [],
   "execution_count": null
  },
  {
   "metadata": {},
   "cell_type": "markdown",
   "source": [
    "***Conclusion***\n",
    "<br> The result was expectedly unexpected. As we can see, 'documentary' is among the largest genres, but the fact that 'drama' is the largest gives some assurance about the reliability of our dataset."
   ],
   "id": "c8167199b3c17bee"
  },
  {
   "cell_type": "markdown",
   "id": "7ee6d2facd4601de",
   "metadata": {},
   "source": "### *Distribution Across Borders and Formats*"
  },
  {
   "metadata": {},
   "cell_type": "markdown",
   "source": [
    "***Why is it useful to know?***\n",
    "<br> Analyzing the distribution of movies by country and format provides insights into global movie release trends. It highlights the countries where films are most commonly released and the distribution formats that dominate different markets.\n",
    "\n",
    "***Prediction***\n",
    "<br> We predicted that the most common distribution format would be Theatrical, as it has traditionally been the primary method for movie releases worldwide."
   ],
   "id": "9641f87da9b5e0e5"
  },
  {
   "cell_type": "code",
   "id": "5ebfa62230cf23b6",
   "metadata": {},
   "source": [
    "release_df = pd.read_csv('clean_datasets/releases.csv')\n",
    "\n",
    "country_release_counts = release_df.groupby(['country', 'distribution_format']).size().reset_index(name='movies')\n",
    "\n",
    "countries = country_release_counts['country'].unique()"
   ],
   "outputs": [],
   "execution_count": null
  },
  {
   "metadata": {},
   "cell_type": "markdown",
   "source": [
    "***Analysis of the Procedure***\n",
    "\n",
    "1. *Loading the Dataset*:\n",
    "   The dataset containing information about releases was loaded using Pandas.\n",
    "\n",
    "2. *Grouping the Data*:\n",
    "   The data was grouped by `country` and `distribution_format`, counting the number of movies released in each country across different formats.\n",
    "\n",
    "3. *Visualization*:\n",
    "    To improve the plot's readability, we implemented a dropdown menu, allowing us to view data for all countries selectively."
   ],
   "id": "eca5ebf7d16bf19c"
  },
  {
   "metadata": {},
   "cell_type": "code",
   "source": [
    "fig = go.Figure()\n",
    "# Add a trace for each country\n",
    "for country in countries:\n",
    "    country_data = country_release_counts[country_release_counts['country'] == country]\n",
    "    fig.add_trace(go.Bar(\n",
    "        x=country_data['distribution_format'],\n",
    "        y=country_data['movies'],\n",
    "        name=country,\n",
    "        visible=False\n",
    "    ))\n",
    "\n",
    "fig.data[0].visible = True\n",
    "\n",
    "fig.update_layout(\n",
    "    title=\"Movie Distribution by Format per Country\",\n",
    "    xaxis_title=\"Distribution Format\",\n",
    "    yaxis_title=\"Number of Movies\",\n",
    "    updatemenus=[{\n",
    "        'buttons': [\n",
    "            {'label': country,\n",
    "             'method': 'update',\n",
    "             'args': [{'visible': [i == j for i in range(len(countries))]},\n",
    "                      {'title': f\"Movie Distribution by Format in {country}\"}]}\n",
    "            for j, country in enumerate(countries)\n",
    "        ],\n",
    "        'direction': 'down',\n",
    "        'showactive': True,\n",
    "        'active': list(countries).index('Italy'),\n",
    "        'x': 1,\n",
    "        'xanchor': 'right',\n",
    "        'y': 1.1,\n",
    "        'yanchor': 'bottom',\n",
    "        'font': {\n",
    "            'size': 14\n",
    "        }\n",
    "    }],\n",
    "    width=1000,\n",
    "    height=600\n",
    ")\n",
    "\n",
    "fig.show()"
   ],
   "id": "cf4398c49eb9f1db",
   "outputs": [],
   "execution_count": null
  },
  {
   "metadata": {},
   "cell_type": "markdown",
   "source": "#### ***A Check on Distribution of Countries by Release Format***",
   "id": "e7b8aa6b21a4b3af"
  },
  {
   "metadata": {},
   "cell_type": "code",
   "source": "countries_per_format = release_df.groupby('distribution_format')['country'].nunique().reset_index(name='country counts')",
   "id": "afcb397fe4d7ce69",
   "outputs": [],
   "execution_count": null
  },
  {
   "metadata": {},
   "cell_type": "markdown",
   "source": "The dataset was grouped by `distribution_format` (e.g., theatrical, streaming) and `country` to determine the number of unique countries using each distribution format. This step provides insights into how the choice of release format varies by country.",
   "id": "c66eff82376ea8a1"
  },
  {
   "metadata": {},
   "cell_type": "code",
   "source": [
    "plt.figure(figsize=(8, 8))\n",
    "plt.pie(countries_per_format['country counts'],\n",
    "        labels=countries_per_format['distribution_format'],\n",
    "        autopct='%1.1f%%', startangle=90,\n",
    "        colors=plt.cm.Paired.colors)\n",
    "plt.title('Proportion of Countries for Each Distribution Format')\n",
    "plt.axis('equal')\n",
    "plt.show()"
   ],
   "id": "2365cdef72d06313",
   "outputs": [],
   "execution_count": null
  },
  {
   "metadata": {},
   "cell_type": "markdown",
   "source": [
    "***Conclusion***\n",
    "<br> This analysis explores global film distribution across various formats, revealing producer preferences by country. Surprisingly, digital distribution is the most popular format, though by a narrow margin."
   ],
   "id": "d66eacce2511b3d2"
  },
  {
   "metadata": {},
   "cell_type": "markdown",
   "source": "### *Seasons of Cinema*: Best Release Season by Country",
   "id": "be0bf0433ede297c"
  },
  {
   "metadata": {},
   "cell_type": "markdown",
   "source": [
    "***Why is it useful to know?***\n",
    "<br> Understanding which is the best release season for movies in different countries provides insights into each country's seasonal preferences, also highlighting their cultural differences.\n",
    "\n",
    "***Prediction***\n",
    "<br> Since we don't know the ideal release season for films, forecasting their performance is complicated, but we suspect the results could various."
   ],
   "id": "19255c66d0d4fee0"
  },
  {
   "metadata": {},
   "cell_type": "code",
   "source": "from utils.utils import get_specific_season, season_colors",
   "id": "dd16ecf2969303f6",
   "outputs": [],
   "execution_count": null
  },
  {
   "metadata": {},
   "cell_type": "code",
   "source": [
    "release_df = pd.read_csv('clean_datasets/releases.csv')\n",
    "\n",
    "release_df['date'] = pd.to_datetime(release_df['date'])\n",
    "release_df = release_df[release_df['date'] >= '1970-01-01']\n",
    "release_df['season'] = release_df['date'].apply(get_specific_season)"
   ],
   "id": "47e5781d50de9a4",
   "outputs": [],
   "execution_count": null
  },
  {
   "metadata": {},
   "cell_type": "code",
   "source": [
    "grouped = release_df.groupby(['country', 'season']).size().reset_index(name='movie_count')\n",
    "best_season = grouped.loc[grouped.groupby('country')['movie_count'].idxmax()]\n",
    "\n",
    "top_20_countries = best_season.groupby('country')['movie_count'].sum().nlargest(20).index\n",
    "best_season_top_20 = best_season[best_season['country'].isin(top_20_countries)]"
   ],
   "id": "c11f73a594915e7f",
   "outputs": [],
   "execution_count": null
  },
  {
   "metadata": {},
   "cell_type": "markdown",
   "source": [
    "***Analysis of the Procedure***\n",
    "1. *Loading the Dataset*:\n",
    "   The dataset containing releases information was loaded using Pandas.\n",
    "\n",
    "2. *Data Preparation*:\n",
    "   - The `date` column was converted to a datetime format for easier manipulation.\n",
    "   - The dataset was filtered to include only movie releases from 1970 onwards. (necessary for the readability and be able to provide a meaningful plot)\n",
    "   - A `season` column was added by applying the `get_specific_season` function, which categorizes each release date into a season.\n",
    "<br> <br>\n",
    "3. *Grouping and Counting Movies*:\n",
    "   The dataset was grouped by `country` and `season`, and the number of movies released in each group was counted.\n",
    "\n",
    "4. *Identifying the Best Season*:\n",
    "   For each country, the season with the highest movie count was identified as the best release season.\n",
    "\n",
    "5. *Filtering Top Countries*:\n",
    "   The total movie counts were summed by country to identify the top 20 countries with the most movie releases. The dataset was then filtered to include only these top 20 countries."
   ],
   "id": "19be4dfd6e48261c"
  },
  {
   "metadata": {},
   "cell_type": "code",
   "source": [
    "fig = px.sunburst(best_season_top_20,\n",
    "                  path=['season', 'country'],\n",
    "                  values='movie_count',\n",
    "                  color='season',\n",
    "                  color_discrete_map=season_colors,\n",
    "                  title='Best Movie Release Seasons by Country')\n",
    "fig.update_layout(\n",
    "    width=800,\n",
    "    height=600,\n",
    ")\n",
    "fig.show()"
   ],
   "id": "407490c52b0f562c",
   "outputs": [],
   "execution_count": null
  },
  {
   "metadata": {},
   "cell_type": "markdown",
   "source": [
    "***Conclusions***\n",
    "<br> The plot reveals winter as the preferred season for film releases; this statistic is probably heavily influenced by data from the USA, where more releases were carried out."
   ],
   "id": "faefc3d5806feffa"
  },
  {
   "cell_type": "markdown",
   "id": "e8f21c5873fa2ff9",
   "metadata": {},
   "source": [
    "### *Lights, Clusters, Action*: Network Graph of Actors Cultural Spheres"
   ]
  },
  {
   "cell_type": "markdown",
   "id": "9587f8ddc3c12aa6",
   "metadata": {},
   "source": [
    "***Who are the most interconnected actors?***\n",
    "<br> Some actors have forged extensive networks by working alongside a variety of co-stars in multiple projects.\n",
    "<br> In this analysis, we will explore the relationships between actors by constructing a network graph that reveals their connections through shared films. In the graph each node will represent an actor and a shared film will form the connection between them.\n",
    "<br> The network will help us identify the most central figures in the film industry, based on how many collaborations they've had, and discover clusters of actors who frequently collaborate."
   ]
  },
  {
   "cell_type": "markdown",
   "id": "60edff75d5d59e54",
   "metadata": {},
   "source": [
    "***What do we expect from this analysis?***\n",
    "- *Stefano*: The dataset spans far back in time, making it challenging to predict which actor or group of actors will be the most represented. However, it is likely that Hollywood stars will form one of the dominant clusters, representing a significant portion of the dataset, as observed in previous analyses.\n",
    "- *Samuele*: The dataset is vast and includes not only movies but also numerous documentaries, which causes many historical figures featured in them to appear as actors. I expect clustering based on the nationality of movies and actors, with the largest cluster likely being dominated by Hollywood."
   ]
  },
  {
   "cell_type": "markdown",
   "id": "8fc4b2536374686",
   "metadata": {},
   "source": [
    "#### Analysis and Visualization"
   ]
  },
  {
   "cell_type": "code",
   "id": "5c89825a1456d499",
   "metadata": {},
   "source": [
    "# Import utils\n",
    "from utils.actor_graph_network_utils import network_graph"
   ],
   "outputs": [],
   "execution_count": null
  },
  {
   "cell_type": "code",
   "id": "5b11b705dc012241",
   "metadata": {},
   "source": [
    "# Loading the datasets\n",
    "movies_df = pd.read_csv(\"clean_datasets/movies.csv\")\n",
    "actors_df = pd.read_csv(\"clean_datasets/actors.csv\")"
   ],
   "outputs": [],
   "execution_count": null
  },
  {
   "cell_type": "code",
   "id": "f3f8153be68091c",
   "metadata": {},
   "source": [
    "# Define the function that will draw the graph\n",
    "def draw_network_graph(graph):\n",
    "    # Centrality for a node quantifies how many connection to other node within the network (percentage).\n",
    "    centrality = graph.get('centrality')\n",
    "\n",
    "    # Draw the edge Scatter\n",
    "    edge_x = graph.get('edges')[0]\n",
    "    edge_y = graph.get('edges')[1]\n",
    "    edge_trace = go.Scatter(\n",
    "        x=edge_x, y=edge_y,\n",
    "        line=dict(width=0.5, color='#888'),\n",
    "        hoverinfo='none',\n",
    "        mode='lines'\n",
    "    )\n",
    "\n",
    "    # Draw the node scatter\n",
    "    node_x = graph.get('nodes')[0]\n",
    "    node_y = graph.get('nodes')[1]\n",
    "    node_sizes = graph.get('nodes')[2]\n",
    "    node_text = graph.get('nodes')[3]\n",
    "    node_trace = go.Scatter(\n",
    "        x=node_x, y=node_y,\n",
    "        mode='markers',\n",
    "        marker=dict(\n",
    "            size=node_sizes,\n",
    "            color=list(centrality.values()),\n",
    "            colorscale='YlGnBu',\n",
    "            colorbar=dict(\n",
    "                title=\"Node Connections\"\n",
    "            ),\n",
    "            line=dict(width=1, color='#333')\n",
    "        ),\n",
    "        text=node_text,\n",
    "        hoverinfo='text'\n",
    "    )\n",
    "\n",
    "    # Merge the node and edge scatter into a single plot\n",
    "    fig = go.Figure(\n",
    "        data=[edge_trace, node_trace],\n",
    "        layout=go.Layout(\n",
    "            title=dict(\n",
    "                text=\"<br>Network graph of top 1000 actors by connections\",\n",
    "                font=dict(size=16)\n",
    "            ),\n",
    "            showlegend=False,\n",
    "            hovermode='closest',\n",
    "            margin=dict(b=20, l=5, r=5, t=40),\n",
    "            xaxis=dict(showgrid=False, zeroline=False, showticklabels=False),\n",
    "            yaxis=dict(showgrid=False, zeroline=False, showticklabels=False))\n",
    "    )\n",
    "    fig.show()"
   ],
   "outputs": [],
   "execution_count": null
  },
  {
   "cell_type": "code",
   "id": "d025d4bbdf440c81",
   "metadata": {},
   "source": [
    "# Preparing the data\n",
    "## Removing unneeded columns\n",
    "actors = actors_df.drop(columns=['role'])\n",
    "## Taking the first 1000 most common actors to have a lighter analysis\n",
    "actors = actors[actors['name'].isin(actors.value_counts(subset='name').head(1000).index)]"
   ],
   "outputs": [],
   "execution_count": null
  },
  {
   "cell_type": "code",
   "id": "cdd5819c36bbb17c",
   "metadata": {},
   "source": [
    "# Build all graph info\n",
    "graph = network_graph(actors)"
   ],
   "outputs": [],
   "execution_count": null
  },
  {
   "cell_type": "code",
   "id": "1f2e9e037b48125",
   "metadata": {},
   "source": [
    "draw_network_graph(graph)"
   ],
   "outputs": [],
   "execution_count": null
  },
  {
   "cell_type": "markdown",
   "id": "bbf8009ccb42256f",
   "metadata": {},
   "source": [
    "The first version of the graph shows a some clustering effect, but the separation between clusters is not very distinct.\n",
    "<br> A dominant cluster contains nodes with the highest centrality, representing actors who collaborated extensively. These actors belong to an era ranging from the late 1800s to the 1970s. This could be due to a bias in the dataset, where older films and actors are more represented, maybe because of their historical significance.\n",
    "<br><br>\n",
    "However, the lack of clarity in the graph highlights the need for refinement. To address this, we will filter the data to include only actors from movies released after 1990. This adjustment will allow us to focus on actors more recognizable to modern audiences and provide a clearer, more relevant representation of the network."
   ]
  },
  {
   "cell_type": "code",
   "id": "1fb2f302a0015d5e",
   "metadata": {},
   "source": [
    "# Preparing the data\n",
    "## Removing unneeded columns\n",
    "actors = actors_df.drop(columns=['role'])\n",
    "## Filtering actors from movies released after 1990\n",
    "movies = movies_df[movies_df['release_year'] >= 1990]\n",
    "actors = actors[actors['movie_id'].isin(movies['id'])]\n",
    "## Taking the first 1000 most common actors to have a lighter analysis\n",
    "actors = actors[actors['name'].isin(actors.value_counts(subset='name').head(1000).index)]"
   ],
   "outputs": [],
   "execution_count": null
  },
  {
   "cell_type": "code",
   "id": "38ad7b03066fcd70",
   "metadata": {},
   "source": [
    "# Build all graph info\n",
    "graph = network_graph(actors)"
   ],
   "outputs": [],
   "execution_count": null
  },
  {
   "cell_type": "code",
   "id": "940d67d1bf23a967",
   "metadata": {},
   "source": [
    "draw_network_graph(graph)"
   ],
   "outputs": [],
   "execution_count": null
  },
  {
   "cell_type": "markdown",
   "id": "59211278a0dcfb2c",
   "metadata": {},
   "source": [
    "In this updated graph, the clustering effect is significantly more pronounced, and we can clearly distinguish several distinct spheres:\n",
    "- **Indian Sphere**: A cluster likely representing Bollywood actors and their connections.\n",
    "- **Japanese Sphere**: A smaller but noticeable group representing actors predominantly from Japanese cinema.\n",
    "- **Occidental Sphere**: The largest and most dominant cluster, centered around Hollywood stars and their collaborations.\n",
    "- **Minor Spheres**: Other regional groups, such as Korean, German, and French cinema, forming smaller, less connected clusters.\n",
    "<br><br>\n",
    "This graph marks a substantial improvement from the previous version. The separation between the clusters is much clearer, and the identification of key groups is more intuitive. Additionally, the inclusion of actors from recent movies makes it easier to recognize names and associate them with modern cinema trends."
   ]
  },
  {
   "cell_type": "code",
   "id": "3017a38e5c9360c5",
   "metadata": {},
   "source": [
    "# A peek of the most interconnect actors of the modern era.\n",
    "centrality = graph.get('centrality')\n",
    "centrality = pd.DataFrame({'key': list(centrality.keys()), 'value': list(centrality.values())})\n",
    "centrality[['key', 'value']].sort_values(by='value', ascending=False).head(15)"
   ],
   "outputs": [],
   "execution_count": null
  },
  {
   "cell_type": "markdown",
   "id": "b672544a73495122",
   "metadata": {},
   "source": [
    "#### Conclusions"
   ]
  },
  {
   "cell_type": "markdown",
   "id": "8d3382769b334624",
   "metadata": {},
   "source": [
    "The analysis confirmed that the network graph forms distinct clusters primarily based on geographic and cultural spheres.\n",
    "<br>As predicted, the Hollywood sphere dominates, reflecting the global influence of American cinema. Other significant clusters include the Indian sphere (Bollywood) and the Japanese sphere, both of which are more noticeable due to their unique cultural identities and relative isolation from globalization in the movie industry.\n",
    "<br>By narrowing the dataset to focus on more recent movies (from the 1990s onward), the clustering effect became more pronounced, and recognizable modern actors appeared, aligning with our expectations.\n",
    "<br>Older actors were initially overrepresented due to dataset bias, but filtering improved interpretability."
   ]
  },
  {
   "cell_type": "markdown",
   "id": "b6133211ffb59922",
   "metadata": {},
   "source": "### *Lights and Shadows*: Poster Color Brightness Across Genres\n"
  },
  {
   "cell_type": "markdown",
   "id": "b2ca458d7ba9ad14",
   "metadata": {},
   "source": [
    "\n",
    "***Does the brightness of movie posters reveal something about their genres?***\n",
    "<br> Movie posters play a crucial role in setting the tone and attracting audiences, often using colors to evoke emotions that resonate with a film’s themes.\n",
    "<br> In this analysis, we will examine the relationship between the brightness of movie posters and their associated genres by analyzing the average color compositions of posters. Each genre will be represented by its average Red, Green, and Blue (RGB) values, and eventually brightness will be calculated.\n",
    "<br> The analysis will help us highlight how brightness and color composition might represent the different genres. A 3D scatterplot will provide an interactive visualization of these relationships.\n",
    "<br><br>\n",
    "***What do we expect from this analysis?***\n",
    "- *Stefano & Samuele*: We expect genres like horror and thriller to exhibit darker tones, reflecting their tense and dark themes, while comedy and family movies will likely feature brighter cheerful colors. Other genres should fall somewhere in between, forming a gradient of brightness that aligns with their emotional and thematic characteristics."
   ]
  },
  {
   "cell_type": "markdown",
   "id": "f41e6b6e82d29988",
   "metadata": {},
   "source": [
    "#### Analysis and Visualization"
   ]
  },
  {
   "metadata": {},
   "cell_type": "markdown",
   "source": "**NOTE**: The posters_colors.csv dataset has been generated by the script poster_average_color.py, which processes all available posters in the dataset. The total size of the images is approximately 23 GB, making the execution of the script quite time-consuming. The file contains a commented section to perform benchmarks on portions of the dataset, and at the end of file, the timing results from a relatively fast computer are provided. It is recommended not to run the script on the entire dataset but instead to download the final result directly from the link provided in the README.",
   "id": "775027d759c93003"
  },
  {
   "cell_type": "code",
   "id": "929f12d3427781bd",
   "metadata": {},
   "source": [
    "# Loading the datasets\n",
    "genres = pd.read_csv('clean_datasets/genres.csv')\n",
    "posters_colors = pd.read_csv('clean_datasets/posters_colors.csv')"
   ],
   "outputs": [],
   "execution_count": null
  },
  {
   "cell_type": "code",
   "id": "1b677a962db22b6a",
   "metadata": {},
   "source": [
    "# Preparing the data\n",
    "## Merge the two datasets\n",
    "colors_genres = genres.merge(posters_colors, left_on='movie_id', right_on='id', how=\"inner\")\n",
    "## Removing unneeded columns\n",
    "colors_genres = colors_genres.drop(columns=['movie_id', 'poster_path', 'poster_link'])\n",
    "## Drop the null values\n",
    "colors_genres = colors_genres.dropna(subset=[\"average_color\"])\n",
    "## Split the RGB values for easier handling\n",
    "colors_genres[['r', 'g', 'b']] = colors_genres['average_color'].str.split(',', expand=True).astype(int)\n",
    "## Calculate brightness with relative luminance formula (source: Wikipedia)\n",
    "colors_genres['brightness'] = (\n",
    "        0.2126 * colors_genres['r'] +\n",
    "        0.7152 * colors_genres['g'] +\n",
    "        0.0722 * colors_genres['b']\n",
    ").astype(int)\n",
    "## Group by genre to see average brightness\n",
    "colors_genres = colors_genres.groupby('genre')[['r', 'g', 'b', 'brightness']].mean().reset_index()"
   ],
   "outputs": [],
   "execution_count": null
  },
  {
   "cell_type": "code",
   "id": "8526b3c640caac29",
   "metadata": {},
   "source": [
    "# Create 3D scatterplot\n",
    "fig = px.scatter_3d(\n",
    "    colors_genres,\n",
    "    x='r', y='g', z='b',\n",
    "    color='brightness',  # Use brightness as the color scale\n",
    "    text='genre',\n",
    "    title='Genres Based on Average Brightness',\n",
    "    color_continuous_scale='Greys_r'  # Use a grayscale color map\n",
    ")\n",
    "fig.update_layout(\n",
    "    scene=dict(\n",
    "        xaxis_title='Red (R)',\n",
    "        yaxis_title='Green (G)',\n",
    "        zaxis_title='Blue (B)',\n",
    "        camera=dict(\n",
    "            up=dict(x=0, y=0, z=2),\n",
    "            center=dict(x=0, y=0, z=0),\n",
    "            eye=dict(x=2, y=-1.5, z=0.5)\n",
    "        )\n",
    "    ),\n",
    "    width=1200,\n",
    "    height=600,\n",
    "    title={'x': 0.5, 'xanchor': 'center', 'y': 0.95})\n",
    "fig.show()"
   ],
   "outputs": [],
   "execution_count": null
  },
  {
   "metadata": {},
   "cell_type": "markdown",
   "source": "#### Conclusions",
   "id": "6d55db477599da4e"
  },
  {
   "metadata": {},
   "cell_type": "markdown",
   "source": [
    "The analysis confirmed that the relationship between movie poster brightness and genres aligns with expected trends, forming clear distinctions in color usage based on thematic tones.\n",
    "<br>\n",
    "As predicted, darker genres like Horror, Thriller, and Mystery tend to have lower brightness levels, reflecting their association with suspense and fear. In contrast, lighter genres like Comedy, Family, and Animation exhibit higher brightness values, conveying a more cheerful and playful mood.\n",
    "Interestingly, genres such as Drama and Science Fiction occupy intermediate positions, showcasing a mix of brightness levels that likely represent their diverse thematic elements.\n",
    "<br>\n",
    "This trend underscores the role of color psychology in shaping audience perceptions and highlights how genre conventions are reflected even in visual materials like movie posters."
   ],
   "id": "2bb6117c4d9fd5ae"
  },
  {
   "metadata": {},
   "cell_type": "markdown",
   "source": "### *Echoes of Theme*: Correlation between Movie Genre and Theme",
   "id": "c18e2c89b9936ae8"
  },
  {
   "metadata": {},
   "cell_type": "markdown",
   "source": [
    "***Why is it useful to know?***\n",
    "<br> This plot is useful for examining how movie genres relate to their themes. By visualizing the most frequent genre-theme combinations, we can see which themes are most prevalent in specific genres. This analysis allows us to understand genre-specific thematic preferences, which could be useful for filmmakers and marketers in targeting audiences more effectively.\n",
    "\n",
    "***Prediction***\n",
    "<br> Based on the structure of the dataset and the presence of various genres, we expect to see certain themes emerge more frequently within specific genres."
   ],
   "id": "9fce923cc735a7d"
  },
  {
   "metadata": {},
   "cell_type": "code",
   "source": [
    "movie_df = pd.read_csv('clean_datasets/movies.csv')\n",
    "genre_df = pd.read_csv('clean_datasets/genres.csv')\n",
    "theme_df = pd.read_csv('clean_datasets/themes.csv')"
   ],
   "id": "87a2fdacc7730f0d",
   "outputs": [],
   "execution_count": null
  },
  {
   "metadata": {},
   "cell_type": "code",
   "source": [
    "genre_theme_df = pd.merge(genre_df[['movie_id', 'genre']], theme_df[['movie_id', 'theme']], on='movie_id')\n",
    "top_combinations = genre_theme_df.groupby(['genre', 'theme']).size().reset_index(name='count')"
   ],
   "id": "f2ae0377cce85896",
   "outputs": [],
   "execution_count": null
  },
  {
   "metadata": {},
   "cell_type": "code",
   "source": "theme_df.value_counts(subset='theme')",
   "id": "9de70678136855fa",
   "outputs": [],
   "execution_count": null
  },
  {
   "metadata": {},
   "cell_type": "markdown",
   "source": [
    "***Analysis of the Procedure***\n",
    "1. *Loading the Datasets*:\n",
    "   The datasets containing information about movies, genres, and themes were loaded using Pandas.\n",
    "\n",
    "2. *Merging Genre and Theme Data*:\n",
    "   The `genre_df` and `theme_df` datasets were merged on the `movie_id` column to associate each movie with both its genre and its theme.\n",
    "\n",
    "3. *Counting Genre-Theme Combinations*:\n",
    "   The combined dataset (`genre_theme_df`) was grouped by both `genre` and `theme` to count how many times each genre-theme combination appears.\n",
    "\n",
    "4. *Examining Theme Frequency*:\n",
    "   The `theme_df` was analyzed to determine the most frequent themes in the dataset.\n",
    "   By examining it, we can already get an idea of which ones are likely to be more common across different associations, especially considering that there are only 19 genres present."
   ],
   "id": "3682c1bcda1b647d"
  },
  {
   "metadata": {},
   "cell_type": "code",
   "source": [
    "fig = px.scatter(top_combinations,\n",
    "                 x='genre',\n",
    "                 y='theme',\n",
    "                 size='count',\n",
    "                 color='count',\n",
    "                 hover_name='theme',\n",
    "                 hover_data={'genre': True, 'count': True},\n",
    "                 title='Bubble Plot of Genre-Theme Combinations')\n",
    "fig.update_layout(\n",
    "    height=1200,\n",
    "    xaxis_title=\"Genre\",\n",
    "    yaxis_title=\"Theme\",\n",
    "    xaxis_tickangle=45,\n",
    "    yaxis_tickangle=0,\n",
    ")\n",
    "fig.show()"
   ],
   "id": "2bc3a35e008df7c5",
   "outputs": [],
   "execution_count": null
  },
  {
   "metadata": {},
   "cell_type": "markdown",
   "source": [
    "***Conclusions***\n",
    "<br> As expected, the most frequent genre-theme associations are those that include the themes \"Moving relationship stories,\" \"Crude humor and satire,\" and \"Horror, the undead and monster classics.\" that were the most frequents of the themes dataset"
   ],
   "id": "e24e3833a30439b5"
  },
  {
   "metadata": {},
   "cell_type": "markdown",
   "source": "### *How Films Reach Audiences*: A Distribution Type Analysis",
   "id": "f24a386bacaa874b"
  },
  {
   "metadata": {},
   "cell_type": "markdown",
   "source": [
    "***Why is it useful to know?***\n",
    "<br> This visualization helps us examine the distribution of film releases over time, with a particular focus on how different distribution formats have evolved before and after the year 2000. Understanding these trends allows us to track the industry's adaptation to new technologies and shifts in audience preferences.\n",
    "\n",
    "***Prediction***\n",
    "<br> Previous visualization suggests theatrical release as the primary distribution method, pre- and post-2000, but we expect to see a significant increase in digital formats."
   ],
   "id": "eacbfa6b6097ec06"
  },
  {
   "metadata": {},
   "cell_type": "code",
   "source": [
    "releases_df = pd.read_csv('clean_datasets/releases.csv')\n",
    "movies_df = pd.read_csv('clean_datasets/movies.csv')"
   ],
   "id": "404d1ba9590a3c58",
   "outputs": [],
   "execution_count": null
  },
  {
   "metadata": {},
   "cell_type": "code",
   "source": [
    "merged_df = pd.merge(releases_df, movies_df, left_on='movie_id', right_on='id')\n",
    "\n",
    "merged_df['release_period'] = merged_df['release_year'].apply(lambda x: 'Before 2000' if x < 2000 else 'After 2000')\n",
    "\n",
    "distribution_counts = merged_df.groupby(['distribution_format', 'release_period']).size().reset_index(name='Count')"
   ],
   "id": "d6763d2deec74188",
   "outputs": [],
   "execution_count": null
  },
  {
   "metadata": {},
   "cell_type": "markdown",
   "source": [
    "***Analysis of the Procedure***\n",
    "1. *Loading the Datasets*:\n",
    "   The datasets containing information about movies and releases were loaded using Pandas.\n",
    "\n",
    "2. *Merging the Datasets*:\n",
    "   The two datasets were merged on the `movie_id` (from `releases_df`) and `id` (from `movies_df`) columns to create a dataset containing both release information and movie details.\n",
    "\n",
    "3. *Creating the Release Period Column*:\n",
    "   A new column called `release_period` was added to the dataset, categorizing each movie as either \"Before 2000\" or \"After 2000\" based on its release year.\n",
    "\n",
    "4. *Counting Distribution Formats*:\n",
    "   The dataset was grouped by `distribution_format` and `release_period` to count the occurrences of each distribution format in each period."
   ],
   "id": "2b052ecfce47d29a"
  },
  {
   "metadata": {},
   "cell_type": "code",
   "source": [
    "plt.figure(figsize=(12, 7))\n",
    "\n",
    "sns.barplot(x='Count', y='distribution_format', hue='release_period', data=distribution_counts, palette='viridis')\n",
    "\n",
    "plt.xlabel('Number of Releases')\n",
    "plt.ylabel('Distribution Format')\n",
    "plt.title('Number of Releases by Distribution Format (Before and After 2000)')\n",
    "\n",
    "plt.show()"
   ],
   "id": "1cb1882e53bc423a",
   "outputs": [],
   "execution_count": null
  },
  {
   "metadata": {},
   "cell_type": "markdown",
   "source": [
    "***Conclusions***\n",
    "<br> The plot confirms theatrical release as the leading distribution format, and as we expected, there's a rise in digital. A surprising development is the increase in Premieres, possibly reflecting a general increase in the popularity of cinema."
   ],
   "id": "d06d71545b924f71"
  },
  {
   "metadata": {},
   "cell_type": "markdown",
   "source": "### *A Wider Stage*: Evolution in the Number of Oscar Categories Over the Years",
   "id": "58d76e34aa25ee8c"
  },
  {
   "metadata": {},
   "cell_type": "markdown",
   "source": [
    "***Why is it useful to know?***\n",
    "<br> This visualization highlights the trend in the number of Oscar categories awarded over time. By examining how the number of categories has changed, we can gain insights into the evolving scope of the Academy Awards.\n",
    "\n",
    "***Prediction***\n",
    "<br> Based on historical trends, we expect to see an increase in the number of Oscar categories over time. The Academy may have added more categories as the film industry has grown and diversified."
   ],
   "id": "77d272c53cfd7975"
  },
  {
   "metadata": {},
   "cell_type": "code",
   "source": "oscars_df = pd.read_csv('clean_datasets/oscars.csv')",
   "id": "f91e59f742354452",
   "outputs": [],
   "execution_count": null
  },
  {
   "metadata": {},
   "cell_type": "code",
   "source": "category_count_per_year = oscars_df.groupby('year_ceremony')['category'].nunique().reset_index(name='category_count')",
   "id": "92da3045a98a22e3",
   "outputs": [],
   "execution_count": null
  },
  {
   "metadata": {},
   "cell_type": "markdown",
   "source": [
    "***Analysis of the Procedure***\n",
    "1. *Loading the Dataset*:\n",
    "   The datasets containing information about oscars was loaded using Pandas.\n",
    "\n",
    "2. *Counting Categories per Year*:\n",
    "   The dataset was grouped by `year_ceremony`, and the number of unique Oscar categories for each year was counted using the `.nunique()` function."
   ],
   "id": "1f76819e05af2f09"
  },
  {
   "metadata": {},
   "cell_type": "code",
   "source": [
    "plt.figure(figsize=(10, 6))\n",
    "plt.bar(category_count_per_year['year_ceremony'], category_count_per_year['category_count'], color='skyblue')\n",
    "\n",
    "# Customize the plot\n",
    "plt.title('Number of Oscar Categories per Year', fontsize=14)\n",
    "plt.xlabel('Year of Ceremony', fontsize=12)\n",
    "plt.ylabel('Number of Categories', fontsize=12)\n",
    "plt.xticks(rotation=45)\n",
    "plt.grid(True)\n",
    "\n",
    "plt.tight_layout()\n",
    "plt.show()"
   ],
   "id": "d13c47ae6028a1ac",
   "outputs": [],
   "execution_count": null
  },
  {
   "metadata": {},
   "cell_type": "markdown",
   "source": [
    "***Conclusions***\n",
    "<br> The plot shows an unexpected picture. While one might assume that the Oscar categories would increase over time, the data reveal a period of stability beginning around 1970. The only significant expansion occurred between the 1940s and the late 1950s, a period marked by the initial formation and growth of the Academy Awards."
   ],
   "id": "15731e9fe93ba4fc"
  },
  {
   "metadata": {},
   "cell_type": "markdown",
   "source": "### Trend review type Fresh and Rotten TODO",
   "id": "212ec18db5520ee3"
  },
  {
   "metadata": {},
   "cell_type": "code",
   "source": "reviews = pd.read_csv('clean_datasets/reviews.csv')",
   "id": "8272f2d685665f4a",
   "outputs": [],
   "execution_count": null
  },
  {
   "metadata": {},
   "cell_type": "code",
   "source": [
    "reviews['review_date'] = pd.to_datetime(reviews['review_date'])\n",
    "reviews = reviews[reviews['review_date'] >= '2001-01-01']\n",
    "\n",
    "# Raggruppare i dati per data e tipo di recensione\n",
    "trend_data = (\n",
    "    reviews.groupby([reviews['review_date'].dt.to_period('M'), 'type'])\n",
    "    .size()\n",
    "    .unstack(fill_value=0)\n",
    ")\n",
    "\n",
    "# Convertire l'indice al formato datetime\n",
    "trend_data.index = trend_data.index.to_timestamp()\n",
    "\n",
    "# Trovare i picchi e le valli per \"Fresh\"\n",
    "fresh_peaks = trend_data[trend_data['Fresh'] == trend_data['Fresh'].max()]\n",
    "fresh_valleys = trend_data[trend_data['Fresh'] == trend_data['Fresh'].min()]\n",
    "\n",
    "# Trovare i picchi e le valli per \"Rotten\"\n",
    "rotten_peaks = trend_data[trend_data['Rotten'] == trend_data['Rotten'].max()]\n",
    "rotten_valleys = trend_data[trend_data['Rotten'] == trend_data['Rotten'].min()]\n",
    "\n",
    "# Creare il grafico\n",
    "plt.figure(figsize=(12, 6))\n",
    "plt.plot(trend_data.index, trend_data['Fresh'], label='Fresh', color='green', marker='o')\n",
    "plt.plot(trend_data.index, trend_data['Rotten'], label='Rotten', color='red', marker='o')\n",
    "\n",
    "# Aggiungere marker per i picchi e le valli\n",
    "plt.scatter(fresh_peaks.index, fresh_peaks['Fresh'], color='blue', label='Picchi Fresh', s=100, zorder=5)\n",
    "plt.scatter(fresh_valleys.index, fresh_valleys['Fresh'], color='cyan', label='Valli Fresh', s=100, zorder=5)\n",
    "\n",
    "plt.scatter(rotten_peaks.index, rotten_peaks['Rotten'], color='orange', label='Picchi Rotten', s=100, zorder=5)\n",
    "plt.scatter(rotten_valleys.index, rotten_valleys['Rotten'], color='yellow', label='Valli Rotten', s=100, zorder=5)\n",
    "\n",
    "# Aggiungere titoli e etichette\n",
    "plt.title('Andamento delle recensioni Fresh e Rotten con Picchi e Valli', fontsize=16)\n",
    "plt.xlabel('Data', fontsize=12)\n",
    "plt.ylabel('Numero di recensioni', fontsize=12)\n",
    "plt.legend(title='Legenda')\n",
    "plt.grid(alpha=0.3)\n",
    "plt.tight_layout()\n",
    "\n",
    "# Mostrare il grafico\n",
    "plt.show()"
   ],
   "id": "719b00a465ec9f07",
   "outputs": [],
   "execution_count": null
  },
  {
   "metadata": {},
   "cell_type": "code",
   "source": [
    "# Assicurarsi che le date siano in formato datetime\n",
    "reviews['review_date'] = pd.to_datetime(reviews['review_date'])\n",
    "reviews = reviews[reviews['review_date'] >= '2001-01-01']\n",
    "reviews = reviews[reviews['is_top_critic'] == True]\n",
    "\n",
    "# Raggruppare i dati per data e tipo di recensione\n",
    "trend_data = (\n",
    "    reviews.groupby([reviews['review_date'].dt.to_period('M'), 'type'])\n",
    "    .size()\n",
    "    .unstack(fill_value=0)\n",
    ")\n",
    "\n",
    "# Convertire l'indice al formato datetime\n",
    "trend_data.index = trend_data.index.to_timestamp()\n",
    "\n",
    "# Creare il grafico\n",
    "plt.figure(figsize=(12, 6))\n",
    "plt.plot(trend_data.index, trend_data['Fresh'], label='Fresh', color='green', marker='o')\n",
    "plt.plot(trend_data.index, trend_data['Rotten'], label='Rotten', color='red', marker='o')\n",
    "\n",
    "# Aggiungere titoli e etichette\n",
    "plt.title('Andamento delle recensioni Fresh e Rotten', fontsize=16)\n",
    "plt.xlabel('Data', fontsize=12)\n",
    "plt.ylabel('Numero di recensioni', fontsize=12)\n",
    "plt.legend(title='Tipo di recensione')\n",
    "plt.grid(alpha=0.3)\n",
    "plt.tight_layout()\n",
    "\n",
    "# Mostrare il grafico\n",
    "plt.show()"
   ],
   "id": "9c69cd2547d366b5",
   "outputs": [],
   "execution_count": null
  },
  {
   "metadata": {},
   "cell_type": "code",
   "source": [
    "# Trovare i picchi per le recensioni \"Fresh\"\n",
    "fresh_peaks = trend_data[trend_data['Fresh'] == trend_data['Fresh'].max()]\n",
    "fresh_valleys = trend_data[trend_data['Fresh'] == trend_data['Fresh'].min()]\n",
    "\n",
    "# Trovare i picchi per le recensioni \"Rotten\"\n",
    "rotten_peaks = trend_data[trend_data['Rotten'] == trend_data['Rotten'].max()]\n",
    "rotten_valleys = trend_data[trend_data['Rotten'] == trend_data['Rotten'].min()]\n",
    "\n",
    "# Stampare i risultati\n",
    "print(\"Picchi Fresh:\")\n",
    "print(fresh_peaks)\n",
    "\n",
    "print(\"\\nValle Fresh:\")\n",
    "print(fresh_valleys)\n",
    "\n",
    "print(\"\\nPicchi Rotten:\")\n",
    "print(rotten_peaks)\n",
    "\n",
    "print(\"\\nValle Rotten:\")\n",
    "print(rotten_valleys)"
   ],
   "id": "f8fc86773ee0f90a",
   "outputs": [],
   "execution_count": null
  }
 ],
 "metadata": {
  "kernelspec": {
   "display_name": "Python 3 (ipykernel)",
   "language": "python",
   "name": "python3"
  },
  "language_info": {
   "codemirror_mode": {
    "name": "ipython",
    "version": 3
   },
   "file_extension": ".py",
   "mimetype": "text/x-python",
   "name": "python",
   "nbconvert_exporter": "python",
   "pygments_lexer": "ipython3",
   "version": "3.13.1"
  }
 },
 "nbformat": 4,
 "nbformat_minor": 5
}
