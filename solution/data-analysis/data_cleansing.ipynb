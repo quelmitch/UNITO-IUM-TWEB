{
 "cells": [
  {
   "metadata": {},
   "cell_type": "markdown",
   "source": "# Data Cleansing",
   "id": "1ada8e0800af80f"
  },
  {
   "cell_type": "code",
   "id": "initial_id",
   "metadata": {
    "collapsed": true,
    "ExecuteTime": {
     "end_time": "2024-12-04T19:22:13.665710Z",
     "start_time": "2024-12-04T19:22:13.661964Z"
    }
   },
   "source": [
    "import pandas as pd\n",
    "\n",
    "pd.options.mode.chained_assignment = None"
   ],
   "outputs": [],
   "execution_count": 101
  },
  {
   "metadata": {},
   "cell_type": "markdown",
   "source": "## Movies",
   "id": "3535d2e877d218a5"
  },
  {
   "metadata": {
    "ExecuteTime": {
     "end_time": "2024-12-04T19:22:19.187079Z",
     "start_time": "2024-12-04T19:22:13.708794Z"
    }
   },
   "cell_type": "code",
   "source": [
    "movies_df = pd.read_csv('datasets/movies.csv')\n",
    "movies_df"
   ],
   "id": "bfa523a3d71aa334",
   "outputs": [
    {
     "data": {
      "text/plain": [
       "             id                               name    date  \\\n",
       "0       1000001                             Barbie  2023.0   \n",
       "1       1000002                           Parasite  2019.0   \n",
       "2       1000003  Everything Everywhere All at Once  2022.0   \n",
       "3       1000004                         Fight Club  1999.0   \n",
       "4       1000005                         La La Land  2016.0   \n",
       "...         ...                                ...     ...   \n",
       "941592  1941593                                 神笛     NaN   \n",
       "941593  1941594                      蟲極道蜜団子抗争編 壱ノ巻     NaN   \n",
       "941594  1941595                      蟲極道蜜団子抗争編 弐ノ巻     NaN   \n",
       "941595  1941596                                 重生     NaN   \n",
       "941596  1941597                             青ひげ公の城     NaN   \n",
       "\n",
       "                                                 tagline  \\\n",
       "0                       She's everything. He's just Ken.   \n",
       "1                            Act like you own the place.   \n",
       "2       The universe is so much bigger than you realize.   \n",
       "3                                Mischief. Mayhem. Soap.   \n",
       "4                         Here's to the fools who dream.   \n",
       "...                                                  ...   \n",
       "941592                                               NaN   \n",
       "941593                                               NaN   \n",
       "941594                                               NaN   \n",
       "941595                                               NaN   \n",
       "941596                                               NaN   \n",
       "\n",
       "                                              description  minute  rating  \n",
       "0       Barbie and Ken are having the time of their li...   114.0    3.86  \n",
       "1       All unemployed, Ki-taek's family takes peculia...   133.0    4.56  \n",
       "2       An aging Chinese immigrant is swept up in an i...   140.0    4.30  \n",
       "3       A ticking-time-bomb insomniac and a slippery s...   139.0    4.27  \n",
       "4       Mia, an aspiring actress, serves lattes to mov...   129.0    4.09  \n",
       "...                                                   ...     ...     ...  \n",
       "941592                                                NaN     NaN     NaN  \n",
       "941593  Shinjuku forest at night. In the sap taverns o...    30.0     NaN  \n",
       "941594  The city that never sleeps, where insects gath...    30.0     NaN  \n",
       "941595  In a world where order has broken down, darkne...     NaN     NaN  \n",
       "941596                                                NaN   130.0     NaN  \n",
       "\n",
       "[941597 rows x 7 columns]"
      ],
      "text/html": [
       "<div>\n",
       "<style scoped>\n",
       "    .dataframe tbody tr th:only-of-type {\n",
       "        vertical-align: middle;\n",
       "    }\n",
       "\n",
       "    .dataframe tbody tr th {\n",
       "        vertical-align: top;\n",
       "    }\n",
       "\n",
       "    .dataframe thead th {\n",
       "        text-align: right;\n",
       "    }\n",
       "</style>\n",
       "<table border=\"1\" class=\"dataframe\">\n",
       "  <thead>\n",
       "    <tr style=\"text-align: right;\">\n",
       "      <th></th>\n",
       "      <th>id</th>\n",
       "      <th>name</th>\n",
       "      <th>date</th>\n",
       "      <th>tagline</th>\n",
       "      <th>description</th>\n",
       "      <th>minute</th>\n",
       "      <th>rating</th>\n",
       "    </tr>\n",
       "  </thead>\n",
       "  <tbody>\n",
       "    <tr>\n",
       "      <th>0</th>\n",
       "      <td>1000001</td>\n",
       "      <td>Barbie</td>\n",
       "      <td>2023.0</td>\n",
       "      <td>She's everything. He's just Ken.</td>\n",
       "      <td>Barbie and Ken are having the time of their li...</td>\n",
       "      <td>114.0</td>\n",
       "      <td>3.86</td>\n",
       "    </tr>\n",
       "    <tr>\n",
       "      <th>1</th>\n",
       "      <td>1000002</td>\n",
       "      <td>Parasite</td>\n",
       "      <td>2019.0</td>\n",
       "      <td>Act like you own the place.</td>\n",
       "      <td>All unemployed, Ki-taek's family takes peculia...</td>\n",
       "      <td>133.0</td>\n",
       "      <td>4.56</td>\n",
       "    </tr>\n",
       "    <tr>\n",
       "      <th>2</th>\n",
       "      <td>1000003</td>\n",
       "      <td>Everything Everywhere All at Once</td>\n",
       "      <td>2022.0</td>\n",
       "      <td>The universe is so much bigger than you realize.</td>\n",
       "      <td>An aging Chinese immigrant is swept up in an i...</td>\n",
       "      <td>140.0</td>\n",
       "      <td>4.30</td>\n",
       "    </tr>\n",
       "    <tr>\n",
       "      <th>3</th>\n",
       "      <td>1000004</td>\n",
       "      <td>Fight Club</td>\n",
       "      <td>1999.0</td>\n",
       "      <td>Mischief. Mayhem. Soap.</td>\n",
       "      <td>A ticking-time-bomb insomniac and a slippery s...</td>\n",
       "      <td>139.0</td>\n",
       "      <td>4.27</td>\n",
       "    </tr>\n",
       "    <tr>\n",
       "      <th>4</th>\n",
       "      <td>1000005</td>\n",
       "      <td>La La Land</td>\n",
       "      <td>2016.0</td>\n",
       "      <td>Here's to the fools who dream.</td>\n",
       "      <td>Mia, an aspiring actress, serves lattes to mov...</td>\n",
       "      <td>129.0</td>\n",
       "      <td>4.09</td>\n",
       "    </tr>\n",
       "    <tr>\n",
       "      <th>...</th>\n",
       "      <td>...</td>\n",
       "      <td>...</td>\n",
       "      <td>...</td>\n",
       "      <td>...</td>\n",
       "      <td>...</td>\n",
       "      <td>...</td>\n",
       "      <td>...</td>\n",
       "    </tr>\n",
       "    <tr>\n",
       "      <th>941592</th>\n",
       "      <td>1941593</td>\n",
       "      <td>神笛</td>\n",
       "      <td>NaN</td>\n",
       "      <td>NaN</td>\n",
       "      <td>NaN</td>\n",
       "      <td>NaN</td>\n",
       "      <td>NaN</td>\n",
       "    </tr>\n",
       "    <tr>\n",
       "      <th>941593</th>\n",
       "      <td>1941594</td>\n",
       "      <td>蟲極道蜜団子抗争編 壱ノ巻</td>\n",
       "      <td>NaN</td>\n",
       "      <td>NaN</td>\n",
       "      <td>Shinjuku forest at night. In the sap taverns o...</td>\n",
       "      <td>30.0</td>\n",
       "      <td>NaN</td>\n",
       "    </tr>\n",
       "    <tr>\n",
       "      <th>941594</th>\n",
       "      <td>1941595</td>\n",
       "      <td>蟲極道蜜団子抗争編 弐ノ巻</td>\n",
       "      <td>NaN</td>\n",
       "      <td>NaN</td>\n",
       "      <td>The city that never sleeps, where insects gath...</td>\n",
       "      <td>30.0</td>\n",
       "      <td>NaN</td>\n",
       "    </tr>\n",
       "    <tr>\n",
       "      <th>941595</th>\n",
       "      <td>1941596</td>\n",
       "      <td>重生</td>\n",
       "      <td>NaN</td>\n",
       "      <td>NaN</td>\n",
       "      <td>In a world where order has broken down, darkne...</td>\n",
       "      <td>NaN</td>\n",
       "      <td>NaN</td>\n",
       "    </tr>\n",
       "    <tr>\n",
       "      <th>941596</th>\n",
       "      <td>1941597</td>\n",
       "      <td>青ひげ公の城</td>\n",
       "      <td>NaN</td>\n",
       "      <td>NaN</td>\n",
       "      <td>NaN</td>\n",
       "      <td>130.0</td>\n",
       "      <td>NaN</td>\n",
       "    </tr>\n",
       "  </tbody>\n",
       "</table>\n",
       "<p>941597 rows × 7 columns</p>\n",
       "</div>"
      ]
     },
     "execution_count": 102,
     "metadata": {},
     "output_type": "execute_result"
    }
   ],
   "execution_count": 102
  },
  {
   "metadata": {
    "ExecuteTime": {
     "end_time": "2024-12-04T19:22:19.240704Z",
     "start_time": "2024-12-04T19:22:19.234591Z"
    }
   },
   "cell_type": "code",
   "source": "movies_df.dtypes",
   "id": "f25edf3b61586308",
   "outputs": [
    {
     "data": {
      "text/plain": [
       "id               int64\n",
       "name            object\n",
       "date           float64\n",
       "tagline         object\n",
       "description     object\n",
       "minute         float64\n",
       "rating         float64\n",
       "dtype: object"
      ]
     },
     "execution_count": 103,
     "metadata": {},
     "output_type": "execute_result"
    }
   ],
   "execution_count": 103
  },
  {
   "metadata": {
    "ExecuteTime": {
     "end_time": "2024-12-04T19:22:19.374048Z",
     "start_time": "2024-12-04T19:22:19.365540Z"
    }
   },
   "cell_type": "code",
   "source": "movies_df.columns",
   "id": "66353feb2d15e0c1",
   "outputs": [
    {
     "data": {
      "text/plain": [
       "Index(['id', 'name', 'date', 'tagline', 'description', 'minute', 'rating'], dtype='object')"
      ]
     },
     "execution_count": 104,
     "metadata": {},
     "output_type": "execute_result"
    }
   ],
   "execution_count": 104
  },
  {
   "metadata": {
    "ExecuteTime": {
     "end_time": "2024-12-04T19:22:19.861518Z",
     "start_time": "2024-12-04T19:22:19.469988Z"
    }
   },
   "cell_type": "code",
   "source": "movies_df[movies_df.isna().any(axis=1)]",
   "id": "92ec1ff74b506e2f",
   "outputs": [
    {
     "data": {
      "text/plain": [
       "             id                 name    date tagline  \\\n",
       "34      1000035           Black Swan  2010.0     NaN   \n",
       "68      1000069           Past Lives  2023.0     NaN   \n",
       "133     1000134            Toy Story  1995.0     NaN   \n",
       "146     1000147  Requiem for a Dream  2000.0     NaN   \n",
       "162     1000163        Asteroid City  2023.0     NaN   \n",
       "...         ...                  ...     ...     ...   \n",
       "941592  1941593                   神笛     NaN     NaN   \n",
       "941593  1941594        蟲極道蜜団子抗争編 壱ノ巻     NaN     NaN   \n",
       "941594  1941595        蟲極道蜜団子抗争編 弐ノ巻     NaN     NaN   \n",
       "941595  1941596                   重生     NaN     NaN   \n",
       "941596  1941597               青ひげ公の城     NaN     NaN   \n",
       "\n",
       "                                              description  minute  rating  \n",
       "34      A journey through the psyche of a young baller...   108.0    4.15  \n",
       "68      Nora and Hae Sung, two childhood friends, are ...   106.0    4.18  \n",
       "133     Led by Woody, Andy's toys live happily in his ...    81.0    4.12  \n",
       "146     The hopes and dreams of four ambitious people ...   102.0    4.10  \n",
       "162     Set in a fictional American desert town circa ...   105.0    3.52  \n",
       "...                                                   ...     ...     ...  \n",
       "941592                                                NaN     NaN     NaN  \n",
       "941593  Shinjuku forest at night. In the sap taverns o...    30.0     NaN  \n",
       "941594  The city that never sleeps, where insects gath...    30.0     NaN  \n",
       "941595  In a world where order has broken down, darkne...     NaN     NaN  \n",
       "941596                                                NaN   130.0     NaN  \n",
       "\n",
       "[903289 rows x 7 columns]"
      ],
      "text/html": [
       "<div>\n",
       "<style scoped>\n",
       "    .dataframe tbody tr th:only-of-type {\n",
       "        vertical-align: middle;\n",
       "    }\n",
       "\n",
       "    .dataframe tbody tr th {\n",
       "        vertical-align: top;\n",
       "    }\n",
       "\n",
       "    .dataframe thead th {\n",
       "        text-align: right;\n",
       "    }\n",
       "</style>\n",
       "<table border=\"1\" class=\"dataframe\">\n",
       "  <thead>\n",
       "    <tr style=\"text-align: right;\">\n",
       "      <th></th>\n",
       "      <th>id</th>\n",
       "      <th>name</th>\n",
       "      <th>date</th>\n",
       "      <th>tagline</th>\n",
       "      <th>description</th>\n",
       "      <th>minute</th>\n",
       "      <th>rating</th>\n",
       "    </tr>\n",
       "  </thead>\n",
       "  <tbody>\n",
       "    <tr>\n",
       "      <th>34</th>\n",
       "      <td>1000035</td>\n",
       "      <td>Black Swan</td>\n",
       "      <td>2010.0</td>\n",
       "      <td>NaN</td>\n",
       "      <td>A journey through the psyche of a young baller...</td>\n",
       "      <td>108.0</td>\n",
       "      <td>4.15</td>\n",
       "    </tr>\n",
       "    <tr>\n",
       "      <th>68</th>\n",
       "      <td>1000069</td>\n",
       "      <td>Past Lives</td>\n",
       "      <td>2023.0</td>\n",
       "      <td>NaN</td>\n",
       "      <td>Nora and Hae Sung, two childhood friends, are ...</td>\n",
       "      <td>106.0</td>\n",
       "      <td>4.18</td>\n",
       "    </tr>\n",
       "    <tr>\n",
       "      <th>133</th>\n",
       "      <td>1000134</td>\n",
       "      <td>Toy Story</td>\n",
       "      <td>1995.0</td>\n",
       "      <td>NaN</td>\n",
       "      <td>Led by Woody, Andy's toys live happily in his ...</td>\n",
       "      <td>81.0</td>\n",
       "      <td>4.12</td>\n",
       "    </tr>\n",
       "    <tr>\n",
       "      <th>146</th>\n",
       "      <td>1000147</td>\n",
       "      <td>Requiem for a Dream</td>\n",
       "      <td>2000.0</td>\n",
       "      <td>NaN</td>\n",
       "      <td>The hopes and dreams of four ambitious people ...</td>\n",
       "      <td>102.0</td>\n",
       "      <td>4.10</td>\n",
       "    </tr>\n",
       "    <tr>\n",
       "      <th>162</th>\n",
       "      <td>1000163</td>\n",
       "      <td>Asteroid City</td>\n",
       "      <td>2023.0</td>\n",
       "      <td>NaN</td>\n",
       "      <td>Set in a fictional American desert town circa ...</td>\n",
       "      <td>105.0</td>\n",
       "      <td>3.52</td>\n",
       "    </tr>\n",
       "    <tr>\n",
       "      <th>...</th>\n",
       "      <td>...</td>\n",
       "      <td>...</td>\n",
       "      <td>...</td>\n",
       "      <td>...</td>\n",
       "      <td>...</td>\n",
       "      <td>...</td>\n",
       "      <td>...</td>\n",
       "    </tr>\n",
       "    <tr>\n",
       "      <th>941592</th>\n",
       "      <td>1941593</td>\n",
       "      <td>神笛</td>\n",
       "      <td>NaN</td>\n",
       "      <td>NaN</td>\n",
       "      <td>NaN</td>\n",
       "      <td>NaN</td>\n",
       "      <td>NaN</td>\n",
       "    </tr>\n",
       "    <tr>\n",
       "      <th>941593</th>\n",
       "      <td>1941594</td>\n",
       "      <td>蟲極道蜜団子抗争編 壱ノ巻</td>\n",
       "      <td>NaN</td>\n",
       "      <td>NaN</td>\n",
       "      <td>Shinjuku forest at night. In the sap taverns o...</td>\n",
       "      <td>30.0</td>\n",
       "      <td>NaN</td>\n",
       "    </tr>\n",
       "    <tr>\n",
       "      <th>941594</th>\n",
       "      <td>1941595</td>\n",
       "      <td>蟲極道蜜団子抗争編 弐ノ巻</td>\n",
       "      <td>NaN</td>\n",
       "      <td>NaN</td>\n",
       "      <td>The city that never sleeps, where insects gath...</td>\n",
       "      <td>30.0</td>\n",
       "      <td>NaN</td>\n",
       "    </tr>\n",
       "    <tr>\n",
       "      <th>941595</th>\n",
       "      <td>1941596</td>\n",
       "      <td>重生</td>\n",
       "      <td>NaN</td>\n",
       "      <td>NaN</td>\n",
       "      <td>In a world where order has broken down, darkne...</td>\n",
       "      <td>NaN</td>\n",
       "      <td>NaN</td>\n",
       "    </tr>\n",
       "    <tr>\n",
       "      <th>941596</th>\n",
       "      <td>1941597</td>\n",
       "      <td>青ひげ公の城</td>\n",
       "      <td>NaN</td>\n",
       "      <td>NaN</td>\n",
       "      <td>NaN</td>\n",
       "      <td>130.0</td>\n",
       "      <td>NaN</td>\n",
       "    </tr>\n",
       "  </tbody>\n",
       "</table>\n",
       "<p>903289 rows × 7 columns</p>\n",
       "</div>"
      ]
     },
     "execution_count": 105,
     "metadata": {},
     "output_type": "execute_result"
    }
   ],
   "execution_count": 105
  },
  {
   "metadata": {
    "ExecuteTime": {
     "end_time": "2024-12-04T19:22:20.142513Z",
     "start_time": "2024-12-04T19:22:19.916743Z"
    }
   },
   "cell_type": "code",
   "source": "movies_df.isna().sum()",
   "id": "943d34788f840a4c",
   "outputs": [
    {
     "data": {
      "text/plain": [
       "id                  0\n",
       "name               10\n",
       "date            91913\n",
       "tagline        802210\n",
       "description    160812\n",
       "minute         181570\n",
       "rating         850598\n",
       "dtype: int64"
      ]
     },
     "execution_count": 106,
     "metadata": {},
     "output_type": "execute_result"
    }
   ],
   "execution_count": 106
  },
  {
   "metadata": {
    "ExecuteTime": {
     "end_time": "2024-12-04T19:22:20.467789Z",
     "start_time": "2024-12-04T19:22:20.243885Z"
    }
   },
   "cell_type": "code",
   "source": [
    "# removing NaN 'name' records\n",
    "movies_df = movies_df[movies_df['name'].notna()]"
   ],
   "id": "e64b09d17cd6ac6f",
   "outputs": [],
   "execution_count": 107
  },
  {
   "metadata": {
    "ExecuteTime": {
     "end_time": "2024-12-04T19:22:20.550007Z",
     "start_time": "2024-12-04T19:22:20.517288Z"
    }
   },
   "cell_type": "code",
   "source": [
    "# check if 'id' column have duplicate values\n",
    "movies_df[movies_df[\"id\"].duplicated()].shape[0]"
   ],
   "id": "903dbbf0e5d08f7c",
   "outputs": [
    {
     "data": {
      "text/plain": [
       "0"
      ]
     },
     "execution_count": 108,
     "metadata": {},
     "output_type": "execute_result"
    }
   ],
   "execution_count": 108
  },
  {
   "metadata": {
    "ExecuteTime": {
     "end_time": "2024-12-04T19:22:20.606950Z",
     "start_time": "2024-12-04T19:22:20.599636Z"
    }
   },
   "cell_type": "code",
   "source": [
    "# then set index as id\n",
    "movies_df.set_index(\"id\", inplace=True)"
   ],
   "id": "e490e8be2bcd79b6",
   "outputs": [],
   "execution_count": 109
  },
  {
   "metadata": {
    "ExecuteTime": {
     "end_time": "2024-12-04T19:22:20.670155Z",
     "start_time": "2024-12-04T19:22:20.666878Z"
    }
   },
   "cell_type": "code",
   "source": "# TODO: typing columns",
   "id": "b859e3726529609e",
   "outputs": [],
   "execution_count": 110
  }
 ],
 "metadata": {
  "kernelspec": {
   "display_name": "Python 3",
   "language": "python",
   "name": "python3"
  },
  "language_info": {
   "codemirror_mode": {
    "name": "ipython",
    "version": 2
   },
   "file_extension": ".py",
   "mimetype": "text/x-python",
   "name": "python",
   "nbconvert_exporter": "python",
   "pygments_lexer": "ipython2",
   "version": "2.7.6"
  }
 },
 "nbformat": 4,
 "nbformat_minor": 5
}
