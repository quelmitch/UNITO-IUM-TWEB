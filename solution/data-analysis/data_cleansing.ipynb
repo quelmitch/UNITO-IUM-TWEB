{
 "cells": [
  {
   "metadata": {},
   "cell_type": "markdown",
   "source": "# Data Cleansing",
   "id": "1ada8e0800af80f"
  },
  {
   "cell_type": "code",
   "id": "initial_id",
   "metadata": {
    "collapsed": true,
    "ExecuteTime": {
     "end_time": "2024-12-05T10:13:01.186906Z",
     "start_time": "2024-12-05T10:13:01.183277Z"
    }
   },
   "source": [
    "import pandas as pd\n",
    "import numpy as np\n",
    "\n",
    "pd.options.mode.chained_assignment = None"
   ],
   "outputs": [],
   "execution_count": 138
  },
  {
   "metadata": {},
   "cell_type": "markdown",
   "source": "## Movies",
   "id": "3535d2e877d218a5"
  },
  {
   "metadata": {
    "ExecuteTime": {
     "end_time": "2024-12-05T10:13:06.253078Z",
     "start_time": "2024-12-05T10:13:01.227706Z"
    }
   },
   "cell_type": "code",
   "source": [
    "movies_df = pd.read_csv('datasets/movies.csv')\n",
    "movies_df"
   ],
   "id": "bfa523a3d71aa334",
   "outputs": [
    {
     "data": {
      "text/plain": [
       "             id                               name    date  \\\n",
       "0       1000001                             Barbie  2023.0   \n",
       "1       1000002                           Parasite  2019.0   \n",
       "2       1000003  Everything Everywhere All at Once  2022.0   \n",
       "3       1000004                         Fight Club  1999.0   \n",
       "4       1000005                         La La Land  2016.0   \n",
       "...         ...                                ...     ...   \n",
       "941592  1941593                                 神笛     NaN   \n",
       "941593  1941594                      蟲極道蜜団子抗争編 壱ノ巻     NaN   \n",
       "941594  1941595                      蟲極道蜜団子抗争編 弐ノ巻     NaN   \n",
       "941595  1941596                                 重生     NaN   \n",
       "941596  1941597                             青ひげ公の城     NaN   \n",
       "\n",
       "                                                 tagline  \\\n",
       "0                       She's everything. He's just Ken.   \n",
       "1                            Act like you own the place.   \n",
       "2       The universe is so much bigger than you realize.   \n",
       "3                                Mischief. Mayhem. Soap.   \n",
       "4                         Here's to the fools who dream.   \n",
       "...                                                  ...   \n",
       "941592                                               NaN   \n",
       "941593                                               NaN   \n",
       "941594                                               NaN   \n",
       "941595                                               NaN   \n",
       "941596                                               NaN   \n",
       "\n",
       "                                              description  minute  rating  \n",
       "0       Barbie and Ken are having the time of their li...   114.0    3.86  \n",
       "1       All unemployed, Ki-taek's family takes peculia...   133.0    4.56  \n",
       "2       An aging Chinese immigrant is swept up in an i...   140.0    4.30  \n",
       "3       A ticking-time-bomb insomniac and a slippery s...   139.0    4.27  \n",
       "4       Mia, an aspiring actress, serves lattes to mov...   129.0    4.09  \n",
       "...                                                   ...     ...     ...  \n",
       "941592                                                NaN     NaN     NaN  \n",
       "941593  Shinjuku forest at night. In the sap taverns o...    30.0     NaN  \n",
       "941594  The city that never sleeps, where insects gath...    30.0     NaN  \n",
       "941595  In a world where order has broken down, darkne...     NaN     NaN  \n",
       "941596                                                NaN   130.0     NaN  \n",
       "\n",
       "[941597 rows x 7 columns]"
      ],
      "text/html": [
       "<div>\n",
       "<style scoped>\n",
       "    .dataframe tbody tr th:only-of-type {\n",
       "        vertical-align: middle;\n",
       "    }\n",
       "\n",
       "    .dataframe tbody tr th {\n",
       "        vertical-align: top;\n",
       "    }\n",
       "\n",
       "    .dataframe thead th {\n",
       "        text-align: right;\n",
       "    }\n",
       "</style>\n",
       "<table border=\"1\" class=\"dataframe\">\n",
       "  <thead>\n",
       "    <tr style=\"text-align: right;\">\n",
       "      <th></th>\n",
       "      <th>id</th>\n",
       "      <th>name</th>\n",
       "      <th>date</th>\n",
       "      <th>tagline</th>\n",
       "      <th>description</th>\n",
       "      <th>minute</th>\n",
       "      <th>rating</th>\n",
       "    </tr>\n",
       "  </thead>\n",
       "  <tbody>\n",
       "    <tr>\n",
       "      <th>0</th>\n",
       "      <td>1000001</td>\n",
       "      <td>Barbie</td>\n",
       "      <td>2023.0</td>\n",
       "      <td>She's everything. He's just Ken.</td>\n",
       "      <td>Barbie and Ken are having the time of their li...</td>\n",
       "      <td>114.0</td>\n",
       "      <td>3.86</td>\n",
       "    </tr>\n",
       "    <tr>\n",
       "      <th>1</th>\n",
       "      <td>1000002</td>\n",
       "      <td>Parasite</td>\n",
       "      <td>2019.0</td>\n",
       "      <td>Act like you own the place.</td>\n",
       "      <td>All unemployed, Ki-taek's family takes peculia...</td>\n",
       "      <td>133.0</td>\n",
       "      <td>4.56</td>\n",
       "    </tr>\n",
       "    <tr>\n",
       "      <th>2</th>\n",
       "      <td>1000003</td>\n",
       "      <td>Everything Everywhere All at Once</td>\n",
       "      <td>2022.0</td>\n",
       "      <td>The universe is so much bigger than you realize.</td>\n",
       "      <td>An aging Chinese immigrant is swept up in an i...</td>\n",
       "      <td>140.0</td>\n",
       "      <td>4.30</td>\n",
       "    </tr>\n",
       "    <tr>\n",
       "      <th>3</th>\n",
       "      <td>1000004</td>\n",
       "      <td>Fight Club</td>\n",
       "      <td>1999.0</td>\n",
       "      <td>Mischief. Mayhem. Soap.</td>\n",
       "      <td>A ticking-time-bomb insomniac and a slippery s...</td>\n",
       "      <td>139.0</td>\n",
       "      <td>4.27</td>\n",
       "    </tr>\n",
       "    <tr>\n",
       "      <th>4</th>\n",
       "      <td>1000005</td>\n",
       "      <td>La La Land</td>\n",
       "      <td>2016.0</td>\n",
       "      <td>Here's to the fools who dream.</td>\n",
       "      <td>Mia, an aspiring actress, serves lattes to mov...</td>\n",
       "      <td>129.0</td>\n",
       "      <td>4.09</td>\n",
       "    </tr>\n",
       "    <tr>\n",
       "      <th>...</th>\n",
       "      <td>...</td>\n",
       "      <td>...</td>\n",
       "      <td>...</td>\n",
       "      <td>...</td>\n",
       "      <td>...</td>\n",
       "      <td>...</td>\n",
       "      <td>...</td>\n",
       "    </tr>\n",
       "    <tr>\n",
       "      <th>941592</th>\n",
       "      <td>1941593</td>\n",
       "      <td>神笛</td>\n",
       "      <td>NaN</td>\n",
       "      <td>NaN</td>\n",
       "      <td>NaN</td>\n",
       "      <td>NaN</td>\n",
       "      <td>NaN</td>\n",
       "    </tr>\n",
       "    <tr>\n",
       "      <th>941593</th>\n",
       "      <td>1941594</td>\n",
       "      <td>蟲極道蜜団子抗争編 壱ノ巻</td>\n",
       "      <td>NaN</td>\n",
       "      <td>NaN</td>\n",
       "      <td>Shinjuku forest at night. In the sap taverns o...</td>\n",
       "      <td>30.0</td>\n",
       "      <td>NaN</td>\n",
       "    </tr>\n",
       "    <tr>\n",
       "      <th>941594</th>\n",
       "      <td>1941595</td>\n",
       "      <td>蟲極道蜜団子抗争編 弐ノ巻</td>\n",
       "      <td>NaN</td>\n",
       "      <td>NaN</td>\n",
       "      <td>The city that never sleeps, where insects gath...</td>\n",
       "      <td>30.0</td>\n",
       "      <td>NaN</td>\n",
       "    </tr>\n",
       "    <tr>\n",
       "      <th>941595</th>\n",
       "      <td>1941596</td>\n",
       "      <td>重生</td>\n",
       "      <td>NaN</td>\n",
       "      <td>NaN</td>\n",
       "      <td>In a world where order has broken down, darkne...</td>\n",
       "      <td>NaN</td>\n",
       "      <td>NaN</td>\n",
       "    </tr>\n",
       "    <tr>\n",
       "      <th>941596</th>\n",
       "      <td>1941597</td>\n",
       "      <td>青ひげ公の城</td>\n",
       "      <td>NaN</td>\n",
       "      <td>NaN</td>\n",
       "      <td>NaN</td>\n",
       "      <td>130.0</td>\n",
       "      <td>NaN</td>\n",
       "    </tr>\n",
       "  </tbody>\n",
       "</table>\n",
       "<p>941597 rows × 7 columns</p>\n",
       "</div>"
      ]
     },
     "execution_count": 139,
     "metadata": {},
     "output_type": "execute_result"
    }
   ],
   "execution_count": 139
  },
  {
   "metadata": {
    "ExecuteTime": {
     "end_time": "2024-12-05T10:13:06.306284Z",
     "start_time": "2024-12-05T10:13:06.297745Z"
    }
   },
   "cell_type": "code",
   "source": "movies_df.dtypes",
   "id": "f25edf3b61586308",
   "outputs": [
    {
     "data": {
      "text/plain": [
       "id               int64\n",
       "name            object\n",
       "date           float64\n",
       "tagline         object\n",
       "description     object\n",
       "minute         float64\n",
       "rating         float64\n",
       "dtype: object"
      ]
     },
     "execution_count": 140,
     "metadata": {},
     "output_type": "execute_result"
    }
   ],
   "execution_count": 140
  },
  {
   "metadata": {
    "ExecuteTime": {
     "end_time": "2024-12-05T10:13:06.444335Z",
     "start_time": "2024-12-05T10:13:06.437706Z"
    }
   },
   "cell_type": "code",
   "source": "movies_df.shape",
   "id": "66353feb2d15e0c1",
   "outputs": [
    {
     "data": {
      "text/plain": [
       "(941597, 7)"
      ]
     },
     "execution_count": 141,
     "metadata": {},
     "output_type": "execute_result"
    }
   ],
   "execution_count": 141
  },
  {
   "metadata": {
    "ExecuteTime": {
     "end_time": "2024-12-05T10:13:07.044452Z",
     "start_time": "2024-12-05T10:13:06.620705Z"
    }
   },
   "cell_type": "code",
   "source": "movies_df[movies_df.isna().any(axis=1)]",
   "id": "92ec1ff74b506e2f",
   "outputs": [
    {
     "data": {
      "text/plain": [
       "             id                 name    date tagline  \\\n",
       "34      1000035           Black Swan  2010.0     NaN   \n",
       "68      1000069           Past Lives  2023.0     NaN   \n",
       "133     1000134            Toy Story  1995.0     NaN   \n",
       "146     1000147  Requiem for a Dream  2000.0     NaN   \n",
       "162     1000163        Asteroid City  2023.0     NaN   \n",
       "...         ...                  ...     ...     ...   \n",
       "941592  1941593                   神笛     NaN     NaN   \n",
       "941593  1941594        蟲極道蜜団子抗争編 壱ノ巻     NaN     NaN   \n",
       "941594  1941595        蟲極道蜜団子抗争編 弐ノ巻     NaN     NaN   \n",
       "941595  1941596                   重生     NaN     NaN   \n",
       "941596  1941597               青ひげ公の城     NaN     NaN   \n",
       "\n",
       "                                              description  minute  rating  \n",
       "34      A journey through the psyche of a young baller...   108.0    4.15  \n",
       "68      Nora and Hae Sung, two childhood friends, are ...   106.0    4.18  \n",
       "133     Led by Woody, Andy's toys live happily in his ...    81.0    4.12  \n",
       "146     The hopes and dreams of four ambitious people ...   102.0    4.10  \n",
       "162     Set in a fictional American desert town circa ...   105.0    3.52  \n",
       "...                                                   ...     ...     ...  \n",
       "941592                                                NaN     NaN     NaN  \n",
       "941593  Shinjuku forest at night. In the sap taverns o...    30.0     NaN  \n",
       "941594  The city that never sleeps, where insects gath...    30.0     NaN  \n",
       "941595  In a world where order has broken down, darkne...     NaN     NaN  \n",
       "941596                                                NaN   130.0     NaN  \n",
       "\n",
       "[903289 rows x 7 columns]"
      ],
      "text/html": [
       "<div>\n",
       "<style scoped>\n",
       "    .dataframe tbody tr th:only-of-type {\n",
       "        vertical-align: middle;\n",
       "    }\n",
       "\n",
       "    .dataframe tbody tr th {\n",
       "        vertical-align: top;\n",
       "    }\n",
       "\n",
       "    .dataframe thead th {\n",
       "        text-align: right;\n",
       "    }\n",
       "</style>\n",
       "<table border=\"1\" class=\"dataframe\">\n",
       "  <thead>\n",
       "    <tr style=\"text-align: right;\">\n",
       "      <th></th>\n",
       "      <th>id</th>\n",
       "      <th>name</th>\n",
       "      <th>date</th>\n",
       "      <th>tagline</th>\n",
       "      <th>description</th>\n",
       "      <th>minute</th>\n",
       "      <th>rating</th>\n",
       "    </tr>\n",
       "  </thead>\n",
       "  <tbody>\n",
       "    <tr>\n",
       "      <th>34</th>\n",
       "      <td>1000035</td>\n",
       "      <td>Black Swan</td>\n",
       "      <td>2010.0</td>\n",
       "      <td>NaN</td>\n",
       "      <td>A journey through the psyche of a young baller...</td>\n",
       "      <td>108.0</td>\n",
       "      <td>4.15</td>\n",
       "    </tr>\n",
       "    <tr>\n",
       "      <th>68</th>\n",
       "      <td>1000069</td>\n",
       "      <td>Past Lives</td>\n",
       "      <td>2023.0</td>\n",
       "      <td>NaN</td>\n",
       "      <td>Nora and Hae Sung, two childhood friends, are ...</td>\n",
       "      <td>106.0</td>\n",
       "      <td>4.18</td>\n",
       "    </tr>\n",
       "    <tr>\n",
       "      <th>133</th>\n",
       "      <td>1000134</td>\n",
       "      <td>Toy Story</td>\n",
       "      <td>1995.0</td>\n",
       "      <td>NaN</td>\n",
       "      <td>Led by Woody, Andy's toys live happily in his ...</td>\n",
       "      <td>81.0</td>\n",
       "      <td>4.12</td>\n",
       "    </tr>\n",
       "    <tr>\n",
       "      <th>146</th>\n",
       "      <td>1000147</td>\n",
       "      <td>Requiem for a Dream</td>\n",
       "      <td>2000.0</td>\n",
       "      <td>NaN</td>\n",
       "      <td>The hopes and dreams of four ambitious people ...</td>\n",
       "      <td>102.0</td>\n",
       "      <td>4.10</td>\n",
       "    </tr>\n",
       "    <tr>\n",
       "      <th>162</th>\n",
       "      <td>1000163</td>\n",
       "      <td>Asteroid City</td>\n",
       "      <td>2023.0</td>\n",
       "      <td>NaN</td>\n",
       "      <td>Set in a fictional American desert town circa ...</td>\n",
       "      <td>105.0</td>\n",
       "      <td>3.52</td>\n",
       "    </tr>\n",
       "    <tr>\n",
       "      <th>...</th>\n",
       "      <td>...</td>\n",
       "      <td>...</td>\n",
       "      <td>...</td>\n",
       "      <td>...</td>\n",
       "      <td>...</td>\n",
       "      <td>...</td>\n",
       "      <td>...</td>\n",
       "    </tr>\n",
       "    <tr>\n",
       "      <th>941592</th>\n",
       "      <td>1941593</td>\n",
       "      <td>神笛</td>\n",
       "      <td>NaN</td>\n",
       "      <td>NaN</td>\n",
       "      <td>NaN</td>\n",
       "      <td>NaN</td>\n",
       "      <td>NaN</td>\n",
       "    </tr>\n",
       "    <tr>\n",
       "      <th>941593</th>\n",
       "      <td>1941594</td>\n",
       "      <td>蟲極道蜜団子抗争編 壱ノ巻</td>\n",
       "      <td>NaN</td>\n",
       "      <td>NaN</td>\n",
       "      <td>Shinjuku forest at night. In the sap taverns o...</td>\n",
       "      <td>30.0</td>\n",
       "      <td>NaN</td>\n",
       "    </tr>\n",
       "    <tr>\n",
       "      <th>941594</th>\n",
       "      <td>1941595</td>\n",
       "      <td>蟲極道蜜団子抗争編 弐ノ巻</td>\n",
       "      <td>NaN</td>\n",
       "      <td>NaN</td>\n",
       "      <td>The city that never sleeps, where insects gath...</td>\n",
       "      <td>30.0</td>\n",
       "      <td>NaN</td>\n",
       "    </tr>\n",
       "    <tr>\n",
       "      <th>941595</th>\n",
       "      <td>1941596</td>\n",
       "      <td>重生</td>\n",
       "      <td>NaN</td>\n",
       "      <td>NaN</td>\n",
       "      <td>In a world where order has broken down, darkne...</td>\n",
       "      <td>NaN</td>\n",
       "      <td>NaN</td>\n",
       "    </tr>\n",
       "    <tr>\n",
       "      <th>941596</th>\n",
       "      <td>1941597</td>\n",
       "      <td>青ひげ公の城</td>\n",
       "      <td>NaN</td>\n",
       "      <td>NaN</td>\n",
       "      <td>NaN</td>\n",
       "      <td>130.0</td>\n",
       "      <td>NaN</td>\n",
       "    </tr>\n",
       "  </tbody>\n",
       "</table>\n",
       "<p>903289 rows × 7 columns</p>\n",
       "</div>"
      ]
     },
     "execution_count": 142,
     "metadata": {},
     "output_type": "execute_result"
    }
   ],
   "execution_count": 142
  },
  {
   "metadata": {
    "ExecuteTime": {
     "end_time": "2024-12-05T10:13:07.364130Z",
     "start_time": "2024-12-05T10:13:07.136101Z"
    }
   },
   "cell_type": "code",
   "source": "movies_df.isna().sum()",
   "id": "943d34788f840a4c",
   "outputs": [
    {
     "data": {
      "text/plain": [
       "id                  0\n",
       "name               10\n",
       "date            91913\n",
       "tagline        802210\n",
       "description    160812\n",
       "minute         181570\n",
       "rating         850598\n",
       "dtype: int64"
      ]
     },
     "execution_count": 143,
     "metadata": {},
     "output_type": "execute_result"
    }
   ],
   "execution_count": 143
  },
  {
   "metadata": {
    "ExecuteTime": {
     "end_time": "2024-12-05T10:13:07.662015Z",
     "start_time": "2024-12-05T10:13:07.470184Z"
    }
   },
   "cell_type": "code",
   "source": [
    "# removing NaN 'name' records\n",
    "movies_df = movies_df[movies_df['name'].notna()]"
   ],
   "id": "e64b09d17cd6ac6f",
   "outputs": [],
   "execution_count": 144
  },
  {
   "metadata": {
    "ExecuteTime": {
     "end_time": "2024-12-05T10:13:07.772608Z",
     "start_time": "2024-12-05T10:13:07.737352Z"
    }
   },
   "cell_type": "code",
   "source": [
    "# check if 'id' column have duplicate values\n",
    "movies_df[movies_df[\"id\"].duplicated()].shape[0]"
   ],
   "id": "903dbbf0e5d08f7c",
   "outputs": [
    {
     "data": {
      "text/plain": [
       "0"
      ]
     },
     "execution_count": 145,
     "metadata": {},
     "output_type": "execute_result"
    }
   ],
   "execution_count": 145
  },
  {
   "metadata": {
    "ExecuteTime": {
     "end_time": "2024-12-05T10:13:07.880818Z",
     "start_time": "2024-12-05T10:13:07.874649Z"
    }
   },
   "cell_type": "code",
   "source": [
    "# then set index as id\n",
    "movies_df.set_index(\"id\", inplace=True)"
   ],
   "id": "e490e8be2bcd79b6",
   "outputs": [],
   "execution_count": 146
  },
  {
   "metadata": {
    "ExecuteTime": {
     "end_time": "2024-12-05T10:13:08.652011Z",
     "start_time": "2024-12-05T10:13:07.979070Z"
    }
   },
   "cell_type": "code",
   "source": [
    "# typing columns\n",
    "\n",
    "# check if necessary\n",
    "# movies_df['name'] = movies_df['name'].astype('string')\n",
    "# movies_df['tagline'] = movies_df['tagline'].astype('string')\n",
    "# movies_df['description'] = movies_df['description'].astype('string')\n",
    "\n",
    "movies_df['date'] = movies_df['date'].astype('Int64')\n",
    "\n",
    "movies_df['minute'] = movies_df['minute'].astype('Int64')"
   ],
   "id": "b859e3726529609e",
   "outputs": [],
   "execution_count": 147
  },
  {
   "metadata": {
    "ExecuteTime": {
     "end_time": "2024-12-05T10:13:08.703065Z",
     "start_time": "2024-12-05T10:13:08.697448Z"
    }
   },
   "cell_type": "code",
   "source": [
    "# rename columns\n",
    "movies_df.rename(columns={'minute': 'duration_in_minutes', 'date': 'release_year'}, inplace=True)"
   ],
   "id": "d65bc3bdb87e53fe",
   "outputs": [],
   "execution_count": 148
  },
  {
   "metadata": {},
   "cell_type": "markdown",
   "source": "# Languages",
   "id": "8f0b9a430d101b37"
  },
  {
   "metadata": {
    "ExecuteTime": {
     "end_time": "2024-12-05T10:13:09.425924Z",
     "start_time": "2024-12-05T10:13:08.726925Z"
    }
   },
   "cell_type": "code",
   "source": [
    "lang_df = pd.read_csv('datasets/languages.csv')\n",
    "lang_df"
   ],
   "id": "fd8e821868e23834",
   "outputs": [
    {
     "data": {
      "text/plain": [
       "              id              type  language\n",
       "0        1000001          Language   English\n",
       "1        1000002  Primary language    Korean\n",
       "2        1000002   Spoken language   English\n",
       "3        1000002   Spoken language    German\n",
       "4        1000002   Spoken language    Korean\n",
       "...          ...               ...       ...\n",
       "1038757  1941593          Language   Chinese\n",
       "1038758  1941594          Language   English\n",
       "1038759  1941595          Language   English\n",
       "1038760  1941596          Language   Chinese\n",
       "1038761  1941597          Language  Japanese\n",
       "\n",
       "[1038762 rows x 3 columns]"
      ],
      "text/html": [
       "<div>\n",
       "<style scoped>\n",
       "    .dataframe tbody tr th:only-of-type {\n",
       "        vertical-align: middle;\n",
       "    }\n",
       "\n",
       "    .dataframe tbody tr th {\n",
       "        vertical-align: top;\n",
       "    }\n",
       "\n",
       "    .dataframe thead th {\n",
       "        text-align: right;\n",
       "    }\n",
       "</style>\n",
       "<table border=\"1\" class=\"dataframe\">\n",
       "  <thead>\n",
       "    <tr style=\"text-align: right;\">\n",
       "      <th></th>\n",
       "      <th>id</th>\n",
       "      <th>type</th>\n",
       "      <th>language</th>\n",
       "    </tr>\n",
       "  </thead>\n",
       "  <tbody>\n",
       "    <tr>\n",
       "      <th>0</th>\n",
       "      <td>1000001</td>\n",
       "      <td>Language</td>\n",
       "      <td>English</td>\n",
       "    </tr>\n",
       "    <tr>\n",
       "      <th>1</th>\n",
       "      <td>1000002</td>\n",
       "      <td>Primary language</td>\n",
       "      <td>Korean</td>\n",
       "    </tr>\n",
       "    <tr>\n",
       "      <th>2</th>\n",
       "      <td>1000002</td>\n",
       "      <td>Spoken language</td>\n",
       "      <td>English</td>\n",
       "    </tr>\n",
       "    <tr>\n",
       "      <th>3</th>\n",
       "      <td>1000002</td>\n",
       "      <td>Spoken language</td>\n",
       "      <td>German</td>\n",
       "    </tr>\n",
       "    <tr>\n",
       "      <th>4</th>\n",
       "      <td>1000002</td>\n",
       "      <td>Spoken language</td>\n",
       "      <td>Korean</td>\n",
       "    </tr>\n",
       "    <tr>\n",
       "      <th>...</th>\n",
       "      <td>...</td>\n",
       "      <td>...</td>\n",
       "      <td>...</td>\n",
       "    </tr>\n",
       "    <tr>\n",
       "      <th>1038757</th>\n",
       "      <td>1941593</td>\n",
       "      <td>Language</td>\n",
       "      <td>Chinese</td>\n",
       "    </tr>\n",
       "    <tr>\n",
       "      <th>1038758</th>\n",
       "      <td>1941594</td>\n",
       "      <td>Language</td>\n",
       "      <td>English</td>\n",
       "    </tr>\n",
       "    <tr>\n",
       "      <th>1038759</th>\n",
       "      <td>1941595</td>\n",
       "      <td>Language</td>\n",
       "      <td>English</td>\n",
       "    </tr>\n",
       "    <tr>\n",
       "      <th>1038760</th>\n",
       "      <td>1941596</td>\n",
       "      <td>Language</td>\n",
       "      <td>Chinese</td>\n",
       "    </tr>\n",
       "    <tr>\n",
       "      <th>1038761</th>\n",
       "      <td>1941597</td>\n",
       "      <td>Language</td>\n",
       "      <td>Japanese</td>\n",
       "    </tr>\n",
       "  </tbody>\n",
       "</table>\n",
       "<p>1038762 rows × 3 columns</p>\n",
       "</div>"
      ]
     },
     "execution_count": 149,
     "metadata": {},
     "output_type": "execute_result"
    }
   ],
   "execution_count": 149
  },
  {
   "metadata": {},
   "cell_type": "code",
   "source": "lang_df.dtypes",
   "id": "a75cc482a4a9e58f",
   "outputs": [
    {
     "data": {
      "text/plain": [
       "id             int64\n",
       "type        category\n",
       "language      object\n",
       "dtype: object"
      ]
     },
     "execution_count": 157,
     "metadata": {},
     "output_type": "execute_result"
    }
   ],
   "execution_count": 157
  },
  {
   "metadata": {
    "ExecuteTime": {
     "end_time": "2024-12-05T10:17:15.760818Z",
     "start_time": "2024-12-05T10:17:15.710079Z"
    }
   },
   "cell_type": "code",
   "source": [
    "# check NaN values\n",
    "lang_df.isna().sum()"
   ],
   "id": "e9beb77f2bec1fd8",
   "outputs": [
    {
     "data": {
      "text/plain": [
       "id          0\n",
       "type        0\n",
       "language    0\n",
       "dtype: int64"
      ]
     },
     "execution_count": 159,
     "metadata": {},
     "output_type": "execute_result"
    }
   ],
   "execution_count": 159
  },
  {
   "metadata": {
    "ExecuteTime": {
     "end_time": "2024-12-05T10:18:09.374055Z",
     "start_time": "2024-12-05T10:18:09.359376Z"
    }
   },
   "cell_type": "code",
   "source": [
    "# typing columns\n",
    "lang_df['type'] = lang_df['type'].astype('category')\n",
    "lang_df['type'].unique()"
   ],
   "id": "9f395fe64e995870",
   "outputs": [
    {
     "data": {
      "text/plain": [
       "['Language', 'Primary language', 'Spoken language']\n",
       "Categories (3, object): ['Language', 'Primary language', 'Spoken language']"
      ]
     },
     "execution_count": 160,
     "metadata": {},
     "output_type": "execute_result"
    }
   ],
   "execution_count": 160
  },
  {
   "metadata": {
    "ExecuteTime": {
     "end_time": "2024-12-05T10:22:46.015877Z",
     "start_time": "2024-12-05T10:22:45.813522Z"
    }
   },
   "cell_type": "code",
   "source": [
    "# check for duplicate values\n",
    "lang_df.duplicated().sum()"
   ],
   "id": "df1df599b18fb36d",
   "outputs": [
    {
     "data": {
      "text/plain": [
       "np.int64(0)"
      ]
     },
     "execution_count": 167,
     "metadata": {},
     "output_type": "execute_result"
    }
   ],
   "execution_count": 167
  },
  {
   "metadata": {},
   "cell_type": "markdown",
   "source": "# Actors",
   "id": "f9ebbf4c27dcb25e"
  },
  {
   "metadata": {
    "ExecuteTime": {
     "end_time": "2024-12-05T10:27:50.599231Z",
     "start_time": "2024-12-05T10:27:45.022831Z"
    }
   },
   "cell_type": "code",
   "source": [
    "actors_df = pd.read_csv('datasets/actors.csv')\n",
    "actors_df"
   ],
   "id": "29b93334077ab162",
   "outputs": [
    {
     "data": {
      "text/plain": [
       "              id               name                 role\n",
       "0        1000001      Margot Robbie               Barbie\n",
       "1        1000001       Ryan Gosling                  Ken\n",
       "2        1000001    America Ferrera               Gloria\n",
       "3        1000001  Ariana Greenblatt                Sasha\n",
       "4        1000001           Issa Rae               Barbie\n",
       "...          ...                ...                  ...\n",
       "5798445  1941596            Marc Ma            Ba Cai/巴莱\n",
       "5798446  1941596                线雨轩              Tata/塔塔\n",
       "5798447  1941596       Jiang Yixuan  Zuo Yila（Zoila）/佐伊拉\n",
       "5798448  1941597     Hiroshi Mikami                  NaN\n",
       "5798449  1941597      Keiko Oginome                  NaN\n",
       "\n",
       "[5798450 rows x 3 columns]"
      ],
      "text/html": [
       "<div>\n",
       "<style scoped>\n",
       "    .dataframe tbody tr th:only-of-type {\n",
       "        vertical-align: middle;\n",
       "    }\n",
       "\n",
       "    .dataframe tbody tr th {\n",
       "        vertical-align: top;\n",
       "    }\n",
       "\n",
       "    .dataframe thead th {\n",
       "        text-align: right;\n",
       "    }\n",
       "</style>\n",
       "<table border=\"1\" class=\"dataframe\">\n",
       "  <thead>\n",
       "    <tr style=\"text-align: right;\">\n",
       "      <th></th>\n",
       "      <th>id</th>\n",
       "      <th>name</th>\n",
       "      <th>role</th>\n",
       "    </tr>\n",
       "  </thead>\n",
       "  <tbody>\n",
       "    <tr>\n",
       "      <th>0</th>\n",
       "      <td>1000001</td>\n",
       "      <td>Margot Robbie</td>\n",
       "      <td>Barbie</td>\n",
       "    </tr>\n",
       "    <tr>\n",
       "      <th>1</th>\n",
       "      <td>1000001</td>\n",
       "      <td>Ryan Gosling</td>\n",
       "      <td>Ken</td>\n",
       "    </tr>\n",
       "    <tr>\n",
       "      <th>2</th>\n",
       "      <td>1000001</td>\n",
       "      <td>America Ferrera</td>\n",
       "      <td>Gloria</td>\n",
       "    </tr>\n",
       "    <tr>\n",
       "      <th>3</th>\n",
       "      <td>1000001</td>\n",
       "      <td>Ariana Greenblatt</td>\n",
       "      <td>Sasha</td>\n",
       "    </tr>\n",
       "    <tr>\n",
       "      <th>4</th>\n",
       "      <td>1000001</td>\n",
       "      <td>Issa Rae</td>\n",
       "      <td>Barbie</td>\n",
       "    </tr>\n",
       "    <tr>\n",
       "      <th>...</th>\n",
       "      <td>...</td>\n",
       "      <td>...</td>\n",
       "      <td>...</td>\n",
       "    </tr>\n",
       "    <tr>\n",
       "      <th>5798445</th>\n",
       "      <td>1941596</td>\n",
       "      <td>Marc Ma</td>\n",
       "      <td>Ba Cai/巴莱</td>\n",
       "    </tr>\n",
       "    <tr>\n",
       "      <th>5798446</th>\n",
       "      <td>1941596</td>\n",
       "      <td>线雨轩</td>\n",
       "      <td>Tata/塔塔</td>\n",
       "    </tr>\n",
       "    <tr>\n",
       "      <th>5798447</th>\n",
       "      <td>1941596</td>\n",
       "      <td>Jiang Yixuan</td>\n",
       "      <td>Zuo Yila（Zoila）/佐伊拉</td>\n",
       "    </tr>\n",
       "    <tr>\n",
       "      <th>5798448</th>\n",
       "      <td>1941597</td>\n",
       "      <td>Hiroshi Mikami</td>\n",
       "      <td>NaN</td>\n",
       "    </tr>\n",
       "    <tr>\n",
       "      <th>5798449</th>\n",
       "      <td>1941597</td>\n",
       "      <td>Keiko Oginome</td>\n",
       "      <td>NaN</td>\n",
       "    </tr>\n",
       "  </tbody>\n",
       "</table>\n",
       "<p>5798450 rows × 3 columns</p>\n",
       "</div>"
      ]
     },
     "execution_count": 170,
     "metadata": {},
     "output_type": "execute_result"
    }
   ],
   "execution_count": 170
  },
  {
   "metadata": {
    "ExecuteTime": {
     "end_time": "2024-12-05T10:28:06.721719Z",
     "start_time": "2024-12-05T10:28:06.715553Z"
    }
   },
   "cell_type": "code",
   "source": "actors_df.dtypes",
   "id": "e61ee0ab68247d2a",
   "outputs": [
    {
     "data": {
      "text/plain": [
       "id       int64\n",
       "name    object\n",
       "role    object\n",
       "dtype: object"
      ]
     },
     "execution_count": 172,
     "metadata": {},
     "output_type": "execute_result"
    }
   ],
   "execution_count": 172
  },
  {
   "metadata": {
    "ExecuteTime": {
     "end_time": "2024-12-05T10:41:26.204922Z",
     "start_time": "2024-12-05T10:41:25.498288Z"
    }
   },
   "cell_type": "code",
   "source": [
    "# check NaN values\n",
    "actors_df.isna().sum()"
   ],
   "id": "3833716afd294027",
   "outputs": [
    {
     "data": {
      "text/plain": [
       "id            0\n",
       "name          0\n",
       "role    1361121\n",
       "dtype: int64"
      ]
     },
     "execution_count": 185,
     "metadata": {},
     "output_type": "execute_result"
    }
   ],
   "execution_count": 185
  },
  {
   "metadata": {
    "ExecuteTime": {
     "end_time": "2024-12-05T10:49:26.178368Z",
     "start_time": "2024-12-05T10:49:15.716585Z"
    }
   },
   "cell_type": "code",
   "source": [
    "# check duplicated values\n",
    "\n",
    "actors_df.duplicated().sum()\n",
    "actors_df = actors_df.drop_duplicates()\n",
    "\n",
    "actors_df[actors_df['role'].isna()].duplicated(subset=['id', 'name']).sum()"
   ],
   "id": "db26c76a56188205",
   "outputs": [
    {
     "data": {
      "text/plain": [
       "np.int64(0)"
      ]
     },
     "execution_count": 197,
     "metadata": {},
     "output_type": "execute_result"
    }
   ],
   "execution_count": 197
  },
  {
   "metadata": {
    "ExecuteTime": {
     "end_time": "2024-12-05T10:40:17.546855Z",
     "start_time": "2024-12-05T10:40:16.332463Z"
    }
   },
   "cell_type": "code",
   "source": [
    "# removing name NaN\n",
    "actors_df = actors_df.dropna(subset=['name'])"
   ],
   "id": "8f7041e7edd93125",
   "outputs": [],
   "execution_count": 184
  },
  {
   "metadata": {},
   "cell_type": "markdown",
   "source": "# Countries",
   "id": "ed6a3442ff25eae8"
  },
  {
   "metadata": {
    "ExecuteTime": {
     "end_time": "2024-12-05T10:50:34.059086Z",
     "start_time": "2024-12-05T10:50:33.887254Z"
    }
   },
   "cell_type": "code",
   "source": [
    "countries_df = pd.read_csv('datasets/countries.csv')\n",
    "countries_df"
   ],
   "id": "ce80a2476a4576c1",
   "outputs": [
    {
     "data": {
      "text/plain": [
       "             id      country\n",
       "0       1000001           UK\n",
       "1       1000001          USA\n",
       "2       1000002  South Korea\n",
       "3       1000003          USA\n",
       "4       1000004      Germany\n",
       "...         ...          ...\n",
       "693471  1941593        China\n",
       "693472  1941594          USA\n",
       "693473  1941595          USA\n",
       "693474  1941596        China\n",
       "693475  1941597        Japan\n",
       "\n",
       "[693476 rows x 2 columns]"
      ],
      "text/html": [
       "<div>\n",
       "<style scoped>\n",
       "    .dataframe tbody tr th:only-of-type {\n",
       "        vertical-align: middle;\n",
       "    }\n",
       "\n",
       "    .dataframe tbody tr th {\n",
       "        vertical-align: top;\n",
       "    }\n",
       "\n",
       "    .dataframe thead th {\n",
       "        text-align: right;\n",
       "    }\n",
       "</style>\n",
       "<table border=\"1\" class=\"dataframe\">\n",
       "  <thead>\n",
       "    <tr style=\"text-align: right;\">\n",
       "      <th></th>\n",
       "      <th>id</th>\n",
       "      <th>country</th>\n",
       "    </tr>\n",
       "  </thead>\n",
       "  <tbody>\n",
       "    <tr>\n",
       "      <th>0</th>\n",
       "      <td>1000001</td>\n",
       "      <td>UK</td>\n",
       "    </tr>\n",
       "    <tr>\n",
       "      <th>1</th>\n",
       "      <td>1000001</td>\n",
       "      <td>USA</td>\n",
       "    </tr>\n",
       "    <tr>\n",
       "      <th>2</th>\n",
       "      <td>1000002</td>\n",
       "      <td>South Korea</td>\n",
       "    </tr>\n",
       "    <tr>\n",
       "      <th>3</th>\n",
       "      <td>1000003</td>\n",
       "      <td>USA</td>\n",
       "    </tr>\n",
       "    <tr>\n",
       "      <th>4</th>\n",
       "      <td>1000004</td>\n",
       "      <td>Germany</td>\n",
       "    </tr>\n",
       "    <tr>\n",
       "      <th>...</th>\n",
       "      <td>...</td>\n",
       "      <td>...</td>\n",
       "    </tr>\n",
       "    <tr>\n",
       "      <th>693471</th>\n",
       "      <td>1941593</td>\n",
       "      <td>China</td>\n",
       "    </tr>\n",
       "    <tr>\n",
       "      <th>693472</th>\n",
       "      <td>1941594</td>\n",
       "      <td>USA</td>\n",
       "    </tr>\n",
       "    <tr>\n",
       "      <th>693473</th>\n",
       "      <td>1941595</td>\n",
       "      <td>USA</td>\n",
       "    </tr>\n",
       "    <tr>\n",
       "      <th>693474</th>\n",
       "      <td>1941596</td>\n",
       "      <td>China</td>\n",
       "    </tr>\n",
       "    <tr>\n",
       "      <th>693475</th>\n",
       "      <td>1941597</td>\n",
       "      <td>Japan</td>\n",
       "    </tr>\n",
       "  </tbody>\n",
       "</table>\n",
       "<p>693476 rows × 2 columns</p>\n",
       "</div>"
      ]
     },
     "execution_count": 199,
     "metadata": {},
     "output_type": "execute_result"
    }
   ],
   "execution_count": 199
  },
  {
   "metadata": {
    "ExecuteTime": {
     "end_time": "2024-12-05T10:50:41.460432Z",
     "start_time": "2024-12-05T10:50:41.452910Z"
    }
   },
   "cell_type": "code",
   "source": "countries_df.dtypes",
   "id": "37bc9dec1507718e",
   "outputs": [
    {
     "data": {
      "text/plain": [
       "id          int64\n",
       "country    object\n",
       "dtype: object"
      ]
     },
     "execution_count": 201,
     "metadata": {},
     "output_type": "execute_result"
    }
   ],
   "execution_count": 201
  },
  {
   "metadata": {
    "ExecuteTime": {
     "end_time": "2024-12-05T10:51:02.322596Z",
     "start_time": "2024-12-05T10:51:02.292446Z"
    }
   },
   "cell_type": "code",
   "source": [
    "# check for NaN values\n",
    "countries_df.isna().sum()"
   ],
   "id": "c8556e6536adcf83",
   "outputs": [
    {
     "data": {
      "text/plain": [
       "id         0\n",
       "country    0\n",
       "dtype: int64"
      ]
     },
     "execution_count": 203,
     "metadata": {},
     "output_type": "execute_result"
    }
   ],
   "execution_count": 203
  },
  {
   "metadata": {
    "ExecuteTime": {
     "end_time": "2024-12-05T10:51:17.106261Z",
     "start_time": "2024-12-05T10:51:16.969415Z"
    }
   },
   "cell_type": "code",
   "source": [
    "# check for duplicated values\n",
    "countries_df.duplicated().sum()"
   ],
   "id": "38e659593638018d",
   "outputs": [
    {
     "data": {
      "text/plain": [
       "np.int64(0)"
      ]
     },
     "execution_count": 205,
     "metadata": {},
     "output_type": "execute_result"
    }
   ],
   "execution_count": 205
  },
  {
   "metadata": {},
   "cell_type": "markdown",
   "source": "# Crew",
   "id": "24edc4892a749039"
  },
  {
   "metadata": {
    "ExecuteTime": {
     "end_time": "2024-12-05T10:51:59.632457Z",
     "start_time": "2024-12-05T10:51:55.988774Z"
    }
   },
   "cell_type": "code",
   "source": [
    "crew_df = pd.read_csv('datasets/crew.csv')\n",
    "crew_df"
   ],
   "id": "a88c911e6dbb612d",
   "outputs": [
    {
     "data": {
      "text/plain": [
       "              id            role                  name\n",
       "0        1000001        Director          Greta Gerwig\n",
       "1        1000001        Producer          Tom Ackerley\n",
       "2        1000001        Producer         Margot Robbie\n",
       "3        1000001        Producer        Robbie Brenner\n",
       "4        1000001        Producer          David Heyman\n",
       "...          ...             ...                   ...\n",
       "4720178  1941596         Casting                   线雨轩\n",
       "4720179  1941596          Editor  Eric Kwong Chi-Leung\n",
       "4720180  1941596  Cinematography             Kenny Tse\n",
       "4720181  1941596        Composer                   胡小欧\n",
       "4720182  1941596  Costume design           Kenneth Yee\n",
       "\n",
       "[4720183 rows x 3 columns]"
      ],
      "text/html": [
       "<div>\n",
       "<style scoped>\n",
       "    .dataframe tbody tr th:only-of-type {\n",
       "        vertical-align: middle;\n",
       "    }\n",
       "\n",
       "    .dataframe tbody tr th {\n",
       "        vertical-align: top;\n",
       "    }\n",
       "\n",
       "    .dataframe thead th {\n",
       "        text-align: right;\n",
       "    }\n",
       "</style>\n",
       "<table border=\"1\" class=\"dataframe\">\n",
       "  <thead>\n",
       "    <tr style=\"text-align: right;\">\n",
       "      <th></th>\n",
       "      <th>id</th>\n",
       "      <th>role</th>\n",
       "      <th>name</th>\n",
       "    </tr>\n",
       "  </thead>\n",
       "  <tbody>\n",
       "    <tr>\n",
       "      <th>0</th>\n",
       "      <td>1000001</td>\n",
       "      <td>Director</td>\n",
       "      <td>Greta Gerwig</td>\n",
       "    </tr>\n",
       "    <tr>\n",
       "      <th>1</th>\n",
       "      <td>1000001</td>\n",
       "      <td>Producer</td>\n",
       "      <td>Tom Ackerley</td>\n",
       "    </tr>\n",
       "    <tr>\n",
       "      <th>2</th>\n",
       "      <td>1000001</td>\n",
       "      <td>Producer</td>\n",
       "      <td>Margot Robbie</td>\n",
       "    </tr>\n",
       "    <tr>\n",
       "      <th>3</th>\n",
       "      <td>1000001</td>\n",
       "      <td>Producer</td>\n",
       "      <td>Robbie Brenner</td>\n",
       "    </tr>\n",
       "    <tr>\n",
       "      <th>4</th>\n",
       "      <td>1000001</td>\n",
       "      <td>Producer</td>\n",
       "      <td>David Heyman</td>\n",
       "    </tr>\n",
       "    <tr>\n",
       "      <th>...</th>\n",
       "      <td>...</td>\n",
       "      <td>...</td>\n",
       "      <td>...</td>\n",
       "    </tr>\n",
       "    <tr>\n",
       "      <th>4720178</th>\n",
       "      <td>1941596</td>\n",
       "      <td>Casting</td>\n",
       "      <td>线雨轩</td>\n",
       "    </tr>\n",
       "    <tr>\n",
       "      <th>4720179</th>\n",
       "      <td>1941596</td>\n",
       "      <td>Editor</td>\n",
       "      <td>Eric Kwong Chi-Leung</td>\n",
       "    </tr>\n",
       "    <tr>\n",
       "      <th>4720180</th>\n",
       "      <td>1941596</td>\n",
       "      <td>Cinematography</td>\n",
       "      <td>Kenny Tse</td>\n",
       "    </tr>\n",
       "    <tr>\n",
       "      <th>4720181</th>\n",
       "      <td>1941596</td>\n",
       "      <td>Composer</td>\n",
       "      <td>胡小欧</td>\n",
       "    </tr>\n",
       "    <tr>\n",
       "      <th>4720182</th>\n",
       "      <td>1941596</td>\n",
       "      <td>Costume design</td>\n",
       "      <td>Kenneth Yee</td>\n",
       "    </tr>\n",
       "  </tbody>\n",
       "</table>\n",
       "<p>4720183 rows × 3 columns</p>\n",
       "</div>"
      ]
     },
     "execution_count": 208,
     "metadata": {},
     "output_type": "execute_result"
    }
   ],
   "execution_count": 208
  },
  {
   "metadata": {
    "ExecuteTime": {
     "end_time": "2024-12-05T10:52:19.675806Z",
     "start_time": "2024-12-05T10:52:19.666032Z"
    }
   },
   "cell_type": "code",
   "source": "crew_df.dtypes",
   "id": "f59cb0428c025849",
   "outputs": [
    {
     "data": {
      "text/plain": [
       "id       int64\n",
       "role    object\n",
       "name    object\n",
       "dtype: object"
      ]
     },
     "execution_count": 211,
     "metadata": {},
     "output_type": "execute_result"
    }
   ],
   "execution_count": 211
  },
  {
   "metadata": {
    "ExecuteTime": {
     "end_time": "2024-12-05T11:03:07.810319Z",
     "start_time": "2024-12-05T11:03:06.981487Z"
    }
   },
   "cell_type": "code",
   "source": [
    "# check for NaN values\n",
    "crew_df.isna().sum()\n",
    "crew_df['name'] = crew_df['name'].replace('Unknown', np.nan)"
   ],
   "id": "1dfd8b66e81487c4",
   "outputs": [],
   "execution_count": 229
  }
 ],
 "metadata": {
  "kernelspec": {
   "display_name": "Python 3",
   "language": "python",
   "name": "python3"
  },
  "language_info": {
   "codemirror_mode": {
    "name": "ipython",
    "version": 2
   },
   "file_extension": ".py",
   "mimetype": "text/x-python",
   "name": "python",
   "nbconvert_exporter": "python",
   "pygments_lexer": "ipython2",
   "version": "2.7.6"
  }
 },
 "nbformat": 4,
 "nbformat_minor": 5
}
